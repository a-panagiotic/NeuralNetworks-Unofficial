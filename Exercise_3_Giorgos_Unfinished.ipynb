{
  "nbformat": 4,
  "nbformat_minor": 0,
  "metadata": {
    "colab": {
      "name": "Αντίγραφο Exercise 3 TensorFlow 2 - CIFAR-100.ipynb",
      "provenance": [],
      "collapsed_sections": []
    },
    "kernelspec": {
      "name": "python3",
      "display_name": "Python 3"
    },
    "accelerator": "GPU"
  },
  "cells": [
    {
      "cell_type": "markdown",
      "metadata": {
        "id": "LpnEVMCYYlnD"
      },
      "source": [
        "# Βαθιά μάθηση στο CIFAR-100"
      ]
    },
    {
      "cell_type": "markdown",
      "metadata": {
        "id": "DfEMjsB4Yurm"
      },
      "source": [
        "## Εισαγωγή και επισκόπηση του συνόλου δεδομένων"
      ]
    },
    {
      "cell_type": "code",
      "metadata": {
        "id": "STXQMBuN3nZ6"
      },
      "source": [
        "from __future__ import absolute_import, division, print_function, unicode_literals # legacy compatibility\n",
        "\n",
        "import tensorflow as tf\n",
        "from tensorflow.keras import datasets, layers, models\n",
        "from tensorflow.keras.preprocessing.image import ImageDataGenerator\n",
        "from tensorflow.keras.utils import to_categorical\n",
        "\n",
        "import numpy as np\n",
        "import pandas as pd\n",
        "import matplotlib.pyplot as plt"
      ],
      "execution_count": null,
      "outputs": []
    },
    {
      "cell_type": "code",
      "metadata": {
        "id": "2WSEGPI9Q7tW"
      },
      "source": [
        "# helper functions\n",
        "\n",
        "# select from from_list elements with index in index_list\n",
        "def select_from_list(from_list, index_list):\n",
        "  filtered_list= [from_list[i] for i in index_list]\n",
        "  return(filtered_list)\n",
        "\n",
        "# append in filtered_list the index of each element of unfilterd_list if it exists in in target_list\n",
        "def get_ds_index(unfiliterd_list, target_list):\n",
        "  index = 0\n",
        "  filtered_list=[]\n",
        "  for i_ in unfiliterd_list:\n",
        "    if i_[0] in target_list:\n",
        "      filtered_list.append(index)\n",
        "    index += 1\n",
        "  return(filtered_list)\n",
        "\n",
        "# select a url for a unique subset of CIFAR-100 with 20, 40, 60, or 80 classes\n",
        "def select_classes_number(classes_number = 20):\n",
        "  cifar100_20_classes_url = \"https://pastebin.com/raw/nzE1n98V\"\n",
        "  cifar100_40_classes_url = \"https://pastebin.com/raw/zGX4mCNP\"\n",
        "  cifar100_60_classes_url = \"https://pastebin.com/raw/nsDTd3Qn\"\n",
        "  cifar100_80_classes_url = \"https://pastebin.com/raw/SNbXz700\"\n",
        "  if classes_number == 20:\n",
        "    return cifar100_20_classes_url\n",
        "  elif classes_number == 40:\n",
        "    return cifar100_40_classes_url\n",
        "  elif classes_number == 60:\n",
        "    return cifar100_60_classes_url\n",
        "  elif classes_number == 80:\n",
        "    return cifar100_80_classes_url\n",
        "  else:\n",
        "    return -1"
      ],
      "execution_count": null,
      "outputs": []
    },
    {
      "cell_type": "code",
      "metadata": {
        "id": "OCW71UaGzz0Q",
        "colab": {
          "base_uri": "https://localhost:8080/"
        },
        "outputId": "337505d3-0bd6-4fa1-990d-bdf92cc7d3b6"
      },
      "source": [
        "# load the entire dataset\n",
        "(x_train_all, y_train_all), (x_test_all, y_test_all) = tf.keras.datasets.cifar100.load_data(label_mode='fine')"
      ],
      "execution_count": null,
      "outputs": [
        {
          "output_type": "stream",
          "text": [
            "Downloading data from https://www.cs.toronto.edu/~kriz/cifar-100-python.tar.gz\n",
            "169009152/169001437 [==============================] - 4s 0us/step\n"
          ],
          "name": "stdout"
        }
      ]
    },
    {
      "cell_type": "code",
      "metadata": {
        "id": "kGKYHffEE1do",
        "colab": {
          "base_uri": "https://localhost:8080/"
        },
        "outputId": "3d298a49-22a5-4c2d-e72b-c39442fc67ab"
      },
      "source": [
        "print(x_train_all.shape)"
      ],
      "execution_count": null,
      "outputs": [
        {
          "output_type": "stream",
          "text": [
            "(50000, 32, 32, 3)\n"
          ],
          "name": "stdout"
        }
      ]
    },
    {
      "cell_type": "markdown",
      "metadata": {
        "id": "9PO9wIwYUf0R"
      },
      "source": [
        "Η κάθε ομάδα θα δουλέψει με ένα μοναδικό ξεχωριστό υποσύνολο του CIFAR-100\n",
        "Στο επόμενο κελί, αντικαταστήστε την τιμή της μεταβλητής `team_seed` με τον αριθμό της ομάδας σας."
      ]
    },
    {
      "cell_type": "code",
      "metadata": {
        "id": "NN0kEze7uZ_G"
      },
      "source": [
        "# REPLACE WITH YOUR TEAM NUMBER\n",
        "team_seed = 18"
      ],
      "execution_count": null,
      "outputs": []
    },
    {
      "cell_type": "markdown",
      "metadata": {
        "id": "8xYQ_Q1SVZEk"
      },
      "source": [
        "Στο επόμενο κελί μπορείτε να διαλέξετε το πλήθος των κατηγορίων σας: 20 (default), 40, 60 ή 80."
      ]
    },
    {
      "cell_type": "code",
      "metadata": {
        "id": "RhbZJW6PxUDJ"
      },
      "source": [
        "# select the number of classes\n",
        "cifar100_classes_url = select_classes_number(80)"
      ],
      "execution_count": null,
      "outputs": []
    },
    {
      "cell_type": "markdown",
      "metadata": {
        "id": "yO9f6wb0Wi0H"
      },
      "source": [
        "Δημιουργούμε το μοναδικό dataset της ομάδας μας:"
      ]
    },
    {
      "cell_type": "code",
      "metadata": {
        "id": "PgIN2h_KuCp_"
      },
      "source": [
        "team_classes = pd.read_csv(cifar100_classes_url, sep=',', header=None)\n",
        "CIFAR100_LABELS_LIST = pd.read_csv('https://pastebin.com/raw/qgDaNggt', sep=',', header=None).astype(str).values.tolist()[0]\n",
        "\n",
        "our_index = team_classes.iloc[team_seed,:].values.tolist()\n",
        "our_classes = select_from_list(CIFAR100_LABELS_LIST, our_index)\n",
        "train_index = get_ds_index(y_train_all, our_index)\n",
        "test_index = get_ds_index(y_test_all, our_index)\n",
        "\n",
        "x_train_ds = np.asarray(select_from_list(x_train_all, train_index))\n",
        "y_train_ds = np.asarray(select_from_list(y_train_all, train_index))\n",
        "x_test_ds = np.asarray(select_from_list(x_test_all, test_index))\n",
        "y_test_ds = np.asarray(select_from_list(y_test_all, test_index))"
      ],
      "execution_count": null,
      "outputs": []
    },
    {
      "cell_type": "code",
      "metadata": {
        "id": "_B4-tvVOQq3j",
        "colab": {
          "base_uri": "https://localhost:8080/"
        },
        "outputId": "e562a992-749f-4591-8c08-bb8e4de8ae9b"
      },
      "source": [
        "# print our classes\n",
        "print(our_classes)"
      ],
      "execution_count": null,
      "outputs": [
        {
          "output_type": "stream",
          "text": [
            "['apple', ' aquarium_fish', ' baby', ' bear', ' beaver', ' bee', ' beetle', ' bicycle', ' bottle', ' bowl', ' boy', ' bridge', ' bus', ' butterfly', ' camel', ' castle', ' caterpillar', ' cattle', ' clock', ' cockroach', ' couch', ' crab', ' crocodile', ' cup', ' dinosaur', ' dolphin', ' elephant', ' flatfish', ' forest', ' girl', ' hamster', ' house', ' lamp', ' lawn_mower', ' leopard', ' lizard', ' lobster', ' man', ' maple_tree', ' motorcycle', ' mountain', ' mouse', ' mushroom', ' otter', ' palm_tree', ' pear', ' pickup_truck', ' pine_tree', ' plain', ' plate', ' porcupine', ' rabbit', ' raccoon', ' ray', ' road', ' rocket', ' rose', ' sea', ' seal', ' shark', ' shrew', ' snail', ' snake', ' spider', ' squirrel', ' streetcar', ' sunflower', ' sweet_pepper', ' table', ' television', ' tiger', ' tractor', ' train', ' trout', ' turtle', ' wardrobe', ' whale', ' willow_tree', ' wolf', ' woman']\n"
          ],
          "name": "stdout"
        }
      ]
    },
    {
      "cell_type": "code",
      "metadata": {
        "id": "ye8g741-cWlA"
      },
      "source": [
        "CLASSES_NUM=len(our_classes)"
      ],
      "execution_count": null,
      "outputs": []
    },
    {
      "cell_type": "code",
      "metadata": {
        "id": "bk5wy0u7GGMj",
        "colab": {
          "base_uri": "https://localhost:8080/"
        },
        "outputId": "a9b4a19b-c273-43c5-d5b7-b5bcb38cc754"
      },
      "source": [
        "print(x_train_ds[1].shape)"
      ],
      "execution_count": null,
      "outputs": [
        {
          "output_type": "stream",
          "text": [
            "(32, 32, 3)\n"
          ],
          "name": "stdout"
        }
      ]
    },
    {
      "cell_type": "code",
      "metadata": {
        "id": "QpGXgTs_5ZCk",
        "colab": {
          "base_uri": "https://localhost:8080/",
          "height": 463
        },
        "outputId": "1fc38f46-505e-4d9b-9eba-c8dc3978a16a"
      },
      "source": [
        "# get (train) dataset dimensions\n",
        "data_size, img_rows, img_cols, img_channels = x_train_ds.shape\n",
        "\n",
        "# set validation set percentage (wrt the training set size)\n",
        "validation_percentage = 0.15\n",
        "val_size = round(validation_percentage * data_size)\n",
        "\n",
        "# Reserve val_size samples for validation and normalize all values\n",
        "x_val = x_train_ds[-val_size:]/255\n",
        "y_val = y_train_ds[-val_size:]\n",
        "x_train = x_train_ds[:-val_size]/255\n",
        "y_train = y_train_ds[:-val_size]\n",
        "x_test = x_test_ds/255\n",
        "y_test = y_test_ds\n",
        "\n",
        "print(len(x_val))\n",
        "\n",
        "# summarize loaded dataset\n",
        "print('Train: X=%s, y=%s' % (x_train.shape, y_train.shape))\n",
        "print('Validation: X=%s, y=%s' % (x_val.shape, y_val.shape))\n",
        "print('Test: X=%s, y=%s' % (x_test.shape, y_test.shape))\n",
        "\n",
        "# get class label from class index\n",
        "def class_label_from_index(fine_category):\n",
        "  return(CIFAR100_LABELS_LIST[fine_category.item(0)])\n",
        "\n",
        "# plot first few images\n",
        "plt.figure(figsize=(6, 6))\n",
        "for i in range(9):\n",
        "\t# define subplot\n",
        "  plt.subplot(330 + 1 + i).set_title(class_label_from_index(y_train[i]))\n",
        "\t# plot raw pixel data\n",
        "  plt.imshow(x_train[i], cmap=plt.get_cmap('gray'))\n",
        "  #show the figure\n",
        "plt.show()"
      ],
      "execution_count": null,
      "outputs": [
        {
          "output_type": "stream",
          "text": [
            "6000\n",
            "Train: X=(34000, 32, 32, 3), y=(34000, 1)\n",
            "Validation: X=(6000, 32, 32, 3), y=(6000, 1)\n",
            "Test: X=(8000, 32, 32, 3), y=(8000, 1)\n"
          ],
          "name": "stdout"
        },
        {
          "output_type": "display_data",
          "data": {
            "image/png": "[encoded data removed]",
            "text/plain": [
              "<Figure size 432x432 with 9 Axes>"
            ]
          },
          "metadata": {
            "tags": [],
            "needs_background": "light"
          }
        }
      ]
    },
    {
      "cell_type": "markdown",
      "metadata": {
        "id": "0cniJE8eZQAA"
      },
      "source": [
        "## Συναρτήσεις εκπαίδευσης"
      ]
    },
    {
      "cell_type": "markdown",
      "metadata": {
        "id": "G3xB9x5JZjSN"
      },
      "source": [
        "Θα χρησιμοποιήσουμε την ιδιότητα data prefetch του tf2:"
      ]
    },
    {
      "cell_type": "code",
      "metadata": {
        "id": "KPFYqOmIa5Fr"
      },
      "source": [
        "# we user prefetch https://www.tensorflow.org/api_docs/python/tf/data/Dataset#prefetch \n",
        "# see also AUTOTUNE\n",
        "# the dataset is now \"infinite\"\n",
        "\n",
        "BATCH_SIZE = 256 #128\n",
        "AUTOTUNE = tf.data.experimental.AUTOTUNE # https://www.tensorflow.org/guide/data_performance\n",
        "\n",
        "def _input_fn(x,y, BATCH_SIZE):\n",
        "  ds = tf.data.Dataset.from_tensor_slices((x,y))\n",
        "  ds = ds.shuffle(buffer_size=data_size)\n",
        "  ds = ds.repeat()\n",
        "  ds = ds.batch(BATCH_SIZE)\n",
        "  ds = ds.prefetch(buffer_size=AUTOTUNE)\n",
        "  return ds\n",
        "\n",
        "train_ds =_input_fn(x_train,y_train, BATCH_SIZE) #PrefetchDataset object\n",
        "validation_ds =_input_fn(x_val,y_val, BATCH_SIZE) #PrefetchDataset object\n",
        "test_ds =_input_fn(x_test,y_test, BATCH_SIZE) #PrefetchDataset object\n",
        "\n",
        "# steps_per_epoch and validation_steps for training and validation: https://www.tensorflow.org/guide/keras/train_and_evaluate\n",
        "\n",
        "def train_model(model, epochs = 10, steps_per_epoch = 2, validation_steps = 1):\n",
        "  history = model.fit(train_ds, epochs=epochs, steps_per_epoch=steps_per_epoch, validation_data=validation_ds, validation_steps=validation_steps)\n",
        "  return(history)"
      ],
      "execution_count": null,
      "outputs": []
    },
    {
      "cell_type": "markdown",
      "metadata": {
        "id": "onYIggE9Z2f4"
      },
      "source": [
        "## Γραφικές παραστάσεις εκπαίδευσης και απόδοση στο σύνολο ελέγχου"
      ]
    },
    {
      "cell_type": "code",
      "metadata": {
        "id": "vdWPm3zqbRo1"
      },
      "source": [
        "# plot diagnostic learning curves\n",
        "def summarize_diagnostics(history):\n",
        "\tplt.figure(figsize=(8, 8))\n",
        "\tplt.suptitle('Training Curves')\n",
        "\t# plot loss\n",
        "\tplt.subplot(211)\n",
        "\tplt.title('Cross Entropy Loss')\n",
        "\tplt.plot(history.history['loss'], color='blue', label='train')\n",
        "\tplt.plot(history.history['val_loss'], color='orange', label='val')\n",
        "\tplt.legend(loc='upper right')\n",
        "\t# plot accuracy\n",
        "\tplt.subplot(212)\n",
        "\tplt.title('Classification Accuracy')\n",
        "\tplt.plot(history.history['accuracy'], color='blue', label='train')\n",
        "\tplt.plot(history.history['val_accuracy'], color='orange', label='val')\n",
        "\tplt.legend(loc='lower right')\n",
        "\treturn plt\n",
        " \n",
        "# print test set evaluation metrics\n",
        "def model_evaluation(model, evaluation_steps):\n",
        "\tprint('\\nTest set evaluation metrics')\n",
        "\tloss0,accuracy0 = model.evaluate(test_ds, steps = evaluation_steps)\n",
        "\tprint(\"loss: {:.2f}\".format(loss0))\n",
        "\tprint(\"accuracy: {:.2f}\".format(accuracy0))\n",
        "\n",
        "def model_report(model, history, evaluation_steps = 10):\n",
        "\tplt = summarize_diagnostics(history)\n",
        "\tplt.show()\n",
        "\tmodel_evaluation(model, evaluation_steps)"
      ],
      "execution_count": null,
      "outputs": []
    },
    {
      "cell_type": "markdown",
      "metadata": {
        "id": "Waa4c40Yay3k"
      },
      "source": [
        "## Μοντέλα δικτύων"
      ]
    },
    {
      "cell_type": "markdown",
      "metadata": {
        "id": "cFTzQtMOa3Rv"
      },
      "source": [
        "### Ένα μικρό συνελικτικό δίκτυο \"from scratch\""
      ]
    },
    {
      "cell_type": "code",
      "metadata": {
        "id": "LtcgTkHojt0G"
      },
      "source": [
        "# a simple CNN https://www.tensorflow.org/tutorials/images/cnn\n",
        "\n",
        "def init_simple_model(summary):\n",
        "  model = models.Sequential()\n",
        "  model.add(layers.Conv2D(32, (3, 3), activation='relu', input_shape=(32,32,3)))\n",
        "  model.add(layers.MaxPooling2D((2, 2)))\n",
        "  model.add(layers.Conv2D(64, (3, 3), activation='relu'))\n",
        "  model.add(layers.MaxPooling2D((2, 2)))\n",
        "  model.add(layers.Conv2D(64, (3, 3), activation='relu'))\n",
        "  model.add(layers.Flatten())\n",
        "  model.add(layers.Dense(64, activation='relu'))\n",
        "  model.add(layers.Dense(100, activation='softmax'))\n",
        "  \n",
        "  model.compile(optimizer=tf.optimizers.Adam(learning_rate=0.0001), loss=tf.keras.losses.sparse_categorical_crossentropy, metrics=[\"accuracy\"])\n",
        "  if summary: \n",
        "    model.summary()\n",
        "  return model"
      ],
      "execution_count": null,
      "outputs": []
    },
    {
      "cell_type": "code",
      "metadata": {
        "id": "dSbtouO9lGvj"
      },
      "source": [
        "SIMPLE_MODEL = init_simple_model(summary = True)\n",
        "SIMPLE_MODEL_history = train_model(SIMPLE_MODEL, 50, 30, 5)"
      ],
      "execution_count": null,
      "outputs": []
    },
    {
      "cell_type": "markdown",
      "metadata": {
        "id": "12z4zsoVbPWR"
      },
      "source": [
        "### Μεταφορά μάθησης: VGG16"
      ]
    },
    {
      "cell_type": "code",
      "metadata": {
        "id": "6QJueWvUXUTJ"
      },
      "source": [
        "# transfer learning: VGG16 trained on ImageNet without the top layer\n",
        "\n",
        "def init_VGG16_model(summary):\n",
        "  vgg_model=tf.keras.applications.VGG16(input_shape=(32,32,3), include_top=False, weights='imagenet')\n",
        "  \n",
        "  VGG16_MODEL=vgg_model.layers[0](vgg_model)\n",
        "\n",
        "  # unfreeze conv layers\n",
        "  VGG16_MODEL.trainable=True\n",
        "  \n",
        "  dropout_layer = tf.keras.layers.Dropout(rate = 0.5)\n",
        "  global_average_layer = tf.keras.layers.GlobalAveragePooling2D()\n",
        "\n",
        "  # add top layer for CIFAR100 classification\n",
        "  prediction_layer = tf.keras.layers.Dense(len(CIFAR100_LABELS_LIST),activation='softmax')\n",
        "  model = tf.keras.Sequential([VGG16_MODEL, dropout_layer, global_average_layer, prediction_layer])\n",
        "  model.compile(optimizer=tf.optimizers.Adam(learning_rate=0.00005), loss=tf.keras.losses.sparse_categorical_crossentropy, metrics=[\"accuracy\"])\n",
        "  if summary: \n",
        "    model.summary()\n",
        "  return model"
      ],
      "execution_count": null,
      "outputs": []
    },
    {
      "cell_type": "code",
      "metadata": {
        "id": "2bZChKpdh0Cn",
        "colab": {
          "base_uri": "https://localhost:8080/"
        },
        "outputId": "f5d4791e-f088-454d-829e-3d6c7cc17a60"
      },
      "source": [
        "VGG16_MODEL = init_VGG16_model(True)\n",
        "VGG16_MODEL_history = train_model(VGG16_MODEL, 25, 40, 10)\n",
        "\n",
        "#model_report(VGG16_MODEL, VGG16_MODEL_history, 30)"
      ],
      "execution_count": null,
      "outputs": [
        {
          "output_type": "stream",
          "text": [
            "Downloading data from https://storage.googleapis.com/tensorflow/keras-applications/vgg16/vgg16_weights_tf_dim_ordering_tf_kernels_notop.h5\n",
            "58892288/58889256 [==============================] - 0s 0us/step\n",
            "Model: \"sequential\"\n",
            "_________________________________________________________________\n",
            "Layer (type)                 Output Shape              Param #   \n",
            "=================================================================\n",
            "vgg16 (Functional)           (None, 1, 1, 512)         14714688  \n",
            "_________________________________________________________________\n",
            "dropout (Dropout)            (None, 1, 1, 512)         0         \n",
            "_________________________________________________________________\n",
            "global_average_pooling2d (Gl (None, 512)               0         \n",
            "_________________________________________________________________\n",
            "dense (Dense)                (None, 100)               51300     \n",
            "=================================================================\n",
            "Total params: 14,765,988\n",
            "Trainable params: 14,765,988\n",
            "Non-trainable params: 0\n",
            "_________________________________________________________________\n",
            "Epoch 1/25\n",
            "40/40 [==============================] - 11s 75ms/step - loss: 4.8156 - accuracy: 0.0120 - val_loss: 4.5233 - val_accuracy: 0.0281\n",
            "Epoch 2/25\n",
            "40/40 [==============================] - 3s 64ms/step - loss: 4.5067 - accuracy: 0.0279 - val_loss: 4.3807 - val_accuracy: 0.0539\n",
            "Epoch 3/25\n",
            "40/40 [==============================] - 3s 63ms/step - loss: 4.3755 - accuracy: 0.0470 - val_loss: 4.1837 - val_accuracy: 0.0945\n",
            "Epoch 4/25\n",
            "40/40 [==============================] - 2s 63ms/step - loss: 4.2494 - accuracy: 0.0671 - val_loss: 3.9418 - val_accuracy: 0.1305\n",
            "Epoch 5/25\n",
            "40/40 [==============================] - 2s 62ms/step - loss: 4.0686 - accuracy: 0.0977 - val_loss: 3.7349 - val_accuracy: 0.1781\n",
            "Epoch 6/25\n",
            "40/40 [==============================] - 3s 64ms/step - loss: 3.8497 - accuracy: 0.1350 - val_loss: 3.5751 - val_accuracy: 0.2258\n",
            "Epoch 7/25\n",
            "40/40 [==============================] - 3s 64ms/step - loss: 3.7282 - accuracy: 0.1568 - val_loss: 3.3198 - val_accuracy: 0.2352\n",
            "Epoch 8/25\n",
            "40/40 [==============================] - 3s 67ms/step - loss: 3.4384 - accuracy: 0.2098 - val_loss: 3.0137 - val_accuracy: 0.2930\n",
            "Epoch 9/25\n",
            "40/40 [==============================] - 3s 64ms/step - loss: 3.2740 - accuracy: 0.2356 - val_loss: 2.9984 - val_accuracy: 0.2891\n",
            "Epoch 10/25\n",
            "40/40 [==============================] - 3s 65ms/step - loss: 3.1289 - accuracy: 0.2549 - val_loss: 2.8006 - val_accuracy: 0.3258\n",
            "Epoch 11/25\n",
            "40/40 [==============================] - 3s 64ms/step - loss: 2.9468 - accuracy: 0.2844 - val_loss: 2.5787 - val_accuracy: 0.3539\n",
            "Epoch 12/25\n",
            "40/40 [==============================] - 3s 64ms/step - loss: 2.8056 - accuracy: 0.3197 - val_loss: 2.4685 - val_accuracy: 0.3750\n",
            "Epoch 13/25\n",
            "40/40 [==============================] - 3s 64ms/step - loss: 2.7268 - accuracy: 0.3230 - val_loss: 2.4000 - val_accuracy: 0.3852\n",
            "Epoch 14/25\n",
            "40/40 [==============================] - 3s 65ms/step - loss: 2.6034 - accuracy: 0.3411 - val_loss: 2.1921 - val_accuracy: 0.4180\n",
            "Epoch 15/25\n",
            "40/40 [==============================] - 3s 65ms/step - loss: 2.3771 - accuracy: 0.3872 - val_loss: 2.2723 - val_accuracy: 0.4227\n",
            "Epoch 16/25\n",
            "40/40 [==============================] - 3s 65ms/step - loss: 2.4218 - accuracy: 0.3834 - val_loss: 2.2930 - val_accuracy: 0.4148\n",
            "Epoch 17/25\n",
            "40/40 [==============================] - 3s 64ms/step - loss: 2.3639 - accuracy: 0.3937 - val_loss: 2.0630 - val_accuracy: 0.4492\n",
            "Epoch 18/25\n",
            "40/40 [==============================] - 3s 65ms/step - loss: 2.2343 - accuracy: 0.4160 - val_loss: 2.0700 - val_accuracy: 0.4570\n",
            "Epoch 19/25\n",
            "40/40 [==============================] - 3s 66ms/step - loss: 2.2288 - accuracy: 0.4057 - val_loss: 2.0578 - val_accuracy: 0.4633\n",
            "Epoch 20/25\n",
            "40/40 [==============================] - 3s 65ms/step - loss: 2.3048 - accuracy: 0.3951 - val_loss: 1.9573 - val_accuracy: 0.4711\n",
            "Epoch 21/25\n",
            "40/40 [==============================] - 3s 66ms/step - loss: 1.9853 - accuracy: 0.4796 - val_loss: 1.9138 - val_accuracy: 0.4914\n",
            "Epoch 22/25\n",
            "40/40 [==============================] - 3s 66ms/step - loss: 1.9444 - accuracy: 0.4854 - val_loss: 1.9494 - val_accuracy: 0.4750\n",
            "Epoch 23/25\n",
            "40/40 [==============================] - 3s 66ms/step - loss: 1.9848 - accuracy: 0.4745 - val_loss: 1.8667 - val_accuracy: 0.5117\n",
            "Epoch 24/25\n",
            "40/40 [==============================] - 3s 67ms/step - loss: 1.8930 - accuracy: 0.5038 - val_loss: 1.8582 - val_accuracy: 0.5008\n",
            "Epoch 25/25\n",
            "40/40 [==============================] - 3s 67ms/step - loss: 1.9015 - accuracy: 0.4935 - val_loss: 1.8956 - val_accuracy: 0.4867\n"
          ],
          "name": "stdout"
        }
      ]
    },
    {
      "cell_type": "markdown",
      "metadata": {
        "id": "O_XU4fjKB_7k"
      },
      "source": [
        "### Μεταφορά μάθησης: VGG19"
      ]
    },
    {
      "cell_type": "code",
      "metadata": {
        "id": "1qwBbkAvV1_B"
      },
      "source": [
        "# transfer learning: VGG19 trained on ImageNet without the top layer\n",
        "\n",
        "vgg19_model=tf.keras.applications.VGG19(include_top=False, input_shape=(32,32,3),  weights='imagenet')\n",
        "#VGG19_MODEL=vgg19_model.layers[0](vgg19_model)\n",
        "\n",
        "# freeze conv layers\n",
        "vgg19_model.trainable=False\n",
        "\n",
        "# Fine-tune from this layer onwards\n",
        "#fine_tune_at = 17\n",
        "\n",
        "# Freeze all the layers before the `fine_tune_at` layer\n",
        "#for layer in VGG19_MODEL.layers[:fine_tune_at]:\n",
        "#  layer.trainable =  False\n",
        "\n",
        "\n",
        "dropout_layer = tf.keras.layers.Dropout(rate = 0.1)\n",
        "dropout_layer2 = tf.keras.layers.Dropout(rate = 0.1)\n",
        "global_average_layer = tf.keras.layers.GlobalAveragePooling2D()\n",
        "\n",
        "# add top layer for CIFAR100 classification\n",
        "prediction_layer0 = tf.keras.layers.Dense(512, activation='relu')\n",
        "prediction_layer01 = tf.keras.layers.Dense(512, activation='relu')\n",
        "prediction_layer02 = tf.keras.layers.Dense(512, activation='relu')\n",
        "#prediction_layer03 = tf.keras.layers.Dense(512, activation='relu')\n",
        "prediction_layer = tf.keras.layers.Dense(len(CIFAR100_LABELS_LIST),activation='softmax')"
      ],
      "execution_count": null,
      "outputs": []
    },
    {
      "cell_type": "code",
      "metadata": {
        "id": "-l9pxPUxQ_zb"
      },
      "source": [
        "#define data augmentation layers\n",
        "\n",
        "contrast_layer = layers.experimental.preprocessing.RandomContrast(0.5)\n",
        "trans_layer = layers.experimental.preprocessing.RandomTranslation(0.05, 0.05)\n",
        "flip_layer = layers.experimental.preprocessing.RandomFlip(\"horizontal_and_vertical\")\n",
        "rotate_layer = layers.experimental.preprocessing.RandomRotation(0.1)\n",
        "zoom_layer = layers.experimental.preprocessing.RandomZoom(0.1, 0.1)\n"
      ],
      "execution_count": null,
      "outputs": []
    },
    {
      "cell_type": "code",
      "metadata": {
        "id": "jbPKjjWLJQB5"
      },
      "source": [
        "def build_model(summary):\n",
        "\n",
        "  inputs = tf.keras.Input(shape=(32, 32, 3))\n",
        "  x = contrast_layer(inputs)\n",
        "  x = flip_layer(x)\n",
        "  x = rotate_layer(x)\n",
        "  x = trans_layer(x)\n",
        "  x = zoom_layer(x)\n",
        "  x = vgg19_model(x)\n",
        "  x = dropout_layer(x)\n",
        "  x = global_average_layer(x)\n",
        "  x = prediction_layer0(x)\n",
        "  x = prediction_layer01(x)\n",
        "  x = prediction_layer02(x)\n",
        "  x = dropout_layer2(x)\n",
        "  #x = prediction_layer03(x)\n",
        "  outputs = prediction_layer(x)\n",
        "  model = tf.keras.Model(inputs, outputs)\n",
        "\n",
        "  model.compile(optimizer=tf.optimizers.Adam(learning_rate=0.00005), loss=tf.keras.losses.sparse_categorical_crossentropy, metrics=[\"accuracy\"])\n",
        "  if summary: \n",
        "    model.summary()\n",
        "  return model\n",
        "\n",
        "def rebuild_model(model, summary):\n",
        "  model.compile(optimizer=tf.optimizers.Adam(learning_rate=0.00005), loss=tf.keras.losses.sparse_categorical_crossentropy, metrics=[\"accuracy\"])\n",
        "  if summary: \n",
        "    model.summary()\n",
        "  return model"
      ],
      "execution_count": null,
      "outputs": []
    },
    {
      "cell_type": "code",
      "metadata": {
        "id": "Czy-mkDTK9_U"
      },
      "source": [
        "# unfreeze conv layers\n",
        "vgg19_model.trainable=True\n",
        "\n",
        "# Fine-tune from this layer onwards\n",
        "fine_tune_at = 0\n",
        "\n",
        "# Freeze all the layers before the `fine_tune_at` layer\n",
        "for layer in vgg19_model.layers[:fine_tune_at]:\n",
        "  layer.trainable =  False"
      ],
      "execution_count": null,
      "outputs": []
    },
    {
      "cell_type": "code",
      "metadata": {
        "colab": {
          "base_uri": "https://localhost:8080/"
        },
        "id": "HOn4Ne1pW0kl",
        "outputId": "734eda18-6bf2-4d63-db0d-e291d7f8e95a"
      },
      "source": [
        "VGG19_MODEL = build_model(True)\n",
        "VGG19_MODEL_history = train_model(VGG19_MODEL, 70, 40, 10)\n",
        "\n",
        "#model_report(VGG19_MODEL, VGG19_MODEL_history, 30)"
      ],
      "execution_count": null,
      "outputs": [
        {
          "output_type": "stream",
          "text": [
            "Model: \"model_25\"\n",
            "_________________________________________________________________\n",
            "Layer (type)                 Output Shape              Param #   \n",
            "=================================================================\n",
            "input_39 (InputLayer)        [(None, 32, 32, 3)]       0         \n",
            "_________________________________________________________________\n",
            "random_contrast_7 (RandomCon (None, 32, 32, 3)         0         \n",
            "_________________________________________________________________\n",
            "random_flip_8 (RandomFlip)   (None, 32, 32, 3)         0         \n",
            "_________________________________________________________________\n",
            "random_rotation_8 (RandomRot (None, 32, 32, 3)         0         \n",
            "_________________________________________________________________\n",
            "random_translation_2 (Random (None, 32, 32, 3)         0         \n",
            "_________________________________________________________________\n",
            "random_zoom_8 (RandomZoom)   (None, 32, 32, 3)         0         \n",
            "_________________________________________________________________\n",
            "vgg19 (Functional)           (None, 1, 1, 512)         20024384  \n",
            "_________________________________________________________________\n",
            "dropout_14 (Dropout)         (None, 1, 1, 512)         0         \n",
            "_________________________________________________________________\n",
            "global_average_pooling2d_11  (None, 512)               0         \n",
            "_________________________________________________________________\n",
            "dense_41 (Dense)             (None, 512)               262656    \n",
            "_________________________________________________________________\n",
            "dense_42 (Dense)             (None, 512)               262656    \n",
            "_________________________________________________________________\n",
            "dense_43 (Dense)             (None, 512)               262656    \n",
            "_________________________________________________________________\n",
            "dropout_15 (Dropout)         (None, 512)               0         \n",
            "_________________________________________________________________\n",
            "dense_44 (Dense)             (None, 100)               51300     \n",
            "=================================================================\n",
            "Total params: 20,863,652\n",
            "Trainable params: 20,863,652\n",
            "Non-trainable params: 0\n",
            "_________________________________________________________________\n",
            "Epoch 1/70\n",
            "40/40 [==============================] - 7s 136ms/step - loss: 3.8621 - accuracy: 0.1289 - val_loss: 3.0952 - val_accuracy: 0.2223\n",
            "Epoch 2/70\n",
            "40/40 [==============================] - 5s 131ms/step - loss: 3.1202 - accuracy: 0.2177 - val_loss: 2.9573 - val_accuracy: 0.2473\n",
            "Epoch 3/70\n",
            "40/40 [==============================] - 5s 132ms/step - loss: 2.9310 - accuracy: 0.2444 - val_loss: 2.6546 - val_accuracy: 0.3063\n",
            "Epoch 4/70\n",
            "40/40 [==============================] - 5s 133ms/step - loss: 2.7770 - accuracy: 0.2734 - val_loss: 2.6965 - val_accuracy: 0.3004\n",
            "Epoch 5/70\n",
            "40/40 [==============================] - 5s 134ms/step - loss: 2.7370 - accuracy: 0.2884 - val_loss: 2.6015 - val_accuracy: 0.3121\n",
            "Epoch 6/70\n",
            "40/40 [==============================] - 5s 134ms/step - loss: 2.7005 - accuracy: 0.2899 - val_loss: 2.5266 - val_accuracy: 0.3258\n",
            "Epoch 7/70\n",
            "40/40 [==============================] - 5s 134ms/step - loss: 2.6210 - accuracy: 0.3100 - val_loss: 2.5934 - val_accuracy: 0.3363\n",
            "Epoch 8/70\n",
            "40/40 [==============================] - 5s 134ms/step - loss: 2.5672 - accuracy: 0.3228 - val_loss: 2.4468 - val_accuracy: 0.3594\n",
            "Epoch 9/70\n",
            "40/40 [==============================] - 5s 133ms/step - loss: 2.5366 - accuracy: 0.3354 - val_loss: 2.4005 - val_accuracy: 0.3562\n",
            "Epoch 10/70\n",
            "40/40 [==============================] - 5s 132ms/step - loss: 2.4750 - accuracy: 0.3413 - val_loss: 2.4695 - val_accuracy: 0.3414\n",
            "Epoch 11/70\n",
            "40/40 [==============================] - 5s 132ms/step - loss: 2.4041 - accuracy: 0.3590 - val_loss: 2.4698 - val_accuracy: 0.3504\n",
            "Epoch 12/70\n",
            "40/40 [==============================] - 5s 132ms/step - loss: 2.4085 - accuracy: 0.3576 - val_loss: 2.3079 - val_accuracy: 0.3789\n",
            "Epoch 13/70\n",
            "40/40 [==============================] - 5s 131ms/step - loss: 2.3805 - accuracy: 0.3564 - val_loss: 2.4791 - val_accuracy: 0.3598\n",
            "Epoch 14/70\n",
            "40/40 [==============================] - 5s 131ms/step - loss: 2.3849 - accuracy: 0.3640 - val_loss: 2.2622 - val_accuracy: 0.3918\n",
            "Epoch 15/70\n",
            "40/40 [==============================] - 5s 130ms/step - loss: 2.3136 - accuracy: 0.3850 - val_loss: 2.3089 - val_accuracy: 0.3902\n",
            "Epoch 16/70\n",
            "40/40 [==============================] - 5s 131ms/step - loss: 2.3189 - accuracy: 0.3729 - val_loss: 2.4047 - val_accuracy: 0.3500\n",
            "Epoch 17/70\n",
            "40/40 [==============================] - 5s 135ms/step - loss: 2.2882 - accuracy: 0.3822 - val_loss: 2.2358 - val_accuracy: 0.3969\n",
            "Epoch 18/70\n",
            "40/40 [==============================] - 5s 131ms/step - loss: 2.2220 - accuracy: 0.4024 - val_loss: 2.4319 - val_accuracy: 0.3676\n",
            "Epoch 19/70\n",
            "40/40 [==============================] - 5s 132ms/step - loss: 2.2533 - accuracy: 0.3839 - val_loss: 2.1588 - val_accuracy: 0.4105\n",
            "Epoch 20/70\n",
            "40/40 [==============================] - 5s 133ms/step - loss: 2.1903 - accuracy: 0.4069 - val_loss: 2.2476 - val_accuracy: 0.3934\n",
            "Epoch 21/70\n",
            "40/40 [==============================] - 5s 132ms/step - loss: 2.1640 - accuracy: 0.4127 - val_loss: 2.2001 - val_accuracy: 0.4051\n",
            "Epoch 22/70\n",
            "40/40 [==============================] - 5s 133ms/step - loss: 2.1110 - accuracy: 0.4189 - val_loss: 2.1351 - val_accuracy: 0.4293\n",
            "Epoch 23/70\n",
            "40/40 [==============================] - 5s 133ms/step - loss: 2.1482 - accuracy: 0.4164 - val_loss: 2.1976 - val_accuracy: 0.4102\n",
            "Epoch 24/70\n",
            "40/40 [==============================] - 5s 133ms/step - loss: 2.1417 - accuracy: 0.4090 - val_loss: 2.3839 - val_accuracy: 0.3844\n",
            "Epoch 25/70\n",
            "40/40 [==============================] - 5s 132ms/step - loss: 2.1472 - accuracy: 0.4190 - val_loss: 2.0924 - val_accuracy: 0.4391\n",
            "Epoch 26/70\n",
            "40/40 [==============================] - 5s 133ms/step - loss: 2.0683 - accuracy: 0.4384 - val_loss: 2.1223 - val_accuracy: 0.4367\n",
            "Epoch 27/70\n",
            "40/40 [==============================] - 5s 132ms/step - loss: 2.0437 - accuracy: 0.4413 - val_loss: 2.1213 - val_accuracy: 0.4289\n",
            "Epoch 28/70\n",
            "40/40 [==============================] - 5s 132ms/step - loss: 2.0645 - accuracy: 0.4353 - val_loss: 2.2415 - val_accuracy: 0.4102\n",
            "Epoch 29/70\n",
            "40/40 [==============================] - 5s 131ms/step - loss: 2.0360 - accuracy: 0.4418 - val_loss: 2.1449 - val_accuracy: 0.4250\n",
            "Epoch 30/70\n",
            "40/40 [==============================] - 5s 132ms/step - loss: 2.0531 - accuracy: 0.4413 - val_loss: 2.1367 - val_accuracy: 0.4359\n",
            "Epoch 31/70\n",
            "40/40 [==============================] - 5s 131ms/step - loss: 1.9732 - accuracy: 0.4498 - val_loss: 2.1279 - val_accuracy: 0.4324\n",
            "Epoch 32/70\n",
            "40/40 [==============================] - 5s 131ms/step - loss: 1.9491 - accuracy: 0.4658 - val_loss: 1.9474 - val_accuracy: 0.4598\n",
            "Epoch 33/70\n",
            "40/40 [==============================] - 5s 132ms/step - loss: 2.0093 - accuracy: 0.4575 - val_loss: 1.9773 - val_accuracy: 0.4602\n",
            "Epoch 34/70\n",
            "40/40 [==============================] - 5s 132ms/step - loss: 1.9165 - accuracy: 0.4639 - val_loss: 2.2898 - val_accuracy: 0.4039\n",
            "Epoch 35/70\n",
            "40/40 [==============================] - 5s 132ms/step - loss: 1.8864 - accuracy: 0.4733 - val_loss: 2.1999 - val_accuracy: 0.4148\n",
            "Epoch 36/70\n",
            "40/40 [==============================] - 5s 132ms/step - loss: 1.9201 - accuracy: 0.4637 - val_loss: 2.1102 - val_accuracy: 0.4504\n",
            "Epoch 37/70\n",
            "40/40 [==============================] - 5s 132ms/step - loss: 1.8973 - accuracy: 0.4759 - val_loss: 2.1343 - val_accuracy: 0.4332\n",
            "Epoch 38/70\n",
            "40/40 [==============================] - 5s 132ms/step - loss: 1.8545 - accuracy: 0.4898 - val_loss: 2.0307 - val_accuracy: 0.4484\n",
            "Epoch 39/70\n",
            "40/40 [==============================] - 5s 132ms/step - loss: 1.8760 - accuracy: 0.4769 - val_loss: 2.2197 - val_accuracy: 0.4172\n",
            "Epoch 40/70\n",
            "40/40 [==============================] - 5s 133ms/step - loss: 1.8999 - accuracy: 0.4683 - val_loss: 2.1131 - val_accuracy: 0.4363\n",
            "Epoch 41/70\n",
            "40/40 [==============================] - 5s 133ms/step - loss: 1.8043 - accuracy: 0.4977 - val_loss: 1.9811 - val_accuracy: 0.4832\n",
            "Epoch 42/70\n",
            "40/40 [==============================] - 5s 132ms/step - loss: 1.7924 - accuracy: 0.5024 - val_loss: 2.2597 - val_accuracy: 0.4207\n",
            "Epoch 43/70\n",
            "40/40 [==============================] - 5s 132ms/step - loss: 1.8961 - accuracy: 0.4814 - val_loss: 2.0772 - val_accuracy: 0.4535\n",
            "Epoch 44/70\n",
            "40/40 [==============================] - 5s 132ms/step - loss: 1.8050 - accuracy: 0.4990 - val_loss: 1.9990 - val_accuracy: 0.4672\n",
            "Epoch 45/70\n",
            "40/40 [==============================] - 5s 132ms/step - loss: 1.7779 - accuracy: 0.5062 - val_loss: 2.1071 - val_accuracy: 0.4492\n",
            "Epoch 46/70\n",
            "40/40 [==============================] - 5s 132ms/step - loss: 1.7934 - accuracy: 0.5059 - val_loss: 2.2364 - val_accuracy: 0.4215\n",
            "Epoch 47/70\n",
            "40/40 [==============================] - 5s 135ms/step - loss: 1.8182 - accuracy: 0.4985 - val_loss: 1.9538 - val_accuracy: 0.4824\n",
            "Epoch 48/70\n",
            "40/40 [==============================] - 5s 132ms/step - loss: 1.7552 - accuracy: 0.5044 - val_loss: 2.1166 - val_accuracy: 0.4348\n",
            "Epoch 49/70\n",
            "40/40 [==============================] - 5s 132ms/step - loss: 1.7408 - accuracy: 0.5059 - val_loss: 1.9565 - val_accuracy: 0.4840\n",
            "Epoch 50/70\n",
            "40/40 [==============================] - 5s 132ms/step - loss: 1.7352 - accuracy: 0.5156 - val_loss: 1.9766 - val_accuracy: 0.4738\n",
            "Epoch 51/70\n",
            "40/40 [==============================] - 5s 133ms/step - loss: 1.6767 - accuracy: 0.5303 - val_loss: 2.2049 - val_accuracy: 0.4477\n",
            "Epoch 52/70\n",
            "40/40 [==============================] - 5s 132ms/step - loss: 1.7088 - accuracy: 0.5089 - val_loss: 1.9410 - val_accuracy: 0.4723\n",
            "Epoch 53/70\n",
            "40/40 [==============================] - 5s 132ms/step - loss: 1.7364 - accuracy: 0.5115 - val_loss: 2.0185 - val_accuracy: 0.4625\n",
            "Epoch 54/70\n",
            "40/40 [==============================] - 5s 132ms/step - loss: 1.7062 - accuracy: 0.5278 - val_loss: 2.0264 - val_accuracy: 0.4676\n",
            "Epoch 55/70\n",
            "40/40 [==============================] - 5s 132ms/step - loss: 1.6752 - accuracy: 0.5277 - val_loss: 1.9360 - val_accuracy: 0.4797\n",
            "Epoch 56/70\n",
            "40/40 [==============================] - 5s 132ms/step - loss: 1.6797 - accuracy: 0.5273 - val_loss: 1.9051 - val_accuracy: 0.4875\n",
            "Epoch 57/70\n",
            "40/40 [==============================] - 5s 132ms/step - loss: 1.6948 - accuracy: 0.5290 - val_loss: 2.0707 - val_accuracy: 0.4629\n",
            "Epoch 58/70\n",
            "40/40 [==============================] - 5s 132ms/step - loss: 1.6508 - accuracy: 0.5304 - val_loss: 1.9453 - val_accuracy: 0.4895\n",
            "Epoch 59/70\n",
            "40/40 [==============================] - 5s 132ms/step - loss: 1.6249 - accuracy: 0.5376 - val_loss: 2.1488 - val_accuracy: 0.4582\n",
            "Epoch 60/70\n",
            "40/40 [==============================] - 5s 132ms/step - loss: 1.6426 - accuracy: 0.5357 - val_loss: 1.9304 - val_accuracy: 0.4926\n",
            "Epoch 61/70\n",
            "40/40 [==============================] - 5s 132ms/step - loss: 1.6025 - accuracy: 0.5427 - val_loss: 2.0790 - val_accuracy: 0.4660\n",
            "Epoch 62/70\n",
            "40/40 [==============================] - 5s 133ms/step - loss: 1.6091 - accuracy: 0.5491 - val_loss: 2.0766 - val_accuracy: 0.4613\n",
            "Epoch 63/70\n",
            "40/40 [==============================] - 5s 132ms/step - loss: 1.6265 - accuracy: 0.5349 - val_loss: 2.0808 - val_accuracy: 0.4746\n",
            "Epoch 64/70\n",
            "40/40 [==============================] - 5s 132ms/step - loss: 1.5801 - accuracy: 0.5454 - val_loss: 1.8863 - val_accuracy: 0.5004\n",
            "Epoch 65/70\n",
            "40/40 [==============================] - 5s 132ms/step - loss: 1.5129 - accuracy: 0.5706 - val_loss: 1.9909 - val_accuracy: 0.4812\n",
            "Epoch 66/70\n",
            "40/40 [==============================] - 5s 132ms/step - loss: 1.5544 - accuracy: 0.5520 - val_loss: 2.0043 - val_accuracy: 0.4816\n",
            "Epoch 67/70\n",
            "40/40 [==============================] - 5s 133ms/step - loss: 1.5797 - accuracy: 0.5530 - val_loss: 1.8424 - val_accuracy: 0.5070\n",
            "Epoch 68/70\n",
            "40/40 [==============================] - 5s 132ms/step - loss: 1.5393 - accuracy: 0.5619 - val_loss: 1.8084 - val_accuracy: 0.5082\n",
            "Epoch 69/70\n",
            "40/40 [==============================] - 5s 132ms/step - loss: 1.5299 - accuracy: 0.5567 - val_loss: 1.8788 - val_accuracy: 0.4996\n",
            "Epoch 70/70\n",
            "40/40 [==============================] - 5s 132ms/step - loss: 1.5083 - accuracy: 0.5654 - val_loss: 2.0207 - val_accuracy: 0.4836\n"
          ],
          "name": "stdout"
        }
      ]
    },
    {
      "cell_type": "code",
      "metadata": {
        "id": "3fsLTn-b67f2"
      },
      "source": [
        "VGG19_MODEL.save_weights('checkpoint_augment_4dense_70epochs+70')"
      ],
      "execution_count": null,
      "outputs": []
    },
    {
      "cell_type": "code",
      "metadata": {
        "id": "kqSr866VkyR0",
        "colab": {
          "base_uri": "https://localhost:8080/"
        },
        "outputId": "0b5dee64-969b-43ab-f30d-e159f981aca3"
      },
      "source": [
        "from google.colab import drive\n",
        "drive.mount('/content/drive')"
      ],
      "execution_count": null,
      "outputs": [
        {
          "output_type": "stream",
          "text": [
            "Mounted at /content/drive\n"
          ],
          "name": "stdout"
        }
      ]
    },
    {
      "cell_type": "code",
      "metadata": {
        "colab": {
          "base_uri": "https://localhost:8080/"
        },
        "id": "jSpbGwB2BOqK",
        "outputId": "d0883ec2-d40f-4757-d4da-04ac594b4611"
      },
      "source": [
        "VGG19_MODEL.load_weights('checkpoint_augment-less_4dense_70epochs')"
      ],
      "execution_count": null,
      "outputs": [
        {
          "output_type": "execute_result",
          "data": {
            "text/plain": [
              "<tensorflow.python.training.tracking.util.CheckpointLoadStatus at 0x7f4fc4730048>"
            ]
          },
          "metadata": {
            "tags": []
          },
          "execution_count": 79
        }
      ]
    },
    {
      "cell_type": "code",
      "metadata": {
        "id": "kfaeQIHOETqO"
      },
      "source": [
        "dropout_layer = tf.keras.layers.Dropout(rate = 0.1)"
      ],
      "execution_count": null,
      "outputs": []
    },
    {
      "cell_type": "markdown",
      "metadata": {
        "id": "HUfob-kNfaSD"
      },
      "source": [
        "# Βελτίωση της επίδοσης με πειράματα\n",
        "\n",
        "Καλείστε να βελτιώσετε τα αποτελέσματα ταξινόμησης στο CIFAR-100 και να βγάλατε συμπεράσματα, σύμφωνα με όσα ζητούνται σε σχέση με την αναφορά παράδοσης. "
      ]
    },
    {
      "cell_type": "markdown",
      "metadata": {
        "id": "FiVKTH5rmhWn"
      },
      "source": [
        "## Δοκιμές διαφορετικών μοντέλων\n",
        "\n",
        "Μπορείτε είτε να δοκιμάσετε μοντέλα \"from scratch\", όπου ορίζετε την αρχιτεκτονική του δικτύου όπως θέλετε, είτε να χρησιμοποιήσετε μεταφορά μάθησης.\n"
      ]
    },
    {
      "cell_type": "markdown",
      "metadata": {
        "id": "pAbqI8hapbX9"
      },
      "source": [
        "\n",
        "### Μοντέλα \"from scratch\"\n",
        "\n",
        "Μπορείτε να τροποποιήσετε/αλλάξετε το αρχικό μικρό συνελικτικό δίκτυο του παραδείγματος. Μπορείτε να συμβουλευτείτε \n",
        "- τη [βιβλιογραφία απο το leaderboard του CIFAR-100](https://benchmarks.ai/cifar-100) για αρχιτεκτονικές και παραμέτρους των δικτύων\n",
        "- ή/και να πάρετε ιδέες [από σχετική αναζήτηση στο Google Scholar](https://scholar.google.gr/scholar?hl=en&as_sdt=0%2C5&q=cifar+100+cnn&oq=cifa)"
      ]
    },
    {
      "cell_type": "markdown",
      "metadata": {
        "id": "8LZIFj-AmlPv"
      },
      "source": [
        "### Μεταφορά μάθησης\n",
        "\n",
        "Εναλλακτικά, μπορείτε να χρησιμοποιήσετ τη [μεταφορά μάθησης του tf2](https://www.tensorflow.org/tutorials/images/transfer_learning). Σε αντίθεση με τα μοντέλα \"from scratch\" η μεταφορά μάθησης μας επιστρέφει έτοιμα μοντέλα με προκαθορισμένη αρχιτεκτονική στην οποία μπορούμε γενικά μόνο να προσθέσουμε επίπεδα, τα οποία συνήθως περιορίζοντα σε πλήρως διασυνδεδεμένα επίπεδα που εξειδικεύονται στο συγκεκριμένο task ταξινόμησης που έχουμε να επιτελέσουμε. "
      ]
    },
    {
      "cell_type": "markdown",
      "metadata": {
        "id": "GrCxOjJ7ush3"
      },
      "source": [
        "#### Εκπαίδευση βαρών\n",
        "\n",
        "Ταυτόχρονα με την αρχιτεκτονική, στη μεταφορά μάθησης εισάγουμε και τη γνώση που έχει αποκτήσει το μοντέλο, δηλαδή τις τιμές των βαρών του όπως έχουν προκύψει μετά από εκπαίδευση συνήθως στο (τεράστιο) ImageNet. Οταν εισάγουμε ένα μοντέλο με μεταφορά μάθησης έχουμε τρεις επιλογές για την εκπαίδευση:\n",
        "- να παγώσουμε τη συνελικτική βάση και να εκπαιδεύσουμε την κεφαλή ταξινόμησης (classification head). Αυτό αντιστοιχεί στο να χρησιμοποιήσουμε τη συνελικτική βάση για εξαγωγή χαρακτηριστικών (feature extraction), σημαία trainable = False.\n",
        "- να συνεχίσουμε να εκπαιδεύουμε όλα τα επίπεδα του δικτύου, σημαία trainable = True.\n",
        "- να εκπαιδευτεί μόνο ένα ποσοστό των επιπέδων, εβρισκόμενο προς την έξοδο του δικτύου. Οι σημαίες trainable εδώ θα πρέπει να οριστούν ανά επίπεδο.\n"
      ]
    },
    {
      "cell_type": "markdown",
      "metadata": {
        "id": "6WFvmWr9xEUz"
      },
      "source": [
        "\n",
        "#### Διαθέσιμα μοντέλα για μεταφορά μάθησης στο tf2\n",
        "\n",
        "1. tf.keras.applications. Ο πιο απλός τρόπος για να κάνουμε μεταφορά μάθησης στο tf2 είναι μέσω του [tf.keras.applications](https://www.tensorflow.org/api_docs/python/tf/keras/applications) που παρέχει προεκπαιδευμένα μοντέλα από το Keras και συγκεκριμένα τα δίκτυα: DenseNet, Inception-ResNet V2, Inception V3, MobileNet v1, MobileNet v2, NASNet-A, ResNet, ResNet v2, VGG16, VGG19 και Xception V1. Η εισαγωγή των μοντέλων γίνεται παρόμοια με αυτή που δείξαμε παραπάνω για το VGG16.\n",
        "\n",
        "2. TensorFlow Hub. Μπορείτε επίσης να χρησιμοποιήσετε μοντέλα τα οποία είναι διαθέσιμα στο αποθετήριο [TensoFlow Hub](https://tfhub.dev/s?fine-tunable=yes&module-type=image-augmentation,image-classification,image-feature-vector,image-generator,image-object-detection,image-others,image-style-transfer,image-rnn-agent&tf-version=tf2) το οποίο περιλαμβάνει πάνω από 100 προεκπαιδευμένα μοντέλα.\n",
        "\n",
        "3. Αποθηκευμένα μοντέλα απο τρίτες πηγές. Μπορείτε επίσης να κάνετε μεταφορά μάθησης από τρίτες πηγές, είτε του συνόλου του νευρωνικού, αρχιτεκτονικής και βαρών, είτε μόνο της αρχιτεκτονικής ή των βαρών. Το μοντέλο θα πρέπει να έχει αποθηκευθεί σε ένα από τα δύο φορμάτ, Keras HDF5 format (.h5 ή .keras) ή στο SavedModel format που αναφέραμε στην εισαγωγή. Τα βάρη μπορούν να εισαχθούν και μόνα τους ως Checkpoints. Για περισσότερα, διαβάστε σχετικά τα λήμματα [\"Save and load models\"](https://www.tensorflow.org/tutorials/keras/save_and_load), [\"Save and serialize\"](https://www.tensorflow.org/guide/keras/save_and_serialize), [\"Using the SavedModel format\"](https://www.tensorflow.org/guide/saved_model) και δείτε για παράδειγμα πως μπορούμε να κάνουμε μεταφορά μάθησης από τα state-of-the-art EfficientNets ([1](https://www.dlology.com/blog/transfer-learning-with-efficientnet/), [2](https://github.com/tensorflow/tpu/tree/master/models/official/efficientnethttps://)).\n",
        "\n",
        "Σημειώστε ότι πολλά μοντέλα απαιτούν μεγαλύτερες διαστάσεις στην είσοδο από αυτές του CIFAR-100 και κατά συνέπεια τα δεδομένα πρέπει να [μετασχηματιστούν](https://www.tensorflow.org/api_docs/python/tf/image/resize). Προσέξτε ωστόσο τις απαιτήσεις σε μνήμη όταν αυτοί οι μετασχηματισμοί γίνονται απευθείας σε μεταβλητές (βλ. πιο κάτω \"Διαχείριση μνήμης\"). \n"
      ]
    },
    {
      "cell_type": "markdown",
      "metadata": {
        "id": "m9J7yIJrr4Ku"
      },
      "source": [
        "### Επαύξηση δεδομένων\n",
        "\n",
        "Μια τεχνική που μπορεί να σας δώσει καλά αποτελέσματα είναι η επάυξηση δεδομένων (data augmentation). Η επαύξηση δεδομένων επιτρέπει να δημιουργήσουμε μεγαλύτερη ποικιλία στα δεδομένα εφαρμόζοντας τυχαίους αλλά ρεαλιστικούς μετασχηματισμούς στις εικόνες, όπως πχ η περιστροφη.\n",
        "\n",
        "Μπορούμε να κάνουμε data augmetation με δύο τρόπους: με επίπεδα προεπεξεργασίας του Keras, ή με χρήση του tf.image. Δείτε [εδώ](https://www.tensorflow.org/tutorials/images/data_augmentation) σχετικά από το documentation του TensorFlow και [εδώ](https://stepup.ai/train_data_augmentation_keras/) ένα πρακτικό παράδειγμα στο CIFAR-10."
      ]
    },
    {
      "cell_type": "markdown",
      "metadata": {
        "id": "SRI_3XhBQ7sb"
      },
      "source": [
        "## Παρατηρήσεις ως προς τη βελτιστοποίηση"
      ]
    },
    {
      "cell_type": "markdown",
      "metadata": {
        "id": "mtVx8MsZRQrn"
      },
      "source": [
        "### Διαχείριση μνήμης (TFRecord)\n",
        "\n",
        "Η φόρτωση δεδομένων με τον τρόπο που το κάναμε παραπάνω στο απλό παράδειγμα υλοποίησης είναι πολύ βολική αλλά δεν είναι καθόλου αποτελεσματική ως προς τη διαχείριση της μνήμης. Συγκεκριμένα, με τον τρόπο αυτό, τα δεδομένα αποθηκεύονται απευθείας σε μεταβλητές, οι οποίες όλες μαζί καταλαμβάνουν τη RAM της CPU ή της GPU, κάτι που κάνει αδύνατη τη διαχείριση μεγάλων datasets ή τον μεταχηματισμό των δεδομένων όπως όταν κάνουμε αύξηση δεδομένων (data augmentation).\n",
        "\n",
        "Για να παρακαμφθεί αυτό το πρόβλημα, υπάρχει η δυνατότητα της σειριοποίησης των δεδομένων (serialization) και της αποθήκευσής τους σε αρχεία μεσαίου μεγέθους (κάποιων MB) τα οποία μπορούνα να αναγνωστούν γραμμικά. Το φορμάτ TFRecord είναι ένα φορμάτ που επιτρέπει την αποθήκευση σειράς δυαδικών εγγραφών. Διαβάστε τα σχετικά λήμματα [TFRecord and tf.Example](https://www.tensorflow.org/tutorials/load_data/tfrecord) και [tf.data: Build TensorFlow input pipelines](https://www.tensorflow.org/guide/data). \n",
        "\n",
        "Σημειώστε ότι με τη μέθοδο αυτή θα πρέπει να γίνει import η `tensorflow_datasets` και να χρησιμοποιήσουμε την `tfds.load` ώστε να αποθηκευθεί το σύνολο δεδομένων σε αρχεία tfrecord στο δίσκο (δείτε [εδώ](https://colab.research.google.com/github/tensorflow/datasets/blob/master/docs/overview.ipynb) ένα παράδειγμα). Φυσικά μπορούμε να μετατρέψουμε και τα πρωτογενή δεδομένα (raw data) του dataset όπως αρχεία jpg σε φορματ tfrecord όπως [εδώ](https://towardsdatascience.com/working-with-tfrecords-and-tf-train-example-36d111b3ff4d).\n",
        "\n"
      ]
    },
    {
      "cell_type": "markdown",
      "metadata": {
        "id": "yypACH_oZx_i"
      },
      "source": [
        "### Υπερεκπαίδευση\n",
        "\n",
        "Μπορείτε να πειραματιστείτε ως προς τον έλεγχο της υπερεκπαίδευσης (overfitting) με διάφορους τρόπους. Μεταξύ αυτών μπορούμε να αναφέρουμε τους εξής:\n",
        "- Πρόωρος τερματισμός (early stopping). Μια μέθοδος που τερματίζει την εκπαίδευση αν δεν υπάρχει βελτίωση ως προς τη μετρική απόδοσης που παρακολουθούμε. [tf.keras.callbacks.EarlyStopping](https://www.tensorflow.org/api_docs/python/tf/keras/callbacks/EarlyStoppinghttps://)\n",
        "- Dropout. Μια άλλη τεχνική για τη μείωση της υπερεκπαίδευσης είναι το Dropout. Είναι ένα είδος ομαλοποίησης (regularization) που επιβάλλει στα βάρη του δικτύου να παίρνουν μόνο μικρές τιμές. Εάν εφαρμόσουε dropout σε ένα επίπεδο του δικτύου, τότε ένα ποσοστό των βαρών του γίνεται τυχαία μηδενικό κατά την εκπαίδευση. [Dropout](https://www.tensorflow.org/tutorials/images/classification#dropout)\n",
        "- Επαύξηση δεδομένων. Η υπερεκπαίδευση συνήθως συμβαίνει όταν έχουμε λίγα ή/και πολύ όμοια δεδομένα εκπαίδευσης. Ένας τρόπος να διορθωθεί αυτό το πρόβλημα είναι να αυξήσουμε τα δεδομένα (data augmentation). Το data augmentation δημιουργεί νέα δεδομένα εκπαίδευσης με βάση τα υπάρχοντα εφαρμόζοντας τυχαίους μετασχηματισμούς ώστε να προκύπτουν αληθοφανείς εικόνες. [Data augmentation](https://www.tensorflow.org/tutorials/images/classification#data_augmentation), [ImageDataGenerator](https://www.tensorflow.org/api_docs/python/tf/keras/preprocessing/image/ImageDataGenerator#class_imagedatagenerator)\n",
        "\n",
        "Βλέπε επίσης [Image classification](https://www.tensorflow.org/tutorials/images/classification)."
      ]
    },
    {
      "cell_type": "markdown",
      "metadata": {
        "id": "MBLBjFFFmsUP"
      },
      "source": [
        "### Χρόνος εκπαίδευσης\n",
        "\n",
        "Το TensorFlow 2 προσφέρει νέους ή βελτιώνει διάφορους μηχανισμούς βελτιστοποίησης της εκπαίδευσης. Μεταξύ αυτών έχουμε τους εξής:\n",
        "- Data prefetching (το χρησιμοποιήσαμε παραπάνω)\n",
        "- Data reading parallelization \n",
        "- Map transformation parallelization\n",
        "- Caching\n",
        "- Reducing memory footprint\n",
        "\n",
        "Συμβουλευτείτε για τα παραπάνω το [Better performance with the tf.data API](https://www.tensorflow.org/guide/data_performance)"
      ]
    },
    {
      "cell_type": "markdown",
      "metadata": {
        "id": "s3ddu1ECoCGQ"
      },
      "source": [
        "### Εργαλεία υψηλού επιπέδου\n",
        "\n",
        "Μεταξύ των εργαλείων βελτιστοποίησης υψηλού επιπέδου (high-level) του TensorFlow μπορούμε να αναφέρουμε τα ακόλουθα:\n",
        "\n",
        "- [TensorBoard](https://www.tensorflow.org/tensorboard/get_started) και [What-If Tool](https://www.tensorflow.org/tensorboard/what_if_tool) Επικουρικό εργαλείο οπτικοποίησης/ανάλυσης για τον πειραματισμό στη εκπαίδευση\n",
        "- [tf-explain](https://tf-explain.readthedocs.io/en/latest/) Προσφέρει μεθόδους επεξηγισιμότητας για το tf2\n",
        "- [Keras Tuner](https://github.com/keras-team/keras-tuner) Βελτιστοποίηση υπερπαραμέτρων του Keras στο TensorFlow 2.0\n",
        "- [AutoAugment](https://github.com/tensorflow/models/tree/master/research/autoaugment) Εκμάθηση της πολιτικης επαύξησης από τα δεδομένα"
      ]
    },
    {
      "cell_type": "markdown",
      "metadata": {
        "id": "VNHFNS981Qh0"
      },
      "source": [
        "# Για τις χριστουγεννιάτικες διακοπές\n",
        "\n",
        "## What's next for Deep Learning\n",
        "\n",
        "The Godfathers of AI and 2018 ACM Turing Award winners Geoffrey Hinton, Yann LeCun, and Yoshua Bengio shared a stage in New York on Sunday night at an event organized by the Thirty-Fourth AAAI Conference on Artificial Intelligence (AAAI 2020). The trio of researchers have made deep neural networks a critical component of computing, and in individual talks and a panel discussion they discussed their views on current challenges facing deep learning and where it should be heading."
      ]
    },
    {
      "cell_type": "code",
      "metadata": {
        "id": "ECLw-wy_wGvm"
      },
      "source": [
        "from IPython.display import IFrame\n",
        "IFrame(src='https://www.youtube.com/embed/UX8OubxsY8w', width=640, height=480)"
      ],
      "execution_count": null,
      "outputs": []
    },
    {
      "cell_type": "markdown",
      "metadata": {
        "id": "mwhiplJkzR1W"
      },
      "source": [
        "## Αντίλογος: η κριτική του Schmidhuber για τους LeCun & Bengio & Hinton\n",
        "\n",
        "(Ο Schmidhuber και ο Hochreiter [εισήγαγαν τα LSTM το 1997](https://www.bioinf.jku.at/publications/older/2604.pdf))\n",
        "\n",
        "*Machine learning is the science of credit assignment. The machine learning community itself profits from proper credit assignment to its members. The inventor of an important method should get credit for inventing it. She may not always be the one who popularizes it. Then the popularizer should get credit for popularizing it (but not for inventing it). Relatively young research areas such as machine learning should adopt the honor code of mature fields such as mathematics: if you have a new theorem, but use a proof technique similar to somebody else's, you must make this very clear. If you \"re-invent\" something that was already known, and only later become aware of this, you must at least make it clear later.*\n",
        "\n",
        "*As a case in point, let me now comment on a recent article in [Nature (2015) about \"deep learning\"](http://www.nature.com/nature/journal/v521/n7553/full/nature14539.html) in artificial neural networks (NNs), by LeCun & Bengio & Hinton (LBH for short), three CIFAR-funded collaborators who call themselves the \"deep learning conspiracy\" (e.g., LeCun, 2015). They heavily cite each other. Unfortunately, however, they fail to credit the pioneers of the field, which originated half a century ago. All references below are taken from the recent [deep learning overview](http://www.idsia.ch/~juergen/deep-learning-overview.html) (Schmidhuber, 2015), except for a few papers listed beneath this critique focusing on nine items.*\n",
        "\n",
        "[Read more...](http://people.idsia.ch/~juergen/deep-learning-conspiracy.html)"
      ]
    }
  ]
}