{
  "nbformat": 4,
  "nbformat_minor": 0,
  "metadata": {
    "colab": {
      "name": "Αντίγραφο Άσκηση 2 Εκφώνηση.ipynb",
      "provenance": [],
      "toc_visible": true
    },
    "kernelspec": {
      "display_name": "Python 3.5",
      "language": "python",
      "name": "python3"
    }
  },
  "cells": [
    {
      "cell_type": "markdown",
      "metadata": {
        "id": "hLFXD3IePSyL"
      },
      "source": [
        "# Εργαστηριακή Άσκηση 2. Μη επιβλεπόμενη μάθηση. \n",
        "## Σύστημα συστάσεων βασισμένο στο περιεχόμενο\n",
        "## Σημασιολογική απεικόνιση δεδομένων με χρήση SOM \n",
        "Ημερομηνία εκφώνησης της άσκησης: 23 Νοεμβρίου 2020\n",
        "\n"
      ]
    },
    {
      "cell_type": "code",
      "metadata": {
        "id": "S5wbBzIYnird",
        "colab": {
          "base_uri": "https://localhost:8080/"
        },
        "outputId": "0e05c987-bc5c-4b3d-dd29-b69cf2e3dfbb"
      },
      "source": [
        "!pip install --upgrade pip\n",
        "!pip install --upgrade numpy\n",
        "!pip install --upgrade pandas\n",
        "!pip install --upgrade nltk\n",
        "!pip install --upgrade scikit-learn\n",
        "!pip install --upgrade joblib"
      ],
      "execution_count": 2,
      "outputs": [
        {
          "output_type": "stream",
          "text": [
            "Requirement already satisfied: pip in /usr/local/lib/python3.6/dist-packages (20.3.3)\n",
            "Requirement already satisfied: numpy in /usr/local/lib/python3.6/dist-packages (1.19.4)\n",
            "Requirement already satisfied: pandas in /usr/local/lib/python3.6/dist-packages (1.1.5)\n",
            "Requirement already satisfied: numpy>=1.15.4 in /usr/local/lib/python3.6/dist-packages (from pandas) (1.19.4)\n",
            "Requirement already satisfied: python-dateutil>=2.7.3 in /usr/local/lib/python3.6/dist-packages (from pandas) (2.8.1)\n",
            "Requirement already satisfied: pytz>=2017.2 in /usr/local/lib/python3.6/dist-packages (from pandas) (2018.9)\n",
            "Requirement already satisfied: six>=1.5 in /usr/local/lib/python3.6/dist-packages (from python-dateutil>=2.7.3->pandas) (1.15.0)\n",
            "Requirement already satisfied: nltk in /usr/local/lib/python3.6/dist-packages (3.5)\n",
            "Requirement already satisfied: regex in /usr/local/lib/python3.6/dist-packages (from nltk) (2019.12.20)\n",
            "Requirement already satisfied: click in /usr/local/lib/python3.6/dist-packages (from nltk) (7.1.2)\n",
            "Requirement already satisfied: joblib in /usr/local/lib/python3.6/dist-packages (from nltk) (1.0.0)\n",
            "Requirement already satisfied: tqdm in /usr/local/lib/python3.6/dist-packages (from nltk) (4.41.1)\n",
            "Requirement already satisfied: scikit-learn in /usr/local/lib/python3.6/dist-packages (0.24.0)\n",
            "Requirement already satisfied: numpy>=1.13.3 in /usr/local/lib/python3.6/dist-packages (from scikit-learn) (1.19.4)\n",
            "Requirement already satisfied: joblib>=0.11 in /usr/local/lib/python3.6/dist-packages (from scikit-learn) (1.0.0)\n",
            "Requirement already satisfied: threadpoolctl>=2.0.0 in /usr/local/lib/python3.6/dist-packages (from scikit-learn) (2.1.0)\n",
            "Requirement already satisfied: scipy>=0.19.1 in /usr/local/lib/python3.6/dist-packages (from scikit-learn) (1.4.1)\n",
            "Requirement already satisfied: joblib in /usr/local/lib/python3.6/dist-packages (1.0.0)\n"
          ],
          "name": "stdout"
        }
      ]
    },
    {
      "cell_type": "markdown",
      "metadata": {
        "id": "aViHqlQcPSyP"
      },
      "source": [
        "## Εισαγωγή του Dataset"
      ]
    },
    {
      "cell_type": "markdown",
      "metadata": {
        "id": "2ZVmdDExPSyQ"
      },
      "source": [
        "Το σύνολο δεδομένων με το οποίο θα δουλέψουμε είναι βασισμένο στο [Carnegie Mellon Movie Summary Corpus](http://www.cs.cmu.edu/~ark/personas/). Πρόκειται για ένα dataset με περίπου 40.000 περιγραφές ταινιών. Η περιγραφή κάθε ταινίας αποτελείται από τον τίτλο της, μια ή περισσότερες ετικέτες που χαρακτηρίζουν το είδος της ταινίας και τέλος τη σύνοψη της υπόθεσής της. Αρχικά εισάγουμε το dataset (χρησιμοποιήστε αυτούσιο τον κώδικα, δεν χρειάζεστε το αρχείο csv) στο dataframe `df_data_1`: "
      ]
    },
    {
      "cell_type": "code",
      "metadata": {
        "id": "62SOj46gPSyS"
      },
      "source": [
        "import pandas as pd\n",
        "\n",
        "dataset_url = \"https://drive.google.com/uc?export=download&id=1PdkVDENX12tQliCk_HtUnAUbfxXvnWuG\"\n",
        "df_data_1 = pd.read_csv(dataset_url, sep='\\t',  header=None, quoting=3, error_bad_lines=False)"
      ],
      "execution_count": 3,
      "outputs": []
    },
    {
      "cell_type": "markdown",
      "metadata": {
        "id": "7TAEZGdIPSyW"
      },
      "source": [
        "Κάθε ομάδα θα δουλέψει σε ένα μοναδικό υποσύνολο 5.000 ταινιών (διαφορετικό dataset για κάθε ομάδα) ως εξής\n",
        "\n",
        "1. Κάθε ομάδα έχει έναν αριθμό \"seed\" (φύτρο) που είναι ο ίδιος με τον αριθμό της ομάδας σας: θα τον βρείτε στην κολόνα Α/Α [εδώ](https://docs.google.com/spreadsheets/d/1CD6AtX7YnocXceCELl_XJ06kyRr0YQPhor8dpw012t0/edit?usp=sharing).\n",
        "\n",
        "2. Το data frame `df_data_2` έχει γραμμές όσες και οι ομάδες και 5.000 στήλες. Σε κάθε ομάδα αντιστοιχεί η γραμμή του πίνακα με το `team_seed_number` της. Η γραμμή αυτή θα περιλαμβάνει 5.000 διαφορετικούς αριθμούς που αντιστοιχούν σε ταινίες του αρχικού dataset. \n",
        "\n",
        "3. Στο επόμενο κελί αλλάξτε τη μεταβλητή `team_seed_number` με το Seed της ομάδας σας.\n",
        "\n",
        "4. Τρέξτε τον κώδικα. Θα προκύψουν τα μοναδικά για κάθε ομάδα  titles, categories, catbins, summaries και corpus με τα οποία θα δουλέψετε."
      ]
    },
    {
      "cell_type": "code",
      "metadata": {
        "id": "2POlqDjkPSyY"
      },
      "source": [
        "import numpy as np\n",
        "\n",
        "# βάλτε το seed που αντιστοιχεί στην ομάδα σας\n",
        "team_seed_number = 15\n",
        "\n",
        "movie_seeds_url = \"https://drive.google.com/uc?export=download&id=1EA_pUIgK5Ub3kEzFbFl8wSRqAV6feHqD\"\n",
        "df_data_2 = pd.read_csv(movie_seeds_url, header=None, error_bad_lines=False)\n",
        "\n",
        "# επιλέγεται \n",
        "my_index = df_data_2.iloc[team_seed_number,:].values\n",
        "\n",
        "titles = df_data_1.iloc[:, [2]].values[my_index] # movie titles (string)\n",
        "categories = df_data_1.iloc[:, [3]].values[my_index] # movie categories (string)\n",
        "bins = df_data_1.iloc[:, [4]]\n",
        "catbins = bins[4].str.split(',', expand=True).values.astype(np.float)[my_index] # movie categories in binary form (1 feature per category)\n",
        "summaries =  df_data_1.iloc[:, [5]].values[my_index] # movie summaries (string)\n",
        "corpus = summaries[:,0].tolist() # list form of summaries"
      ],
      "execution_count": 4,
      "outputs": []
    },
    {
      "cell_type": "markdown",
      "metadata": {
        "id": "If66lkwxPSyb"
      },
      "source": [
        "- Ο πίνακας **titles** περιέχει τους τίτλους των ταινιών. Παράδειγμα: 'Sid and Nancy'.\n",
        "- O πίνακας **categories** περιέχει τις κατηγορίες (είδη) της ταινίας υπό τη μορφή string. Παράδειγμα: '\"Tragedy\",  \"Indie\",  \"Punk rock\",  \"Addiction Drama\",  \"Cult\",  \"Musical\",  \"Drama\",  \"Biopic \\[feature\\]\",  \"Romantic drama\",  \"Romance Film\",  \"Biographical film\"'. Παρατηρούμε ότι είναι μια comma separated λίστα strings, με κάθε string να είναι μια κατηγορία.\n",
        "- Ο πίνακας **catbins** περιλαμβάνει πάλι τις κατηγορίες των ταινιών αλλά σε δυαδική μορφή ([one hot encoding](https://hackernoon.com/what-is-one-hot-encoding-why-and-when-do-you-have-to-use-it-e3c6186d008f)). Έχει διαστάσεις 5.000 x 322 (όσες οι διαφορετικές κατηγορίες). Αν η ταινία ανήκει στο συγκεκριμένο είδος η αντίστοιχη στήλη παίρνει την τιμή 1, αλλιώς παίρνει την τιμή 0.\n",
        "- Ο πίνακας **summaries** και η λίστα **corpus** περιλαμβάνουν τις συνόψεις των ταινιών (η corpus είναι απλά ο summaries σε μορφή λίστας). Κάθε σύνοψη είναι ένα (συνήθως μεγάλο) string. Παράδειγμα: *'The film is based on the real story of a Soviet Internal Troops soldier who killed his entire unit  as a result of Dedovschina. The plot unfolds mostly on board of the prisoner transport rail car guarded by a unit of paramilitary conscripts.'*\n",
        "- Θεωρούμε ως **ID** της κάθε ταινίας τον αριθμό γραμμής της ή το αντίστοιχο στοιχείο της λίστας. Παράδειγμα: για να τυπώσουμε τη σύνοψη της ταινίας με `ID=99` (την εκατοστή) θα γράψουμε `print(corpus[99])`."
      ]
    },
    {
      "cell_type": "code",
      "metadata": {
        "id": "k_7A3KXLp0qS",
        "colab": {
          "base_uri": "https://localhost:8080/"
        },
        "outputId": "a2c36db2-4575-4f86-de38-62640336dee9"
      },
      "source": [
        "ID = 99\n",
        "print(titles[ID])\n",
        "print(categories[ID])\n",
        "print(catbins[ID])\n",
        "print(corpus[ID])"
      ],
      "execution_count": 5,
      "outputs": [
        {
          "output_type": "stream",
          "text": [
            "['Congkak']\n",
            "['\"Horror\"']\n",
            "[0. 0. 0. 0. 0. 0. 0. 0. 0. 0. 0. 0. 0. 0. 0. 0. 0. 0. 0. 0. 0. 0. 0. 0.\n",
            " 0. 0. 0. 0. 0. 0. 0. 0. 0. 0. 0. 0. 0. 0. 0. 0. 0. 0. 0. 0. 0. 0. 0. 0.\n",
            " 0. 0. 0. 0. 0. 0. 0. 0. 0. 0. 0. 0. 0. 0. 0. 0. 0. 0. 0. 0. 0. 0. 0. 0.\n",
            " 0. 0. 0. 0. 0. 0. 0. 0. 0. 0. 0. 0. 0. 0. 0. 0. 0. 0. 0. 0. 0. 0. 0. 0.\n",
            " 0. 0. 0. 0. 0. 0. 0. 0. 0. 0. 0. 0. 0. 0. 0. 0. 0. 0. 0. 0. 0. 0. 0. 0.\n",
            " 0. 0. 0. 0. 0. 0. 0. 0. 0. 0. 0. 0. 0. 0. 0. 0. 0. 0. 0. 0. 0. 0. 0. 0.\n",
            " 0. 0. 0. 0. 0. 0. 0. 0. 0. 0. 0. 0. 0. 0. 0. 0. 0. 0. 0. 0. 0. 0. 0. 0.\n",
            " 0. 0. 0. 0. 1. 0. 0. 0. 0. 0. 0. 0. 0. 0. 0. 0. 0. 0. 0. 0. 0. 0. 0. 0.\n",
            " 0. 0. 0. 0. 0. 0. 0. 0. 0. 0. 0. 0. 0. 0. 0. 0. 0. 0. 0. 0. 0. 0. 0. 0.\n",
            " 0. 0. 0. 0. 0. 0. 0. 0. 0. 0. 0. 0. 0. 0. 0. 0. 0. 0. 0. 0. 0. 0. 0. 0.\n",
            " 0. 0. 0. 0. 0. 0. 0. 0. 0. 0. 0. 0. 0. 0. 0. 0. 0. 0. 0. 0. 0. 0. 0. 0.\n",
            " 0. 0. 0. 0. 0. 0. 0. 0. 0. 0. 0. 0. 0. 0. 0. 0. 0. 0. 0. 0. 0. 0. 0. 0.\n",
            " 0. 0. 0. 0. 0. 0. 0. 0. 0. 0. 0. 0. 0. 0. 0. 0. 0. 0. 0. 0. 0. 0. 0. 0.\n",
            " 0. 0. 0. 0. 0. 0. 0. 0. 0. 0.]\n",
            "Kazman is a dedicated husband who, despite his wife Sufiah's protests, decided to buy a bungalow for their family near a lake as a family getaway. Anxious in the new house, Sufiah feels as if someone is watching her. Her daughter Lisa, who would always go downstairs at night to play congkak with someone whom she could only see, compounds her uneasiness. Sufiah throws the congkak in the lake, but is awakened the next night by the sound of the congkak being played again and upon investigation, she sees an old lady playing it. When her daughter disappears, the oldest resident in that area, Pak Tua, comes to the family's rescue and helps in locating the missing family members.\n"
          ],
          "name": "stdout"
        }
      ]
    },
    {
      "cell_type": "markdown",
      "metadata": {
        "id": "UTNgwBfjPSyc"
      },
      "source": [
        "# Εφαρμογή 1. Υλοποίηση συστήματος συστάσεων ταινιών βασισμένο στο περιεχόμενο\n",
        "<img src=\"http://clture.org/wp-content/uploads/2015/12/Netflix-Streaming-End-of-Year-Posts.jpg\" width=\"70%\">"
      ]
    },
    {
      "cell_type": "markdown",
      "metadata": {
        "id": "rnA2RP8GPSyf"
      },
      "source": [
        "Η πρώτη εφαρμογή που θα αναπτύξετε θα είναι ένα [σύστημα συστάσεων](https://en.wikipedia.org/wiki/Recommender_system) ταινιών βασισμένο στο περιεχόμενο (content based recommender system). Τα συστήματα συστάσεων στοχεύουν στο να προτείνουν αυτόματα στο χρήστη αντικείμενα από μια συλλογή τα οποία ιδανικά θέλουμε να βρει ενδιαφέροντα ο χρήστης. Η κατηγοριοποίηση των συστημάτων συστάσεων βασίζεται στο πώς γίνεται η επιλογή (filtering) των συστηνόμενων αντικειμένων. Οι δύο κύριες κατηγορίες είναι η συνεργατική διήθηση (collaborative filtering) όπου το σύστημα προτείνει στο χρήστη αντικείμενα που έχουν αξιολογηθεί θετικά από χρήστες που έχουν παρόμοιο με αυτόν ιστορικό αξιολογήσεων και η διήθηση με βάση το περιεχόμενο (content based filtering), όπου προτείνονται στο χρήστη αντικείμενα με παρόμοιο περιεχόμενο (με βάση κάποια χαρακτηριστικά) με αυτά που έχει προηγουμένως αξιολογήσει θετικά.\n",
        "\n",
        "Το σύστημα συστάσεων που θα αναπτύξετε θα βασίζεται στο **περιεχόμενο** και συγκεκριμένα στις συνόψεις των ταινιών (corpus). \n"
      ]
    },
    {
      "cell_type": "markdown",
      "metadata": {
        "id": "DD5KuSKrxQ8I"
      },
      "source": [
        "## Μετατροπή σε TFIDF\n",
        "\n",
        "Το πρώτο βήμα θα είναι λοιπόν να μετατρέψετε το corpus σε αναπαράσταση tf-idf:"
      ]
    },
    {
      "cell_type": "code",
      "metadata": {
        "id": "s5YP6XCZPSyh",
        "colab": {
          "base_uri": "https://localhost:8080/"
        },
        "outputId": "60bc1dd3-7b29-4d19-ec05-ada23e6c6543"
      },
      "source": [
        "import re\n",
        "import nltk\n",
        "import string\n",
        "nltk.download('stopwords')\n",
        "nltk.download('wordnet')\n",
        "from nltk.corpus import stopwords\n",
        "\n",
        "\n",
        "def preprocess(s) : \n",
        "  stemmer = nltk.stem.PorterStemmer()\n",
        "  #lemmatizer = nltk.stem.WordNetLemmatizer()\n",
        "  table = str.maketrans('', '', string.punctuation)\n",
        "  s = (s.lower()).translate(table)\n",
        "  s = re.sub(r'\\d+', 'num', s)\n",
        "  words = s.split()\n",
        "  return \" \".join([stemmer.stem(word) for word in words])\n",
        "  #return \" \".join([lemmatizer.lemmatize(word) for word in words])\n",
        "\n",
        "stopwords = stopwords.words('english') + list(string.punctuation)\n",
        "\n",
        "preprocessed_stopwords = preprocess(\" \".join(stopwords)).split() + ['becau']\n",
        "\n",
        "\n",
        "\n"
      ],
      "execution_count": 195,
      "outputs": [
        {
          "output_type": "stream",
          "text": [
            "[nltk_data] Downloading package stopwords to /root/nltk_data...\n",
            "[nltk_data]   Package stopwords is already up-to-date!\n",
            "[nltk_data] Downloading package wordnet to /root/nltk_data...\n",
            "[nltk_data]   Package wordnet is already up-to-date!\n"
          ],
          "name": "stderr"
        }
      ]
    },
    {
      "cell_type": "code",
      "metadata": {
        "id": "IiaoxLjtk8IR"
      },
      "source": [
        "from sklearn.feature_extraction.text import TfidfVectorizer\r\n",
        "\r\n",
        "vectorizer = TfidfVectorizer(min_df=2, max_df=0.5, norm='l1',\r\n",
        "                             stop_words=preprocessed_stopwords, preprocessor=preprocess)\r\n",
        "vectorizer.fit(corpus)\r\n",
        "corpus_tf_idf = vectorizer.transform(corpus)"
      ],
      "execution_count": 311,
      "outputs": []
    },
    {
      "cell_type": "code",
      "metadata": {
        "id": "n7pzfu6tXOXV"
      },
      "source": [
        "from sklearn.feature_extraction.text import CountVectorizer\r\n",
        "\r\n",
        "vec = CountVectorizer().fit(corpus)\r\n",
        "bag_of_words = vec.transform(corpus)\r\n",
        "sum_words = bag_of_words.sum(axis=0) \r\n",
        "words_freq = [(word, sum_words[0, idx]) for word, idx in     vec.vocabulary_.items()]\r\n",
        "words_freq =sorted(words_freq, key = lambda x: x[1], reverse=True)"
      ],
      "execution_count": 69,
      "outputs": []
    },
    {
      "cell_type": "code",
      "metadata": {
        "id": "ABpmcj5MXdVc"
      },
      "source": [
        "words_freq[120:150]"
      ],
      "execution_count": 269,
      "outputs": []
    },
    {
      "cell_type": "code",
      "metadata": {
        "id": "e1iepgEXxzDI"
      },
      "source": [
        "vectorizer.get_feature_names()"
      ],
      "execution_count": 269,
      "outputs": []
    },
    {
      "cell_type": "markdown",
      "metadata": {
        "id": "H-uRZK3EPSyl"
      },
      "source": [
        "Η συνάρτηση [TfidfVectorizer](http://scikit-learn.org/stable/modules/generated/sklearn.feature_extraction.text.TfidfVectorizer.html) όπως καλείται εδώ **δεν είναι βελτιστοποιημένη**. Οι επιλογές των μεθόδων και παραμέτρων της μπορεί να έχουν **δραματική επίδραση στην ποιότητα των συστάσεων** και είναι διαφορετικές για κάθε dataset. Επίσης, οι επιλογές αυτές έχουν πολύ μεγάλη επίδραση και στη **διαστατικότητα και όγκο των δεδομένων**. Η διαστατικότητα των δεδομένων με τη σειρά της θα έχει πολύ μεγάλη επίδραση στους **χρόνους εκπαίδευσης**, ιδιαίτερα στη δεύτερη εφαρμογή της άσκησης. Ανατρέξτε στα notebooks του εργαστηρίου και στο [FAQ](https://docs.google.com/document/d/1hou1gWXQuHAB7J2aV44xm_CtAWJ63q6Cu1V6OwyL_n0/edit?usp=sharing) των ασκήσεων.\n"
      ]
    },
    {
      "cell_type": "code",
      "metadata": {
        "id": "y_Cw0brpnisF",
        "colab": {
          "base_uri": "https://localhost:8080/"
        },
        "outputId": "601a6349-fc24-41e6-bbb6-2cc13c81954a"
      },
      "source": [
        "print(corpus_tf_idf.shape)"
      ],
      "execution_count": 312,
      "outputs": [
        {
          "output_type": "stream",
          "text": [
            "(5000, 16769)\n"
          ],
          "name": "stdout"
        }
      ]
    },
    {
      "cell_type": "markdown",
      "metadata": {
        "id": "3LsmvSyVykTU"
      },
      "source": [
        "## Υλοποίηση του συστήματος συστάσεων\n",
        "\n",
        "Το σύστημα συστάσεων που θα παραδώσετε θα είναι μια συνάρτηση `content_recommender` με δύο ορίσματα `target_movie` και `max_recommendations`. Στην `target_movie` περνάμε το ID μιας ταινίας-στόχου για την οποία μας ενδιαφέρει να βρούμε παρόμοιες ως προς το περιεχόμενο (τη σύνοψη) ταινίες, `max_recommendations` στο πλήθος.\n",
        "Υλοποιήστε τη συνάρτηση ως εξής: \n",
        "- για την ταινία-στόχο, από το `corpus_tf_idf` υπολογίστε την [ομοιότητα συνημιτόνου](https://en.wikipedia.org/wiki/Cosine_similarity) της με όλες τις ταινίες της συλλογής σας\n",
        "- με βάση την ομοιότητα συνημιτόνου που υπολογίσατε, δημιουργήστε ταξινομημένο πίνακα από το μεγαλύτερο στο μικρότερο, με τα indices (`ID`) των ταινιών. Παράδειγμα: αν η ταινία με index 1 έχει ομοιότητα συνημιτόνου με 3 ταινίες \\[0.2 1 0.6\\] (έχει ομοιότητα 1 με τον εαύτό της) ο ταξινομημένος αυτός πίνακας indices θα είναι \\[1 2 0\\].\n",
        "- Για την ταινία-στόχο εκτυπώστε: id, τίτλο, σύνοψη, κατηγορίες (categories)\n",
        "- Για τις `max_recommendations` ταινίες (πλην της ίδιας της ταινίας-στόχου που έχει cosine similarity 1 με τον εαυτό της) με τη μεγαλύτερη ομοιότητα συνημιτόνου (σε φθίνουσα σειρά), τυπώστε σειρά σύστασης (1 πιο κοντινή, 2 η δεύτερη πιο κοντινή κλπ), id, τίτλο, σύνοψη, κατηγορίες (categories)\n"
      ]
    },
    {
      "cell_type": "code",
      "metadata": {
        "id": "mVeo6iscH6mU"
      },
      "source": [
        "from sklearn.metrics.pairwise import cosine_similarity\r\n",
        "\r\n",
        "def content_recommender(target_movie, max_recommendations):\r\n",
        "  target_corpus = corpus_tf_idf[target_movie]\r\n",
        "  N = corpus_tf_idf.shape[0]\r\n",
        "  cos_sims = np.zeros(N)\r\n",
        "  for i in range(N):\r\n",
        "    cos_sims[i] = cosine_similarity(target_corpus, corpus_tf_idf[i])\r\n",
        "  cos_sims_ind = np.argsort(cos_sims)[::-1]\r\n",
        "  print(\"Target movie:\\nId: {0}, Title: {1}, Summary: {2}, Categories: {3}\".format(\r\n",
        "        target_movie, titles[target_movie][0], summaries[target_movie][0], categories[target_movie][0]))\r\n",
        "  print(\"Recommendations:\")\r\n",
        "  i = 1\r\n",
        "  for x in cos_sims_ind[1:max_recommendations]:\r\n",
        "    print(\"{0}, Id: {1}, Title: {2}, Summary: {3}, Categories: {4}\".format(\r\n",
        "          i, x, titles[x][0], summaries[x][0], categories[x][0]))\r\n",
        "    i += 1\r\n"
      ],
      "execution_count": 19,
      "outputs": []
    },
    {
      "cell_type": "code",
      "metadata": {
        "colab": {
          "base_uri": "https://localhost:8080/"
        },
        "id": "ZRBC-tNcMh6k",
        "outputId": "0f28947d-9e9f-4c9d-8811-585a7227d4a6"
      },
      "source": [
        "content_recommender(120, 10)"
      ],
      "execution_count": 313,
      "outputs": [
        {
          "output_type": "stream",
          "text": [
            "Target movie:\n",
            "Id: 120, Title: Babylon 5: The Gathering, Summary:  In the earth year 2257, a multitude of humans and non-humans gather deep in neutral space at a new station, Babylon 5, which has recently become operational. Babylon 5 was built as a neutral venue for discussing and resolving issues between the five major spacefaring races of the galaxy, the humans, Narn, Centauri, Minbari and Vorlons. Commander Jeffrey Sinclair is in overall charge of the station. As the crew awaits the arrival of the fourth and final alien ambassador, Ambassador Kosh Naranek from the Vorlon Empire, a transport ship arrives from Earth, bearing Lyta Alexander, a human telepath who joins the station crew, and Del Varner, a civilian. Ambassador Kosh arrives two days ahead of schedule, and is on board the station less than a minute when he suddenly falls ill, apparently from poisoning. Babylon 5's chief medical officer, Dr. Kyle, conducts a medical investigation and seeks to prevent Kosh's death, while Security Chief Michael Garibaldi conducts a security investigation. Worried that, if Kosh dies, the Vorlons will attack and destroy the station, Dr. Kyle and Lt. Cmdr. Takashima persuade Lyta to perform an unauthorized mind scan on the unconscious Kosh. As she conducts the scan, Lyta sees Commander Sinclair poisoning the Ambassador. Lyta accuses Sinclair of attempted murder. A meeting of Babylon 5's Council, made up of delegates from all five races, resolves to extradite the Commander to the Vorlon homeworld for trial. Sinclair is told that he will be deported in twelve hours. Garibaldi comes to suspect Del Varner might have been involved in Kosh's poisoning. When he enters Varner's quarters, however, he discovers Varner dead in a fish tank. Lyta enters the medical lab, where she begins adjusting some of the settings that are keeping Kosh alive; when Dr. Kyle realizes what she's doing, he tries to stop her, and she attacks him. At that moment, the real Lyta Alexander enters the room; her double escapes. Upon further investigation in Varner's quarters, Garibaldi learns that Varner had been smuggling illegal items between systems, and that he most recently had gone to the Antares sector to acquire a changeling net; a device that can make an individual appear to look like somebody else. The crew realizes that Kosh had not been poisoned by Sinclair when he arrived at the station, but rather that he had been poisoned by someone who was using the changeling net to imitate Sinclair. Since the use of such a device would put out a lot of energy, Takashima uses her scanners to pinpoint an area of the station with a high concentration of unidentified energy use. Sinclair and Garibaldi head for that part of the station, just as a Vorlon squadron arrives in the vicinity of the station to pick up Sinclair for his voyage to the Vorlon homeworld. Sinclair and Garibaldi confront the mysterious assailant. Garibaldi is injured in the firefight and Sinclair faces the assassin himself. The changeling net is disabled, revealing the assailant to be a Minbari assassin. The assassin is a member of the Minbari warrior caste, and wanted to discredit Sinclair as retribution for Sinclair's role in the Earth-Minbari war ten years earlier. Sinclair asks the assassin why he did it; the assassin replies, \"There is a hole in your mind.\" Sinclair, being informed that the assassin has triggered an explosive charge, manages to get away just before an explosion rips a hole in the station's hull, throwing the station off its axis, and beginning to tear the station apart from the inside. Takashima uses the station stabilizers to reestablish the station's axis. The Vorlon delegation, now satisfied that Sinclair is innocent, drops all charges against him. In the station's garden, Sinclair reveals to Delenn what the Minbari assassin had said about the \"hole\" in Sinclair's mind. Delenn claims that it is just an old Minbari insult. Sinclair, however, tells her that he had fought in the climactic battle of the Earth-Minbari war, and that there is a twenty-four hour period in the climactic battle, just before the Minbari surrendered, that he can't account for. Takashima declares Babylon 5 open for business., Categories: \"Science Fiction\",  \"Adventure\",  \"Television movie\",  \"Mystery\",  \"Drama\",  \"Whodunit\"\n",
            "Recommendations:\n",
            "1, Id: 1335, Title: Hissatsu: Sure Death, Summary: A group of common merchants in Edo  in the mid-1800s is really a band of assassins available for hire. Each assassin has his or her own unique killing style. But one assassin is killing other assassins, and the survivors must find out who is doing it before they are all killed. The rogue killer is referred to as \"Copper\" in the film, a reference to the assassin's gruesome calling card, which is a copper coin left in the mouth of each victim. The ultimate realization that \"Copper\" commands an army of assassins simply means that the climax involves an orgy of assassinations., Categories: \"Drama\"\n",
            "2, Id: 3323, Title: Closely Watched Trains, Summary: Germany is losing at all her fronts at the end of the Second World War. Young Miloš Hrma is engaged as an unpaid employee in a small railway station. The stationmaster, an enthusiastic pigeon-breeder, has a kind wife, but is envious of the train dispatcher Hubička's success with women. Miloš holds a platonic love for young conductor Máša. The experienced Hubička tries to explain to him the \"matters of love\" and discovers that Miloš is a virgin. The idyll of the railway station is disturbed by the arrival of the councillor, Zednicek, a Nazi supporter. Máša spends the night with Miloš, but he finds no success and, the next day, he attempts suicide. He is saved, and the doctor explains to him that ejaculatio praecox is normal at Miloš's age. The doctor recommends that Miloš seek the assistance of an experienced woman. During the nightshift, Hubička flirts with the telegraphist, Zdenička, and imprints her buttocks with the office's rubber stamps. Her mother complains to Hubička's superiors. The scandal prevents the stationmaster from becoming inspector. The Germans are nervous, since their trains are attacked and blown up by the partisans. An attack is also planned for this station. Young artiste Viktoria Freie delivers a bomb to the station. At Hubička's request, Viktoria also helps Miloš to \"resolve\" his problem with virginity. The encouraged Miloš sets up the booby-trap himself. The endeavor is successful, but the young man also dies during the course of events., Categories: \"World cinema\",  \"Comedy-drama\",  \"Coming of age\",  \"Comedy\",  \"War film\",  \"Drama\",  \"Czechoslovak New Wave\"\n",
            "3, Id: 995, Title: I as in Icarus, Summary: The film's plot is based on the Kennedy assassination and subsequent investigation. The film begins with the assassination of President Marc Jarry, who is about to be inaugurated for a second six-year term of office. Henri Volney, state attorney and member of the commission charged with investigating the assassination  refuses to agree to the commission's final findings. The film portrays the initial controversy about this, as well as Volney and his staff's reopening of the investigation., Categories: \"Thriller\"\n",
            "4, Id: 3554, Title: Star Trek: Hidden Frontier, Summary: Based in the Briar Patch  introduced in Star Trek: Insurrection, on Deep Space 12, a space station in orbit of the planet Ba'ku. It follows the daily life of several officers serving on board the station and a few of the ships stationed there. Early in the series, an advanced species, the Grey, are introduced and become the primary villain, with a story arc that spans the entire series. Later, secondary villains are introduced including an Andorian trader and later the Tholians along with a man named Siroc. Mysterious ancient alien artifacts become a key focus of the series. The crew interacts with many established species from Star Trek, including Andorians, Ba'ku, Klingons, Romulans, Son'a, and Tzenkethi., Categories: \"Fan film\"\n",
            "5, Id: 2475, Title: Executive Action, Summary: The movie starts with a voice over stating that in an interview, President Lyndon Johnson was asked about the Kennedy Assassination and the Warren Commission report: he said he doubted seriously the findings of the Commission. The narration ends with the mention that the segment did not run on television and was cut from a program about Johnson.  The movie opens in June 1963 at a gathering of shadowy industrial, political and former US intelligence figures who are giving vent to their growing dissatisfaction with the Kennedy administration. The scene takes place in the plush surroundings of the lead conspirator, Robert Foster , presumably a Texas oil baron. He and the others are trying to convince Ferguson , a white-suited and mustachioed figure — a powerful oil magnate — to back their plans for an assassination of Kennedy. He remains unconvinced, saying \"I don't like such schemes. They're only tolerable when necessary, and only permissible when they work.\" James Farrington , a black ops specialist, is also among the group. The film then cuts to an unknown location in the desert where a shooting team is doing target practice at a moving object. One of the shooters says that they can only guarantee the operation's success by slowing down the target to 15&nbsp;mph. The film intercuts between conversations among the lead conspirators, Farrington and Foster, and preparations for the assassination. The approval of the man in the white suit is crucial to the conspirators, although Farrington proceeds to organize two shooting teams in anticipation that he will change his mind. We then see sequences of the man in the white suit watching contemporary newsreel and becoming clearly concerned at Kennedy's increasingly 'liberal' direction: action on civil rights, Nuclear Test Ban Treaty, nuclear disarmament. The deciding moment comes when he's watching an anti-Kennedy news report on the deteriorating situation in South Vietnam. It is followed by Kennedy's 'suicidal' October 1963 decision  to withdraw all US advisors from Vietnam by the end of 1965, effectively ending America's direct involvement in the Vietnam War. He picks up the phone to tell Foster he now fully supports their project. While the motives of the man in the white suit are clear, the film attempts to cast light on the murky paranoid fears of the conspirators through dialogues between Foster and Farrington. They are primarily concerned about the future of America and the security of ruling class white people around the world. Foster forecasts the population of the third world in 2000 at 7 billion, 'Most of them yellow, brown or black. All hungry and all determined to love; they'll swarm out of their breeding grounds into Europe and America'. He sees Vietnam as an opportunity to control the developing world and reduce its population to 550 million: 'I've seen the data,' says Foster, adding that they can then apply the same 'birth-control' methods to unwanted groups in the US: poor whites, blacks and Latinos. At the end of the film a photo collage is shown of 18 witnesses: all but two of whom died from unnatural causes within three years of the assassination. A voice-over says that an actuary of the British newspaper The Sunday Times calculated the probability that all these people who witnessed the assassination would die within that period of time to be 1000 trillion to one.The number given in The Sunday Times article on February 26, 1967 was in fact 100,000 trillion to one. In response to a request by the House Select Committee on Assassinations in 1978 for a copy of the actuarial study, the legal manager for the Times replied that the article was \"based on a careless journalistic mistake and should not have been published. This was realized by The Sunday Times editorial staff after the first edition — the one which goes to the United States and which I believe you have — had gone out, and later editions were amended … We asked [the actuary] the wrong question … what were the odds against fifteen named people out of the population of the United States dying within a short period of time … [instead of] the odds against fifteen of those included in the Warren Commission index dying within a given period,\" which they said would have been \"much lower.\" HSCA Hearings, vol. 4, p. 463–465. Robert M. Musen, vice president and senior actuary at Metropolitan Life Insurance Company, estimated that the odds of 15 people out of 2,479 in the Warren Commission index dying within a three-year period, assuming a median age of 40, would be 98.16 percent, or one out of 1.2. Assuming a median age of 35, the number would be 57.09 percent, or one out of 1.75. Vincent Bugliosi, Reclaiming History , p. 1013–14.  The film postulates that Lee Harvey Oswald is being steered to become the conspiracy's 'patsy'. The conspirators use a double of Oswald to shadow him in the weeks leading up to the assassination to leave behind a trail that the authorities can easily follow and link Oswald to the crime. The film makes no explicit link to US government agencies and the conspiracy, although the professionalism of Farrington's shooting team clearly indicates they have worked for the CIA on special assignments. The film implies that most of the law enforcement and government agencies were not involved, but just grossly inept: no special measures were taken for the president's safety in Dallas; there is no communication between the FBI, CIA and Secret Service on possible security risks; even the head of the Secret Service stays in Washington during the visit. This explanation helps understand why the authorities were so keen to pin the blame on Oswald, the rogue assassin, who is 'served up' by the conspirators to the authorities as an easy escape from any accusations of their own negligence. The post-assassination conspiracy is also covered in the film. Farrington tells the head of the shooting teams, who at this point don't know who their target is, that after this job he and his men will never have to work again. All the assassins are black ops professionals trained never to talk about operations they are involved in. Each one is offered $25,000 per year for the next five years provided the operation's cover isn't blown. If the cover remains intact in five years time  'every man jack of them'  will receive a further $100,000 into their Swiss bank accounts. The head of the shooting teams then tells Farrington: 'You just told me who we're going to hit.', Categories: \"Crime Fiction\",  \"Action/Adventure\",  \"Drama\",  \"Political thriller\",  \"Action\",  \"Political drama\"\n",
            "6, Id: 1027, Title: Death Line, Summary: The film's plot concerns a family of cannibals descended from Victorian railway workers dwelling in the disused lines of the London Underground tube network. The last member of the family frequently visits the neighbouring Russell Square and Holborn stations to pick off passengers for food, then takes them back to the gruesome 'pantry' at an incomplete station. When the cannibal kidnaps and kills an important politician, he is hunted by a detective as well as an American college student and his English girlfriend who were the last to see the victim in the tube station. Donald Pleasence and Norman Rossington star as the two investigating police inspectors. At the climax, when finally cornered and with his wife and the last of his family members dead from disease, the cannibal screams a corrupted form of \"Mind the doors!\", having picked it up parrot-fashion from the guards on the Underground trains. Christopher Lee appears as a shady MI5 agent whom the detectives meet during their investigation., Categories: \"Cult\",  \"Mystery\",  \"Horror\",  \"Slasher\"\n",
            "7, Id: 3190, Title: ¡Qué viva México!, Summary:  There is no evidence that Eisenstein had any specific idea for a film about or set in Mexico before his actual arrival there in December 1930, although he began shooting almost immediately. The Sinclairs had made it clear that they were expecting Eisenstein to concentrate on visual imagery, and anything by way of a plot would be secondary: they were looking for an artistic travelogue. Furthermore, although the film was to have been completed by April 1931, it wasn't until about that time that Eisenstein even settled on the basic idea of a multi-part film, an anthology with each part focussed on a different subculture of the Mexican peoples. Only later still would this idea resolve itself into the concept of a six-part film encompassing the history of the nation, its people and its societal evolution to the present time. Specific details and the contents of each section, and how to connect them, would evolve further over the ensuing months while Eisenstein, Alexandrov and Tisse shot tens of thousands of feet of film. Toward the latter part of 1931, the film was finally structured, in Eisenstein's mind, to consist of four primary sections plus a brief prologue and epilogue.Geduld. The modern theoretician Bordwell also claims that each episode would have its own distinct style, be \"dedicated to a different Mexican artist\", and would \"also base itself on some primal element \".<ref name203}} The soundtrack in each case would feature a different Mexican folk song. ;Maguey About the pulque industry under the rule of Porfirio Díaz. It follows a tragic romance between peon Sebastian and his bride Maria. Maria is held captive and abused by Sebastian's boss, an hacendado, at which point Sebastian and his fellow workmen devise revenge. They are eventually chased, shot down and those captured are buried in the sand and trampled by riders. Maria breaks free and holds Sebastian's dead body to her. ;Epilogue Showing Mexico at the time of filming, and the celebration of the Day of the Dead. Evidence indicates that Eisenstein secretly planned to compose this segment of satirical shots of fat priests, pompous generalissimos, girl scouts and football players, at least for the version to be shown in the U.S.S.R., Categories: \"World cinema\"\n",
            "8, Id: 659, Title: The Big Broadcast, Summary: Radio-singer Bing Crosby  is not very serious about his career. His chronic tardiness and his affair with the notorious Mona Lowe  has become an issue at station WADX. After Mona cheats on him, the despondent singer meets Texas oil man Leslie McWhinney , who has also been wronged by a woman. Soon after, Anita Rogers , the former fiancée of McWhinney, falls in love with Crosby. Meanwhile, station manager George Burns  is plagued by the addled conversation of his stenographer, Gracie Allen  and eventually loses the radio station. McWhinney buys the station in order to help out Crosby and Anita, whom he still loves. McWhinney comes up with the idea of putting on a \"big broadcast\" of stars to pull the station out of debt. Mona returns on the scene and threatens the budding romance between Crosby and Anita, as well as the station's upcoming big broadcast. McWhinney tries to find a phonograph record to replace the absent Crosby, and ends up impersonating Crosby on the air. The singer returns and takes the microphone in mid-song. Crosby, who actually has been feigning irresponsibility to bring McWhinney and Anita together, succeeds both in reuniting the former lovers and in taming Mona., Categories: \"Musical\",  \"Comedy\",  \"Black-and-white\"\n",
            "9, Id: 2687, Title: Memphis Belle, Summary: In May 1943, the crew of the Memphis Belle, a B-17 of the US Army Air Force stationed in England, are grounded while their aircraft is being repaired and they wait for the return of their comrades from a daylight bombing mission over Europe. The airbase is under the command of Colonel Craig Harriman , a no-nonsense, practically stoic leader tasked in keeping the pressure on Nazi targets. All of the aircraft arrive back at the airfield, however the last bomber starts to suffer engine and landing gear trouble moments before landing. It belly lands and skids along the airfield for several hundred yards and explodes, killing all aboard. Visiting the airbase is Army publicist Lt. Colonel Bruce Derringer . Derringer is sent to interview and publicize the Belle crew in preparation of completing their twenty-five missions requirement to complete their tour of duty. Since they will be the first to accomplish this feat in the whole air force, the base holds a dance celebration in their honor. The ten-man crew of the Memphis Belle is: *Captain Dennis Dearborn , Pilot. A humorless and socially inept perfectionist, Dennis worked for his family's furniture business before enlisting. He named the aircraft after his girlfriend and keeps a black-and-white snapshot of her in the cockpit. He is openly teased by his crew for his unwavering professional attitude during preflight checks, and inflight briefings which the crew have reviewed dozens of times. Regardless, he proves to be a competent and capable leader. *1st Lt. Luke Sinclair , Co-Pilot. The carefree former lifeguard believes himself to be undervalued by Dennis and desires to get his hands on a gun at least once - which he does, with terrible consequences - but proves himself at a critical moment during the mission. *Lt. Phil Lowenthal , Navigator. Phil is nervous before their final mission and, convinced that he is doomed to die, drinks too much at the party and distributes his possessions to the rest of the crew. *Lt. Val Kozlowski , Bombardier and Medic. While everyone believes the confident, self-assured Val to be a doctor, it is later revealed that he attended only two weeks of medical school before enlisting. *Sgt. Danny \"Danny Boy\" Daly , Radio Operator. An earnest Irish-American, Danny was editor of the school paper, a valedictorian, and joined up right after graduating college. He is often seen taking pictures of his crewmates with a small camera which he frequently takes on missions, and writes poetry in a notebook. When his crewmates pick on a group of rookie airmen, frightening one of them to the point of vomiting, he shows compassion by reassuring the airman, also a fellow radio operator, he'll survive. *Sgt. Virgil \"Virgin\" Hoogesteger , Top Turret Gunner and Flight Engineer. Virge worked for his family's restaurant and plans to open a chain of identical restaurants after the war despite his crew-mate's warnings that such an unheard of enterprise could never succeed. He is constantly teased for not having lost his virginity, hence his nickname. However, he manages to spend the evening with a young Englishwoman he met at the party. *Sgt. Richard \"Rascal\" Moore , Ball Turret Gunner. The diminutive, often crude Rascal considers himself a ladies' man  and delights in teasing his crew mates, especially Virgil and his virginity. He becomes increasingly nervous of the ball turret's tendency to jam during combat. *Sgt. Eugene \"Genie\" McVey , Right Waist Gunner. A religious and superstitious Irish-American, Genie carries a St. Anthony's medal on missions for good luck, and has a tendency to lose it. His fellow waist gunner, Jack, often teases him for his superstitious nature, calling him \"Genie the Weenie\". *Sgt. Jack Bocci , Left Waist Gunner. A hot-tempered Chicago hoodlum, Jack appears to look out only for himself but proves surprisingly kind to his fellow waist gunner Genie. He's always eager for a fight, and will often sweet talk to his gun whom he affectionately calls \"Mona\". *Sgt. Clay Busby , Tail Gunner. After his father lost the family farm in a poker game, the laconic Clay earned money playing the piano in a New Orleans cathouse. A talented singer, he performs \"Danny Boy\"  at the party before their final mission. A gambler himself, Clay is frequently asked by his crewmates what the odds are if they survive the mission that day, odds which he seldom predicts favorably. The morning after the party, the officers of the squadron are informed that their target for the day is the city of Bremen, Germany. Almost immediately, the experienced officers in the squadron begin to worry. Earlier, it was established that the target was previously attacked a month earlier, and a quarter of the squadron was lost. After a delay due to poor weather over the target, the Memphis Belle and her squadron are airborne. After assembling their formation and collecting their escort of North American P-51 Mustang fighters, the aircraft fly toward their target only to face constant harassment by defending German Messerschmitt Bf 109 fighters. Eventually the escorting fighters, low on fuel, turn away and the bombers continue alone. Back at the base, Harriman and Derringer have harsh words after the latter starts decorating the mess hall for a celebration upon the Belles return. Derringer accuses Harriman of being cold-hearted and concerned only with advancing his military career. In response, Harriman brings Derringer into his office and angrily dumps a pile of letters on the desk - replies received from families of lost airmen that he himself had written to. The anguished voices of those families are heard over actual black-and-white footage, taken by both sides of the air combat over Europe. Meanwhile, the bombers have suffered significant losses on their mission. The German interceptors focus their attacks on the aircraft leading the formation. The first lead plane, Windy City loses its engines and explodes right in front of the Belle. The bomber manages to fly through the debris unscathed, but frightens a few of the crew, especially Phil who becomes more terrified when he sees blood on the nose window. Afterwards, they rather callously discuss how the Windy City crew died so quickly, and reminisce about a few of her crew members whose faces they know, but names they can't remember. Their memories are soon filled with grief as they silently contemplate the dangerous nature of their duties. More attacks ensue, and the replacement lead plane, the C Cup, is forced to return to base when its nose is crippled by a Bf 109. The crew of the Belle watch in horror when they see a body fall out of the stricken aircraft without a parachute. Now it is the Belles turn to take over as lead aircraft of the formation. Finding the target  obscured by a smokescreen, Dennis aborts the bomb run and orders the formation to circle again in spite of heavy anti-aircraft fire and the extreme possibility of suffering more casualties to the squadron. Meanwhile, Luke has been itching to do something other than sit in the co-pilot's seat and watch the battle around him. Before they took off he secured an agreement with Clay to fire the tail gunners gun when things got hot. His motives are in the hopes the women back home would find him more desirable if he had actually killed a Nazi. When the moment arrives, Luke get's his wish and shoots down a Messerschmitt. But, his moment of triumph turns to tragedy when his defeated target crashes into the Mother & Country, the same flight of airmen the Belle crew had teased the night before, slicing the bomber in half. In horror and desperation, Danny tries to raise the stricken aircraft on the radio. The only response heard are their screams of horror, while Luke, struck with immense guilt, watches them plunge to their deaths. On the second run, Val spots the assembly plant through a gap in the smokescreen and the bombers successfully hit their target but, once clear of the anti-aircraft fire, they are again engaged by fighters. Rascal's ball turret jams more than once during the mission, and each time it happens he calls for help from Virgil. The turret is eventually destroyed, but Rascal is spared thanks to his safety strap, and Virgil. The attacks continue, blasting a hole in the fuselage, tearing off a large chunk of the tail, and setting the number four engine on fire. Danny is injured in the attacks, which puts Val in a difficult position when the crew enlists his medical \"expertise\" to save the injured radioman. Meanwhile, Dennis and Luke skillfully drop the aircraft into a steep dive and put the fire out, despite great risk of losing the aircraft. Back at base, the remaining squadron aircraft return from their mission, much to the dismay of the ground crews, without the Belle. They wait anxiously for the celebrated aircraft and her crew to return. As the pilots prepare the Belle for landing, Dennis orders them to toss their guns and ammo overboard to lighten their weight, while Val and the enlisted crewmen discuss what to do with Danny. Val, being the only officer with medical knowledge, recommends dumping Danny over German occupied territory believing he'd had have a better chance of survival if found by German soldiers who would take care of him as a prisoner of war, but the remaining crewmen vehemently object doing such an act. Phil interjects and pleads with Val not to throw Danny out, to which he agrees. He cares for Danny all the way back to base. When Dennis orders the landing gear dropped, only one wheel descends due to electrical failure caused by battle damage. With time running out, Virgil and Jack try to lower the immobile wheel manually with a crank. Soon Phil joins them, having gained new confidence after surviving the mission. He takes over the crank and manages to lower the wheel inches from touchdown. The ground crew, and a slightly humbled Lt. Colonel Derringer, race to greet them with jubilant cheers. The crew exits the battered plane, finally by Dennis, who discovers a bottle of champagne that Danny had smuggled on board. He shows it to the crew, acting as though he is going to reprimand them, and then surprises his crew by joyously cracking the bottle and spraying it in celebration. In the final scene they celebrate their victory with Danny on an ambulance. The film closes with a dedication to all airmen, friend or foe, who fought in the skies above Europe during World War II., Categories: \"Combat Films\",  \"War film\",  \"Drama\",  \"Japanese Movies\",  \"Airplanes and airports\"\n"
          ],
          "name": "stdout"
        }
      ]
    },
    {
      "cell_type": "code",
      "metadata": {
        "colab": {
          "base_uri": "https://localhost:8080/",
          "height": 219
        },
        "id": "HEy8g3dNVGLf",
        "outputId": "8f6c71ff-e598-4e3e-ce3a-3e437c6cb1ce"
      },
      "source": [
        "corpus[659]"
      ],
      "execution_count": 298,
      "outputs": [
        {
          "output_type": "execute_result",
          "data": {
            "application/vnd.google.colaboratory.intrinsic+json": {
              "type": "string"
            },
            "text/plain": [
              "'Radio-singer Bing Crosby  is not very serious about his career. His chronic tardiness and his affair with the notorious Mona Lowe  has become an issue at station WADX. After Mona cheats on him, the despondent singer meets Texas oil man Leslie McWhinney , who has also been wronged by a woman. Soon after, Anita Rogers , the former fiancée of McWhinney, falls in love with Crosby. Meanwhile, station manager George Burns  is plagued by the addled conversation of his stenographer, Gracie Allen  and eventually loses the radio station. McWhinney buys the station in order to help out Crosby and Anita, whom he still loves. McWhinney comes up with the idea of putting on a \"big broadcast\" of stars to pull the station out of debt. Mona returns on the scene and threatens the budding romance between Crosby and Anita, as well as the station\\'s upcoming big broadcast. McWhinney tries to find a phonograph record to replace the absent Crosby, and ends up impersonating Crosby on the air. The singer returns and takes the microphone in mid-song. Crosby, who actually has been feigning irresponsibility to bring McWhinney and Anita together, succeeds both in reuniting the former lovers and in taming Mona.'"
            ]
          },
          "metadata": {
            "tags": []
          },
          "execution_count": 298
        }
      ]
    },
    {
      "cell_type": "code",
      "metadata": {
        "id": "AYFKGAS_hzqv",
        "outputId": "b4c95e54-9331-4c41-a257-d692a753e145",
        "colab": {
          "base_uri": "https://localhost:8080/"
        }
      },
      "source": [
        "categories[2603]"
      ],
      "execution_count": 239,
      "outputs": [
        {
          "output_type": "execute_result",
          "data": {
            "text/plain": [
              "array(['\"Sports\",  \"Gross out\",  \"Gross-out film\",  \"Comedy\",  \"Slapstick\"'],\n",
              "      dtype=object)"
            ]
          },
          "metadata": {
            "tags": []
          },
          "execution_count": 239
        }
      ]
    },
    {
      "cell_type": "code",
      "metadata": {
        "colab": {
          "base_uri": "https://localhost:8080/"
        },
        "id": "QshfnfWttmEe",
        "outputId": "8bfa839b-1968-4d85-a8e2-21b6cf3721e7"
      },
      "source": [
        "ID = 42\r\n",
        "print(titles[ID])\r\n",
        "print(categories[ID])\r\n",
        "print(catbins[ID])\r\n",
        "print(corpus[ID])"
      ],
      "execution_count": 119,
      "outputs": [
        {
          "output_type": "stream",
          "text": [
            "['Bombay Calling']\n",
            "['\"Culture & Society\",  \"Documentary\"']\n",
            "[0. 0. 0. 0. 0. 0. 0. 0. 0. 0. 0. 0. 0. 0. 0. 0. 0. 0. 0. 0. 0. 0. 0. 0.\n",
            " 0. 0. 0. 0. 0. 0. 0. 0. 0. 0. 0. 0. 0. 0. 0. 0. 0. 0. 0. 0. 0. 0. 0. 0.\n",
            " 0. 0. 0. 0. 0. 0. 0. 0. 0. 0. 0. 0. 0. 0. 0. 0. 0. 0. 0. 0. 0. 0. 0. 0.\n",
            " 0. 0. 0. 0. 0. 0. 0. 0. 0. 0. 0. 0. 0. 0. 0. 0. 0. 0. 0. 0. 1. 0. 0. 0.\n",
            " 0. 0. 0. 0. 0. 1. 0. 0. 0. 0. 0. 0. 0. 0. 0. 0. 0. 0. 0. 0. 0. 0. 0. 0.\n",
            " 0. 0. 0. 0. 0. 0. 0. 0. 0. 0. 0. 0. 0. 0. 0. 0. 0. 0. 0. 0. 0. 0. 0. 0.\n",
            " 0. 0. 0. 0. 0. 0. 0. 0. 0. 0. 0. 0. 0. 0. 0. 0. 0. 0. 0. 0. 0. 0. 0. 0.\n",
            " 0. 0. 0. 0. 0. 0. 0. 0. 0. 0. 0. 0. 0. 0. 0. 0. 0. 0. 0. 0. 0. 0. 0. 0.\n",
            " 0. 0. 0. 0. 0. 0. 0. 0. 0. 0. 0. 0. 0. 0. 0. 0. 0. 0. 0. 0. 0. 0. 0. 0.\n",
            " 0. 0. 0. 0. 0. 0. 0. 0. 0. 0. 0. 0. 0. 0. 0. 0. 0. 0. 0. 0. 0. 0. 0. 0.\n",
            " 0. 0. 0. 0. 0. 0. 0. 0. 0. 0. 0. 0. 0. 0. 0. 0. 0. 0. 0. 0. 0. 0. 0. 0.\n",
            " 0. 0. 0. 0. 0. 0. 0. 0. 0. 0. 0. 0. 0. 0. 0. 0. 0. 0. 0. 0. 0. 0. 0. 0.\n",
            " 0. 0. 0. 0. 0. 0. 0. 0. 0. 0. 0. 0. 0. 0. 0. 0. 0. 0. 0. 0. 0. 0. 0. 0.\n",
            " 0. 0. 0. 0. 0. 0. 0. 0. 0. 0.]\n",
            "Bombay Calling delves into the lives of a group of young Indians working outsourced jobs at a call center in Bombay. Without focusing too much on the politics, it profiles several characters as they train for and attempt to sell phone services to clients in the UK. The film shows both sides of the impact of globalization on India - the economic benefits, but also the break with tradition and loss of innocence the characters face. By the end of the film, the telemarketing venture has failed but the characters are resilient. For this reason, the film has been compared to Startup.com.http://www.eye.net/eye/issue/issue_08.10.06/film/onscreen_2.php\n"
          ],
          "name": "stdout"
        }
      ]
    },
    {
      "cell_type": "code",
      "metadata": {
        "colab": {
          "base_uri": "https://localhost:8080/"
        },
        "id": "PKaEkVNat0OR",
        "outputId": "7320bcf5-ba04-4885-e3ff-3fbd51a364ed"
      },
      "source": [
        "content_recommender(ID, 10)"
      ],
      "execution_count": 314,
      "outputs": [
        {
          "output_type": "stream",
          "text": [
            "Target movie:\n",
            "Id: 42, Title: Bombay Calling, Summary: Bombay Calling delves into the lives of a group of young Indians working outsourced jobs at a call center in Bombay. Without focusing too much on the politics, it profiles several characters as they train for and attempt to sell phone services to clients in the UK. The film shows both sides of the impact of globalization on India - the economic benefits, but also the break with tradition and loss of innocence the characters face. By the end of the film, the telemarketing venture has failed but the characters are resilient. For this reason, the film has been compared to Startup.com.http://www.eye.net/eye/issue/issue_08.10.06/film/onscreen_2.php, Categories: \"Culture & Society\",  \"Documentary\"\n",
            "Recommendations:\n",
            "1, Id: 4495, Title: Tantric Tourists, Summary: A group of American Tourists go to India in search of enlightenment. The main character in the film is group leader Laurie Handlers, a larger-than-life guru from New York City who practices and teaches tantra and leads a small group of travelers on their first trip to India. The film is a classic mythical journey with the characters learning from their travels. Although superficially the film may appear to be a mockumentary, all participants are real people and nothing was staged in the filming. As such the film can be termed a fly-on-the-wall film and has been compared to This Is Spinal Tap for its outrageous and hilarious characters., Categories: \"Documentary\"\n",
            "2, Id: 4233, Title: The Girlfriend Experience, Summary: A drama set in the days leading up to the 2008 Presidential election, and centered on a high-end Manhattan call girl meeting the challenges of her boyfriend, her clients, and her work. Chelsea  is a New York escort who specializes in offering the girlfriend experience. She finds that lately her clients are spending less and less on her services, and are troubled by the financial crisis, a topic they raise frequently in her company. She is also interviewed by a journalist, who quizzes her about her work and personal life. She goes from client to client performing her services., Categories: \"Drama\",  \"Experimental film\",  \"Comedy\",  \"Slice of life story\",  \"Indie\"\n",
            "3, Id: 735, Title: Something Like a War, Summary: While examining India's family planning or population control programs, it also focuses on the coerced sterilizations  of women in India and on the opinions of Indian women of these programs and the traditional family life of Indian women. The film documents the state of reproductive rights for women in India that juxtaposes the detachment of science next to a new form of oppression for women., Categories: \"Gender Issues\",  \"Culture & Society\"\n",
            "4, Id: 3310, Title: 1993 Bombay, March 12, Summary: Scriptwriter Babu Janardhanan tells it like it is. His stories are hard hitting and mostly based on real life incidents and he tackles the issue head on. Now he has turned director with Malayalam film Bombay March 12, set against the serial bomb blasts that rocked the metropolis in 1993. The film makes the point that a person not even remotely connected with the event can become a victim just because of his name and the religion he believes in. The story is about Sameer , a sweeper with the Alapuzha Municipality, who is always on tenterhooks because he is on the police radar whenever there is trouble or an act of terror occurs. Later it is revealed that his brother-in-law Shahjahan  was suspected to be part of the terror team that had planted bombs in Bombay  in 1993 and was later killed in an encounter with the Army in Andhra Pradesh. The narrative moves back and forth, slowly connecting Sameer with Shahjahan who had gone to Bombay as an IT professional, from whom much was expected by his family. The innocent youngster gets entangled in the web of a terror group and goes into hiding fearing the safety of his loved ones. The storytelling is complicated and you need to be focused as every scene exposes yet another layer of the story, something Babu Janardhanan did as a writer in the Lijo Jose Pellissery directed City of God recently. But there is always a niggling thought at the back of our minds that the point he is trying to make – that 'one bad egg can spoil the whole basket' – could have been conveyed just as well in a more simple and linear narrative. Mammootty plays one of his most subdued roles in recent times. Roma as his wife Abida may look to be a mismatch for Mammootty but the age difference is justified in the story. Sadiq, who appears as Shahjahan's father, is the surprise package of the film. Unni Mukundan as Shahjahan has the role of a parallel hero and does full justice to the confidence that the director has reposed in him., Categories: \"Thriller\",  \"Mystery\",  \"Family Film\",  \"Action\",  \"Drama\"\n",
            "5, Id: 3634, Title: School Master, Summary: The story revolves mostly around Producer-cum-Director B.R.Pantulu, who plays the role of School Master and his wife. Uncommon about Balkrishna is that he plays a positive role in the film. Bustling actor Narasimharaju is also there. Film has some sentimental and emotional moments and laughable moments too. It has some classroom incidents. Film also has some village politics at the start, which continues to influence the school master character throughout the film. The Film teaches life lessons.http://www.imdb.com/title/tt0250714/reviews-1, Categories: \"Drama\"\n",
            "6, Id: 2048, Title: The Gables Mystery, Summary: Police are called to investigate a murder at a country house named The Gables where they find a number of strange characters living., Categories: \"Crime Fiction\"\n",
            "7, Id: 3793, Title: You Shoot, I Shoot, Summary: Bart , a professional contract killer, is requested by his clients to film his killings. He hires aspiring film director Cheun  for the filming., Categories: \"Action/Adventure\",  \"Comedy\",  \"World cinema\",  \"Chinese Movies\"\n",
            "8, Id: 416, Title: Hawayein, Summary: \"Hawayein-Winds Change But The Scars Of History Remain\" is a film which emerges from the consequences of the Operation Blue Star & is based on the aftermath of Indira Gandhi’s assassination and the nationwide 1984 Anti-Sikh riots & the subsequent victimization of the people in Punjab  in the years that followed. This film depicts real life events & most of the situations shown in this film are authentic seen through the eyes of the central protagonist ‘Sarabjit’. It is the story of his journey from innocence to disillusionment, from being a simple, romantic, music loving student, to becoming one of the \"most wanted terrorists\" in the country. The Indian Government called them terrorists but many call them martyrs. This film is an honest exploration of the reasons which led to the angst of the youth of Punjab & the turmoils suffered by their families. It is the story of a time :- #When innocents were forced to rebel against injustice & labeled terrorists by the existing government. #When political motivations created terrorists out of common criminals. #When the nations watchdogs became greedy, heartless money-making murdererous machines. #When the sound of winds created unspeakable fear in the minds of people in Punjab. #A time created by an impotent administration & judiciary & the silence of the intelligentsia. #A time which saw the beginning of cross border terrorism in India. #It exposes the real reason of Pakistan participating in & actively aiding terrorism in Punjab. This film is the first of its kind subjects to be made and has been crafted within commercial parameters. The production values of this film are on par with most major commercial Bollywood films. It has been shot in more than 41 authentic & picturesque locations in Punjab, Himachal Pradesh, Delhi & on massive sets in Kamalistan Studio- Mumbai. No effort has been spared in the making of this film. This film also shattered previous stereotypes of Sikh characters shown on the Indian screen. It has been shot on 35mm cinemascope using the latest camera Arri 435 & was released with Dolby Digital sound. It was slated for an April release & has become a much hyped media event and a memorable celluloid explosion on the Hindi screen. Beautiful locales, memorable performances, authentic costumes are the main assets of this ambitious project. This film is a brave attempt to present history in a realistic manner on a colorful tapestry woven with all human emotions of romance, tragedy, humour all presented together on a platter of wonderful music., Categories: \"Historical Epic\",  \"Drama\"\n",
            "9, Id: 2354, Title: Futile Attraction, Summary: Futile Attraction is about the filming of a reality dating show in which the main characters are so incompatible that the film crew have to manipulate and lie to them in order to keep them together. Randal  is a telemarketer with a passion for telephones who has never quite broken away from his controlling mother; Germaine  is an activist who agrees to be filmed in order to publicise the threat a new dam poses to her favourite stream. During the filming, presenter Dudley , who is willing to do anything to get himself looking good on camera, clashes with Anne , who prefers to ignore their boss's ever-changing scripting instructions in preference to a more objective look at the reality of the relationship., Categories: \"Romantic comedy\",  \"Romance Film\",  \"Mockumentary\",  \"World cinema\",  \"Comedy\"\n"
          ],
          "name": "stdout"
        }
      ]
    },
    {
      "cell_type": "markdown",
      "metadata": {
        "id": "8IvHkTUHyu78"
      },
      "source": [
        "## Βελτιστοποίηση\n",
        "\n",
        "Αφού υλοποιήσετε τη συνάρτηση `content_recommender` χρησιμοποιήστε τη για να βελτιστοποιήσετε την `TfidfVectorizer`. Συγκεκριμένα, αρχικά μπορείτε να δείτε τι επιστρέφει το σύστημα για τυχαίες ταινίες-στόχους και για ένα μικρό `max_recommendations` (2 ή 3). Αν σε κάποιες ταινίες το σύστημα μοιάζει να επιστρέφει σημασιολογικά κοντινές ταινίες σημειώστε το `ID` τους. Δοκιμάστε στη συνέχεια να βελτιστοποιήσετε την `TfidfVectorizer` για τα συγκεκριμένα `ID` ώστε να επιστρέφονται σημασιολογικά κοντινές ταινίες για μεγαλύτερο αριθμό `max_recommendations`. Παράλληλα, όσο βελτιστοποιείτε την `TfidfVectorizer`, θα πρέπει να λαμβάνετε καλές συστάσεις για μεγαλύτερο αριθμό τυχαίων ταινιών. Μπορείτε επίσης να βελτιστοποιήσετε τη συνάρτηση παρατηρώντας πολλά φαινόμενα που το σύστημα εκλαμβάνει ως ομοιότητα περιεχομένου ενώ επί της ουσίας δεν είναι επιθυμητό να συνυπολογίζονται (δείτε σχετικά το [FAQ](https://docs.google.com/document/d/1hou1gWXQuHAB7J2aV44xm_CtAWJ63q6Cu1V6OwyL_n0/edit?usp=sharing)). Ταυτόχρονα, μια άλλη κατεύθυνση της βελτιστοποίησης είναι να χρησιμοποιείτε τις παραμέτρους του `TfidfVectorizer` έτσι ώστε να μειώνονται οι διαστάσεις του Vector Space Model μέχρι το σημείο που θα αρχίσει να εμφανίζονται επιπτώσεις στην ποιότητα των συστάσεων. \n",
        "\n",
        "\n"
      ]
    },
    {
      "cell_type": "markdown",
      "metadata": {
        "id": "NPVK7Z5c1p5F"
      },
      "source": [
        "## Επεξήγηση επιλογών και ποιοτική ερμηνεία\n",
        "\n",
        "Σε markdown περιγράψτε πώς προχωρήσατε στις επιλογές σας για τη βελτιστοποίηση της `TfidfVectorizer`. Επίσης σε markdown δώστε 10 παραδείγματα (IDs) από τη συλλογή σας που επιστρέφουν καλά αποτελέσματα μέχρι `max_recommendations` (5 και παραπάνω) και σημειώστε συνοπτικά ποια είναι η θεματική που ενώνει τις ταινίες.\n",
        "\n",
        "Δείτε [εδώ](https://pastebin.com/raw/ZEvg5t3z) ένα παράδειγμα εξόδου του βελτιστοποιημένου συστήματος συστάσεων για την ταίνία [\"Q Planes\"](https://en.wikipedia.org/wiki/Q_Planes) με την κλήση της συνάρτησης για κάποιο seed `content_recommender(529,3)`. Είναι φανερό ότι η κοινή θεματική των ταινιών είναι τα αεροπλάνα, οι πτήσεις, οι πιλότοι, ο πόλεμος."
      ]
    },
    {
      "cell_type": "markdown",
      "metadata": {
        "id": "4irg4K-IPSym"
      },
      "source": [
        "## Tip: persistence αντικειμένων με joblib.dump\n",
        "\n",
        "H βιβλιοθήκη [joblib](https://pypi.python.org/pypi/joblib) της Python δίνει κάποιες εξαιρετικά χρήσιμες ιδιότητες στην ανάπτυξη κώδικα: pipelining, παραλληλισμό, caching και variable persistence. Τις τρεις πρώτες ιδιότητες τις είδαμε στην πρώτη άσκηση. Στην παρούσα άσκηση θα μας φανεί χρήσιμη η τέταρτη, το persistence των αντικειμένων. Συγκεκριμένα μπορούμε με:\n",
        "\n",
        "```python\n",
        "joblib.dump(my_object, 'my_object.pkl') \n",
        "```\n",
        "\n",
        "να αποθηκεύσουμε οποιοδήποτε αντικείμενο-μεταβλητή (εδώ το `my_object`) απευθείας πάνω στο filesystem ως αρχείο, το οποίο στη συνέχεια μπορούμε να ανακαλέσουμε ως εξής:\n",
        "\n",
        "```python\n",
        "my_object = joblib.load('my_object.pkl')\n",
        "```\n",
        "\n",
        "Μπορούμε έτσι να ανακαλέσουμε μεταβλητές ακόμα και αφού κλείσουμε και ξανανοίξουμε το notebook, χωρίς να χρειαστεί να ακολουθήσουμε ξανά όλα τα βήματα ένα - ένα για την παραγωγή τους, κάτι ιδιαίτερα χρήσιμο αν αυτή η διαδικασία είναι χρονοβόρα.\n",
        "\n",
        "Ας αποθηκεύσουμε το `corpus_tf_idf` και στη συνέχεια ας το ανακαλέσουμε."
      ]
    },
    {
      "cell_type": "code",
      "metadata": {
        "id": "aESOPYQaPSyo",
        "scrolled": true,
        "outputId": "eb0120ec-c9c0-4109-c586-e488ef5a63ca",
        "colab": {
          "base_uri": "https://localhost:8080/"
        }
      },
      "source": [
        "import joblib\n",
        "joblib.dump(corpus_tf_idf, 'corpus_tf_idf7.pkl') "
      ],
      "execution_count": 315,
      "outputs": [
        {
          "output_type": "execute_result",
          "data": {
            "text/plain": [
              "['corpus_tf_idf7.pkl']"
            ]
          },
          "metadata": {
            "tags": []
          },
          "execution_count": 315
        }
      ]
    },
    {
      "cell_type": "markdown",
      "metadata": {
        "id": "7_rAEj5ZPSy1"
      },
      "source": [
        "\n",
        "\n",
        "Μπορείτε με ένα απλό `!ls` να δείτε ότι το αρχείο `corpus_tf_idf.pkl` υπάρχει στο filesystem σας (== persistence):"
      ]
    },
    {
      "cell_type": "code",
      "metadata": {
        "id": "ZhwXmTEIPSy3",
        "scrolled": true
      },
      "source": [
        "!ls -lh"
      ],
      "execution_count": null,
      "outputs": []
    },
    {
      "cell_type": "markdown",
      "metadata": {
        "id": "cey5AbkO475S"
      },
      "source": [
        "και μπορούμε να τα διαβάσουμε με `joblib.load`"
      ]
    },
    {
      "cell_type": "code",
      "metadata": {
        "id": "DSJPTKY8PSyu"
      },
      "source": [
        "corpus_tf_idf = joblib.load('corpus_tf_idf0.pkl')"
      ],
      "execution_count": 123,
      "outputs": []
    },
    {
      "cell_type": "markdown",
      "metadata": {
        "id": "zHOQtO83PSy9"
      },
      "source": [
        "# Εφαρμογή 2.  Τοπολογική και σημασιολογική απεικόνιση της ταινιών με χρήση SOM\n",
        "<img src=\"https://i.imgur.com/Z4FdurD.jpg\" width=\"60%\">"
      ]
    },
    {
      "cell_type": "markdown",
      "metadata": {
        "id": "UB_clmizPSy-"
      },
      "source": [
        "## Δημιουργία dataset\n",
        "Στη δεύτερη εφαρμογή θα βασιστούμε στις τοπολογικές ιδιότητες των Self Organizing Maps (SOM) για να φτιάξουμε ενά χάρτη (grid) δύο διαστάσεων όπου θα απεικονίζονται όλες οι ταινίες της συλλογής της ομάδας με τρόπο χωρικά συνεκτικό ως προς το περιεχόμενο και κυρίως το είδος τους (ο παραπάνω χάρτης είναι ενδεικτικός, δεν αντιστοιχεί στο dataset μας). \n",
        "\n",
        "Η `build_final_set` αρχικά μετατρέπει την αραιή αναπαράσταση tf-idf της εξόδου της `TfidfVectorizer()` σε πυκνή (η [αραιή αναπαράσταση](https://en.wikipedia.org/wiki/Sparse_matrix) έχει τιμές μόνο για τα μη μηδενικά στοιχεία). \n",
        "\n",
        "Στη συνέχεια ενώνει την πυκνή `dense_tf_idf` αναπαράσταση και τις binarized κατηγορίες `catbins` των ταινιών ως επιπλέον στήλες (χαρακτηριστικά). Συνεπώς, κάθε ταινία αναπαρίσταται στο Vector Space Model από τα χαρακτηριστικά του TFIDF και τις κατηγορίες της.\n",
        "\n",
        "Τέλος, δέχεται ένα ορισμα για το πόσες ταινίες να επιστρέψει, με default τιμή όλες τις ταινίες (5000). Αυτό είναι χρήσιμο για να μπορείτε αν θέλετε να φτιάχνετε μικρότερα σύνολα δεδομένων ώστε να εκπαιδεύεται ταχύτερα το SOM."
      ]
    },
    {
      "cell_type": "code",
      "metadata": {
        "id": "U-FDDOkQPSzA"
      },
      "source": [
        "def build_final_set(doc_limit = 5000, tf_idf_only=False):\n",
        "    # convert sparse tf_idf to dense tf_idf representation\n",
        "    dense_tf_idf = corpus_tf_idf.toarray()[0:doc_limit,:]\n",
        "    if tf_idf_only:\n",
        "        # use only tf_idf\n",
        "        final_set = dense_tf_idf\n",
        "    else:\n",
        "        # append the binary categories features horizontaly to the (dense) tf_idf features\n",
        "        final_set = np.hstack((dense_tf_idf, catbins[0:doc_limit,:]))\n",
        "        # η somoclu θέλει δεδομένα σε float32\n",
        "    return np.array(final_set, dtype=np.float32)"
      ],
      "execution_count": null,
      "outputs": []
    },
    {
      "cell_type": "code",
      "metadata": {
        "id": "aF1B62UbPSzF"
      },
      "source": [
        "final_set = build_final_set()"
      ],
      "execution_count": null,
      "outputs": []
    },
    {
      "cell_type": "markdown",
      "metadata": {
        "id": "KjvPPENS_dYL"
      },
      "source": [
        "Τυπώνουμε τις διαστάσεις του τελικού dataset μας. Χωρίς βελτιστοποίηση του TFIDF θα έχουμε περίπου 50.000 χαρακτηριστικά."
      ]
    },
    {
      "cell_type": "code",
      "metadata": {
        "id": "fvEgNn-L-jEw"
      },
      "source": [
        "final_set.shape"
      ],
      "execution_count": null,
      "outputs": []
    },
    {
      "cell_type": "markdown",
      "metadata": {
        "id": "Om7PoyDVCqis"
      },
      "source": [
        "Με βάση την εμπειρία σας στην προετοιμασία των δεδομένων στην επιβλεπόμενη μάθηση, υπάρχει κάποιο βήμα προεπεξεργασίας που θα μπορούσε να εφαρμοστεί σε αυτό το dataset; "
      ]
    },
    {
      "cell_type": "markdown",
      "metadata": {
        "id": "8tikdip0PSzQ"
      },
      "source": [
        "## Εκπαίδευση χάρτη SOM\n",
        "\n",
        "Θα δουλέψουμε με τη βιβλιοθήκη SOM [\"Somoclu\"](http://somoclu.readthedocs.io/en/stable/index.html). Εισάγουμε τις somoclu και matplotlib και λέμε στη matplotlib να τυπώνει εντός του notebook (κι όχι σε pop up window)."
      ]
    },
    {
      "cell_type": "code",
      "metadata": {
        "id": "oX9rzxGSPSzR"
      },
      "source": [
        "# install somoclu\n",
        "!pip install --upgrade somoclu\n",
        "# import sompoclu, matplotlib\n",
        "import somoclu\n",
        "import matplotlib\n",
        "# we will plot inside the notebook and not in separate window\n",
        "%matplotlib inline"
      ],
      "execution_count": null,
      "outputs": []
    },
    {
      "cell_type": "markdown",
      "metadata": {
        "id": "EqBfn0ijPSzX"
      },
      "source": [
        "Καταρχάς διαβάστε το [function reference](http://somoclu.readthedocs.io/en/stable/reference.html) του somoclu. Θα δoυλέψουμε με χάρτη τύπου planar, παραλληλόγραμμου σχήματος νευρώνων με τυχαία αρχικοποίηση (όλα αυτά είναι default). Μπορείτε να δοκιμάσετε διάφορα μεγέθη χάρτη ωστόσο όσο ο αριθμός των νευρώνων μεγαλώνει, μεγαλώνει και ο χρόνος εκπαίδευσης. Για το training δεν χρειάζεται να ξεπεράσετε τα 100 epochs. Σε γενικές γραμμές μπορούμε να βασιστούμε στις default παραμέτρους μέχρι να έχουμε τη δυνατότητα να οπτικοποιήσουμε και να αναλύσουμε ποιοτικά τα αποτελέσματα. Ξεκινήστε με ένα χάρτη 10 x 10, 100 epochs training και ένα υποσύνολο των ταινιών (π.χ. 2000). Χρησιμοποιήστε την `time` για να έχετε μια εικόνα των χρόνων εκπαίδευσης. Ενδεικτικά, με σωστή κωδικοποίηση tf-idf, μικροί χάρτες για λίγα δεδομένα (1000-2000) παίρνουν γύρω στο ένα λεπτό ενώ μεγαλύτεροι χάρτες με όλα τα δεδομένα μπορούν να πάρουν 10-15 λεπτά ή και περισσότερο.\n"
      ]
    },
    {
      "cell_type": "markdown",
      "metadata": {
        "id": "ntd2GE9SaHiS"
      },
      "source": [
        "\n",
        "## Best matching units\n",
        "\n",
        "Μετά από κάθε εκπαίδευση αποθηκεύστε σε μια μεταβλητή τα best matching units (bmus) για κάθε ταινία. Τα bmus μας δείχνουν σε ποιο νευρώνα ανήκει η κάθε ταινία. Προσοχή: η σύμβαση των συντεταγμένων των νευρώνων είναι (στήλη, γραμμή) δηλαδή το ανάποδο από την Python. Με χρήση της [np.unique](https://docs.scipy.org/doc/numpy-1.13.0/reference/generated/numpy.unique.html) (μια πολύ χρήσιμη συνάρτηση στην άσκηση) αποθηκεύστε τα μοναδικά best matching units και τους δείκτες τους (indices) προς τις ταινίες. Σημειώστε ότι μπορεί να έχετε λιγότερα μοναδικά bmus από αριθμό νευρώνων γιατί μπορεί σε κάποιους νευρώνες να μην έχουν ανατεθεί ταινίες. Ως αριθμό νευρώνα θα θεωρήσουμε τον αριθμό γραμμής στον πίνακα μοναδικών bmus.\n"
      ]
    },
    {
      "cell_type": "markdown",
      "metadata": {
        "id": "grzqcyHyaKdg"
      },
      "source": [
        "\n",
        "## Ομαδοποίηση (clustering)\n",
        "\n",
        "Τυπικά, η ομαδοποίηση σε ένα χάρτη SOM προκύπτει από το unified distance matrix (U-matrix): για κάθε κόμβο υπολογίζεται η μέση απόστασή του από τους γειτονικούς κόμβους. Εάν χρησιμοποιηθεί μπλε χρώμα στις περιοχές του χάρτη όπου η τιμή αυτή είναι χαμηλή (μικρή απόσταση) και κόκκινο εκεί που η τιμή είναι υψηλή (μεγάλη απόσταση), τότε μπορούμε να πούμε ότι οι μπλε περιοχές αποτελούν clusters και οι κόκκινες αποτελούν σύνορα μεταξύ clusters.\n",
        "\n",
        "To somoclu δίνει την επιπρόσθετη δυνατότητα να κάνουμε ομαδοποίηση των νευρώνων χρησιμοποιώντας οποιονδήποτε αλγόριθμο ομαδοποίησης του scikit-learn. Στην άσκηση θα χρησιμοποιήσουμε τον k-Means. Για τον αρχικό σας χάρτη δοκιμάστε ένα k=20 ή 25. Οι δύο προσεγγίσεις ομαδοποίησης είναι διαφορετικές, οπότε περιμένουμε τα αποτελέσματα να είναι κοντά αλλά όχι τα ίδια.\n"
      ]
    },
    {
      "cell_type": "markdown",
      "metadata": {
        "id": "2nupuqcuaMe3"
      },
      "source": [
        "\n",
        "## Αποθήκευση του SOM\n",
        "\n",
        "Επειδή η αρχικοποίηση του SOM γίνεται τυχαία και το clustering είναι και αυτό στοχαστική διαδικασία, οι θέσεις και οι ετικέτες των νευρώνων και των clusters θα είναι διαφορετικές κάθε φορά που τρέχετε τον χάρτη, ακόμα και με τις ίδιες παραμέτρους. Για να αποθηκεύσετε ένα συγκεκριμένο som και clustering χρησιμοποιήστε και πάλι την `joblib`. Μετά την ανάκληση ενός SOM θυμηθείτε να ακολουθήσετε τη διαδικασία για τα bmus.\n"
      ]
    },
    {
      "cell_type": "markdown",
      "metadata": {
        "id": "ejX0Qs18aRHU"
      },
      "source": [
        "\n",
        "## Οπτικοποίηση U-matrix, clustering και μέγεθος clusters\n",
        "\n",
        "Για την εκτύπωση του U-matrix χρησιμοποιήστε τη `view_umatrix` με ορίσματα `bestmatches=True` και `figsize=(15, 15)` ή `figsize=(20, 20)`. Τα διαφορετικά χρώματα που εμφανίζονται στους κόμβους αντιπροσωπεύουν τα διαφορετικά clusters που προκύπτουν από τον k-Means. Μπορείτε να εμφανίσετε τη λεζάντα του U-matrix με το όρισμα `colorbar`. Μην τυπώνετε τις ετικέτες (labels) των δειγμάτων, είναι πολύ μεγάλος ο αριθμός τους.\n",
        "\n",
        "Για μια δεύτερη πιο ξεκάθαρη οπτικοποίηση του clustering τυπώστε απευθείας τη μεταβλητή `clusters`.\n",
        "\n",
        "Τέλος, χρησιμοποιώντας πάλι την `np.unique` (με διαφορετικό όρισμα) και την `np.argsort` (υπάρχουν και άλλοι τρόποι υλοποίησης) εκτυπώστε τις ετικέτες των clusters (αριθμοί από 0 έως k-1) και τον αριθμό των νευρώνων σε κάθε cluster, με φθίνουσα ή αύξουσα σειρά ως προς τον αριθμό των νευρώνων. Ουσιαστικά είναι ένα εργαλείο για να βρίσκετε εύκολα τα μεγάλα και μικρά clusters. \n",
        "\n",
        "Ακολουθεί ένα μη βελτιστοποιημένο παράδειγμα για τις τρεις προηγούμενες εξόδους:\n",
        "\n",
        "<img src=\"https://image.ibb.co/i0tsfR/umatrix_s.jpg\" width=\"35%\">\n",
        "<img src=\"https://image.ibb.co/nLgHEm/clusters.png\" width=\"35%\">\n",
        "\n"
      ]
    },
    {
      "cell_type": "markdown",
      "metadata": {
        "id": "fMO_KcQYaTv-"
      },
      "source": [
        "\n",
        "## Σημασιολογική ερμηνεία των clusters\n",
        "\n",
        "Προκειμένου να μελετήσουμε τις τοπολογικές ιδιότητες του SOM και το αν έχουν ενσωματώσει σημασιολογική πληροφορία για τις ταινίες διαμέσου της διανυσματικής αναπαράστασης με το tf-idf και των κατηγοριών, χρειαζόμαστε ένα κριτήριο ποιοτικής επισκόπησης των clusters. Θα υλοποιήσουμε το εξής κριτήριο: Λαμβάνουμε όρισμα έναν αριθμό (ετικέτα) cluster. Για το cluster αυτό βρίσκουμε όλους τους νευρώνες που του έχουν ανατεθεί από τον k-Means. Για όλους τους νευρώνες αυτούς βρίσκουμε όλες τις ταινίες που τους έχουν ανατεθεί (για τις οποίες αποτελούν bmus). Για όλες αυτές τις ταινίες τυπώνουμε ταξινομημένη τη συνολική στατιστική όλων των ειδών (κατηγοριών) και τις συχνότητές τους. Αν το cluster διαθέτει καλή συνοχή και εξειδίκευση, θα πρέπει κάποιες κατηγορίες να έχουν σαφώς μεγαλύτερη συχνότητα από τις υπόλοιπες. Θα μπορούμε τότε να αναθέσουμε αυτήν/ές την/τις κατηγορία/ες ως ετικέτες κινηματογραφικού είδους στο cluster.\n",
        "\n",
        "Μπορείτε να υλοποιήσετε τη συνάρτηση αυτή όπως θέλετε. Μια πιθανή διαδικασία θα μπορούσε να είναι η ακόλουθη:\n",
        "\n",
        "1. Ορίζουμε συνάρτηση `print_categories_stats` που δέχεται ως είσοδο λίστα με ids ταινιών. Δημιουργούμε μια κενή λίστα συνολικών κατηγοριών. Στη συνέχεια, για κάθε ταινία επεξεργαζόμαστε το string `categories` ως εξής: δημιουργούμε μια λίστα διαχωρίζοντας το string κατάλληλα με την `split` και αφαιρούμε τα whitespaces μεταξύ ετικετών με την `strip`. Προσθέτουμε τη λίστα αυτή στη συνολική λίστα κατηγοριών με την `extend`. Τέλος χρησιμοποιούμε πάλι την `np.unique` για να μετρήσουμε συχνότητα μοναδικών ετικετών κατηγοριών και ταξινομούμε με την `np.argsort`. Τυπώνουμε τις κατηγορίες και τις συχνότητες εμφάνισης ταξινομημένα. Χρήσιμες μπορεί να σας φανούν και οι `np.ravel`, `np.nditer`, `np.array2string` και `zip`.\n",
        "\n",
        "2. Ορίζουμε τη βασική μας συνάρτηση `print_cluster_neurons_movies_report` που δέχεται ως όρισμα τον αριθμό ενός cluster. Με τη χρήση της `np.where` μπορούμε να βρούμε τις συντεταγμένες των bmus που αντιστοιχούν στο cluster και με την `column_stack` να φτιάξουμε έναν πίνακα bmus για το cluster. Προσοχή στη σειρά (στήλη - σειρά) στον πίνακα bmus. Για κάθε bmu αυτού του πίνακα ελέγχουμε αν υπάρχει στον πίνακα μοναδικών bmus που έχουμε υπολογίσει στην αρχή συνολικά και αν ναι προσθέτουμε το αντίστοιχο index του νευρώνα σε μια λίστα. Χρήσιμες μπορεί να είναι και οι `np.rollaxis`, `np.append`, `np.asscalar`. Επίσης πιθανώς να πρέπει να υλοποιήσετε ένα κριτήριο ομοιότητας μεταξύ ενός bmu και ενός μοναδικού bmu από τον αρχικό πίνακα bmus.\n",
        "\n",
        "3. Υλοποιούμε μια βοηθητική συνάρτηση `neuron_movies_report`. Λαμβάνει ένα σύνολο νευρώνων από την `print_cluster_neurons_movies_report` και μέσω της `indices` φτιάχνει μια λίστα με το σύνολο ταινιών που ανήκουν σε αυτούς τους νευρώνες. Στο τέλος καλεί με αυτή τη λίστα την `print_categories_stats` που τυπώνει τις στατιστικές των κατηγοριών.\n",
        "\n",
        "Μπορείτε βέβαια να προσθέσετε οποιαδήποτε επιπλέον έξοδο σας βοηθάει. Μια χρήσιμη έξοδος είναι πόσοι νευρώνες ανήκουν στο cluster και σε πόσους και ποιους από αυτούς έχουν ανατεθεί ταινίες.\n",
        "\n",
        "Θα επιτελούμε τη σημασιολογική ερμηνεία του χάρτη καλώντας την `print_cluster_neurons_movies_report` με τον αριθμός ενός cluster που μας ενδιαφέρει. \n",
        "\n",
        "Παράδειγμα εξόδου για ένα cluster (μη βελτιστοποιημένος χάρτης, ωστόσο βλέπετε ότι οι μεγάλες κατηγορίες έχουν σημασιολογική  συνάφεια):\n",
        "\n",
        "```\n",
        "Overall Cluster Genres stats:  \n",
        "[('\"Horror\"', 86), ('\"Science Fiction\"', 24), ('\"B-movie\"', 16), ('\"Monster movie\"', 10), ('\"Creature Film\"', 10), ('\"Indie\"', 9), ('\"Zombie Film\"', 9), ('\"Slasher\"', 8), ('\"World cinema\"', 8), ('\"Sci-Fi Horror\"', 7), ('\"Natural horror films\"', 6), ('\"Supernatural\"', 6), ('\"Thriller\"', 6), ('\"Cult\"', 5), ('\"Black-and-white\"', 5), ('\"Japanese Movies\"', 4), ('\"Short Film\"', 3), ('\"Drama\"', 3), ('\"Psychological thriller\"', 3), ('\"Crime Fiction\"', 3), ('\"Monster\"', 3), ('\"Comedy\"', 2), ('\"Western\"', 2), ('\"Horror Comedy\"', 2), ('\"Archaeology\"', 2), ('\"Alien Film\"', 2), ('\"Teen\"', 2), ('\"Mystery\"', 2), ('\"Adventure\"', 2), ('\"Comedy film\"', 2), ('\"Combat Films\"', 1), ('\"Chinese Movies\"', 1), ('\"Action/Adventure\"', 1), ('\"Gothic Film\"', 1), ('\"Costume drama\"', 1), ('\"Disaster\"', 1), ('\"Docudrama\"', 1), ('\"Film adaptation\"', 1), ('\"Film noir\"', 1), ('\"Parody\"', 1), ('\"Period piece\"', 1), ('\"Action\"', 1)]```\n",
        "   "
      ]
    },
    {
      "cell_type": "markdown",
      "metadata": {
        "id": "lq4QrImhaa7E"
      },
      "source": [
        "\n",
        "## Tips για το SOM και το clustering\n",
        "\n",
        "- Για την ομαδοποίηση ένα U-matrix καλό είναι να εμφανίζει και μπλε-πράσινες περιοχές (clusters) και κόκκινες περιοχές (ορίων). Παρατηρήστε ποια σχέση υπάρχει μεταξύ αριθμού ταινιών στο final set, μεγέθους grid και ποιότητας U-matrix.\n",
        "- Για το k του k-Means προσπαθήστε να προσεγγίζει σχετικά τα clusters του U-matrix (όπως είπαμε είναι διαφορετικοί μέθοδοι clustering). Μικρός αριθμός k δεν θα σέβεται τα όρια. Μεγάλος αριθμός θα δημιουργεί υπο-clusters εντός των clusters που φαίνονται στο U-matrix. Το τελευταίο δεν είναι απαραίτητα κακό, αλλά μεγαλώνει τον αριθμό clusters που πρέπει να αναλυθούν σημασιολογικά.\n",
        "- Σε μικρούς χάρτες και με μικρά final sets δοκιμάστε διαφορετικές παραμέτρους για την εκπαίδευση του SOM. Σημειώστε τυχόν παραμέτρους που επηρεάζουν την ποιότητα του clustering για το dataset σας ώστε να τις εφαρμόσετε στους μεγάλους χάρτες.\n",
        "- Κάποια τοπολογικά χαρακτηριστικά εμφανίζονται ήδη σε μικρούς χάρτες. Κάποια άλλα χρειάζονται μεγαλύτερους χάρτες. Δοκιμάστε μεγέθη 20x20, 25x25 ή και 30x30 και αντίστοιχη προσαρμογή των k. Όσο μεγαλώνουν οι χάρτες, μεγαλώνει η ανάλυση του χάρτη αλλά μεγαλώνει και ο αριθμός clusters που πρέπει να αναλυθούν.\n"
      ]
    },
    {
      "cell_type": "markdown",
      "metadata": {
        "id": "x4IUl8O8ayVf"
      },
      "source": [
        "\n",
        "\n",
        "## Ανάλυση τοπολογικών ιδιοτήτων χάρτη SOM\n",
        "\n",
        "Μετά το πέρας της εκπαίδευσης και του clustering θα έχετε ένα χάρτη με τοπολογικές ιδιότητες ως προς τα είδη των ταίνιών της συλλογής σας, κάτι αντίστοιχο με την εικόνα στην αρχή της Εφαρμογής 2 αυτού του notebook (η συγκεκριμένη εικόνα είναι μόνο για εικονογράφιση, δεν έχει καμία σχέση με τη συλλογή δεδομένων και τις κατηγορίες μας).\n",
        "\n",
        "Για τον τελικό χάρτη SOM που θα παράξετε για τη συλλογή σας, αναλύστε σε markdown με συγκεκριμένη αναφορά σε αριθμούς clusters και τη σημασιολογική ερμηνεία τους τις εξής τρεις τοπολογικές ιδιότητες του SOM: \n",
        "\n",
        "1. Δεδομένα που έχουν μεγαλύτερη πυκνότητα πιθανότητας στο χώρο εισόδου τείνουν να απεικονίζονται με περισσότερους νευρώνες στο χώρο μειωμένης διαστατικότητας. Δώστε παραδείγματα από συχνές και λιγότερο συχνές κατηγορίες ταινιών. Χρησιμοποιήστε τις στατιστικές των κατηγοριών στη συλλογή σας και τον αριθμό κόμβων που χαρακτηρίζουν.\n",
        "2. Μακρινά πρότυπα εισόδου τείνουν να απεικονίζονται απομακρυσμένα στο χάρτη. Υπάρχουν χαρακτηριστικές κατηγορίες ταινιών που ήδη από μικρούς χάρτες τείνουν να τοποθετούνται σε διαφορετικά ή απομονωμένα σημεία του χάρτη.\n",
        "3. Κοντινά πρότυπα εισόδου τείνουν να απεικονίζονται κοντά στο χάρτη. Σε μεγάλους χάρτες εντοπίστε είδη ταινιών και κοντινά τους υποείδη.\n",
        "\n",
        "Προφανώς τοποθέτηση σε 2 διαστάσεις που να σέβεται μια απόλυτη τοπολογία δεν είναι εφικτή, αφενός γιατί δεν υπάρχει κάποια απόλυτη εξ ορισμού για τα κινηματογραφικά είδη ακόμα και σε πολλές διαστάσεις, αφετέρου γιατί πραγματοποιούμε μείωση διαστατικότητας.\n",
        "\n",
        "Εντοπίστε μεγάλα clusters και μικρά clusters που δεν έχουν σαφή χαρακτηριστικά. Εντοπίστε clusters συγκεκριμένων ειδών που μοιάζουν να μην έχουν τοπολογική συνάφεια με γύρω περιοχές. Προτείνετε πιθανές ερμηνείες.\n",
        "\n",
        "\n",
        "\n",
        "Τέλος, εντοπίστε clusters που έχουν κατά την άποψή σας ιδιαίτερο ενδιαφέρον στη συλλογή της ομάδας σας (data exploration / discovery value) και σχολιάστε.\n"
      ]
    },
    {
      "cell_type": "markdown",
      "metadata": {
        "id": "tYjxGR5DawIy"
      },
      "source": [
        "\n",
        "# Τελική παράδοση άσκησης\n",
        "\n",
        "- Θα παραδώσετε στο eclass το παρόν notebook επεξεργασμένο ή ένα νέο με τις απαντήσεις σας για τα ζητούμενα και των δύο εφαρμογών. \n",
        "- Θυμηθείτε ότι η ανάλυση του χάρτη στο markdown με αναφορά σε αριθμούς clusters πρέπει να αναφέρεται στον τελικό χάρτη με τα κελιά ορατά που θα παραδώσετε αλλιώς ο χάρτης που θα προκύψει θα είναι διαφορετικός και τα labels των clusters δεν θα αντιστοιχούν στην ανάλυσή σας. \n",
        "- Μην ξεχάσετε στην αρχή ένα κελί markdown με **τα στοιχεία της ομάδας σας**.\n",
        "- Στο **zip** που θα παραδώσετε πρέπει να βρίσκονται **2 αρχεία (το .ipynb και το .py του notebook σας)**."
      ]
    },
    {
      "cell_type": "markdown",
      "metadata": {
        "id": "UHhCkvxjnitd"
      },
      "source": [
        "<table>\n",
        "  <tr><td align=\"center\">\n",
        "    <font size=\"4\">Παρακαλούμε διατρέξτε βήμα-βήμα το notebook για να μην ξεχάσετε παραδοτέα!</font>\n",
        "</td>\n",
        "  </tr>\n",
        "</table>"
      ]
    }
  ]
}