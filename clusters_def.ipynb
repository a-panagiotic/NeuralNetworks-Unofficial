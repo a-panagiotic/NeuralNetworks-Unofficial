{
  "nbformat": 4,
  "nbformat_minor": 0,
  "metadata": {
    "colab": {
      "name": "clusters - def.ipynb",
      "provenance": [],
      "collapsed_sections": []
    },
    "kernelspec": {
      "name": "python3",
      "display_name": "Python 3"
    }
  },
  "cells": [
    {
      "cell_type": "code",
      "metadata": {
        "id": "MyPihluP-pDQ"
      },
      "source": [
        "def print_categories_stats (movie_ids) :\r\n",
        "  cats_in_total = list ()\r\n",
        "  for id in movie_ids :\r\n",
        "    cats_in_total.extend([cat.strip() for cat in (np.asscalar(categories[id])).split(\",\")])\r\n",
        "\r\n",
        "  unique_cats, freqs = np.unique(cats_in_total, return_counts = True)\r\n",
        "  sorted_args = np.argsort(-freqs)\r\n",
        "  return (list (zip(list (unique_cats[sorted_args]), list (freqs[sorted_args]))))"
      ],
      "execution_count": null,
      "outputs": []
    },
    {
      "cell_type": "code",
      "metadata": {
        "id": "yZ9cqJ-CE_Vd"
      },
      "source": [
        "def print_cluster_neurons_movies_report(cluster_index) :\r\n",
        "  neurons_inds = list ()\r\n",
        "  xs, ys = np.where(som.clusters == cluster_index)\r\n",
        "  for bmu in list (zip(ys, xs)) :\r\n",
        "    rows, cols = np.where(unique_bmus == bmu[0])\r\n",
        "    for i in range(len(rows)) :\r\n",
        "      if cols[i] == 1 :\r\n",
        "        continue\r\n",
        "      if unique_bmus[rows[i]][1] == bmu[1] :\r\n",
        "        neurons_inds.append(rows[i])\r\n",
        "        break\r\n",
        "  return neurons_inds"
      ],
      "execution_count": null,
      "outputs": []
    },
    {
      "cell_type": "code",
      "metadata": {
        "id": "kwfo8GHjR7Xs"
      },
      "source": [
        "def neurons_movies_report(neurons) :\r\n",
        "  movie_ids = list ()\r\n",
        "  for neuron_ind in neurons :\r\n",
        "    movie_ids.append(indices[neuron_ind])\r\n",
        "  return print_categories_stats(movie_ids)"
      ],
      "execution_count": null,
      "outputs": []
    }
  ]
}