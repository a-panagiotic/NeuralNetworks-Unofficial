{
  "nbformat": 4,
  "nbformat_minor": 0,
  "metadata": {
    "colab": {
      "name": "prev.ipynb",
      "provenance": [],
      "collapsed_sections": [],
      "include_colab_link": true
    },
    "kernelspec": {
      "display_name": "Python 3.5",
      "language": "python",
      "name": "python3"
    }
  },
  "cells": [
    {
      "cell_type": "markdown",
      "metadata": {
        "id": "view-in-github",
        "colab_type": "text"
      },
      "source": [
        "<a href=\"https://colab.research.google.com/github/a-panagiotic/NeuralNetworks-Unofficial/blob/main/%CE%86%CF%83%CE%BA%CE%B7%CF%83%CE%B7_2_correct.ipynb\" target=\"_parent\"><img src=\"https://colab.research.google.com/assets/colab-badge.svg\" alt=\"Open In Colab\"/></a>"
      ]
    },
    {
      "cell_type": "markdown",
      "metadata": {
        "id": "hLFXD3IePSyL"
      },
      "source": [
        "# Εργαστηριακή Άσκηση 2. Μη επιβλεπόμενη μάθηση. \n",
        "## Σύστημα συστάσεων βασισμένο στο περιεχόμενο\n",
        "## Σημασιολογική απεικόνιση δεδομένων με χρήση SOM \n",
        "Ημερομηνία εκφώνησης της άσκησης: 23 Νοεμβρίου 2020\n",
        "\n"
      ]
    },
    {
      "cell_type": "code",
      "metadata": {
        "id": "S5wbBzIYnird",
        "colab": {
          "base_uri": "https://localhost:8080/"
        },
        "outputId": "f54fd72b-299d-4bc2-da9e-840e3f4f1729"
      },
      "source": [
        "!pip install --upgrade pip\n",
        "!pip install --upgrade numpy\n",
        "!pip install --upgrade pandas\n",
        "!pip install --upgrade nltk\n",
        "!pip install --upgrade scikit-learn\n",
        "!pip install --upgrade joblib"
      ],
      "execution_count": null,
      "outputs": [
        {
          "output_type": "stream",
          "text": [
            "Collecting pip\n",
            "\u001b[?25l  Downloading https://files.pythonhosted.org/packages/54/eb/4a3642e971f404d69d4f6fa3885559d67562801b99d7592487f1ecc4e017/pip-20.3.3-py2.py3-none-any.whl (1.5MB)\n",
            "\u001b[K     |████████████████████████████████| 1.5MB 5.3MB/s \n",
            "\u001b[?25hInstalling collected packages: pip\n",
            "  Found existing installation: pip 19.3.1\n",
            "    Uninstalling pip-19.3.1:\n",
            "      Successfully uninstalled pip-19.3.1\n",
            "Successfully installed pip-20.3.3\n",
            "Requirement already satisfied: numpy in /usr/local/lib/python3.6/dist-packages (1.19.4)\n",
            "Requirement already satisfied: pandas in /usr/local/lib/python3.6/dist-packages (1.1.5)\n",
            "Requirement already satisfied: python-dateutil>=2.7.3 in /usr/local/lib/python3.6/dist-packages (from pandas) (2.8.1)\n",
            "Requirement already satisfied: numpy>=1.15.4 in /usr/local/lib/python3.6/dist-packages (from pandas) (1.19.4)\n",
            "Requirement already satisfied: pytz>=2017.2 in /usr/local/lib/python3.6/dist-packages (from pandas) (2018.9)\n",
            "Requirement already satisfied: six>=1.5 in /usr/local/lib/python3.6/dist-packages (from python-dateutil>=2.7.3->pandas) (1.15.0)\n",
            "Requirement already satisfied: nltk in /usr/local/lib/python3.6/dist-packages (3.2.5)\n",
            "Collecting nltk\n",
            "  Downloading nltk-3.5.zip (1.4 MB)\n",
            "\u001b[K     |████████████████████████████████| 1.4 MB 6.1 MB/s \n",
            "\u001b[?25hRequirement already satisfied: click in /usr/local/lib/python3.6/dist-packages (from nltk) (7.1.2)\n",
            "Requirement already satisfied: joblib in /usr/local/lib/python3.6/dist-packages (from nltk) (1.0.0)\n",
            "Requirement already satisfied: regex in /usr/local/lib/python3.6/dist-packages (from nltk) (2019.12.20)\n",
            "Requirement already satisfied: tqdm in /usr/local/lib/python3.6/dist-packages (from nltk) (4.41.1)\n",
            "Building wheels for collected packages: nltk\n",
            "  Building wheel for nltk (setup.py) ... \u001b[?25l\u001b[?25hdone\n",
            "  Created wheel for nltk: filename=nltk-3.5-py3-none-any.whl size=1434674 sha256=93366643e51207eb244318be825c43baa9b06ccb02eb0cd1220c33d2c1f8889a\n",
            "  Stored in directory: /root/.cache/pip/wheels/de/5e/42/64abaeca668161c3e2cecc24f864a8fc421e3d07a104fc8a51\n",
            "Successfully built nltk\n",
            "Installing collected packages: nltk\n",
            "  Attempting uninstall: nltk\n",
            "    Found existing installation: nltk 3.2.5\n",
            "    Uninstalling nltk-3.2.5:\n",
            "      Successfully uninstalled nltk-3.2.5\n",
            "Successfully installed nltk-3.5\n",
            "Requirement already satisfied: scikit-learn in /usr/local/lib/python3.6/dist-packages (0.22.2.post1)\n",
            "Collecting scikit-learn\n",
            "  Downloading scikit_learn-0.24.0-cp36-cp36m-manylinux2010_x86_64.whl (22.2 MB)\n",
            "\u001b[K     |████████████████████████████████| 22.2 MB 1.3 MB/s \n",
            "\u001b[?25hRequirement already satisfied: scipy>=0.19.1 in /usr/local/lib/python3.6/dist-packages (from scikit-learn) (1.4.1)\n",
            "Requirement already satisfied: numpy>=1.13.3 in /usr/local/lib/python3.6/dist-packages (from scikit-learn) (1.19.4)\n",
            "Requirement already satisfied: joblib>=0.11 in /usr/local/lib/python3.6/dist-packages (from scikit-learn) (1.0.0)\n",
            "Collecting threadpoolctl>=2.0.0\n",
            "  Downloading threadpoolctl-2.1.0-py3-none-any.whl (12 kB)\n",
            "Installing collected packages: threadpoolctl, scikit-learn\n",
            "  Attempting uninstall: scikit-learn\n",
            "    Found existing installation: scikit-learn 0.22.2.post1\n",
            "    Uninstalling scikit-learn-0.22.2.post1:\n",
            "      Successfully uninstalled scikit-learn-0.22.2.post1\n",
            "Successfully installed scikit-learn-0.24.0 threadpoolctl-2.1.0\n",
            "Requirement already satisfied: joblib in /usr/local/lib/python3.6/dist-packages (1.0.0)\n"
          ],
          "name": "stdout"
        }
      ]
    },
    {
      "cell_type": "markdown",
      "metadata": {
        "id": "aViHqlQcPSyP"
      },
      "source": [
        "## Εισαγωγή του Dataset"
      ]
    },
    {
      "cell_type": "markdown",
      "metadata": {
        "id": "2ZVmdDExPSyQ"
      },
      "source": [
        "Το σύνολο δεδομένων με το οποίο θα δουλέψουμε είναι βασισμένο στο [Carnegie Mellon Movie Summary Corpus](http://www.cs.cmu.edu/~ark/personas/). Πρόκειται για ένα dataset με περίπου 40.000 περιγραφές ταινιών. Η περιγραφή κάθε ταινίας αποτελείται από τον τίτλο της, μια ή περισσότερες ετικέτες που χαρακτηρίζουν το είδος της ταινίας και τέλος τη σύνοψη της υπόθεσής της. Αρχικά εισάγουμε το dataset (χρησιμοποιήστε αυτούσιο τον κώδικα, δεν χρειάζεστε το αρχείο csv) στο dataframe `df_data_1`: "
      ]
    },
    {
      "cell_type": "code",
      "metadata": {
        "id": "62SOj46gPSyS"
      },
      "source": [
        "import pandas as pd\n",
        "\n",
        "dataset_url = \"https://drive.google.com/uc?export=download&id=1PdkVDENX12tQliCk_HtUnAUbfxXvnWuG\"\n",
        "df_data_1 = pd.read_csv(dataset_url, sep='\\t',  header=None, quoting=3, error_bad_lines=False)"
      ],
      "execution_count": null,
      "outputs": []
    },
    {
      "cell_type": "markdown",
      "metadata": {
        "id": "7TAEZGdIPSyW"
      },
      "source": [
        "Κάθε ομάδα θα δουλέψει σε ένα μοναδικό υποσύνολο 5.000 ταινιών (διαφορετικό dataset για κάθε ομάδα) ως εξής\n",
        "\n",
        "1. Κάθε ομάδα έχει έναν αριθμό \"seed\" (φύτρο) που είναι ο ίδιος με τον αριθμό της ομάδας σας: θα τον βρείτε στην κολόνα Α/Α [εδώ](https://docs.google.com/spreadsheets/d/1CD6AtX7YnocXceCELl_XJ06kyRr0YQPhor8dpw012t0/edit?usp=sharing).\n",
        "\n",
        "2. Το data frame `df_data_2` έχει γραμμές όσες και οι ομάδες και 5.000 στήλες. Σε κάθε ομάδα αντιστοιχεί η γραμμή του πίνακα με το `team_seed_number` της. Η γραμμή αυτή θα περιλαμβάνει 5.000 διαφορετικούς αριθμούς που αντιστοιχούν σε ταινίες του αρχικού dataset. \n",
        "\n",
        "3. Στο επόμενο κελί αλλάξτε τη μεταβλητή `team_seed_number` με το Seed της ομάδας σας.\n",
        "\n",
        "4. Τρέξτε τον κώδικα. Θα προκύψουν τα μοναδικά για κάθε ομάδα  titles, categories, catbins, summaries και corpus με τα οποία θα δουλέψετε."
      ]
    },
    {
      "cell_type": "code",
      "metadata": {
        "id": "2POlqDjkPSyY"
      },
      "source": [
        "import numpy as np\n",
        "\n",
        "# βάλτε το seed που αντιστοιχεί στην ομάδα σας\n",
        "team_seed_number = 15\n",
        "\n",
        "movie_seeds_url = \"https://drive.google.com/uc?export=download&id=1EA_pUIgK5Ub3kEzFbFl8wSRqAV6feHqD\"\n",
        "df_data_2 = pd.read_csv(movie_seeds_url, header=None, error_bad_lines=False)\n",
        "\n",
        "# επιλέγεται \n",
        "my_index = df_data_2.iloc[team_seed_number,:].values\n",
        "\n",
        "titles = df_data_1.iloc[:, [2]].values[my_index] # movie titles (string)\n",
        "categories = df_data_1.iloc[:, [3]].values[my_index] # movie categories (string)\n",
        "bins = df_data_1.iloc[:, [4]]\n",
        "catbins = bins[4].str.split(',', expand=True).values.astype(np.float)[my_index] # movie categories in binary form (1 feature per category)\n",
        "summaries =  df_data_1.iloc[:, [5]].values[my_index] # movie summaries (string)\n",
        "corpus = summaries[:,0].tolist() # list form of summaries"
      ],
      "execution_count": null,
      "outputs": []
    },
    {
      "cell_type": "markdown",
      "metadata": {
        "id": "If66lkwxPSyb"
      },
      "source": [
        "- Ο πίνακας **titles** περιέχει τους τίτλους των ταινιών. Παράδειγμα: 'Sid and Nancy'.\n",
        "- O πίνακας **categories** περιέχει τις κατηγορίες (είδη) της ταινίας υπό τη μορφή string. Παράδειγμα: '\"Tragedy\",  \"Indie\",  \"Punk rock\",  \"Addiction Drama\",  \"Cult\",  \"Musical\",  \"Drama\",  \"Biopic \\[feature\\]\",  \"Romantic drama\",  \"Romance Film\",  \"Biographical film\"'. Παρατηρούμε ότι είναι μια comma separated λίστα strings, με κάθε string να είναι μια κατηγορία.\n",
        "- Ο πίνακας **catbins** περιλαμβάνει πάλι τις κατηγορίες των ταινιών αλλά σε δυαδική μορφή ([one hot encoding](https://hackernoon.com/what-is-one-hot-encoding-why-and-when-do-you-have-to-use-it-e3c6186d008f)). Έχει διαστάσεις 5.000 x 322 (όσες οι διαφορετικές κατηγορίες). Αν η ταινία ανήκει στο συγκεκριμένο είδος η αντίστοιχη στήλη παίρνει την τιμή 1, αλλιώς παίρνει την τιμή 0.\n",
        "- Ο πίνακας **summaries** και η λίστα **corpus** περιλαμβάνουν τις συνόψεις των ταινιών (η corpus είναι απλά ο summaries σε μορφή λίστας). Κάθε σύνοψη είναι ένα (συνήθως μεγάλο) string. Παράδειγμα: *'The film is based on the real story of a Soviet Internal Troops soldier who killed his entire unit  as a result of Dedovschina. The plot unfolds mostly on board of the prisoner transport rail car guarded by a unit of paramilitary conscripts.'*\n",
        "- Θεωρούμε ως **ID** της κάθε ταινίας τον αριθμό γραμμής της ή το αντίστοιχο στοιχείο της λίστας. Παράδειγμα: για να τυπώσουμε τη σύνοψη της ταινίας με `ID=99` (την εκατοστή) θα γράψουμε `print(corpus[99])`."
      ]
    },
    {
      "cell_type": "code",
      "metadata": {
        "id": "k_7A3KXLp0qS",
        "colab": {
          "base_uri": "https://localhost:8080/"
        },
        "outputId": "a2c36db2-4575-4f86-de38-62640336dee9"
      },
      "source": [
        "ID = 99\n",
        "print(titles[ID])\n",
        "print(categories[ID])\n",
        "print(catbins[ID])\n",
        "print(corpus[ID])"
      ],
      "execution_count": null,
      "outputs": [
        {
          "output_type": "stream",
          "text": [
            "['Congkak']\n",
            "['\"Horror\"']\n",
            "[0. 0. 0. 0. 0. 0. 0. 0. 0. 0. 0. 0. 0. 0. 0. 0. 0. 0. 0. 0. 0. 0. 0. 0.\n",
            " 0. 0. 0. 0. 0. 0. 0. 0. 0. 0. 0. 0. 0. 0. 0. 0. 0. 0. 0. 0. 0. 0. 0. 0.\n",
            " 0. 0. 0. 0. 0. 0. 0. 0. 0. 0. 0. 0. 0. 0. 0. 0. 0. 0. 0. 0. 0. 0. 0. 0.\n",
            " 0. 0. 0. 0. 0. 0. 0. 0. 0. 0. 0. 0. 0. 0. 0. 0. 0. 0. 0. 0. 0. 0. 0. 0.\n",
            " 0. 0. 0. 0. 0. 0. 0. 0. 0. 0. 0. 0. 0. 0. 0. 0. 0. 0. 0. 0. 0. 0. 0. 0.\n",
            " 0. 0. 0. 0. 0. 0. 0. 0. 0. 0. 0. 0. 0. 0. 0. 0. 0. 0. 0. 0. 0. 0. 0. 0.\n",
            " 0. 0. 0. 0. 0. 0. 0. 0. 0. 0. 0. 0. 0. 0. 0. 0. 0. 0. 0. 0. 0. 0. 0. 0.\n",
            " 0. 0. 0. 0. 1. 0. 0. 0. 0. 0. 0. 0. 0. 0. 0. 0. 0. 0. 0. 0. 0. 0. 0. 0.\n",
            " 0. 0. 0. 0. 0. 0. 0. 0. 0. 0. 0. 0. 0. 0. 0. 0. 0. 0. 0. 0. 0. 0. 0. 0.\n",
            " 0. 0. 0. 0. 0. 0. 0. 0. 0. 0. 0. 0. 0. 0. 0. 0. 0. 0. 0. 0. 0. 0. 0. 0.\n",
            " 0. 0. 0. 0. 0. 0. 0. 0. 0. 0. 0. 0. 0. 0. 0. 0. 0. 0. 0. 0. 0. 0. 0. 0.\n",
            " 0. 0. 0. 0. 0. 0. 0. 0. 0. 0. 0. 0. 0. 0. 0. 0. 0. 0. 0. 0. 0. 0. 0. 0.\n",
            " 0. 0. 0. 0. 0. 0. 0. 0. 0. 0. 0. 0. 0. 0. 0. 0. 0. 0. 0. 0. 0. 0. 0. 0.\n",
            " 0. 0. 0. 0. 0. 0. 0. 0. 0. 0.]\n",
            "Kazman is a dedicated husband who, despite his wife Sufiah's protests, decided to buy a bungalow for their family near a lake as a family getaway. Anxious in the new house, Sufiah feels as if someone is watching her. Her daughter Lisa, who would always go downstairs at night to play congkak with someone whom she could only see, compounds her uneasiness. Sufiah throws the congkak in the lake, but is awakened the next night by the sound of the congkak being played again and upon investigation, she sees an old lady playing it. When her daughter disappears, the oldest resident in that area, Pak Tua, comes to the family's rescue and helps in locating the missing family members.\n"
          ],
          "name": "stdout"
        }
      ]
    },
    {
      "cell_type": "markdown",
      "metadata": {
        "id": "UTNgwBfjPSyc"
      },
      "source": [
        "# Εφαρμογή 1. Υλοποίηση συστήματος συστάσεων ταινιών βασισμένο στο περιεχόμενο\n",
        "<img src=\"http://clture.org/wp-content/uploads/2015/12/Netflix-Streaming-End-of-Year-Posts.jpg\" width=\"70%\">"
      ]
    },
    {
      "cell_type": "markdown",
      "metadata": {
        "id": "rnA2RP8GPSyf"
      },
      "source": [
        "Η πρώτη εφαρμογή που θα αναπτύξετε θα είναι ένα [σύστημα συστάσεων](https://en.wikipedia.org/wiki/Recommender_system) ταινιών βασισμένο στο περιεχόμενο (content based recommender system). Τα συστήματα συστάσεων στοχεύουν στο να προτείνουν αυτόματα στο χρήστη αντικείμενα από μια συλλογή τα οποία ιδανικά θέλουμε να βρει ενδιαφέροντα ο χρήστης. Η κατηγοριοποίηση των συστημάτων συστάσεων βασίζεται στο πώς γίνεται η επιλογή (filtering) των συστηνόμενων αντικειμένων. Οι δύο κύριες κατηγορίες είναι η συνεργατική διήθηση (collaborative filtering) όπου το σύστημα προτείνει στο χρήστη αντικείμενα που έχουν αξιολογηθεί θετικά από χρήστες που έχουν παρόμοιο με αυτόν ιστορικό αξιολογήσεων και η διήθηση με βάση το περιεχόμενο (content based filtering), όπου προτείνονται στο χρήστη αντικείμενα με παρόμοιο περιεχόμενο (με βάση κάποια χαρακτηριστικά) με αυτά που έχει προηγουμένως αξιολογήσει θετικά.\n",
        "\n",
        "Το σύστημα συστάσεων που θα αναπτύξετε θα βασίζεται στο **περιεχόμενο** και συγκεκριμένα στις συνόψεις των ταινιών (corpus). \n"
      ]
    },
    {
      "cell_type": "markdown",
      "metadata": {
        "id": "DD5KuSKrxQ8I"
      },
      "source": [
        "## Μετατροπή σε TFIDF\n",
        "\n",
        "Το πρώτο βήμα θα είναι λοιπόν να μετατρέψετε το corpus σε αναπαράσταση tf-idf:"
      ]
    },
    {
      "cell_type": "code",
      "metadata": {
        "id": "s5YP6XCZPSyh",
        "colab": {
          "base_uri": "https://localhost:8080/"
        },
        "outputId": "6faecb91-f573-4f8a-ac04-9d5e5ffd4b96"
      },
      "source": [
        "import re\n",
        "import nltk\n",
        "import string\n",
        "nltk.download('stopwords')\n",
        "nltk.download('wordnet')\n",
        "nltk.download('names')\n",
        "from nltk.corpus import stopwords, names\n",
        "\n",
        "\n",
        "def preprocess(s) : \n",
        "  stemmer = nltk.stem.PorterStemmer()\n",
        "  #lemmatizer = nltk.stem.WordNetLemmatizer()\n",
        "  table = str.maketrans('', '', string.punctuation)\n",
        "  s = (s.lower()).translate(table)\n",
        "  s = re.sub(r'\\d+', 'num', s)\n",
        "  words = s.split()\n",
        "  return \" \".join([stemmer.stem(word) for word in words])\n",
        "  #return \" \".join([lemmatizer.lemmatize(word) for word in words])\n",
        "\n",
        "stopwords = stopwords.words('english') + list(string.punctuation) + names.words()\n",
        "\n",
        "preprocessed_stopwords = preprocess(\" \".join(stopwords)).split() + ['becau']\n",
        "\n",
        "\n"
      ],
      "execution_count": null,
      "outputs": [
        {
          "output_type": "stream",
          "text": [
            "[nltk_data] Downloading package stopwords to /root/nltk_data...\n",
            "[nltk_data]   Package stopwords is already up-to-date!\n",
            "[nltk_data] Downloading package wordnet to /root/nltk_data...\n",
            "[nltk_data]   Package wordnet is already up-to-date!\n",
            "[nltk_data] Downloading package names to /root/nltk_data...\n",
            "[nltk_data]   Package names is already up-to-date!\n"
          ],
          "name": "stderr"
        }
      ]
    },
    {
      "cell_type": "code",
      "metadata": {
        "id": "IiaoxLjtk8IR",
        "colab": {
          "base_uri": "https://localhost:8080/"
        },
        "outputId": "32cc196e-53f5-451d-ed2f-b91e007486e7"
      },
      "source": [
        "from sklearn.feature_extraction.text import TfidfVectorizer\r\n",
        "\r\n",
        "vectorizer = TfidfVectorizer(min_df=0.003, max_df=0.025, max_features=300,\r\n",
        "                             stop_words=preprocessed_stopwords, preprocessor=preprocess)\r\n",
        "vectorizer.fit(corpus)\r\n",
        "corpus_tf_idf = vectorizer.transform(corpus)"
      ],
      "execution_count": null,
      "outputs": [
        {
          "output_type": "stream",
          "text": [
            "/usr/local/lib/python3.6/dist-packages/sklearn/feature_extraction/text.py:391: UserWarning: Your stop_words may be inconsistent with your preprocessing. Tokenizing the stop words generated tokens ['abig', 'ainsl', 'alfon', 'aloi', 'alphon', 'anal', 'anali', 'annal', 'annali', 'arl', 'ashl', 'aubr', 'aur', 'beren', 'beverl', 'blakel', 'bonn', 'carr', 'catl', 'cind', 'cord', 'cort', 'darc', 'deed', 'desar', 'desir', 'dorol', 'doroth', 'dorr', 'ebon', 'el', 'eloi', 'emal', 'emmal', 'gerril', 'godfr', 'goo', 'guenev', 'guinev', 'hail', 'heli', 'heloi', 'horten', 'huntl', 'il', 'ili', 'jenil', 'jennil', 'jeral', 'jerril', 'jerryl', 'karal', 'kayc', 'kimberl', 'kirb', 'kiss', 'kizz', 'loral', 'loril', 'magg', 'maril', 'marl', 'marril', 'maryro', 'meli', 'melod', 'merc', 'merral', 'moi', 'mor', 'morl', 'oph', 'ore', 'rival', 'sall', 'salvat', 'shand', 'sheer', 'sidn', 'sind', 'spen', 'tere', 'timoth', 'valar', 'zebed'] not in stop_words.\n",
            "  'stop_words.' % sorted(inconsistent))\n"
          ],
          "name": "stderr"
        }
      ]
    },
    {
      "cell_type": "code",
      "metadata": {
        "id": "n7pzfu6tXOXV"
      },
      "source": [
        "from sklearn.feature_extraction.text import CountVectorizer\r\n",
        "\r\n",
        "vec = CountVectorizer().fit(corpus)\r\n",
        "bag_of_words = vec.transform(corpus)\r\n",
        "sum_words = bag_of_words.sum(axis=0) \r\n",
        "words_freq = [(word, sum_words[0, idx]) for word, idx in     vec.vocabulary_.items()]\r\n",
        "words_freq =sorted(words_freq, key = lambda x: x[1], reverse=True)"
      ],
      "execution_count": null,
      "outputs": []
    },
    {
      "cell_type": "code",
      "metadata": {
        "id": "ABpmcj5MXdVc"
      },
      "source": [
        "words_freq[120:150]"
      ],
      "execution_count": null,
      "outputs": []
    },
    {
      "cell_type": "code",
      "metadata": {
        "id": "e1iepgEXxzDI"
      },
      "source": [
        "vectorizer.get_feature_names()"
      ],
      "execution_count": null,
      "outputs": []
    },
    {
      "cell_type": "markdown",
      "metadata": {
        "id": "H-uRZK3EPSyl"
      },
      "source": [
        "Η συνάρτηση [TfidfVectorizer](http://scikit-learn.org/stable/modules/generated/sklearn.feature_extraction.text.TfidfVectorizer.html) όπως καλείται εδώ **δεν είναι βελτιστοποιημένη**. Οι επιλογές των μεθόδων και παραμέτρων της μπορεί να έχουν **δραματική επίδραση στην ποιότητα των συστάσεων** και είναι διαφορετικές για κάθε dataset. Επίσης, οι επιλογές αυτές έχουν πολύ μεγάλη επίδραση και στη **διαστατικότητα και όγκο των δεδομένων**. Η διαστατικότητα των δεδομένων με τη σειρά της θα έχει πολύ μεγάλη επίδραση στους **χρόνους εκπαίδευσης**, ιδιαίτερα στη δεύτερη εφαρμογή της άσκησης. Ανατρέξτε στα notebooks του εργαστηρίου και στο [FAQ](https://docs.google.com/document/d/1hou1gWXQuHAB7J2aV44xm_CtAWJ63q6Cu1V6OwyL_n0/edit?usp=sharing) των ασκήσεων.\n"
      ]
    },
    {
      "cell_type": "code",
      "metadata": {
        "id": "y_Cw0brpnisF",
        "colab": {
          "base_uri": "https://localhost:8080/"
        },
        "outputId": "592b1599-0553-4a00-92ff-39a146213662"
      },
      "source": [
        "print(corpus_tf_idf.shape)"
      ],
      "execution_count": null,
      "outputs": [
        {
          "output_type": "stream",
          "text": [
            "(5000, 2000)\n"
          ],
          "name": "stdout"
        }
      ]
    },
    {
      "cell_type": "markdown",
      "metadata": {
        "id": "3LsmvSyVykTU"
      },
      "source": [
        "## Υλοποίηση του συστήματος συστάσεων\n",
        "\n",
        "Το σύστημα συστάσεων που θα παραδώσετε θα είναι μια συνάρτηση `content_recommender` με δύο ορίσματα `target_movie` και `max_recommendations`. Στην `target_movie` περνάμε το ID μιας ταινίας-στόχου για την οποία μας ενδιαφέρει να βρούμε παρόμοιες ως προς το περιεχόμενο (τη σύνοψη) ταινίες, `max_recommendations` στο πλήθος.\n",
        "Υλοποιήστε τη συνάρτηση ως εξής: \n",
        "- για την ταινία-στόχο, από το `corpus_tf_idf` υπολογίστε την [ομοιότητα συνημιτόνου](https://en.wikipedia.org/wiki/Cosine_similarity) της με όλες τις ταινίες της συλλογής σας\n",
        "- με βάση την ομοιότητα συνημιτόνου που υπολογίσατε, δημιουργήστε ταξινομημένο πίνακα από το μεγαλύτερο στο μικρότερο, με τα indices (`ID`) των ταινιών. Παράδειγμα: αν η ταινία με index 1 έχει ομοιότητα συνημιτόνου με 3 ταινίες \\[0.2 1 0.6\\] (έχει ομοιότητα 1 με τον εαύτό της) ο ταξινομημένος αυτός πίνακας indices θα είναι \\[1 2 0\\].\n",
        "- Για την ταινία-στόχο εκτυπώστε: id, τίτλο, σύνοψη, κατηγορίες (categories)\n",
        "- Για τις `max_recommendations` ταινίες (πλην της ίδιας της ταινίας-στόχου που έχει cosine similarity 1 με τον εαυτό της) με τη μεγαλύτερη ομοιότητα συνημιτόνου (σε φθίνουσα σειρά), τυπώστε σειρά σύστασης (1 πιο κοντινή, 2 η δεύτερη πιο κοντινή κλπ), id, τίτλο, σύνοψη, κατηγορίες (categories)\n"
      ]
    },
    {
      "cell_type": "code",
      "metadata": {
        "id": "mVeo6iscH6mU"
      },
      "source": [
        "from sklearn.metrics.pairwise import cosine_similarity\r\n",
        "\r\n",
        "def content_recommender(target_movie, max_recommendations):\r\n",
        "  target_corpus = corpus_tf_idf[target_movie]\r\n",
        "  N = corpus_tf_idf.shape[0]\r\n",
        "  cos_sims = np.zeros(N)\r\n",
        "  for i in range(N):\r\n",
        "    cos_sims[i] = cosine_similarity(target_corpus, corpus_tf_idf[i])\r\n",
        "  cos_sims_ind = np.argsort(cos_sims)[::-1]\r\n",
        "  print(\"Target movie:\\nId: {0}, Title: {1}, Summary: {2}, Categories: {3}\".format(\r\n",
        "        target_movie, titles[target_movie][0], summaries[target_movie][0], categories[target_movie][0]))\r\n",
        "  print(\"Recommendations:\")\r\n",
        "  i = 1\r\n",
        "  for x in cos_sims_ind[1:max_recommendations+1]:\r\n",
        "    print(\"{0}, Id: {1}, Title: {2}, Summary: {3}, Categories: {4}\".format(\r\n",
        "          i, x, titles[x][0], summaries[x][0], categories[x][0]))\r\n",
        "    i += 1\r\n"
      ],
      "execution_count": 234,
      "outputs": []
    },
    {
      "cell_type": "code",
      "metadata": {
        "colab": {
          "base_uri": "https://localhost:8080/"
        },
        "id": "ZRBC-tNcMh6k",
        "outputId": "23f9ad92-ae14-4a18-d428-8755c537dee5"
      },
      "source": [
        "content_recommender(120, 10)"
      ],
      "execution_count": null,
      "outputs": [
        {
          "output_type": "stream",
          "text": [
            "Target movie:\n",
            "Id: 120, Title: Babylon 5: The Gathering, Summary:  In the earth year 2257, a multitude of humans and non-humans gather deep in neutral space at a new station, Babylon 5, which has recently become operational. Babylon 5 was built as a neutral venue for discussing and resolving issues between the five major spacefaring races of the galaxy, the humans, Narn, Centauri, Minbari and Vorlons. Commander Jeffrey Sinclair is in overall charge of the station. As the crew awaits the arrival of the fourth and final alien ambassador, Ambassador Kosh Naranek from the Vorlon Empire, a transport ship arrives from Earth, bearing Lyta Alexander, a human telepath who joins the station crew, and Del Varner, a civilian. Ambassador Kosh arrives two days ahead of schedule, and is on board the station less than a minute when he suddenly falls ill, apparently from poisoning. Babylon 5's chief medical officer, Dr. Kyle, conducts a medical investigation and seeks to prevent Kosh's death, while Security Chief Michael Garibaldi conducts a security investigation. Worried that, if Kosh dies, the Vorlons will attack and destroy the station, Dr. Kyle and Lt. Cmdr. Takashima persuade Lyta to perform an unauthorized mind scan on the unconscious Kosh. As she conducts the scan, Lyta sees Commander Sinclair poisoning the Ambassador. Lyta accuses Sinclair of attempted murder. A meeting of Babylon 5's Council, made up of delegates from all five races, resolves to extradite the Commander to the Vorlon homeworld for trial. Sinclair is told that he will be deported in twelve hours. Garibaldi comes to suspect Del Varner might have been involved in Kosh's poisoning. When he enters Varner's quarters, however, he discovers Varner dead in a fish tank. Lyta enters the medical lab, where she begins adjusting some of the settings that are keeping Kosh alive; when Dr. Kyle realizes what she's doing, he tries to stop her, and she attacks him. At that moment, the real Lyta Alexander enters the room; her double escapes. Upon further investigation in Varner's quarters, Garibaldi learns that Varner had been smuggling illegal items between systems, and that he most recently had gone to the Antares sector to acquire a changeling net; a device that can make an individual appear to look like somebody else. The crew realizes that Kosh had not been poisoned by Sinclair when he arrived at the station, but rather that he had been poisoned by someone who was using the changeling net to imitate Sinclair. Since the use of such a device would put out a lot of energy, Takashima uses her scanners to pinpoint an area of the station with a high concentration of unidentified energy use. Sinclair and Garibaldi head for that part of the station, just as a Vorlon squadron arrives in the vicinity of the station to pick up Sinclair for his voyage to the Vorlon homeworld. Sinclair and Garibaldi confront the mysterious assailant. Garibaldi is injured in the firefight and Sinclair faces the assassin himself. The changeling net is disabled, revealing the assailant to be a Minbari assassin. The assassin is a member of the Minbari warrior caste, and wanted to discredit Sinclair as retribution for Sinclair's role in the Earth-Minbari war ten years earlier. Sinclair asks the assassin why he did it; the assassin replies, \"There is a hole in your mind.\" Sinclair, being informed that the assassin has triggered an explosive charge, manages to get away just before an explosion rips a hole in the station's hull, throwing the station off its axis, and beginning to tear the station apart from the inside. Takashima uses the station stabilizers to reestablish the station's axis. The Vorlon delegation, now satisfied that Sinclair is innocent, drops all charges against him. In the station's garden, Sinclair reveals to Delenn what the Minbari assassin had said about the \"hole\" in Sinclair's mind. Delenn claims that it is just an old Minbari insult. Sinclair, however, tells her that he had fought in the climactic battle of the Earth-Minbari war, and that there is a twenty-four hour period in the climactic battle, just before the Minbari surrendered, that he can't account for. Takashima declares Babylon 5 open for business., Categories: \"Science Fiction\",  \"Adventure\",  \"Television movie\",  \"Mystery\",  \"Drama\",  \"Whodunit\"\n",
            "Recommendations:\n",
            "1, Id: 2525, Title: Trancers 6, Summary: In a return to the groundbreaking original film's premise, Jack Deth is back - traveling back in time and into the body of his own daughter, Josephine , on a mission to save her life and save the world from the most lethal Trancers yet. Jack/Jo must adapt and survive being a girl while avoiding many assassination attempts by more powerful and dangerous zombie-like Trancers than he's ever faced before., Categories: \"Thriller\",  \"Action/Adventure\",  \"Science Fiction\",  \"Action\",  \"Action Thrillers\"\n",
            "2, Id: 2647, Title: My Learned Friend, Summary: This comedy sees Will Hay playing a seedy lawyer, who finds himself marked for assassination by a forger whom he previously defended unsuccessfully. He teams up with an incompetent solicitor to try to prevent the deaths of others involved. The film climaxes with a sequence where Hay hangs from the hands of the clock face of Big Ben in an attempt to prevent a time bomb being detonated., Categories: \"Black comedy\",  \"Crime Comedy\",  \"Comedy\",  \"Black-and-white\"\n",
            "3, Id: 995, Title: I as in Icarus, Summary: The film's plot is based on the Kennedy assassination and subsequent investigation. The film begins with the assassination of President Marc Jarry, who is about to be inaugurated for a second six-year term of office. Henri Volney, state attorney and member of the commission charged with investigating the assassination  refuses to agree to the commission's final findings. The film portrays the initial controversy about this, as well as Volney and his staff's reopening of the investigation., Categories: \"Thriller\"\n",
            "4, Id: 1335, Title: Hissatsu: Sure Death, Summary: A group of common merchants in Edo  in the mid-1800s is really a band of assassins available for hire. Each assassin has his or her own unique killing style. But one assassin is killing other assassins, and the survivors must find out who is doing it before they are all killed. The rogue killer is referred to as \"Copper\" in the film, a reference to the assassin's gruesome calling card, which is a copper coin left in the mouth of each victim. The ultimate realization that \"Copper\" commands an army of assassins simply means that the climax involves an orgy of assassinations., Categories: \"Drama\"\n",
            "5, Id: 133, Title: Break, Summary: A terminally ill crime boss, known only as The Man, hires a hit man named Frank to carry out his own assassination as well as the assassination of The Woman he loves. When The Woman turns out to be Frank's long lost lover, he turns against The Man becoming the target himself., Categories: \"Crime Fiction\",  \"Crime Thriller\",  \"Action\",  \"Gangster Film\",  \"Drama\"\n",
            "6, Id: 4771, Title: Yakuza Demon, Summary:  Seiji  grew up as an orphan who was raised by Boss Muto, whom Seiji considers his father. The Muto family is composed only of Boss Muto, Seiji and Yoshi. However they are part of the Date syndicate. A rival syndicate, the Tendo, attack the Date family, which leads to a meeting in which Boss Muto was required to pay money to help finance the impending war. However Muto does not have enough so offers an assassination instead. To stop his boss from serving a sentence for murder, Seiji informs the police where Muto hides his gun. Boss Muto gets arrested and sentenced to serve 2 years in prison. Seiji and Yoshi rob the financier of the Tendo group and buy weapons from a Taiwanese dealer. The two then attempt to murder the head boss of the 15,000 member strong Tendo group. They nearly succeed as the boss is in critical condition. The act has compromised the future of the Date family. The Tendo family respond quickly with a wave of brutal murders. Seiji and Yoshi return to the Taiwanese dealer and tell him the two plan to attack the number two man of the Tendo family. Boss Muto is expelled from the Date clan, while in prison, because of Seiji's actions. Yoshi gets killed by an assassin squad under the order of the Tendo family, while visiting his girlfriend. After hearing of his bosses expulsion Seiji returns to the Date headquarters and shoots the first person who yells at him. A member of the Date clan explains boss Muto was expelled because he went to prison as when he was supposed to commit an assassination, so they think Boss Muto himself in to police. Seiji readily explains it was him who told on the boss. Seiji carries out the assassination of the number two boss and is shot shortly after. Seiji then goes to the bar of Boss Muto's wife, who takes him to a doctor. Soon after, Boss Date is assassinated. The Taiwanese arms dealer shows up at Boss Muto's wife's house with weapons. Before he leaves he tells her that Seiji must love her because of his actions. Boss Muto is murdered in prison. Seiji then retaliates by killing boss Muto's killer on the way to his trial. Seiji and boss Muto's wife plan to escape to the Philippines. As their boat begins to arrive, Boss Muto's wife throws Seiji's gun into the water with hopes of a peaceful future. As they turn to get their luggage, they notice a policeman, who had provided information to Seiji, hanging from a crane nearby. The two become aware they are cornered at the end of the dock and their boat turns around when it sees trouble. The assassin squad closes in on them and open fire as Seiji blocks all the shots from hitting Muto's wife. As Seiji lies dead, the leader of the assassin squad tells him that he's \"way too cool\" and walks off without harming boss Muto's wife., Categories: \"Thriller\",  \"Crime Fiction\",  \"Japanese Movies\",  \"World cinema\",  \"Gangster Film\",  \"Action/Adventure\",  \"Crime Thriller\",  \"Action\"\n",
            "7, Id: 949, Title: Naked Weapon, Summary: The movie opens with the assassination of a man of unknown identity. A team of three CIA officers, including Jack Chen , a rookie, watch through surveillance as a sexy female assassin named Fiona Birch  enters the man's heavily guarded apartment suite and, after having sex with him, kills him by breaking his spine with her bare hands. As she makes her escape in her white Porsche 911 GT3, her car is hit by a rocket. As the officers rush over to extricate her from the wreckage, a woman in a limousine shoots her to death. The woman in the limousine is revealed to be Madam M , the leader of a mysterious assassin organization, to which the killed assassin belonged. After the incident, young girls across the globe start disappearing one after another. The only relationship among them is that they are all trained in martial arts or sports. As correctly theorized by Jack, these girls have been abducted by Madam M and transported to an island to be trained to become professional assassins. After six years of gruesome training, only Charlene Ching , Katt  and Jing  survive and \"graduate\". The last test in order for them to graduate was a fight for survival/to the death test. Katt and Charlene, being friends, could not kill each other, and so each is accepted as the third survivor. To celebrate Madame M gives them all different wine which has drugs in it. As the drugs take effect Madame M calls her guards who brutally rape the girls, thus  making them ready for what was to come. The three girls are then sent on several missions around the world. During one of her missions in Hong Kong, Charlene coincidentally runs into her long-lost mother, Faye Ching . Jack, who has been following Madam M's case for the last six years, tracks Charlene down, but Charlene manages to knock him out and escape. Believing that Charlene would return to seek her mother, Jack waits outside Faye's house. However, Jing shows up first and stabs Faye. Jack tries to fend her off but was no match for her. Charlene shows up shortly and kills Jing after a fierce fight. The two then escort the wounded Faye to hospital. In order to regain their freedom, Charlene and Katt accept a final mission from Madam M. A yakuza boss, Ryuichi , has contracted Madam M to eliminate a traitor in his gang. The mission turns out to be Ryuichi's trap to avenge his partner, who was assassinated previously by one of Madam M's girls . Ryuichi kills Madam M and captures Katt, while Charlene escapes. Later, she and Katt went to the meeting place and finds that it was a trap. Ryuichi then shoots a dart containing a drug. Then while Jack was at the hospital, Charlene calls him to meet her at the beach. They end up making love and by the next morning she left a note in his shoe saying if they have fate then they will meet again. When Charlene returns the next day to rescue Katt, she watches helplessly through a bullet-proof glass as Katt, after being tortured, is killed by Ryuichi, with a sword. The enraged Charlene battles Ryuichi and through an intense fight, finally manages to kill him, using the technique used by Fiona Birch. After everything is over, Jack and Charlene's mother, Faye, are at a Chinese temple offering prayers. Faye jokingly says that these things  must have been all nonsense in Jack's point of view. But Jack tells her that although he never had a religion he feels peace every time he is in the temple. Faye commends his behavior and says that he should visit the temple more often. Meanwhile, we see Charlene in a Chinese temple praying for Katt's soul to rest in peace and she tells the deity that she wishes to be with the one she truly loves, Jack himself. Jack claims at the end of the movie that there are times when he is sure that Charlene is beside him; the last scene of the movie is Charlene watching Jack rush through the crowd looking for her., Categories: \"Thriller\",  \"Action Thrillers\",  \"World cinema\",  \"Action/Adventure\",  \"Martial Arts Film\",  \"Drama\",  \"Romance Film\",  \"Action\",  \"Chinese Movies\"\n",
            "8, Id: 2475, Title: Executive Action, Summary: The movie starts with a voice over stating that in an interview, President Lyndon Johnson was asked about the Kennedy Assassination and the Warren Commission report: he said he doubted seriously the findings of the Commission. The narration ends with the mention that the segment did not run on television and was cut from a program about Johnson.  The movie opens in June 1963 at a gathering of shadowy industrial, political and former US intelligence figures who are giving vent to their growing dissatisfaction with the Kennedy administration. The scene takes place in the plush surroundings of the lead conspirator, Robert Foster , presumably a Texas oil baron. He and the others are trying to convince Ferguson , a white-suited and mustachioed figure — a powerful oil magnate — to back their plans for an assassination of Kennedy. He remains unconvinced, saying \"I don't like such schemes. They're only tolerable when necessary, and only permissible when they work.\" James Farrington , a black ops specialist, is also among the group. The film then cuts to an unknown location in the desert where a shooting team is doing target practice at a moving object. One of the shooters says that they can only guarantee the operation's success by slowing down the target to 15&nbsp;mph. The film intercuts between conversations among the lead conspirators, Farrington and Foster, and preparations for the assassination. The approval of the man in the white suit is crucial to the conspirators, although Farrington proceeds to organize two shooting teams in anticipation that he will change his mind. We then see sequences of the man in the white suit watching contemporary newsreel and becoming clearly concerned at Kennedy's increasingly 'liberal' direction: action on civil rights, Nuclear Test Ban Treaty, nuclear disarmament. The deciding moment comes when he's watching an anti-Kennedy news report on the deteriorating situation in South Vietnam. It is followed by Kennedy's 'suicidal' October 1963 decision  to withdraw all US advisors from Vietnam by the end of 1965, effectively ending America's direct involvement in the Vietnam War. He picks up the phone to tell Foster he now fully supports their project. While the motives of the man in the white suit are clear, the film attempts to cast light on the murky paranoid fears of the conspirators through dialogues between Foster and Farrington. They are primarily concerned about the future of America and the security of ruling class white people around the world. Foster forecasts the population of the third world in 2000 at 7 billion, 'Most of them yellow, brown or black. All hungry and all determined to love; they'll swarm out of their breeding grounds into Europe and America'. He sees Vietnam as an opportunity to control the developing world and reduce its population to 550 million: 'I've seen the data,' says Foster, adding that they can then apply the same 'birth-control' methods to unwanted groups in the US: poor whites, blacks and Latinos. At the end of the film a photo collage is shown of 18 witnesses: all but two of whom died from unnatural causes within three years of the assassination. A voice-over says that an actuary of the British newspaper The Sunday Times calculated the probability that all these people who witnessed the assassination would die within that period of time to be 1000 trillion to one.The number given in The Sunday Times article on February 26, 1967 was in fact 100,000 trillion to one. In response to a request by the House Select Committee on Assassinations in 1978 for a copy of the actuarial study, the legal manager for the Times replied that the article was \"based on a careless journalistic mistake and should not have been published. This was realized by The Sunday Times editorial staff after the first edition — the one which goes to the United States and which I believe you have — had gone out, and later editions were amended … We asked [the actuary] the wrong question … what were the odds against fifteen named people out of the population of the United States dying within a short period of time … [instead of] the odds against fifteen of those included in the Warren Commission index dying within a given period,\" which they said would have been \"much lower.\" HSCA Hearings, vol. 4, p. 463–465. Robert M. Musen, vice president and senior actuary at Metropolitan Life Insurance Company, estimated that the odds of 15 people out of 2,479 in the Warren Commission index dying within a three-year period, assuming a median age of 40, would be 98.16 percent, or one out of 1.2. Assuming a median age of 35, the number would be 57.09 percent, or one out of 1.75. Vincent Bugliosi, Reclaiming History , p. 1013–14.  The film postulates that Lee Harvey Oswald is being steered to become the conspiracy's 'patsy'. The conspirators use a double of Oswald to shadow him in the weeks leading up to the assassination to leave behind a trail that the authorities can easily follow and link Oswald to the crime. The film makes no explicit link to US government agencies and the conspiracy, although the professionalism of Farrington's shooting team clearly indicates they have worked for the CIA on special assignments. The film implies that most of the law enforcement and government agencies were not involved, but just grossly inept: no special measures were taken for the president's safety in Dallas; there is no communication between the FBI, CIA and Secret Service on possible security risks; even the head of the Secret Service stays in Washington during the visit. This explanation helps understand why the authorities were so keen to pin the blame on Oswald, the rogue assassin, who is 'served up' by the conspirators to the authorities as an easy escape from any accusations of their own negligence. The post-assassination conspiracy is also covered in the film. Farrington tells the head of the shooting teams, who at this point don't know who their target is, that after this job he and his men will never have to work again. All the assassins are black ops professionals trained never to talk about operations they are involved in. Each one is offered $25,000 per year for the next five years provided the operation's cover isn't blown. If the cover remains intact in five years time  'every man jack of them'  will receive a further $100,000 into their Swiss bank accounts. The head of the shooting teams then tells Farrington: 'You just told me who we're going to hit.', Categories: \"Crime Fiction\",  \"Action/Adventure\",  \"Drama\",  \"Political thriller\",  \"Action\",  \"Political drama\"\n",
            "9, Id: 3213, Title: The Assassination Bureau, Summary: In London, during the early 1900s, aspiring journalist and women's rights campaigner Sonia Winter  uncovers an organization that specializes in killing for money, the Assassination Bureau, Limited. To bring about its destruction, she commissions the assassination of the bureau's own chairman, Ivan Dragomiloff . Far from being outraged or angry, Dragomiloff is amused and delighted and decides to put it to his own advantage. The guiding principle of his bureau, founded by his father, has always been that there was a moral reason why their victims should be killed &mdash; these have included despots and tyrants. More recently though, his elder colleagues have tended to kill more for financial gain than for moral reasons. Dragomiloff, therefore, decides to accept the commission of his own death and challenge the other board members: Kill him or he will kill them. With Miss Winter in tow, Dragomiloff sets off on a tour of Edwardian Europe, challenging and systematically purging the bureau's senior members. Little do they realise that this is a plot by Miss Winter's sponsor, newspaper publisher Lord Bostwick , to take over the bureau and plunge Europe into war&nbsp;&mdash; Bostwick is the bureau's vice-chairman and is bitter for having been passed over in favour of the founder's son. Bostwick and the other members of the Bureau plan to get rich quick by the \"biggest killing\" of them all&nbsp;&mdash; buying stocks in arms factories and then propelling Europe into war by assassinating all the heads of state of Europe while they attend a secret peace conference. Dragomiloff and Miss Winter uncover the plot&nbsp;&mdash; dropping a bomb from a Zeppelin airship on to the castle in Ruthenia where the kings, emperors and presidents of Europe are trying to avoid a possible war caused by the death of a Balkan prince who was killed by a bomb intended for Dragomiloff. Dragomiloff steals aboard the airship and destroys it, killing the remaining members of his board of directors. He is then decorated by the heads of state he has saved. It is implied that Dragomiloff may wed Miss Winter as well., Categories: \"Crime Fiction\",  \"Thriller\",  \"Crime Comedy\",  \"Comedy Thriller\",  \"Action/Adventure\",  \"Comedy\",  \"Crime Thriller\",  \"Black comedy\",  \"Action\"\n"
          ],
          "name": "stdout"
        }
      ]
    },
    {
      "cell_type": "code",
      "metadata": {
        "colab": {
          "base_uri": "https://localhost:8080/"
        },
        "id": "QshfnfWttmEe",
        "outputId": "418e8b23-6058-496a-9a4b-7d916c512338"
      },
      "source": [
        "ID = 42\r\n",
        "print(titles[ID])\r\n",
        "print(categories[ID])\r\n",
        "print(catbins[ID])\r\n",
        "print(corpus[ID])"
      ],
      "execution_count": null,
      "outputs": [
        {
          "output_type": "stream",
          "text": [
            "['Bombay Calling']\n",
            "['\"Culture & Society\",  \"Documentary\"']\n",
            "[0. 0. 0. 0. 0. 0. 0. 0. 0. 0. 0. 0. 0. 0. 0. 0. 0. 0. 0. 0. 0. 0. 0. 0.\n",
            " 0. 0. 0. 0. 0. 0. 0. 0. 0. 0. 0. 0. 0. 0. 0. 0. 0. 0. 0. 0. 0. 0. 0. 0.\n",
            " 0. 0. 0. 0. 0. 0. 0. 0. 0. 0. 0. 0. 0. 0. 0. 0. 0. 0. 0. 0. 0. 0. 0. 0.\n",
            " 0. 0. 0. 0. 0. 0. 0. 0. 0. 0. 0. 0. 0. 0. 0. 0. 0. 0. 0. 0. 1. 0. 0. 0.\n",
            " 0. 0. 0. 0. 0. 1. 0. 0. 0. 0. 0. 0. 0. 0. 0. 0. 0. 0. 0. 0. 0. 0. 0. 0.\n",
            " 0. 0. 0. 0. 0. 0. 0. 0. 0. 0. 0. 0. 0. 0. 0. 0. 0. 0. 0. 0. 0. 0. 0. 0.\n",
            " 0. 0. 0. 0. 0. 0. 0. 0. 0. 0. 0. 0. 0. 0. 0. 0. 0. 0. 0. 0. 0. 0. 0. 0.\n",
            " 0. 0. 0. 0. 0. 0. 0. 0. 0. 0. 0. 0. 0. 0. 0. 0. 0. 0. 0. 0. 0. 0. 0. 0.\n",
            " 0. 0. 0. 0. 0. 0. 0. 0. 0. 0. 0. 0. 0. 0. 0. 0. 0. 0. 0. 0. 0. 0. 0. 0.\n",
            " 0. 0. 0. 0. 0. 0. 0. 0. 0. 0. 0. 0. 0. 0. 0. 0. 0. 0. 0. 0. 0. 0. 0. 0.\n",
            " 0. 0. 0. 0. 0. 0. 0. 0. 0. 0. 0. 0. 0. 0. 0. 0. 0. 0. 0. 0. 0. 0. 0. 0.\n",
            " 0. 0. 0. 0. 0. 0. 0. 0. 0. 0. 0. 0. 0. 0. 0. 0. 0. 0. 0. 0. 0. 0. 0. 0.\n",
            " 0. 0. 0. 0. 0. 0. 0. 0. 0. 0. 0. 0. 0. 0. 0. 0. 0. 0. 0. 0. 0. 0. 0. 0.\n",
            " 0. 0. 0. 0. 0. 0. 0. 0. 0. 0.]\n",
            "Bombay Calling delves into the lives of a group of young Indians working outsourced jobs at a call center in Bombay. Without focusing too much on the politics, it profiles several characters as they train for and attempt to sell phone services to clients in the UK. The film shows both sides of the impact of globalization on India - the economic benefits, but also the break with tradition and loss of innocence the characters face. By the end of the film, the telemarketing venture has failed but the characters are resilient. For this reason, the film has been compared to Startup.com.http://www.eye.net/eye/issue/issue_08.10.06/film/onscreen_2.php\n"
          ],
          "name": "stdout"
        }
      ]
    },
    {
      "cell_type": "code",
      "metadata": {
        "colab": {
          "base_uri": "https://localhost:8080/"
        },
        "id": "PKaEkVNat0OR",
        "outputId": "494b4590-746d-4695-b070-bbe63474cb98"
      },
      "source": [
        "content_recommender(3260, 10)"
      ],
      "execution_count": 274,
      "outputs": [
        {
          "output_type": "stream",
          "text": [
            "Target movie:\n",
            "Id: 3260, Title: Dangerous Parking, Summary: Dangerous Parking tells the story of Noah Arkwright, a cult director in the indie film world, whose life is dominated by alcohol, drugs, and casual sex. Alcoholism and drug addiction have him firmly in their grasp - but Noah has no interest in acknowledging either until Kirstin, a reformed alcoholic, convinces him that he is heading for destruction and sets him on the path to reclaim himself. With the help of his best friend Ray and his new girlfriend Claire, Noah attempts to get his life back together. And that is when Mother Nature deals him the cruelest blow of all. Peter Howitt adapted the novel into a screenplay and directed the film, which he produced with Richard Johns. Principal photography was completed on November 16, 2006; the film was completed in May 2007., Categories: \"Drama\"\n",
            "Recommendations:\n",
            "1, Id: 320, Title: Bill W., Summary: The film includes interviews with several recovering alcoholics who are photographed in dark shadows to obscure their identity, and also makes use of dramatic reenactments to visualize key events in Wilson's life. Blake J. Evans portrays Wilson in the film., Categories: \"Biographical film\",  \"Historical drama\",  \"Documentary\"\n",
            "2, Id: 4466, Title: Dreams and Shadows, Summary: Billy , a teenage outcast drifts into his own vivid imagination to escape his bleak surroundings. His father  is a paraplegic whose own dreams of happiness have faded away in an alcoholic haze. In a twisted attempt to find his purpose in life, the teen hatches a plot to seek vengeance on the man who allegedly crippled his father many years ago. However, he soon finds that things aren't always what they seem, as his mission for revenge may ultimately become one for his very own survival., Categories: \"Drama\"\n",
            "3, Id: 1848, Title: Don't Talk to Strangers, Summary: The unhappy marriage of Jane  and her alcoholic policeman husband Bonner  leads to divorce and Jane get the custody for their son. Soon, she meets a gentleman in her workplace, after a few weeks they fall in love and get married. Gentleman Douglas Patrick Brody  and his new wife Jane Brody attempt to build a new life, and move to a new state. However, the ex-husband follows them. This is just a beginning of the story filled with suspense and surprises., Categories: \"Thriller\",  \"Psychological thriller\"\n",
            "4, Id: 2433, Title: When Love Is Not Enough: The Lois Wilson Story, Summary: In 1914, Lois Burnham, a college-educated woman from an affluent family, met and fell in love with Bill Wilson, a young man of modest means. They married in 1918, and after his return from World War I, the two set out to build a life together. While Lois worked as a nurse, Bill struggled to find his niche. Lois believed that Bill was destined for greatness, and despite his increasing reliance on alcohol, she showered him with love and support. Eventually, Lois persuaded a friend’s husband to hire Bill at his financial firm. By 1927, Bill was working on Wall Street and the couple was living a luxurious lifestyle. But despite Lois’s valiant efforts to control his drinking, Bill’s addiction to alcohol spiraled out-of-control. Soon his job, their lifestyle and their dreams were all gone. In 1935, after years of struggling to cover for Bill and trying desperately to manage his disease by herself, Lois finally saw him get and stay sober – not through her help, but from the support of a fellow alcoholic, Dr. Bob Smith. As Bill and Bob attained lasting sobriety and co-founded Alcoholics Anonymous, Lois began to feel neglected. Bill got and stayed sober without her help, and she felt isolated and resentful. Lois soon discovered she was not alone in her isolation and anger, and that there was a vast number of people whose lives and relationships had been devastated because a loved one was an alcoholic or drug addict. To help herself, and others like her, she co-founded Al-Anon in 1951., Categories: \"Biography\",  \"Drama\",  \"Biopic [feature]\",  \"Docudrama\",  \"Television movie\"\n",
            "5, Id: 1074, Title: Sathi Leelavathi, Summary: Sathi Leelavathi dealt with the evils of alcoholism and promoted prohibition. It also depicted the plight of plantation workers in Ceylon. It is the story of a young man who becomes an alcoholic and runs away to Ceylon and the difficulties he faces there., Categories: \"Drama\"\n",
            "6, Id: 2314, Title: Days of Wine and Roses, Summary: Public relations man Joe Clay  meets and falls in love with Kirsten Arnesen , a secretary. Kirsten is a teetotaler until Joe introduces her to social drinking. Reluctant at first, after her first few Brandy Alexanders, she admits that having a drink \"made me feel good.\" Despite the misgivings of her father , who runs a San Mateo landscaping business, they get married and have a daughter named Debbie. Joe slowly goes from the \"two-martini lunch\" to full-blown alcoholism. It affects his work and, in due time, he and Kirsten both succumb to the pleasures and pain of addiction. Joe is demoted due to poor performance brought on by too much booze. He is sent out of town on business. Kirsten finds the best way to pass the time is to drink, and drinks a lot. While drunk one afternoon, she causes a fire in their apartment and almost kills herself and their child. Joe eventually gets fired from the PR firm and goes from job to job over the next several years.  One day, Joe walks by a bar and sees his reflection in the window. He goes home and says to his wife: \"I walked by Union Square Bar. I was going to go in. Then I saw myself, my reflection in the window, and I thought, 'I wonder who that bum is.' And then I saw it was me. Now look at me. I'm a bum. Look at me! Look at you. You're a bum. Look at you. And look at us. Look at us. C'mon, look at us! See? A couple of bums.\" Seeking escape from their addiction, Joe and Kirsten work together in Mr. Arnesen's business and succeed in staying sober for a while. However, the urges are too strong, and after a late-night drinking binge, Joe destroys an entire greenhouse of his father-in-law's plants while looking for a stashed bottle of liquor. After commitment to a sanitarium, Joe finally gets sober for a while, with the help of Alcoholics Anonymous, a dedicated sponsor named Jim Hungerford  and regular AA meetings. When Joe tries to help Kirsten, he instead ends up drinking again, and goes to a liquor store that closed for the night. Joe breaks into the store and steals a bottle, resulting in another trip to the sanitarium. Hungerford warns him that he must keep sober no matter what, even if that means staying away from Kirsten. He explains to Joe how alcoholics often demonstrate obsessive behavior, pointing out that Kirsten's previous love of chocolate may have been the first sign of an addictive personality, and counsels him that most drinkers hate to drink alone. Joe eventually becomes sober for good and a responsible father to his child while holding down a steady job. He tries to make amends with his father-in-law by offering him an envelope full of cash for past debts and wrongs, but Mr. Arnesen lashes out at him for getting Kirsten involved in the alcoholic lifestyle. After calming down, Arnesen says that Kirsten has been disappearing for long stretches of time and picking up strangers in bars. One night, after Debbie is asleep, Kirsten comes to their apartment to attempt a reconciliation. Joe sees that if he were to give in, it could lead to more of his previous self-destructive behavior. Kirsten longs for going back to \"the way it was\" but as Joe explains to her, \"You remember how it really was? You and me and booze — a threesome. You and I were a couple of drunks on the sea of booze, and the boat sank. I got hold of something that kept me from going under, and I'm not going to let go of it. Not for you. Not for anyone. If you want to grab on, grab on. But there's just room for you and me — no threesome.\" Kirsten refuses to admit she's an alcoholic, but does acknowledge that without alcohol, she \"can't get over how dirty everything looks.\" \"You better give up on me,\" she says. When Debbie asks \"Daddy, will Mommy ever get well?\" he says \"I did, didn't I?\" When Kirsten leaves, Joe fights the urge to go after her. He looks down the street where Kirsten is walking, a \"Bar\" sign reflecting in the window., Categories: \"Addiction Drama\",  \"Marriage Drama\",  \"Drama\",  \"Black-and-white\",  \"Romantic drama\",  \"Romance Film\"\n",
            "7, Id: 4197, Title: Harlow, Summary: The film opens with Harlow as a struggling extra and bit actress dealing with her greedy stepfather Marino  and oblivious mother \"Mama Jean\" . With the help of Arthur Landau , she rises to fame and gains the unwanted attention of the Howard Hughes-inspired Richard Manley . She then marries Paul Bern , an absentee husband who kills himself some time after the marriage. His death, combined with the stress of her career leads Harlow on an odyssey of failed relationships and alcoholism, culminating in her death of pneumonia at the age of twenty-six., Categories: \"Biographical film\",  \"Biography\",  \"Drama\",  \"Black-and-white\"\n",
            "8, Id: 1143, Title: Aas Paas, Summary: Arun meets Seema by accident and both are attracted to each other. But Seema has a questionable background, which do create doubts in the minds of Arun and his mother. Arun is then involved in an accident, and everyone believes he is dead. Seema is devastated, and takes to alcohol, singing and dancing in a bar, and is raped by a man. Then Arun returns, and Seema is overjoyed to see him, but is hesitant to tell him about what had occurred. Arun takes Seema to his home, and introduces them to his family, namely his mom, his sister, Priti, and his brother-in-law, Prem. Seema is stunned and shocked when she sees Prem, for she recognizes him as the man who had raped her. Now Seema must decide to keep this terrible secret to herself and get married to Arun, or simply disappear from his life altogether, Categories: \"Romantic drama\",  \"Romance Film\",  \"Drama\",  \"World cinema\"\n",
            "9, Id: 2003, Title: Cakes Here, Summary: This is the story of an elderly couple that had worked all their life making a modest living out of selling cakes. Everthing they had they gave to their three children so they could have a better future. Thanks to their sacrifice, two of them were able to study abroad and now because of the social status they had accomplished, were too ashamed of their parents and denied knowing them. The third child, had become an alcoholic and his whereabouts were unknown to his parents.http://www.tvcnetworks.mx/blog-cinemexicano/?p=763/, Categories: \"Drama\"\n",
            "10, Id: 4603, Title: Manassinakkare, Summary: Kochu Thresia , is a rich widow, who craves to 'live' life, but is alienated by her children who are caught in the rat race for making money. At this juncture, she meets the young, down-to-earth Reji  in whom she finds a companion, and starts seeing him like a son. Reji eagerly fulfils all her wishes. From savouring the mouth-watering but 'forbidden' beef to riding on the elephant, they enjoy all the moments spent together. They even get arrested by the police for gambling. Meanwhile, in his efforts to control his alcoholic father Chacko ([[Innocent , from causing public nuisance, Reji takes over the fatherly role.http://www.imdb.com/title/tt0393452/plotsummary, Categories: \"Drama\",  \"Comedy\"\n"
          ],
          "name": "stdout"
        }
      ]
    },
    {
      "cell_type": "code",
      "metadata": {
        "colab": {
          "base_uri": "https://localhost:8080/"
        },
        "id": "5iAr6wsnBV6m",
        "outputId": "d8b5ba29-7b10-44e4-81d4-abbd642388c5"
      },
      "source": [
        ""
      ],
      "execution_count": 242,
      "outputs": [
        {
          "output_type": "execute_result",
          "data": {
            "text/plain": [
              "array(['\"Horror\"'], dtype=object)"
            ]
          },
          "metadata": {
            "tags": []
          },
          "execution_count": 242
        }
      ]
    },
    {
      "cell_type": "code",
      "metadata": {
        "id": "AYFKGAS_hzqv",
        "colab": {
          "base_uri": "https://localhost:8080/"
        },
        "outputId": "19d8eb3a-bdfa-432c-c54a-4dfe1c693a96"
      },
      "source": [
        "categories[446]"
      ],
      "execution_count": 217,
      "outputs": [
        {
          "output_type": "execute_result",
          "data": {
            "text/plain": [
              "array(['J. W. Coop'], dtype=object)"
            ]
          },
          "metadata": {
            "tags": []
          },
          "execution_count": 217
        }
      ]
    },
    {
      "cell_type": "markdown",
      "metadata": {
        "id": "8IvHkTUHyu78"
      },
      "source": [
        "## Βελτιστοποίηση\n",
        "\n",
        "Αφού υλοποιήσετε τη συνάρτηση `content_recommender` χρησιμοποιήστε τη για να βελτιστοποιήσετε την `TfidfVectorizer`. Συγκεκριμένα, αρχικά μπορείτε να δείτε τι επιστρέφει το σύστημα για τυχαίες ταινίες-στόχους και για ένα μικρό `max_recommendations` (2 ή 3). Αν σε κάποιες ταινίες το σύστημα μοιάζει να επιστρέφει σημασιολογικά κοντινές ταινίες σημειώστε το `ID` τους. Δοκιμάστε στη συνέχεια να βελτιστοποιήσετε την `TfidfVectorizer` για τα συγκεκριμένα `ID` ώστε να επιστρέφονται σημασιολογικά κοντινές ταινίες για μεγαλύτερο αριθμό `max_recommendations`. Παράλληλα, όσο βελτιστοποιείτε την `TfidfVectorizer`, θα πρέπει να λαμβάνετε καλές συστάσεις για μεγαλύτερο αριθμό τυχαίων ταινιών. Μπορείτε επίσης να βελτιστοποιήσετε τη συνάρτηση παρατηρώντας πολλά φαινόμενα που το σύστημα εκλαμβάνει ως ομοιότητα περιεχομένου ενώ επί της ουσίας δεν είναι επιθυμητό να συνυπολογίζονται (δείτε σχετικά το [FAQ](https://docs.google.com/document/d/1hou1gWXQuHAB7J2aV44xm_CtAWJ63q6Cu1V6OwyL_n0/edit?usp=sharing)). Ταυτόχρονα, μια άλλη κατεύθυνση της βελτιστοποίησης είναι να χρησιμοποιείτε τις παραμέτρους του `TfidfVectorizer` έτσι ώστε να μειώνονται οι διαστάσεις του Vector Space Model μέχρι το σημείο που θα αρχίσει να εμφανίζονται επιπτώσεις στην ποιότητα των συστάσεων. \n",
        "\n",
        "\n"
      ]
    },
    {
      "cell_type": "markdown",
      "metadata": {
        "id": "NPVK7Z5c1p5F"
      },
      "source": [
        "## Επεξήγηση επιλογών και ποιοτική ερμηνεία\n",
        "\n",
        "Σε markdown περιγράψτε πώς προχωρήσατε στις επιλογές σας για τη βελτιστοποίηση της `TfidfVectorizer`. Επίσης σε markdown δώστε 10 παραδείγματα (IDs) από τη συλλογή σας που επιστρέφουν καλά αποτελέσματα μέχρι `max_recommendations` (5 και παραπάνω) και σημειώστε συνοπτικά ποια είναι η θεματική που ενώνει τις ταινίες.\n",
        "\n",
        "Δείτε [εδώ](https://pastebin.com/raw/ZEvg5t3z) ένα παράδειγμα εξόδου του βελτιστοποιημένου συστήματος συστάσεων για την ταίνία [\"Q Planes\"](https://en.wikipedia.org/wiki/Q_Planes) με την κλήση της συνάρτησης για κάποιο seed `content_recommender(529,3)`. Είναι φανερό ότι η κοινή θεματική των ταινιών είναι τα αεροπλάνα, οι πτήσεις, οι πιλότοι, ο πόλεμος."
      ]
    },
    {
      "cell_type": "markdown",
      "metadata": {
        "id": "zOyDwcufjGoE"
      },
      "source": [
        "3201 thriller, crime fiction, police hunt\n",
        "\n",
        "120 assassination, intrigue, mystery\n",
        "\n",
        "42 India\n",
        "\n",
        "113 Asia, Japan,    war film, action\n",
        "\n",
        "943 (video) tapes, crime fiction,   thriller\n",
        "\n",
        "2178 άγρια φύση (wilderness), ιθαγενείς/πρωτόγονοι πολιτισμοί (primitive/native civilisations)\n",
        "\n",
        "3748 narrated\n",
        "\n",
        "4853 space,spaceships, aliens, sci-fi\n",
        "\n",
        "4101 acting\n",
        "\n",
        "3260 alcoholic"
      ]
    },
    {
      "cell_type": "markdown",
      "metadata": {
        "id": "4irg4K-IPSym"
      },
      "source": [
        "## Tip: persistence αντικειμένων με joblib.dump\n",
        "\n",
        "H βιβλιοθήκη [joblib](https://pypi.python.org/pypi/joblib) της Python δίνει κάποιες εξαιρετικά χρήσιμες ιδιότητες στην ανάπτυξη κώδικα: pipelining, παραλληλισμό, caching και variable persistence. Τις τρεις πρώτες ιδιότητες τις είδαμε στην πρώτη άσκηση. Στην παρούσα άσκηση θα μας φανεί χρήσιμη η τέταρτη, το persistence των αντικειμένων. Συγκεκριμένα μπορούμε με:\n",
        "\n",
        "```python\n",
        "joblib.dump(my_object, 'my_object.pkl') \n",
        "```\n",
        "\n",
        "να αποθηκεύσουμε οποιοδήποτε αντικείμενο-μεταβλητή (εδώ το `my_object`) απευθείας πάνω στο filesystem ως αρχείο, το οποίο στη συνέχεια μπορούμε να ανακαλέσουμε ως εξής:\n",
        "\n",
        "```python\n",
        "my_object = joblib.load('my_object.pkl')\n",
        "```\n",
        "\n",
        "Μπορούμε έτσι να ανακαλέσουμε μεταβλητές ακόμα και αφού κλείσουμε και ξανανοίξουμε το notebook, χωρίς να χρειαστεί να ακολουθήσουμε ξανά όλα τα βήματα ένα - ένα για την παραγωγή τους, κάτι ιδιαίτερα χρήσιμο αν αυτή η διαδικασία είναι χρονοβόρα.\n",
        "\n",
        "Ας αποθηκεύσουμε το `corpus_tf_idf` και στη συνέχεια ας το ανακαλέσουμε."
      ]
    },
    {
      "cell_type": "code",
      "metadata": {
        "id": "aESOPYQaPSyo",
        "scrolled": true,
        "colab": {
          "base_uri": "https://localhost:8080/"
        },
        "outputId": "82ee7204-2519-4ea7-e15a-a768c595d7bd"
      },
      "source": [
        "import joblib\n",
        "joblib.dump(corpus_tf_idf, 'corpus_tf_idf0.003-0.025-300.pkl') "
      ],
      "execution_count": null,
      "outputs": [
        {
          "output_type": "execute_result",
          "data": {
            "text/plain": [
              "['corpus_tf_idf0.003-0.025-300.pkl']"
            ]
          },
          "metadata": {
            "tags": []
          },
          "execution_count": 196
        }
      ]
    },
    {
      "cell_type": "markdown",
      "metadata": {
        "id": "7_rAEj5ZPSy1"
      },
      "source": [
        "\n",
        "\n",
        "Μπορείτε με ένα απλό `!ls` να δείτε ότι το αρχείο `corpus_tf_idf.pkl` υπάρχει στο filesystem σας (== persistence):"
      ]
    },
    {
      "cell_type": "code",
      "metadata": {
        "id": "ZhwXmTEIPSy3",
        "scrolled": true
      },
      "source": [
        "!ls -lh"
      ],
      "execution_count": null,
      "outputs": []
    },
    {
      "cell_type": "markdown",
      "metadata": {
        "id": "cey5AbkO475S"
      },
      "source": [
        "και μπορούμε να τα διαβάσουμε με `joblib.load`"
      ]
    },
    {
      "cell_type": "code",
      "metadata": {
        "id": "DSJPTKY8PSyu"
      },
      "source": [
        "corpus_tf_idf = joblib.load('corpus_tf_idf0.003-0.025-300.pkl')"
      ],
      "execution_count": null,
      "outputs": []
    },
    {
      "cell_type": "markdown",
      "metadata": {
        "id": "zHOQtO83PSy9"
      },
      "source": [
        "# Εφαρμογή 2.  Τοπολογική και σημασιολογική απεικόνιση της ταινιών με χρήση SOM\n",
        "<img src=\"https://i.imgur.com/Z4FdurD.jpg\" width=\"60%\">"
      ]
    },
    {
      "cell_type": "markdown",
      "metadata": {
        "id": "UB_clmizPSy-"
      },
      "source": [
        "## Δημιουργία dataset\n",
        "Στη δεύτερη εφαρμογή θα βασιστούμε στις τοπολογικές ιδιότητες των Self Organizing Maps (SOM) για να φτιάξουμε ενά χάρτη (grid) δύο διαστάσεων όπου θα απεικονίζονται όλες οι ταινίες της συλλογής της ομάδας με τρόπο χωρικά συνεκτικό ως προς το περιεχόμενο και κυρίως το είδος τους (ο παραπάνω χάρτης είναι ενδεικτικός, δεν αντιστοιχεί στο dataset μας). \n",
        "\n",
        "Η `build_final_set` αρχικά μετατρέπει την αραιή αναπαράσταση tf-idf της εξόδου της `TfidfVectorizer()` σε πυκνή (η [αραιή αναπαράσταση](https://en.wikipedia.org/wiki/Sparse_matrix) έχει τιμές μόνο για τα μη μηδενικά στοιχεία). \n",
        "\n",
        "Στη συνέχεια ενώνει την πυκνή `dense_tf_idf` αναπαράσταση και τις binarized κατηγορίες `catbins` των ταινιών ως επιπλέον στήλες (χαρακτηριστικά). Συνεπώς, κάθε ταινία αναπαρίσταται στο Vector Space Model από τα χαρακτηριστικά του TFIDF και τις κατηγορίες της.\n",
        "\n",
        "Τέλος, δέχεται ένα ορισμα για το πόσες ταινίες να επιστρέψει, με default τιμή όλες τις ταινίες (5000). Αυτό είναι χρήσιμο για να μπορείτε αν θέλετε να φτιάχνετε μικρότερα σύνολα δεδομένων ώστε να εκπαιδεύεται ταχύτερα το SOM."
      ]
    },
    {
      "cell_type": "code",
      "metadata": {
        "id": "U-FDDOkQPSzA"
      },
      "source": [
        "def build_final_set(doc_limit = 5000, tf_idf_only=False):\n",
        "    # convert sparse tf_idf to dense tf_idf representation\n",
        "    dense_tf_idf = corpus_tf_idf.toarray()[0:doc_limit,:]\n",
        "    if tf_idf_only:\n",
        "        # use only tf_idf\n",
        "        final_set = dense_tf_idf\n",
        "    else:\n",
        "        # append the binary categories features horizontaly to the (dense) tf_idf features\n",
        "        final_set = np.hstack((dense_tf_idf, catbins[0:doc_limit,:]))\n",
        "        # η somoclu θέλει δεδομένα σε float32\n",
        "    return np.array(final_set, dtype=np.float32)"
      ],
      "execution_count": null,
      "outputs": []
    },
    {
      "cell_type": "code",
      "metadata": {
        "id": "aF1B62UbPSzF"
      },
      "source": [
        "final_set = build_final_set(1000)"
      ],
      "execution_count": null,
      "outputs": []
    },
    {
      "cell_type": "markdown",
      "metadata": {
        "id": "KjvPPENS_dYL"
      },
      "source": [
        "Τυπώνουμε τις διαστάσεις του τελικού dataset μας. Χωρίς βελτιστοποίηση του TFIDF θα έχουμε περίπου 50.000 χαρακτηριστικά."
      ]
    },
    {
      "cell_type": "code",
      "metadata": {
        "id": "fvEgNn-L-jEw"
      },
      "source": [
        "final_set.shape"
      ],
      "execution_count": null,
      "outputs": []
    },
    {
      "cell_type": "markdown",
      "metadata": {
        "id": "Om7PoyDVCqis"
      },
      "source": [
        "Με βάση την εμπειρία σας στην προετοιμασία των δεδομένων στην επιβλεπόμενη μάθηση, υπάρχει κάποιο βήμα προεπεξεργασίας που θα μπορούσε να εφαρμοστεί σε αυτό το dataset; "
      ]
    },
    {
      "cell_type": "markdown",
      "metadata": {
        "id": "8tikdip0PSzQ"
      },
      "source": [
        "## Εκπαίδευση χάρτη SOM\n",
        "\n",
        "Θα δουλέψουμε με τη βιβλιοθήκη SOM [\"Somoclu\"](http://somoclu.readthedocs.io/en/stable/index.html). Εισάγουμε τις somoclu και matplotlib και λέμε στη matplotlib να τυπώνει εντός του notebook (κι όχι σε pop up window)."
      ]
    },
    {
      "cell_type": "code",
      "metadata": {
        "id": "oX9rzxGSPSzR"
      },
      "source": [
        "# install somoclu\n",
        "!pip install --upgrade somoclu\n",
        "# import sompoclu, matplotlib\n",
        "import somoclu\n",
        "import matplotlib\n",
        "# we will plot inside the notebook and not in separate window\n",
        "%matplotlib inline"
      ],
      "execution_count": null,
      "outputs": []
    },
    {
      "cell_type": "markdown",
      "metadata": {
        "id": "EqBfn0ijPSzX"
      },
      "source": [
        "Καταρχάς διαβάστε το [function reference](http://somoclu.readthedocs.io/en/stable/reference.html) του somoclu. Θα δoυλέψουμε με χάρτη τύπου planar, παραλληλόγραμμου σχήματος νευρώνων με τυχαία αρχικοποίηση (όλα αυτά είναι default). Μπορείτε να δοκιμάσετε διάφορα μεγέθη χάρτη ωστόσο όσο ο αριθμός των νευρώνων μεγαλώνει, μεγαλώνει και ο χρόνος εκπαίδευσης. Για το training δεν χρειάζεται να ξεπεράσετε τα 100 epochs. Σε γενικές γραμμές μπορούμε να βασιστούμε στις default παραμέτρους μέχρι να έχουμε τη δυνατότητα να οπτικοποιήσουμε και να αναλύσουμε ποιοτικά τα αποτελέσματα. Ξεκινήστε με ένα χάρτη 10 x 10, 100 epochs training και ένα υποσύνολο των ταινιών (π.χ. 2000). Χρησιμοποιήστε την `time` για να έχετε μια εικόνα των χρόνων εκπαίδευσης. Ενδεικτικά, με σωστή κωδικοποίηση tf-idf, μικροί χάρτες για λίγα δεδομένα (1000-2000) παίρνουν γύρω στο ένα λεπτό ενώ μεγαλύτεροι χάρτες με όλα τα δεδομένα μπορούν να πάρουν 10-15 λεπτά ή και περισσότερο.\n"
      ]
    },
    {
      "cell_type": "code",
      "metadata": {
        "id": "INxV0BAhCUOD"
      },
      "source": [
        "som = somoclu.Somoclu(20, 20, verbose=2)\n",
        "\n",
        "%time som.train(final_set, 100)"
      ],
      "execution_count": null,
      "outputs": []
    },
    {
      "cell_type": "markdown",
      "metadata": {
        "id": "ntd2GE9SaHiS"
      },
      "source": [
        "\n",
        "## Best matching units\n",
        "\n",
        "Μετά από κάθε εκπαίδευση αποθηκεύστε σε μια μεταβλητή τα best matching units (bmus) για κάθε ταινία. Τα bmus μας δείχνουν σε ποιο νευρώνα ανήκει η κάθε ταινία. Προσοχή: η σύμβαση των συντεταγμένων των νευρώνων είναι (στήλη, γραμμή) δηλαδή το ανάποδο από την Python. Με χρήση της [np.unique](https://docs.scipy.org/doc/numpy-1.13.0/reference/generated/numpy.unique.html) (μια πολύ χρήσιμη συνάρτηση στην άσκηση) αποθηκεύστε τα μοναδικά best matching units και τους δείκτες τους (indices) προς τις ταινίες. Σημειώστε ότι μπορεί να έχετε λιγότερα μοναδικά bmus από αριθμό νευρώνων γιατί μπορεί σε κάποιους νευρώνες να μην έχουν ανατεθεί ταινίες. Ως αριθμό νευρώνα θα θεωρήσουμε τον αριθμό γραμμής στον πίνακα μοναδικών bmus.\n"
      ]
    },
    {
      "cell_type": "code",
      "metadata": {
        "id": "1HGcyuyjCXpC"
      },
      "source": [
        "act_map = som.get_surface_state()\n",
        "bmus = np.unique(som.get_bmus(act_map), return_index=True, axis=0)"
      ],
      "execution_count": null,
      "outputs": []
    },
    {
      "cell_type": "markdown",
      "metadata": {
        "id": "grzqcyHyaKdg"
      },
      "source": [
        "\n",
        "## Ομαδοποίηση (clustering)\n",
        "\n",
        "Τυπικά, η ομαδοποίηση σε ένα χάρτη SOM προκύπτει από το unified distance matrix (U-matrix): για κάθε κόμβο υπολογίζεται η μέση απόστασή του από τους γειτονικούς κόμβους. Εάν χρησιμοποιηθεί μπλε χρώμα στις περιοχές του χάρτη όπου η τιμή αυτή είναι χαμηλή (μικρή απόσταση) και κόκκινο εκεί που η τιμή είναι υψηλή (μεγάλη απόσταση), τότε μπορούμε να πούμε ότι οι μπλε περιοχές αποτελούν clusters και οι κόκκινες αποτελούν σύνορα μεταξύ clusters.\n",
        "\n",
        "To somoclu δίνει την επιπρόσθετη δυνατότητα να κάνουμε ομαδοποίηση των νευρώνων χρησιμοποιώντας οποιονδήποτε αλγόριθμο ομαδοποίησης του scikit-learn. Στην άσκηση θα χρησιμοποιήσουμε τον k-Means. Για τον αρχικό σας χάρτη δοκιμάστε ένα k=20 ή 25. Οι δύο προσεγγίσεις ομαδοποίησης είναι διαφορετικές, οπότε περιμένουμε τα αποτελέσματα να είναι κοντά αλλά όχι τα ίδια.\n"
      ]
    },
    {
      "cell_type": "code",
      "metadata": {
        "id": "un3UwCtxCb92"
      },
      "source": [
        "from sklearn.cluster import KMeans\n",
        "\n",
        "kmeans = KMeans(25)\n",
        "\n",
        "som.cluster(kmeans)"
      ],
      "execution_count": null,
      "outputs": []
    },
    {
      "cell_type": "code",
      "metadata": {
        "id": "nzNBNYD5Ci3L"
      },
      "source": [
        "som.view_umatrix(figsize=(15, 15), bestmatches=True, colorbar=True)"
      ],
      "execution_count": null,
      "outputs": []
    },
    {
      "cell_type": "code",
      "metadata": {
        "id": "xvIteca8ClYg"
      },
      "source": [
        "print(som.clusters)"
      ],
      "execution_count": null,
      "outputs": []
    },
    {
      "cell_type": "markdown",
      "metadata": {
        "id": "2nupuqcuaMe3"
      },
      "source": [
        "\n",
        "## Αποθήκευση του SOM\n",
        "\n",
        "Επειδή η αρχικοποίηση του SOM γίνεται τυχαία και το clustering είναι και αυτό στοχαστική διαδικασία, οι θέσεις και οι ετικέτες των νευρώνων και των clusters θα είναι διαφορετικές κάθε φορά που τρέχετε τον χάρτη, ακόμα και με τις ίδιες παραμέτρους. Για να αποθηκεύσετε ένα συγκεκριμένο som και clustering χρησιμοποιήστε και πάλι την `joblib`. Μετά την ανάκληση ενός SOM θυμηθείτε να ακολουθήσετε τη διαδικασία για τα bmus.\n"
      ]
    },
    {
      "cell_type": "code",
      "metadata": {
        "id": "-4a74j3fConG"
      },
      "source": [
        "joblib.dump(som, 'som-1000-20x20.pkl')\n",
        "joblib.dump(bmus, 'bmus-1000-20x20.pkl')"
      ],
      "execution_count": null,
      "outputs": []
    },
    {
      "cell_type": "markdown",
      "metadata": {
        "id": "ejX0Qs18aRHU"
      },
      "source": [
        "\n",
        "## Οπτικοποίηση U-matrix, clustering και μέγεθος clusters\n",
        "\n",
        "Για την εκτύπωση του U-matrix χρησιμοποιήστε τη `view_umatrix` με ορίσματα `bestmatches=True` και `figsize=(15, 15)` ή `figsize=(20, 20)`. Τα διαφορετικά χρώματα που εμφανίζονται στους κόμβους αντιπροσωπεύουν τα διαφορετικά clusters που προκύπτουν από τον k-Means. Μπορείτε να εμφανίσετε τη λεζάντα του U-matrix με το όρισμα `colorbar`. Μην τυπώνετε τις ετικέτες (labels) των δειγμάτων, είναι πολύ μεγάλος ο αριθμός τους.\n",
        "\n",
        "Για μια δεύτερη πιο ξεκάθαρη οπτικοποίηση του clustering τυπώστε απευθείας τη μεταβλητή `clusters`.\n",
        "\n",
        "Τέλος, χρησιμοποιώντας πάλι την `np.unique` (με διαφορετικό όρισμα) και την `np.argsort` (υπάρχουν και άλλοι τρόποι υλοποίησης) εκτυπώστε τις ετικέτες των clusters (αριθμοί από 0 έως k-1) και τον αριθμό των νευρώνων σε κάθε cluster, με φθίνουσα ή αύξουσα σειρά ως προς τον αριθμό των νευρώνων. Ουσιαστικά είναι ένα εργαλείο για να βρίσκετε εύκολα τα μεγάλα και μικρά clusters. \n",
        "\n",
        "Ακολουθεί ένα μη βελτιστοποιημένο παράδειγμα για τις τρεις προηγούμενες εξόδους:\n",
        "\n",
        "<img src=\"https://image.ibb.co/i0tsfR/umatrix_s.jpg\" width=\"35%\">\n",
        "<img src=\"https://image.ibb.co/nLgHEm/clusters.png\" width=\"35%\">\n",
        "\n"
      ]
    },
    {
      "cell_type": "markdown",
      "metadata": {
        "id": "fMO_KcQYaTv-"
      },
      "source": [
        "\n",
        "## Σημασιολογική ερμηνεία των clusters\n",
        "\n",
        "Προκειμένου να μελετήσουμε τις τοπολογικές ιδιότητες του SOM και το αν έχουν ενσωματώσει σημασιολογική πληροφορία για τις ταινίες διαμέσου της διανυσματικής αναπαράστασης με το tf-idf και των κατηγοριών, χρειαζόμαστε ένα κριτήριο ποιοτικής επισκόπησης των clusters. Θα υλοποιήσουμε το εξής κριτήριο: Λαμβάνουμε όρισμα έναν αριθμό (ετικέτα) cluster. Για το cluster αυτό βρίσκουμε όλους τους νευρώνες που του έχουν ανατεθεί από τον k-Means. Για όλους τους νευρώνες αυτούς βρίσκουμε όλες τις ταινίες που τους έχουν ανατεθεί (για τις οποίες αποτελούν bmus). Για όλες αυτές τις ταινίες τυπώνουμε ταξινομημένη τη συνολική στατιστική όλων των ειδών (κατηγοριών) και τις συχνότητές τους. Αν το cluster διαθέτει καλή συνοχή και εξειδίκευση, θα πρέπει κάποιες κατηγορίες να έχουν σαφώς μεγαλύτερη συχνότητα από τις υπόλοιπες. Θα μπορούμε τότε να αναθέσουμε αυτήν/ές την/τις κατηγορία/ες ως ετικέτες κινηματογραφικού είδους στο cluster.\n",
        "\n",
        "Μπορείτε να υλοποιήσετε τη συνάρτηση αυτή όπως θέλετε. Μια πιθανή διαδικασία θα μπορούσε να είναι η ακόλουθη:\n",
        "\n",
        "1. Ορίζουμε συνάρτηση `print_categories_stats` που δέχεται ως είσοδο λίστα με ids ταινιών. Δημιουργούμε μια κενή λίστα συνολικών κατηγοριών. Στη συνέχεια, για κάθε ταινία επεξεργαζόμαστε το string `categories` ως εξής: δημιουργούμε μια λίστα διαχωρίζοντας το string κατάλληλα με την `split` και αφαιρούμε τα whitespaces μεταξύ ετικετών με την `strip`. Προσθέτουμε τη λίστα αυτή στη συνολική λίστα κατηγοριών με την `extend`. Τέλος χρησιμοποιούμε πάλι την `np.unique` για να μετρήσουμε συχνότητα μοναδικών ετικετών κατηγοριών και ταξινομούμε με την `np.argsort`. Τυπώνουμε τις κατηγορίες και τις συχνότητες εμφάνισης ταξινομημένα. Χρήσιμες μπορεί να σας φανούν και οι `np.ravel`, `np.nditer`, `np.array2string` και `zip`.\n",
        "\n",
        "2. Ορίζουμε τη βασική μας συνάρτηση `print_cluster_neurons_movies_report` που δέχεται ως όρισμα τον αριθμό ενός cluster. Με τη χρήση της `np.where` μπορούμε να βρούμε τις συντεταγμένες των bmus που αντιστοιχούν στο cluster και με την `column_stack` να φτιάξουμε έναν πίνακα bmus για το cluster. Προσοχή στη σειρά (στήλη - σειρά) στον πίνακα bmus. Για κάθε bmu αυτού του πίνακα ελέγχουμε αν υπάρχει στον πίνακα μοναδικών bmus που έχουμε υπολογίσει στην αρχή συνολικά και αν ναι προσθέτουμε το αντίστοιχο index του νευρώνα σε μια λίστα. Χρήσιμες μπορεί να είναι και οι `np.rollaxis`, `np.append`, `np.asscalar`. Επίσης πιθανώς να πρέπει να υλοποιήσετε ένα κριτήριο ομοιότητας μεταξύ ενός bmu και ενός μοναδικού bmu από τον αρχικό πίνακα bmus.\n",
        "\n",
        "3. Υλοποιούμε μια βοηθητική συνάρτηση `neuron_movies_report`. Λαμβάνει ένα σύνολο νευρώνων από την `print_cluster_neurons_movies_report` και μέσω της `indices` φτιάχνει μια λίστα με το σύνολο ταινιών που ανήκουν σε αυτούς τους νευρώνες. Στο τέλος καλεί με αυτή τη λίστα την `print_categories_stats` που τυπώνει τις στατιστικές των κατηγοριών.\n",
        "\n",
        "Μπορείτε βέβαια να προσθέσετε οποιαδήποτε επιπλέον έξοδο σας βοηθάει. Μια χρήσιμη έξοδος είναι πόσοι νευρώνες ανήκουν στο cluster και σε πόσους και ποιους από αυτούς έχουν ανατεθεί ταινίες.\n",
        "\n",
        "Θα επιτελούμε τη σημασιολογική ερμηνεία του χάρτη καλώντας την `print_cluster_neurons_movies_report` με τον αριθμός ενός cluster που μας ενδιαφέρει. \n",
        "\n",
        "Παράδειγμα εξόδου για ένα cluster (μη βελτιστοποιημένος χάρτης, ωστόσο βλέπετε ότι οι μεγάλες κατηγορίες έχουν σημασιολογική  συνάφεια):\n",
        "\n",
        "```\n",
        "Overall Cluster Genres stats:  \n",
        "[('\"Horror\"', 86), ('\"Science Fiction\"', 24), ('\"B-movie\"', 16), ('\"Monster movie\"', 10), ('\"Creature Film\"', 10), ('\"Indie\"', 9), ('\"Zombie Film\"', 9), ('\"Slasher\"', 8), ('\"World cinema\"', 8), ('\"Sci-Fi Horror\"', 7), ('\"Natural horror films\"', 6), ('\"Supernatural\"', 6), ('\"Thriller\"', 6), ('\"Cult\"', 5), ('\"Black-and-white\"', 5), ('\"Japanese Movies\"', 4), ('\"Short Film\"', 3), ('\"Drama\"', 3), ('\"Psychological thriller\"', 3), ('\"Crime Fiction\"', 3), ('\"Monster\"', 3), ('\"Comedy\"', 2), ('\"Western\"', 2), ('\"Horror Comedy\"', 2), ('\"Archaeology\"', 2), ('\"Alien Film\"', 2), ('\"Teen\"', 2), ('\"Mystery\"', 2), ('\"Adventure\"', 2), ('\"Comedy film\"', 2), ('\"Combat Films\"', 1), ('\"Chinese Movies\"', 1), ('\"Action/Adventure\"', 1), ('\"Gothic Film\"', 1), ('\"Costume drama\"', 1), ('\"Disaster\"', 1), ('\"Docudrama\"', 1), ('\"Film adaptation\"', 1), ('\"Film noir\"', 1), ('\"Parody\"', 1), ('\"Period piece\"', 1), ('\"Action\"', 1)]```\n",
        "   "
      ]
    },
    {
      "cell_type": "markdown",
      "metadata": {
        "id": "lq4QrImhaa7E"
      },
      "source": [
        "\n",
        "## Tips για το SOM και το clustering\n",
        "\n",
        "- Για την ομαδοποίηση ένα U-matrix καλό είναι να εμφανίζει και μπλε-πράσινες περιοχές (clusters) και κόκκινες περιοχές (ορίων). Παρατηρήστε ποια σχέση υπάρχει μεταξύ αριθμού ταινιών στο final set, μεγέθους grid και ποιότητας U-matrix.\n",
        "- Για το k του k-Means προσπαθήστε να προσεγγίζει σχετικά τα clusters του U-matrix (όπως είπαμε είναι διαφορετικοί μέθοδοι clustering). Μικρός αριθμός k δεν θα σέβεται τα όρια. Μεγάλος αριθμός θα δημιουργεί υπο-clusters εντός των clusters που φαίνονται στο U-matrix. Το τελευταίο δεν είναι απαραίτητα κακό, αλλά μεγαλώνει τον αριθμό clusters που πρέπει να αναλυθούν σημασιολογικά.\n",
        "- Σε μικρούς χάρτες και με μικρά final sets δοκιμάστε διαφορετικές παραμέτρους για την εκπαίδευση του SOM. Σημειώστε τυχόν παραμέτρους που επηρεάζουν την ποιότητα του clustering για το dataset σας ώστε να τις εφαρμόσετε στους μεγάλους χάρτες.\n",
        "- Κάποια τοπολογικά χαρακτηριστικά εμφανίζονται ήδη σε μικρούς χάρτες. Κάποια άλλα χρειάζονται μεγαλύτερους χάρτες. Δοκιμάστε μεγέθη 20x20, 25x25 ή και 30x30 και αντίστοιχη προσαρμογή των k. Όσο μεγαλώνουν οι χάρτες, μεγαλώνει η ανάλυση του χάρτη αλλά μεγαλώνει και ο αριθμός clusters που πρέπει να αναλυθούν.\n"
      ]
    },
    {
      "cell_type": "markdown",
      "metadata": {
        "id": "x4IUl8O8ayVf"
      },
      "source": [
        "\n",
        "\n",
        "## Ανάλυση τοπολογικών ιδιοτήτων χάρτη SOM\n",
        "\n",
        "Μετά το πέρας της εκπαίδευσης και του clustering θα έχετε ένα χάρτη με τοπολογικές ιδιότητες ως προς τα είδη των ταίνιών της συλλογής σας, κάτι αντίστοιχο με την εικόνα στην αρχή της Εφαρμογής 2 αυτού του notebook (η συγκεκριμένη εικόνα είναι μόνο για εικονογράφιση, δεν έχει καμία σχέση με τη συλλογή δεδομένων και τις κατηγορίες μας).\n",
        "\n",
        "Για τον τελικό χάρτη SOM που θα παράξετε για τη συλλογή σας, αναλύστε σε markdown με συγκεκριμένη αναφορά σε αριθμούς clusters και τη σημασιολογική ερμηνεία τους τις εξής τρεις τοπολογικές ιδιότητες του SOM: \n",
        "\n",
        "1. Δεδομένα που έχουν μεγαλύτερη πυκνότητα πιθανότητας στο χώρο εισόδου τείνουν να απεικονίζονται με περισσότερους νευρώνες στο χώρο μειωμένης διαστατικότητας. Δώστε παραδείγματα από συχνές και λιγότερο συχνές κατηγορίες ταινιών. Χρησιμοποιήστε τις στατιστικές των κατηγοριών στη συλλογή σας και τον αριθμό κόμβων που χαρακτηρίζουν.\n",
        "2. Μακρινά πρότυπα εισόδου τείνουν να απεικονίζονται απομακρυσμένα στο χάρτη. Υπάρχουν χαρακτηριστικές κατηγορίες ταινιών που ήδη από μικρούς χάρτες τείνουν να τοποθετούνται σε διαφορετικά ή απομονωμένα σημεία του χάρτη.\n",
        "3. Κοντινά πρότυπα εισόδου τείνουν να απεικονίζονται κοντά στο χάρτη. Σε μεγάλους χάρτες εντοπίστε είδη ταινιών και κοντινά τους υποείδη.\n",
        "\n",
        "Προφανώς τοποθέτηση σε 2 διαστάσεις που να σέβεται μια απόλυτη τοπολογία δεν είναι εφικτή, αφενός γιατί δεν υπάρχει κάποια απόλυτη εξ ορισμού για τα κινηματογραφικά είδη ακόμα και σε πολλές διαστάσεις, αφετέρου γιατί πραγματοποιούμε μείωση διαστατικότητας.\n",
        "\n",
        "Εντοπίστε μεγάλα clusters και μικρά clusters που δεν έχουν σαφή χαρακτηριστικά. Εντοπίστε clusters συγκεκριμένων ειδών που μοιάζουν να μην έχουν τοπολογική συνάφεια με γύρω περιοχές. Προτείνετε πιθανές ερμηνείες.\n",
        "\n",
        "\n",
        "\n",
        "Τέλος, εντοπίστε clusters που έχουν κατά την άποψή σας ιδιαίτερο ενδιαφέρον στη συλλογή της ομάδας σας (data exploration / discovery value) και σχολιάστε.\n"
      ]
    },
    {
      "cell_type": "markdown",
      "metadata": {
        "id": "tYjxGR5DawIy"
      },
      "source": [
        "\n",
        "# Τελική παράδοση άσκησης\n",
        "\n",
        "- Θα παραδώσετε στο eclass το παρόν notebook επεξεργασμένο ή ένα νέο με τις απαντήσεις σας για τα ζητούμενα και των δύο εφαρμογών. \n",
        "- Θυμηθείτε ότι η ανάλυση του χάρτη στο markdown με αναφορά σε αριθμούς clusters πρέπει να αναφέρεται στον τελικό χάρτη με τα κελιά ορατά που θα παραδώσετε αλλιώς ο χάρτης που θα προκύψει θα είναι διαφορετικός και τα labels των clusters δεν θα αντιστοιχούν στην ανάλυσή σας. \n",
        "- Μην ξεχάσετε στην αρχή ένα κελί markdown με **τα στοιχεία της ομάδας σας**.\n",
        "- Στο **zip** που θα παραδώσετε πρέπει να βρίσκονται **2 αρχεία (το .ipynb και το .py του notebook σας)**."
      ]
    },
    {
      "cell_type": "markdown",
      "metadata": {
        "id": "UHhCkvxjnitd"
      },
      "source": [
        "<table>\n",
        "  <tr><td align=\"center\">\n",
        "    <font size=\"4\">Παρακαλούμε διατρέξτε βήμα-βήμα το notebook για να μην ξεχάσετε παραδοτέα!</font>\n",
        "</td>\n",
        "  </tr>\n",
        "</table>"
      ]
    }
  ]
}