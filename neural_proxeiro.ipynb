{
  "nbformat": 4,
  "nbformat_minor": 0,
  "metadata": {
    "colab": {
      "name": "neural-proxeiro.ipynb",
      "provenance": [],
      "collapsed_sections": []
    },
    "kernelspec": {
      "name": "python3",
      "display_name": "Python 3"
    }
  },
  "cells": [
    {
      "cell_type": "code",
      "metadata": {
        "id": "IRQaDy0sj_mR",
        "outputId": "81b04ade-ae04-4d37-ac0a-0ed1cf220085",
        "colab": {
          "base_uri": "https://localhost:8080/"
        }
      },
      "source": [
        "from sklearn.impute import SimpleImputer\n",
        "import pandas as pd\n",
        "import numpy as np\n",
        "all_data = pd.read_csv(\"crx.data\", header = None)\n",
        "all_data.replace('?', np.NaN, inplace=True)\n",
        "\n",
        "data_train = all_data.iloc[:138,:] # 138 = 20% (690)\n",
        "data_test = all_data.iloc[138:,:] \n",
        "\n",
        "imp = SimpleImputer(missing_values=np.NaN, strategy=\"most_frequent\")\n",
        "cat_data_train = list ()\n",
        "num_data_train = list ()\n",
        "cat_data_test = list ()\n",
        "num_data_test = list ()\n",
        "cat_cols = [1,4,5,6,7,9,10,12,13]\n",
        "for col in cat_cols :\n",
        "  cat_data_train.append(pd.DataFrame(imp.fit_transform(data_train.iloc[:,[col-1]])))\n",
        "  cat_data_test.append(pd.DataFrame(imp.transform(data_test.iloc[:,[col-1]])))\n",
        "num_cols = [2,3,8,11,14,15]\n",
        "imp = SimpleImputer(missing_values=np.NaN, strategy=\"mean\")\n",
        "for col in num_cols :\n",
        "  num_data_train.append(pd.DataFrame(imp.fit_transform(data_train.iloc[:,[col-1]])))\n",
        "  num_data_test.append(pd.DataFrame(imp.transform(data_test.iloc[:,[col-1]])))\n",
        "j1 , j2 = 0, 0\n",
        "\n",
        "idata_train = pd.DataFrame()\n",
        "idata_test = pd.DataFrame()\n",
        "for col in range(1,16) :\n",
        "  if j2 < 9 and cat_cols[j2] == col :\n",
        "    idata_train = pd.concat([idata_train,cat_data_train[j2]],join=\"outer\",axis=1)\n",
        "    idata_test = pd.concat([idata_test, cat_data_test[j2]],join=\"outer\",axis=1)\n",
        "    j2 = j2 + 1\n",
        "  else :\n",
        "    idata_train = pd.concat([idata_train,num_data_train[j1]],join=\"outer\",axis=1)\n",
        "    idata_test = pd.concat([idata_test,num_data_test[j1]],join=\"outer\",axis=1)    \n",
        "    j1 = j1 + 1\n",
        "\n",
        "idata_train.columns = list(range(1,16))\n",
        "idata_test.columns = list(range(1,16))\n",
        "\n",
        "# NEW CODE HERE -- NOTE : columns must be 46 and that is what the output shows\n",
        "temp = pd.concat([idata_train,idata_test], join=\"outer\", axis=0)\n",
        "dummy_data = pd.get_dummies(temp, [0,3,4,5,6,8,9,11,12])\n",
        "np_dummy_data = dummy_data.apply(pd.to_numeric).values\n",
        "\n",
        "np_data_train = np_dummy_data[:138,:]\n",
        "np_data_test = np_dummy_data[138:,:]\n",
        "\n",
        "labels_train = data_train.iloc[:,[15]]\n",
        "labels_test = data_test.iloc[:,[15]]\n",
        "labels_train.columns = [15]\n",
        "labels_train.columns = [15]\n",
        "mapping = {'-' : 0, '+' : 1}\n",
        "labels_train[15] = labels_train[15].map(mapping)\n",
        "labels_test[15] = labels_test[15].map(mapping)\n",
        "\n",
        "np_labels_train = labels_train.values.flatten()\n",
        "np_labels_test = labels_test.values.flatten()"
      ],
      "execution_count": 23,
      "outputs": [
        {
          "output_type": "stream",
          "text": [
            "/usr/local/lib/python3.6/dist-packages/ipykernel_launcher.py:54: SettingWithCopyWarning: \n",
            "A value is trying to be set on a copy of a slice from a DataFrame.\n",
            "Try using .loc[row_indexer,col_indexer] = value instead\n",
            "\n",
            "See the caveats in the documentation: https://pandas.pydata.org/pandas-docs/stable/user_guide/indexing.html#returning-a-view-versus-a-copy\n",
            "/usr/local/lib/python3.6/dist-packages/ipykernel_launcher.py:55: SettingWithCopyWarning: \n",
            "A value is trying to be set on a copy of a slice from a DataFrame.\n",
            "Try using .loc[row_indexer,col_indexer] = value instead\n",
            "\n",
            "See the caveats in the documentation: https://pandas.pydata.org/pandas-docs/stable/user_guide/indexing.html#returning-a-view-versus-a-copy\n"
          ],
          "name": "stderr"
        }
      ]
    },
    {
      "cell_type": "code",
      "metadata": {
        "id": "mr4kjDIlQzHZ",
        "outputId": "d17ea8c6-bf4f-4647-8011-d0dcba31e031",
        "colab": {
          "base_uri": "https://localhost:8080/"
        }
      },
      "source": [
        "print(np_data_train, np_data_train.shape)\n",
        "print(np_data_train[0,:])"
      ],
      "execution_count": 24,
      "outputs": [
        {
          "output_type": "stream",
          "text": [
            "[[30.83  0.    1.25 ...  1.    0.    0.  ]\n",
            " [58.67  4.46  3.04 ...  1.    0.    0.  ]\n",
            " [24.5   0.5   1.5  ...  1.    0.    0.  ]\n",
            " ...\n",
            " [48.58  6.5   6.   ...  1.    0.    0.  ]\n",
            " [39.92  0.54  0.5  ...  1.    0.    0.  ]\n",
            " [33.58  2.75  4.25 ...  1.    0.    0.  ]] (138, 46)\n",
            "[ 30.83   0.     1.25   1.   202.     0.     0.     1.     0.     1.\n",
            "   0.     1.     0.     0.     0.     0.     0.     0.     0.     0.\n",
            "   0.     0.     0.     0.     0.     0.     1.     0.     0.     0.\n",
            "   0.     0.     0.     0.     0.     1.     0.     0.     1.     0.\n",
            "   1.     1.     0.     1.     0.     0.  ]\n"
          ],
          "name": "stdout"
        }
      ]
    },
    {
      "cell_type": "code",
      "metadata": {
        "id": "jNXaBoD2S4SG",
        "outputId": "3b7ba188-7303-40e0-a8ca-4c5f7d2e112d",
        "colab": {
          "base_uri": "https://localhost:8080/"
        }
      },
      "source": [
        "print(np_data_test, np_data_test.shape)"
      ],
      "execution_count": 25,
      "outputs": [
        {
          "output_type": "stream",
          "text": [
            "[[18.83   9.5    1.625 ...  1.     0.     0.   ]\n",
            " [26.92  13.5    5.    ...  1.     0.     0.   ]\n",
            " [31.25   3.75   0.625 ...  1.     0.     0.   ]\n",
            " ...\n",
            " [25.25  13.5    2.    ...  1.     0.     0.   ]\n",
            " [17.92   0.205  0.04  ...  1.     0.     0.   ]\n",
            " [35.     3.375  8.29  ...  1.     0.     0.   ]] (552, 46)\n"
          ],
          "name": "stdout"
        }
      ]
    },
    {
      "cell_type": "code",
      "metadata": {
        "id": "gpSlcntOUQgK"
      },
      "source": [
        ""
      ],
      "execution_count": null,
      "outputs": []
    }
  ]
}