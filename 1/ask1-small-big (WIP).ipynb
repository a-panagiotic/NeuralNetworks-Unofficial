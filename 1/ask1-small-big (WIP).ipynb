{ 
  "nbformat": 4,
  "nbformat_minor": 0,
  "metadata": {
    "colab": {
      "name": "Copy of A15-S06.ipynb",
      "provenance": [],
      "collapsed_sections": [],
      "include_colab_link": true
    },
    "kernelspec": {
      "display_name": "Python 3",
      "name": "python3"
    }
  },
  "cells": [
    {
      "cell_type": "markdown",
      "metadata": {
        "id": "view-in-github",
        "colab_type": "text"
      },
      "source": [
        "<a href=\"https://colab.research.google.com/github/a-panagiotic/NeuralNetworks-Unofficial/blob/main/ask1-small-big%20(WIP).ipynb\" target=\"_parent\"><img src=\"https://colab.research.google.com/assets/colab-badge.svg\" alt=\"Open In Colab\"/></a>"
      ]
    },
    {
      "cell_type": "markdown",
      "metadata": {
        "id": "VnwrHphPTKxb"
      },
      "source": [
        "# **Νευρωνικά Δίκτυα και Ευφυή Υπολογιστικά Συστήματα**"
      ]
    },
    {
      "cell_type": "markdown",
      "metadata": {
        "id": "fKFwQ8vuU7mw"
      },
      "source": [
        "## **Άσκηση 1. Επιβλεπόμενη Μάθηση: Ταξινόμηση. Μελέτη datasets του UCI Machine Learning Repository**\n",
        "#### Μαρίνος Τζανίκος 03113147, el13147@mail.ntua.gr\n",
        "#### Γιώργος Γκανάς 03116095, el16095@mail.ntua.gr\n",
        "#### Παναγιώτης Αϊβασιλιώτης 03116176, el16176@mail.ntua.gr"
      ]
    },
    {
      "cell_type": "code",
      "metadata": {
        "id": "_w80g7dM34Sq",
        "colab": {
          "base_uri": "https://localhost:8080/"
        },
        "outputId": "ece2fd2f-4605-46f5-f53f-ccccb12fda68"
      },
      "source": [
        "!pip install --upgrade pip \n",
        "!pip install --upgrade scikit-learn \n",
        "!pip install --upgrade numpy \n",
        "!pip install --upgrade scipy \n",
        "!pip install --upgrade pandas \n",
        "!pip install --upgrade imbalanced-learn\n",
        "\n",
        "import warnings \n",
        "warnings.filterwarnings('ignore')"
      ],
      "execution_count": null,
      "outputs": [
        {
          "output_type": "stream",
          "text": [
            "Requirement already satisfied: pip in /usr/local/lib/python3.6/dist-packages (20.3.1)\n",
            "Traceback (most recent call last):\n",
            "  File \"/usr/local/bin/pip\", line 5, in <module>\n",
            "    from pip._internal.cli.main import main\n",
            "  File \"/usr/local/lib/python3.6/dist-packages/pip/_internal/cli/main.py\", line 6, in <module>\n",
            "    import logging\n",
            "  File \"/usr/lib/python3.6/logging/__init__.py\", line 26, in <module>\n",
            "    import sys, os, time, io, traceback, warnings, weakref, collections\n",
            "  File \"/usr/lib/python3.6/traceback.py\", line 5, in <module>\n",
            "    import linecache\n",
            "  File \"/usr/lib/python3.6/linecache.py\", line 11, in <module>\n",
            "    import tokenize\n",
            "  File \"/usr/lib/python3.6/tokenize.py\", line 99, in <module>\n",
            "    class TokenInfo(collections.namedtuple('TokenInfo', 'type string start end line')):\n",
            "  File \"/usr/lib/python3.6/collections/__init__.py\", line 429, in namedtuple\n",
            "    exec(class_definition, namespace)\n",
            "  File \"<string>\", line 1, in <module>\n",
            "KeyboardInterrupt\n",
            "Requirement already satisfied: numpy in /usr/local/lib/python3.6/dist-packages (1.19.4)\n",
            "Requirement already satisfied: scipy in /usr/local/lib/python3.6/dist-packages (1.5.4)\n",
            "\u001b[31mERROR: Operation cancelled by user\u001b[0m\n",
            "Traceback (most recent call last):\n",
            "  File \"/usr/local/lib/python3.6/dist-packages/pip/_vendor/resolvelib/resolvers.py\", line 171, in _merge_into_criterion\n",
            "    crit = self.state.criteria[name]\n",
            "KeyError: 'scipy'\n",
            "\n",
            "During handling of the above exception, another exception occurred:\n",
            "\n",
            "Traceback (most recent call last):\n",
            "  File \"/usr/local/lib/python3.6/dist-packages/pip/_internal/cli/base_command.py\", line 224, in _main\n",
            "    status = self.run(options, args)\n",
            "  File \"/usr/local/lib/python3.6/dist-packages/pip/_internal/cli/req_command.py\", line 180, in wrapper\n",
            "    return func(self, options, args)\n",
            "  File \"/usr/local/lib/python3.6/dist-packages/pip/_internal/commands/install.py\", line 321, in run\n",
            "    reqs, check_supported_wheels=not options.target_dir\n",
            "  File \"/usr/local/lib/python3.6/dist-packages/pip/_internal/resolution/resolvelib/resolver.py\", line 122, in resolve\n",
            "    requirements, max_rounds=try_to_avoid_resolution_too_deep,\n",
            "  File \"/usr/local/lib/python3.6/dist-packages/pip/_vendor/resolvelib/resolvers.py\", line 445, in resolve\n",
            "    state = resolution.resolve(requirements, max_rounds=max_rounds)\n",
            "  File \"/usr/local/lib/python3.6/dist-packages/pip/_vendor/resolvelib/resolvers.py\", line 310, in resolve\n",
            "    name, crit = self._merge_into_criterion(r, parent=None)\n",
            "  File \"/usr/local/lib/python3.6/dist-packages/pip/_vendor/resolvelib/resolvers.py\", line 173, in _merge_into_criterion\n",
            "    crit = Criterion.from_requirement(self._p, requirement, parent)\n",
            "  File \"/usr/local/lib/python3.6/dist-packages/pip/_vendor/resolvelib/resolvers.py\", line 82, in from_requirement\n",
            "    if not cands:\n",
            "  File \"/usr/local/lib/python3.6/dist-packages/pip/_vendor/resolvelib/structs.py\", line 124, in __bool__\n",
            "    return bool(self._sequence)\n",
            "  File \"/usr/local/lib/python3.6/dist-packages/pip/_internal/resolution/resolvelib/found_candidates.py\", line 96, in __bool__\n",
            "    return any(self)\n",
            "  File \"/usr/local/lib/python3.6/dist-packages/pip/_internal/resolution/resolvelib/found_candidates.py\", line 81, in __iter__\n",
            "    candidates = _insert_installed(self._installed, self._get_others())\n",
            "  File \"/usr/local/lib/python3.6/dist-packages/pip/_internal/resolution/resolvelib/found_candidates.py\", line 44, in _insert_installed\n",
            "    reverse=True,\n",
            "  File \"/usr/local/lib/python3.6/dist-packages/pip/_internal/resolution/resolvelib/factory.py\", line 194, in iter_index_candidates\n",
            "    hashes=hashes,\n",
            "  File \"/usr/local/lib/python3.6/dist-packages/pip/_internal/index/package_finder.py\", line 882, in find_best_candidate\n",
            "    candidates = self.find_all_candidates(project_name)\n",
            "  File \"/usr/local/lib/python3.6/dist-packages/pip/_internal/index/package_finder.py\", line 826, in find_all_candidates\n",
            "    project_url, link_evaluator=link_evaluator,\n",
            "  File \"/usr/local/lib/python3.6/dist-packages/pip/_internal/index/package_finder.py\", line 798, in process_project_url\n",
            "    links=page_links,\n",
            "  File \"/usr/local/lib/python3.6/dist-packages/pip/_internal/index/package_finder.py\", line 778, in evaluate_links\n",
            "    candidate = self.get_install_candidate(link_evaluator, link)\n",
            "  File \"/usr/local/lib/python3.6/dist-packages/pip/_internal/index/package_finder.py\", line 757, in get_install_candidate\n",
            "    is_candidate, result = link_evaluator.evaluate_link(link)\n",
            "  File \"/usr/local/lib/python3.6/dist-packages/pip/_internal/index/package_finder.py\", line 232, in evaluate_link\n",
            "    ignore_requires_python=self._ignore_requires_python,\n",
            "  File \"/usr/local/lib/python3.6/dist-packages/pip/_internal/index/package_finder.py\", line 77, in _check_link_requires_python\n",
            "    link.requires_python, version_info=version_info,\n",
            "KeyboardInterrupt\n",
            "\n",
            "During handling of the above exception, another exception occurred:\n",
            "\n",
            "Traceback (most recent call last):\n",
            "  File \"/usr/local/bin/pip\", line 8, in <module>\n",
            "    sys.exit(main())\n",
            "  File \"/usr/local/lib/python3.6/dist-packages/pip/_internal/cli/main.py\", line 75, in main\n",
            "    return command.main(cmd_args)\n",
            "  File \"/usr/local/lib/python3.6/dist-packages/pip/_internal/cli/base_command.py\", line 117, in main\n",
            "    return self._main(args)\n",
            "  File \"/usr/local/lib/python3.6/dist-packages/pip/_internal/cli/base_command.py\", line 253, in _main\n",
            "    logger.debug('Exception information:', exc_info=True)\n",
            "  File \"/usr/lib/python3.6/logging/__init__.py\", line 1296, in debug\n",
            "    self._log(DEBUG, msg, args, **kwargs)\n",
            "  File \"/usr/lib/python3.6/logging/__init__.py\", line 1444, in _log\n",
            "    self.handle(record)\n",
            "  File \"/usr/lib/python3.6/logging/__init__.py\", line 1454, in handle\n",
            "    self.callHandlers(record)\n",
            "  File \"/usr/lib/python3.6/logging/__init__.py\", line 1516, in callHandlers\n",
            "    hdlr.handle(record)\n",
            "  File \"/usr/lib/python3.6/logging/__init__.py\", line 865, in handle\n",
            "    self.emit(record)\n",
            "  File \"/usr/lib/python3.6/logging/handlers.py\", line 73, in emit\n",
            "    logging.FileHandler.emit(self, record)\n",
            "  File \"/usr/lib/python3.6/logging/__init__.py\", line 1072, in emit\n",
            "    StreamHandler.emit(self, record)\n",
            "  File \"/usr/lib/python3.6/logging/__init__.py\", line 994, in emit\n",
            "    msg = self.format(record)\n",
            "  File \"/usr/lib/python3.6/logging/__init__.py\", line 840, in format\n",
            "    return fmt.format(record)\n",
            "  File \"/usr/local/lib/python3.6/dist-packages/pip/_internal/utils/logging.py\", line 152, in format\n",
            "    formatted = super(IndentingFormatter, self).format(record)\n",
            "  File \"/usr/lib/python3.6/logging/__init__.py\", line 585, in format\n",
            "    record.exc_text = self.formatException(record.exc_info)\n",
            "  File \"/usr/lib/python3.6/logging/__init__.py\", line 535, in formatException\n",
            "    traceback.print_exception(ei[0], ei[1], tb, None, sio)\n",
            "  File \"/usr/lib/python3.6/traceback.py\", line 104, in print_exception\n",
            "    type(value), value, tb, limit=limit).format(chain=chain):\n",
            "  File \"/usr/lib/python3.6/traceback.py\", line 509, in __init__\n",
            "    capture_locals=capture_locals)\n",
            "  File \"/usr/lib/python3.6/traceback.py\", line 364, in extract\n",
            "    f.line\n",
            "  File \"/usr/lib/python3.6/traceback.py\", line 286, in line\n",
            "    self._line = linecache.getline(self.filename, self.lineno).strip()\n",
            "  File \"/usr/lib/python3.6/linecache.py\", line 16, in getline\n",
            "    lines = getlines(filename, module_globals)\n",
            "  File \"/usr/lib/python3.6/linecache.py\", line 47, in getlines\n",
            "    return updatecache(filename, module_globals)\n",
            "  File \"/usr/lib/python3.6/linecache.py\", line 136, in updatecache\n",
            "    with tokenize.open(fullname) as fp:\n",
            "  File \"/usr/lib/python3.6/tokenize.py\", line 452, in open\n",
            "    buffer = _builtin_open(filename, 'rb')\n",
            "KeyboardInterrupt\n",
            "Requirement already satisfied: pandas in /usr/local/lib/python3.6/dist-packages (1.1.5)\n",
            "Requirement already satisfied: python-dateutil>=2.7.3 in /usr/local/lib/python3.6/dist-packages (from pandas) (2.8.1)\n",
            "Requirement already satisfied: pytz>=2017.2 in /usr/local/lib/python3.6/dist-packages (from pandas) (2018.9)\n",
            "Requirement already satisfied: numpy>=1.15.4 in /usr/local/lib/python3.6/dist-packages (from pandas) (1.19.4)\n",
            "Requirement already satisfied: six>=1.5 in /usr/local/lib/python3.6/dist-packages (from python-dateutil>=2.7.3->pandas) (1.15.0)\n",
            "Requirement already satisfied: imbalanced-learn in /usr/local/lib/python3.6/dist-packages (0.7.0)\n",
            "Requirement already satisfied: joblib>=0.11 in /usr/local/lib/python3.6/dist-packages (from imbalanced-learn) (0.17.0)\n",
            "Requirement already satisfied: scipy>=0.19.1 in /usr/local/lib/python3.6/dist-packages (from imbalanced-learn) (1.5.4)\n",
            "Requirement already satisfied: numpy>=1.13.3 in /usr/local/lib/python3.6/dist-packages (from imbalanced-learn) (1.19.4)\n",
            "Requirement already satisfied: scikit-learn>=0.23 in /usr/local/lib/python3.6/dist-packages (from imbalanced-learn) (0.23.2)\n",
            "Requirement already satisfied: joblib>=0.11 in /usr/local/lib/python3.6/dist-packages (from imbalanced-learn) (0.17.0)\n",
            "Requirement already satisfied: scipy>=0.19.1 in /usr/local/lib/python3.6/dist-packages (from imbalanced-learn) (1.5.4)\n",
            "Requirement already satisfied: numpy>=1.13.3 in /usr/local/lib/python3.6/dist-packages (from imbalanced-learn) (1.19.4)\n",
            "Requirement already satisfied: threadpoolctl>=2.0.0 in /usr/local/lib/python3.6/dist-packages (from scikit-learn>=0.23->imbalanced-learn) (2.1.0)\n",
            "Requirement already satisfied: numpy>=1.13.3 in /usr/local/lib/python3.6/dist-packages (from imbalanced-learn) (1.19.4)\n"
          ],
          "name": "stdout"
        }
      ]
    },
    {
      "cell_type": "code",
      "metadata": {
        "id": "Cb8IWmIA8cSW",
        "colab": {
          "base_uri": "https://localhost:8080/"
        },
        "outputId": "629f5604-7b9d-4ebd-e826-f10d871402bb"
      },
      "source": [
        "from google.colab import drive\n",
        "drive.mount('/content/drive')"
      ],
      "execution_count": null,
      "outputs": [
        {
          "output_type": "stream",
          "text": [
            "Drive already mounted at /content/drive; to attempt to forcibly remount, call drive.mount(\"/content/drive\", force_remount=True).\n"
          ],
          "name": "stdout"
        }
      ]
    },
    {
      "cell_type": "markdown",
      "metadata": {
        "id": "XqQYtfJStgR2"
      },
      "source": [
        "###**Μικρό Dataset (S06)**"
      ]
    },
    {
      "cell_type": "markdown",
      "metadata": {
        "id": "SAfQO7arh_jT"
      },
      "source": [
        "####**Βασικές πληροφορίες**"
      ]
    },
    {
      "cell_type": "markdown",
      "metadata": {
        "id": "r6rcabbOWNdA"
      },
      "source": [
        "**Εισαγωγή του dataset**"
      ]
    },
    {
      "cell_type": "code",
      "metadata": {
        "id": "BIib37nsYVaV",
        "colab": {
          "base_uri": "https://localhost:8080/",
          "height": 206
        },
        "outputId": "4bac9a20-ba99-4027-9fba-cd7ecb738590"
      },
      "source": [
        "import pandas as pd\n",
        "import numpy as np\n",
        "\n",
        "df = pd.read_csv(\"/content/drive/MyDrive/crx.data\", header=None)\n",
        "#Show the first 5 samples of the dataframe\n",
        "df.head(n=5)"
      ],
      "execution_count": null,
      "outputs": [
        {
          "output_type": "execute_result",
          "data": {
            "text/html": [
              "<div>\n",
              "<style scoped>\n",
              "    .dataframe tbody tr th:only-of-type {\n",
              "        vertical-align: middle;\n",
              "    }\n",
              "\n",
              "    .dataframe tbody tr th {\n",
              "        vertical-align: top;\n",
              "    }\n",
              "\n",
              "    .dataframe thead th {\n",
              "        text-align: right;\n",
              "    }\n",
              "</style>\n",
              "<table border=\"1\" class=\"dataframe\">\n",
              "  <thead>\n",
              "    <tr style=\"text-align: right;\">\n",
              "      <th></th>\n",
              "      <th>0</th>\n",
              "      <th>1</th>\n",
              "      <th>2</th>\n",
              "      <th>3</th>\n",
              "      <th>4</th>\n",
              "      <th>5</th>\n",
              "      <th>6</th>\n",
              "      <th>7</th>\n",
              "      <th>8</th>\n",
              "      <th>9</th>\n",
              "      <th>10</th>\n",
              "      <th>11</th>\n",
              "      <th>12</th>\n",
              "      <th>13</th>\n",
              "      <th>14</th>\n",
              "      <th>15</th>\n",
              "    </tr>\n",
              "  </thead>\n",
              "  <tbody>\n",
              "    <tr>\n",
              "      <th>0</th>\n",
              "      <td>b</td>\n",
              "      <td>30.83</td>\n",
              "      <td>0.000</td>\n",
              "      <td>u</td>\n",
              "      <td>g</td>\n",
              "      <td>w</td>\n",
              "      <td>v</td>\n",
              "      <td>1.25</td>\n",
              "      <td>t</td>\n",
              "      <td>t</td>\n",
              "      <td>1</td>\n",
              "      <td>f</td>\n",
              "      <td>g</td>\n",
              "      <td>00202</td>\n",
              "      <td>0</td>\n",
              "      <td>+</td>\n",
              "    </tr>\n",
              "    <tr>\n",
              "      <th>1</th>\n",
              "      <td>a</td>\n",
              "      <td>58.67</td>\n",
              "      <td>4.460</td>\n",
              "      <td>u</td>\n",
              "      <td>g</td>\n",
              "      <td>q</td>\n",
              "      <td>h</td>\n",
              "      <td>3.04</td>\n",
              "      <td>t</td>\n",
              "      <td>t</td>\n",
              "      <td>6</td>\n",
              "      <td>f</td>\n",
              "      <td>g</td>\n",
              "      <td>00043</td>\n",
              "      <td>560</td>\n",
              "      <td>+</td>\n",
              "    </tr>\n",
              "    <tr>\n",
              "      <th>2</th>\n",
              "      <td>a</td>\n",
              "      <td>24.50</td>\n",
              "      <td>0.500</td>\n",
              "      <td>u</td>\n",
              "      <td>g</td>\n",
              "      <td>q</td>\n",
              "      <td>h</td>\n",
              "      <td>1.50</td>\n",
              "      <td>t</td>\n",
              "      <td>f</td>\n",
              "      <td>0</td>\n",
              "      <td>f</td>\n",
              "      <td>g</td>\n",
              "      <td>00280</td>\n",
              "      <td>824</td>\n",
              "      <td>+</td>\n",
              "    </tr>\n",
              "    <tr>\n",
              "      <th>3</th>\n",
              "      <td>b</td>\n",
              "      <td>27.83</td>\n",
              "      <td>1.540</td>\n",
              "      <td>u</td>\n",
              "      <td>g</td>\n",
              "      <td>w</td>\n",
              "      <td>v</td>\n",
              "      <td>3.75</td>\n",
              "      <td>t</td>\n",
              "      <td>t</td>\n",
              "      <td>5</td>\n",
              "      <td>t</td>\n",
              "      <td>g</td>\n",
              "      <td>00100</td>\n",
              "      <td>3</td>\n",
              "      <td>+</td>\n",
              "    </tr>\n",
              "    <tr>\n",
              "      <th>4</th>\n",
              "      <td>b</td>\n",
              "      <td>20.17</td>\n",
              "      <td>5.625</td>\n",
              "      <td>u</td>\n",
              "      <td>g</td>\n",
              "      <td>w</td>\n",
              "      <td>v</td>\n",
              "      <td>1.71</td>\n",
              "      <td>t</td>\n",
              "      <td>f</td>\n",
              "      <td>0</td>\n",
              "      <td>f</td>\n",
              "      <td>s</td>\n",
              "      <td>00120</td>\n",
              "      <td>0</td>\n",
              "      <td>+</td>\n",
              "    </tr>\n",
              "  </tbody>\n",
              "</table>\n",
              "</div>"
            ],
            "text/plain": [
              "  0      1      2  3  4  5  6     7  8  9   10 11 12     13   14 15\n",
              "0  b  30.83  0.000  u  g  w  v  1.25  t  t   1  f  g  00202    0  +\n",
              "1  a  58.67  4.460  u  g  q  h  3.04  t  t   6  f  g  00043  560  +\n",
              "2  a  24.50  0.500  u  g  q  h  1.50  t  f   0  f  g  00280  824  +\n",
              "3  b  27.83  1.540  u  g  w  v  3.75  t  t   5  t  g  00100    3  +\n",
              "4  b  20.17  5.625  u  g  w  v  1.71  t  f   0  f  s  00120    0  +"
            ]
          },
          "metadata": {
            "tags": []
          },
          "execution_count": 80
        }
      ]
    },
    {
      "cell_type": "markdown",
      "metadata": {
        "id": "W-YQB8bCYsD5"
      },
      "source": [
        "**Παρουσίαση του dataset**"
      ]
    },
    {
      "cell_type": "markdown",
      "metadata": {
        "id": "wrDiFSG-Y26E"
      },
      "source": [
        "To dataset περιγράφει την έκβαση των αιτήσεων για πιστωτικές κάρτες με βάση κάποια χαρακτηριστικά.Δηλαδή αν η αίτηση κάποιου για πιστωτική κάρτα, εγκρίθηκε ή όχι.Στόχος μας είναι με χρήση επιβλεπόμενης μάθησης και χωρίς να ξέρουμε την πραγματική ερμηνεία των δεδομένων να δημιουργήσουμε ένα συστήμα που θα μπορεί να χαρακτηρίζει όσο το δυνατόν καλύτερα αν η έκβαση μίας υποψηφίας αίτησης θα είναι θετική ή αρνητική."
      ]
    },
    {
      "cell_type": "markdown",
      "metadata": {
        "id": "M1kErmr-hu8A"
      },
      "source": [
        "**Αριθμός δειγμάτων και χαρακτηριστικών, είδος χαρακτηριστικών. Μη διατεταγμένα χαρακτηριστικά**"
      ]
    },
    {
      "cell_type": "markdown",
      "metadata": {
        "id": "j4WQVKW1h0tE"
      },
      "source": [
        "Το dataset περιέχει 690 δείγματα.Kάθε δείγμα αποτελείται από 15 χαρακτηριστικά τα οποία είναι κατηγορικά ή αριθμητικά και των οποίων η πραγματική ερμηνεία δεν μας δίνεται.Τα διατεταγμένα χαρακτηριστικά είναι μόνο τα αριθμητικά.Ακόμα κάθε δείγμα περιέχει μία ετικέτα που μας δείχνει την έκβαση που είχε η εν λόγω αίτηση.Πιο συγκεκριμένα έχουμε τα εξής σχετικά με τις πληροφορίες που περιέχει ένα δείγμα:\n",
        "\n",
        "A1:\tb, a.  \n",
        "A2:\tcontinuous.  \n",
        "A3:\tcontinuous.  \n",
        "A4:\tu, y, l, t.  \n",
        "A5:\tg, p, gg.  \n",
        "A6:\tc, d, cc, i, j, k, m, r, q, w, x, e, aa, ff.  \n",
        "A7:\tv, h, bb, j, n, z, dd, ff, o.  \n",
        "A8:\tcontinuous.  \n",
        "A9: t, f.  \n",
        "A10: t, f.  \n",
        "A11: continuous.  \n",
        "A12: t, f.  \n",
        "A13: g, p, s.  \n",
        "A14: continuous.  \n",
        "A15: continuous.  \n",
        "A16: +,- (class attribute)"
      ]
    },
    {
      "cell_type": "markdown",
      "metadata": {
        "id": "ByUr4FIkGTKW"
      },
      "source": [
        "Επομένως έχουμε οτι τα χαρακτηριστικά Α2,Α3,Α8,Α11,Α14,Α15 είναι συνεχή και τα υπόλοιπα 10 κατηγορικά."
      ]
    },
    {
      "cell_type": "markdown",
      "metadata": {
        "id": "qXxtBMr2peAw"
      },
      "source": [
        "**Υπάρχουν επικεφαλίδες; Αρίθμηση γραμμών;**"
      ]
    },
    {
      "cell_type": "markdown",
      "metadata": {
        "id": "eimPL-4SpkwX"
      },
      "source": [
        "Όχι, τα δεδομένα μας βρίσκονται σε raw μορφή μέσα στο αρχείο και επομένως δεν έχουν ούτε επικεφαλίδες ούτε αρίθμηση γραμμών."
      ]
    },
    {
      "cell_type": "markdown",
      "metadata": {
        "id": "ZqlIMs_nq-rH"
      },
      "source": [
        "**Ποιες είναι οι ετικέτες των κλάσεων και σε ποια κολόνα βρίσκονται;**"
      ]
    },
    {
      "cell_type": "markdown",
      "metadata": {
        "id": "0amgCbtarCDv"
      },
      "source": [
        "Οι ετικέτες των κλάσεων βρίσκονται στην 16η κολόνα και είναι είτε \"+\" δηλαδή θετική έκβαση της αίτησης είτε \"-\" δηλαδή αρνητική έκβαση της αίτησης."
      ]
    },
    {
      "cell_type": "code",
      "metadata": {
        "id": "BWuBXSnirgTY",
        "colab": {
          "base_uri": "https://localhost:8080/"
        },
        "outputId": "93720c64-d7da-4ad1-b20c-08034ba6386b"
      },
      "source": [
        "unique_labels = df.iloc[:,-1].unique()\n",
        "print(\"Unique labels of samples: {0}\".format(unique_labels))"
      ],
      "execution_count": null,
      "outputs": [
        {
          "output_type": "stream",
          "text": [
            "Unique labels of samples: ['+' '-']\n"
          ],
          "name": "stdout"
        }
      ]
    },
    {
      "cell_type": "markdown",
      "metadata": {
        "id": "aWoOVrlssd5l"
      },
      "source": [
        "**Χρειάστηκε να κάνετε μετατροπές στα αρχεία text και ποιες?**"
      ]
    },
    {
      "cell_type": "markdown",
      "metadata": {
        "id": "Nnl53kYNw_OO"
      },
      "source": [
        "Οχι δεν χρειάστηκε να γίνει κάποια μετατροπή στα αρχεία text."
      ]
    },
    {
      "cell_type": "markdown",
      "metadata": {
        "id": "ri788AEJ20nr"
      },
      "source": [
        "**Υπάρχουν απουσιάζουσες τιμές; Πόσα είναι τα δείγματα με απουσιάζουσες τιμές και ποιο το ποσοστό τους επί του συνόλου;**"
      ]
    },
    {
      "cell_type": "markdown",
      "metadata": {
        "id": "6_xixCOz25w0"
      },
      "source": [
        "Παρατηρούμε ότι οι απουσιάζουσες τιμές εμφανίζονται με \"?\" μέσα στο αρχείο εισόδου και δεν υπάρχει καμία απουσιάζουσα ετικέτα."
      ]
    },
    {
      "cell_type": "code",
      "metadata": {
        "id": "YwIWHZS53Azv"
      },
      "source": [
        "df.replace('?', np.NaN, inplace=True) # replace all ? with np.NaN\n"
      ],
      "execution_count": null,
      "outputs": []
    },
    {
      "cell_type": "code",
      "metadata": {
        "id": "86knYAaRYs1F",
        "colab": {
          "base_uri": "https://localhost:8080/"
        },
        "outputId": "80742002-852d-453c-8407-8dbcd95fc3fc"
      },
      "source": [
        "df.isnull().sum().sum() # how many missing values we have"
      ],
      "execution_count": null,
      "outputs": [
        {
          "output_type": "execute_result",
          "data": {
            "text/plain": [
              "67"
            ]
          },
          "metadata": {
            "tags": []
          },
          "execution_count": 83
        }
      ]
    },
    {
      "cell_type": "code",
      "metadata": {
        "id": "fB2FwlKEZAqR",
        "colab": {
          "base_uri": "https://localhost:8080/"
        },
        "outputId": "6ceae14c-650c-42a8-bfb8-856649516f71"
      },
      "source": [
        "\n",
        "sum([True for idx,row in df.iterrows() if any(row.isnull())]) # how many samples have missing values"
      ],
      "execution_count": null,
      "outputs": [
        {
          "output_type": "execute_result",
          "data": {
            "text/plain": [
              "37"
            ]
          },
          "metadata": {
            "tags": []
          },
          "execution_count": 84
        }
      ]
    },
    {
      "cell_type": "markdown",
      "metadata": {
        "id": "yOj1CK0qAv72"
      },
      "source": [
        "Επομένως υπάρχουν συνολικά 67 απουσιάζουσες τιμές σε 37 εκ των δειγμάτων, που αντιστοιχούν στο 5,3% του συνόλου."
      ]
    },
    {
      "cell_type": "markdown",
      "metadata": {
        "id": "hncYyqEvDLJV"
      },
      "source": [
        "**Ποιος είναι ο αριθμός των κλάσεων και τα ποσοστά δειγμάτων τους επί του συνόλου; Εκτιμήστε την ισορροπία του dataset.**"
      ]
    },
    {
      "cell_type": "code",
      "metadata": {
        "id": "zHHIjgd_dgdm",
        "colab": {
          "base_uri": "https://localhost:8080/"
        },
        "outputId": "d1c23f01-b454-4941-d241-ccc84ff5a30e"
      },
      "source": [
        "#Just a map so we can use bincount\n",
        "labels_df = df.iloc[:,-1] # labels in the last column\n",
        "features_df = df.iloc[:,:-1] # features in all columns but the last\n",
        "\n",
        "mapping = {\"-\" : 0, \"+\" : 1} # mapping for labels\n",
        "labels_df = labels_df.replace(mapping)\n",
        "\n",
        "np_labels = labels_df.values.flatten() # convert labels dataframe to numpy array\n",
        "frequencies = np.bincount(np_labels)\n",
        "total_samples = np_labels.shape[0]\n",
        "percentages = (frequencies / total_samples) * 100\n",
        "\n",
        "print(\"Class frequencies: {0}\".format(frequencies))\n",
        "\n",
        "print(\"Class percentages: {0}\".format(percentages))"
      ],
      "execution_count": null,
      "outputs": [
        {
          "output_type": "stream",
          "text": [
            "Class frequencies: [383 307]\n",
            "Class percentages: [55.50724638 44.49275362]\n"
          ],
          "name": "stdout"
        }
      ]
    },
    {
      "cell_type": "markdown",
      "metadata": {
        "id": "RIS3xaLXf0i2"
      },
      "source": [
        "Βλέπουμε ότι τα ποσοστά δειγμάτων επί του συνόλου των δύο κλάσεων βρίσκονται κοντά στο 50%, επομένως το dataset είναι ισορροπημένο."
      ]
    },
    {
      "cell_type": "markdown",
      "metadata": {
        "id": "VnL1IsBSDOg4"
      },
      "source": [
        "**Διαχωρίστε σε train και test set. Εάν υπάρχουν απουσιάζουσες τιμές και μη διατεταγμένα\n",
        "χαρακτηριστικά διαχειριστείτε τα και αιτιολογήστε τις επιλογές σας.**"
      ]
    },
    {
      "cell_type": "markdown",
      "metadata": {
        "id": "AiTNljpTtOrr"
      },
      "source": [
        "Αφού χωρίσουμε το dataset σε train και test set θα αντικαταστήσουμε τις απουσιάζουσες τιμές καθώς η είσοδος στους αλγορίθμους μηχανικής μάθησης πρέπει να είναι πλήρης.Για το λόγο αυτόν,\n",
        "Θα χρησιμοποιήσουμε το μετασχηματιστή “Imputer” του scikit learn που αντικαθιστά κάθε απουσιάζουσα τιμή χαρακτηριστικού με τη μέση τιμή (συνεχείς μεταβλητές) ή την πιο συχνή τιμή (κατηγορικές μεταβλητές).\n",
        "Ο μετασχηματισμός με Imputer γίνεται στην απόλυτη αρχή της προεπεξεργασίας.\n",
        "Ακόμα στο train_test_split ενεργοποιήσαμε την επιλογή stratify ώστε να έχουμε ένα πιο ισορροπημένο train set."
      ]
    },
    {
      "cell_type": "code",
      "metadata": {
        "id": "i7I-k9wnOh-K"
      },
      "source": [
        "from sklearn.model_selection import train_test_split\n",
        "from sklearn.impute import SimpleImputer\n",
        "\n",
        "#Split our dataframe intο train and test set\n",
        "trainData, testData, trainLabels, testLabels = train_test_split(df.iloc[:,:-1], df.iloc[:,-1], test_size=0.2,stratify=df.iloc[:,-1],random_state=17)\n",
        "\n",
        "#Split dataframes into categorical and continuous features dataframes\n",
        "trainData_continuous = trainData.drop([0,3,4,5,6,8,9,11,12], axis=1)\n",
        "trainData_categorical = trainData.drop([1,2,7,10,13,14], axis=1)\n",
        "testData_continuous = testData.drop([0,3,4,5,6,8,9,11,12], axis=1)\n",
        "testData_categorical = testData.drop([1,2,7,10,13,14], axis=1)\n",
        "\n",
        "#Impute the missing values on continuous features\n",
        "imp = SimpleImputer(missing_values=np.NaN,strategy='mean')\n",
        "itrainData_continuous = pd.DataFrame(imp.fit_transform(trainData_continuous))\n",
        "itrainData_continuous.columns=[1,2,7,10,13,14]\n",
        "itestData_continuous = pd.DataFrame(imp.fit_transform(testData_continuous))\n",
        "itestData_continuous.columns=[1,2,7,10,13,14]\n",
        "\n",
        "#Impute the missing values on categorical features\n",
        "imp = SimpleImputer(missing_values=np.NaN, strategy=\"most_frequent\")\n",
        "itrainData_categorical = pd.DataFrame(imp.fit_transform(trainData_categorical))\n",
        "itrainData_categorical.columns=[0,3,4,5,6,8,9,11,12]\n",
        "itestData_categorical = pd.DataFrame(imp.fit_transform(testData_categorical))\n",
        "itestData_categorical.columns=[0,3,4,5,6,8,9,11,12]\n",
        "\n",
        "#Merge dataframes and reorder indexes to form the original ones imputed\n",
        "itrainData = pd.concat([itrainData_categorical, itrainData_continuous], axis=1)\n",
        "itrainData = itrainData.reindex(sorted(itrainData.columns), axis=1)\n",
        "itestData = pd.concat([itestData_categorical, itestData_continuous], axis=1)\n",
        "itestData = itestData.reindex(sorted(itestData.columns), axis=1)\n",
        "\n",
        "#Convert categorical features to binary , we have to join the two data before this step\n",
        "Data_dummies = pd.get_dummies(pd.concat([itrainData,itestData], join=\"outer\", axis=0),columns=[0,3,4,5,6,8,9,11,12])\n",
        "trainData_dummies = Data_dummies.iloc[:itrainData.shape[0],:]\n",
        "testData_dummies = Data_dummies.iloc[itrainData.shape[0]:,:]\n",
        "\n",
        "#Convert to numeric values and numpy arrays\n",
        "np_trainData = trainData_dummies.apply(pd.to_numeric).values\n",
        "np_testData = testData_dummies.apply(pd.to_numeric).values\n",
        "np_trainLabels = trainLabels.values.flatten()\n",
        "np_testLabels =  testLabels.values.flatten()\n",
        "\n",
        "#Giving symbolic ml names to our arrays \n",
        "X_train = np_trainData\n",
        "y_train = np_trainLabels\n",
        "X_test =  np_testData\n",
        "y_test =  np_testLabels"
      ],
      "execution_count": null,
      "outputs": []
    },
    {
      "cell_type": "markdown",
      "metadata": {
        "id": "eub0WauWiJqH"
      },
      "source": [
        "####**Baseline classification**"
      ]
    },
    {
      "cell_type": "markdown",
      "metadata": {
        "id": "METAm8-kZlyN"
      },
      "source": [
        "Αρχικά υλοποιήσαμε τους ταξινομητές που ζητούνται χωρίς καμία βελτιστοποίηση στο κόμματι του preproccesing ή των υπερπαραμέτρων του ταξινομητή.\n",
        "\n",
        "Για κάθε ταξινομητή που ζητείται υπολογίσαμε τις μετρικές f1_micro avg και f1_macro avg καθώς και τους πίνακες σύγκρισης για την εκτίμηση του στο test set.Ακόμα για τους ταξινομητές kNN και GNB\n",
        "υπολογίζουμε και την μετρική f1_macro avg και f1_micro avg με χρηση 10-fold cross validation στο training set ώστε να συγκρίνουμε την απόδοση της βελτιστοποίησης που θα γίνει σε επόμενο βήμα.\n",
        "\n",
        "Για την εμφάνιση των μετρικών χρησιμοποιήσαμε την συνάρτηση `classification_report` του sklearn η οποία εμφανίζει τις μετρικές precision, recall, f1, support για micro avg, macro avg, weighted avg  συνολικά καθώς και για κάθε κλάση ξεχωριστά, υπογραμμίζουμε οτι το micro avg εμφανίζεται ως accuracy.\n",
        "\n",
        "Τέλος παρατηρήσαμε πως το sklearn χρησιμοποιεί StratifiedKFold ως default επιλογή στα binary classification."
      ]
    },
    {
      "cell_type": "markdown",
      "metadata": {
        "id": "IiR2JHNWaLLH"
      },
      "source": [
        "#####**Dummy Classifiers**"
      ]
    },
    {
      "cell_type": "code",
      "metadata": {
        "id": "ZmpcgGHyS5mb",
        "colab": {
          "base_uri": "https://localhost:8080/"
        },
        "outputId": "b0f40dd7-8c64-4808-aebe-8995c2bd54ed"
      },
      "source": [
        "from sklearn.metrics import accuracy_score\n",
        "from sklearn.metrics import classification_report\n",
        "from sklearn.metrics import precision_recall_fscore_support\n",
        "from sklearn.model_selection import cross_val_score\n",
        "from sklearn.model_selection import StratifiedKFold\n",
        "from sklearn.model_selection import KFold\n",
        "\n",
        "from sklearn.dummy import DummyClassifier\n",
        "\n",
        "dc_uniform = DummyClassifier(strategy=\"uniform\")\n",
        "dc_constant_minus = DummyClassifier(strategy=\"constant\", constant=\"-\")\n",
        "dc_constant_plus = DummyClassifier(strategy=\"constant\", constant=\"+\")\n",
        "dc_most_frequent = DummyClassifier(strategy=\"most_frequent\")\n",
        "dc_stratified = DummyClassifier(strategy=\"stratified\")\n",
        "\n",
        "dc_uniform.fit(X_train, y_train)\n",
        "dc_constant_minus.fit(X_train, y_train)\n",
        "dc_constant_plus.fit(X_train, y_train)\n",
        "dc_most_frequent.fit(X_train, y_train)\n",
        "dc_stratified.fit(X_train, y_train)\n",
        "\n",
        "pred_uni = dc_uniform.predict(X_test)\n",
        "pred_const_minus = dc_constant_minus.predict(X_test)\n",
        "pred_const_plus = dc_constant_plus.predict(X_test)\n",
        "pred_freq = dc_most_frequent.predict(X_test)\n",
        "pred_strat = dc_stratified.predict(X_test)\n",
        "\n",
        "print(\"The DummyClassifier with uniform strategy has scores on test set : \\n\" + classification_report(y_test,pred_uni))\n",
        "print(\"The DummyClassifier with constant minus strategy has scores on test set : \\n\" + classification_report(y_test,pred_const_minus))\n",
        "print(\"The DummyClassifier with constant plus strategy has scores on test set : \\n\" + classification_report(y_test,pred_const_plus))\n",
        "print(\"The DummyClassifier with frequent strategy has scores on test set : \\n\" + classification_report(y_test,pred_freq))\n",
        "print(\"The DummyClassifier with stratified strategy has scores on test set : \\n\" + classification_report(y_test,pred_strat))"
      ],
      "execution_count": null,
      "outputs": [
        {
          "output_type": "stream",
          "text": [
            "The DummyClassifier with uniform strategy has scores on test set : \n",
            "              precision    recall  f1-score   support\n",
            "\n",
            "           +       0.42      0.46      0.44        61\n",
            "           -       0.54      0.51      0.52        77\n",
            "\n",
            "    accuracy                           0.49       138\n",
            "   macro avg       0.48      0.48      0.48       138\n",
            "weighted avg       0.49      0.49      0.49       138\n",
            "\n",
            "The DummyClassifier with constant minus strategy has scores on test set : \n",
            "              precision    recall  f1-score   support\n",
            "\n",
            "           +       0.00      0.00      0.00        61\n",
            "           -       0.56      1.00      0.72        77\n",
            "\n",
            "    accuracy                           0.56       138\n",
            "   macro avg       0.28      0.50      0.36       138\n",
            "weighted avg       0.31      0.56      0.40       138\n",
            "\n",
            "The DummyClassifier with constant plus strategy has scores on test set : \n",
            "              precision    recall  f1-score   support\n",
            "\n",
            "           +       0.44      1.00      0.61        61\n",
            "           -       0.00      0.00      0.00        77\n",
            "\n",
            "    accuracy                           0.44       138\n",
            "   macro avg       0.22      0.50      0.31       138\n",
            "weighted avg       0.20      0.44      0.27       138\n",
            "\n",
            "The DummyClassifier with frequent strategy has scores on test set : \n",
            "              precision    recall  f1-score   support\n",
            "\n",
            "           +       0.00      0.00      0.00        61\n",
            "           -       0.56      1.00      0.72        77\n",
            "\n",
            "    accuracy                           0.56       138\n",
            "   macro avg       0.28      0.50      0.36       138\n",
            "weighted avg       0.31      0.56      0.40       138\n",
            "\n",
            "The DummyClassifier with stratified strategy has scores on test set : \n",
            "              precision    recall  f1-score   support\n",
            "\n",
            "           +       0.41      0.39      0.40        61\n",
            "           -       0.53      0.55      0.54        77\n",
            "\n",
            "    accuracy                           0.48       138\n",
            "   macro avg       0.47      0.47      0.47       138\n",
            "weighted avg       0.48      0.48      0.48       138\n",
            "\n"
          ],
          "name": "stdout"
        }
      ]
    },
    {
      "cell_type": "markdown",
      "metadata": {
        "id": "D1aZZmpwaRWO"
      },
      "source": [
        "#####**Gausian Naive Bayes**"
      ]
    },
    {
      "cell_type": "code",
      "metadata": {
        "id": "DAIIJwXHeXVm",
        "colab": {
          "base_uri": "https://localhost:8080/"
        },
        "outputId": "611ad1e7-9ff6-4006-8f1d-f0e1f92ecdf2"
      },
      "source": [
        "from sklearn.naive_bayes import GaussianNB\n",
        "\n",
        "gnb = GaussianNB()\n",
        "gnb.fit(X_train, y_train)\n",
        "f1_micro_score_gnb = cross_val_score(gnb, X_train, y_train, cv=10, scoring='f1_micro')\n",
        "f1_macro_score_gnb = cross_val_score(gnb, X_train, y_train, cv=10, scoring='f1_macro')\n",
        "\n",
        "pred_gnb = gnb.predict(X_test)\n",
        "\n",
        "print(\"The GaussianNB Classifier has f1_macro score on training set : %f \\n\" % (f1_micro_score_gnb.mean()))\n",
        "print(\"The GaussianNB Classifier has f1_macro score on training set : %f \\n\" % (f1_macro_score_gnb.mean()))\n",
        "print(\"The GaussianNB Classifier has scores on test set : \\n\" + classification_report(y_test,pred_gnb))"
      ],
      "execution_count": null,
      "outputs": [
        {
          "output_type": "stream",
          "text": [
            "The GaussianNB Classifier has f1_macro score on training set : 0.831526 \n",
            "\n",
            "The GaussianNB Classifier has f1_macro score on training set : 0.826075 \n",
            "\n",
            "The GaussianNB Classifier has scores on test set : \n",
            "              precision    recall  f1-score   support\n",
            "\n",
            "           +       0.87      0.79      0.83        61\n",
            "           -       0.84      0.91      0.88        77\n",
            "\n",
            "    accuracy                           0.86       138\n",
            "   macro avg       0.86      0.85      0.85       138\n",
            "weighted avg       0.86      0.86      0.85       138\n",
            "\n"
          ],
          "name": "stdout"
        }
      ]
    },
    {
      "cell_type": "markdown",
      "metadata": {
        "id": "6t8oNirFaXVy"
      },
      "source": [
        "#####**k Nearest Neighbors Classifier (kNN) με k=5**"
      ]
    },
    {
      "cell_type": "code",
      "metadata": {
        "id": "Tqe_COT0jl0K",
        "colab": {
          "base_uri": "https://localhost:8080/"
        },
        "outputId": "8343d31e-c76c-4ff3-e5b0-ebd6b654be09"
      },
      "source": [
        "from sklearn.neighbors import KNeighborsClassifier\n",
        "\n",
        "# kNN Classifier, default k=5\n",
        "knn = KNeighborsClassifier()\n",
        "knn.fit(X_train,y_train)\n",
        "f1_micro_score_knn = cross_val_score(knn, X_train, y_train, cv=10, scoring=\"f1_micro\")\n",
        "f1_macro_score_knn = cross_val_score(knn, X_train, y_train, cv=10, scoring=\"f1_macro\")\n",
        "\n",
        "pred_knn = knn.predict(X_test)\n",
        "\n",
        "print(\"The KNeighborsClassifier with k=\" + str(knn.n_neighbors) + \" has f1_micro score on training set : %f \\n\" % (f1_micro_score_knn.mean()))\n",
        "print(\"The KNeighborsClassifier with k=\" + str(knn.n_neighbors) + \" has f1_macro score on training set : %f \\n\" % (f1_macro_score_knn.mean()))\n",
        "print(\"The KNeighborsClassifier with k=\" + str(knn.n_neighbors) + \" has scores on test set : \\n\" + classification_report(y_test,pred_knn))\n"
      ],
      "execution_count": null,
      "outputs": [
        {
          "output_type": "stream",
          "text": [
            "The KNeighborsClassifier with k=5 has f1_micro score on training set : 0.655942 \n",
            "\n",
            "The KNeighborsClassifier with k=5 has f1_macro score on training set : 0.641376 \n",
            "\n",
            "The KNeighborsClassifier with k=5 has scores on test set : \n",
            "              precision    recall  f1-score   support\n",
            "\n",
            "           +       0.75      0.62      0.68        61\n",
            "           -       0.74      0.83      0.78        77\n",
            "\n",
            "    accuracy                           0.74       138\n",
            "   macro avg       0.74      0.73      0.73       138\n",
            "weighted avg       0.74      0.74      0.74       138\n",
            "\n"
          ],
          "name": "stdout"
        }
      ]
    },
    {
      "cell_type": "markdown",
      "metadata": {
        "id": "2uweCQCo35CH"
      },
      "source": [
        "#####**Confusion Matrices - Πίνακες Σύγχυσης**"
      ]
    },
    {
      "cell_type": "markdown",
      "metadata": {
        "id": "_e0r1Ny0YgCP"
      },
      "source": [
        "H συνάρτηση `plot_cnf_clfs` δέχεται ως ορίσματα τους ταξινομητές μαζί με τα predictions που έγιναν για το test set και με την βοηθεια της matplotlib σχεδιάζει τα confusion matrices για τα εν λόγω αποτελέσματα."
      ]
    },
    {
      "cell_type": "code",
      "metadata": {
        "id": "fyyYl7RP774o"
      },
      "source": [
        "from sklearn.metrics import ConfusionMatrixDisplay\n",
        "from sklearn.metrics import confusion_matrix\n",
        "from sklearn.metrics import plot_confusion_matrix\n",
        "import matplotlib.pyplot as plt\n",
        "\n",
        "def plot_cnf_clfs(clfs, preds, y_test, classes):\n",
        "  for clf, pred in zip(clfs, preds):\n",
        "    clf_name = str(clf).split(\"(\")[0]\n",
        "    if (clf_name == \"Pipeline\"):\n",
        "        clf = clf.steps[-1][1]\n",
        "\n",
        "    clf_name = str(clf).split(\"(\")[0]    \n",
        "    if (clf_name == \"DummyClassifier\"):\n",
        "        clf_name = clf_name + \" strategy=\" + str(clf.strategy)\n",
        "        if (clf.constant):\n",
        "          clf_name = clf_name + \" constant=\" + str(clf.constant)\n",
        "    elif (clf_name == \"GaussianNB\"):\n",
        "        clf_name = clf_name\n",
        "    elif (clf_name == \"MLPClassifier\"):\n",
        "        clf_name = clf_name    \n",
        "    elif (clf_name == \"KNeighborsClassifier\"):\n",
        "        clf_name = clf_name + \" n_neighbors=\" + (str(clf.n_neighbors))\n",
        "    elif (clf_name == \"LinearSVC\"):\n",
        "      clf_name = \"Linear SVM\"\n",
        "    elif (clf_name == \"SVC\"):\n",
        "      clf_name = (str(clf.kernel)) + \" SVM\"\n",
        "    \n",
        "    disp = ConfusionMatrixDisplay(confusion_matrix=confusion_matrix(y_test,pred),display_labels=classes)\n",
        "    disp = disp.plot(include_values=True,cmap=plt.cm.Blues, ax=None, xticks_rotation='horizontal')\n",
        "    disp.ax_.set_title(clf_name)"
      ],
      "execution_count": null,
      "outputs": []
    },
    {
      "cell_type": "code",
      "metadata": {
        "id": "HksZcB8NLBgi",
        "colab": {
          "base_uri": "https://localhost:8080/",
          "height": 1000
        },
        "outputId": "cd985dc7-dc26-4670-d98b-c3cd98e9b3a7"
      },
      "source": [
        "#For all classifiers plot the cnf matrix\n",
        "clfs = [knn, gnb, dc_uniform, dc_constant_minus, dc_constant_plus, dc_most_frequent, dc_stratified]\n",
        "preds =[pred_knn, pred_gnb, pred_uni, pred_const_minus, pred_const_plus, pred_freq, pred_strat]\n",
        "plot_cnf_clfs(clfs, preds, y_test,[\"+\", \"-\"])"
      ],
      "execution_count": null,
      "outputs": [
        {
          "output_type": "display_data",
          "data": {
            "image/png": "[encoded data removed]",
            "text/plain": [
              "<Figure size 432x288 with 2 Axes>"
            ]
          },
          "metadata": {
            "tags": [],
            "needs_background": "light"
          }
        },
        {
          "output_type": "display_data",
          "data": {
            "image/png": "[encoded data removed]",
            "text/plain": [
              "<Figure size 432x288 with 2 Axes>"
            ]
          },
          "metadata": {
            "tags": [],
            "needs_background": "light"
          }
        },
        {
          "output_type": "display_data",
          "data": {
            "image/png": "[encoded data removed]",
            "text/plain": [
              "<Figure size 432x288 with 2 Axes>"
            ]
          },
          "metadata": {
            "tags": [],
            "needs_background": "light"
          }
        },
        {
          "output_type": "display_data",
          "data": {
            "image/png": "[encoded data removed]",
            "text/plain": [
              "<Figure size 432x288 with 2 Axes>"
            ]
          },
          "metadata": {
            "tags": [],
            "needs_background": "light"
          }
        },
        {
          "output_type": "display_data",
          "data": {
            "image/png": "[encoded data removed]",
            "text/plain": [
              "<Figure size 432x288 with 2 Axes>"
            ]
          },
          "metadata": {
            "tags": [],
            "needs_background": "light"
          }
        },
        {
          "output_type": "display_data",
          "data": {
            "image/png": "[encoded data removed]",
            "text/plain": [
              "<Figure size 432x288 with 2 Axes>"
            ]
          },
          "metadata": {
            "tags": [],
            "needs_background": "light"
          }
        },
        {
          "output_type": "display_data",
          "data": {
            "image/png": "[encoded data removed]",
            "text/plain": [
              "<Figure size 432x288 with 2 Axes>"
            ]
          },
          "metadata": {
            "tags": [],
            "needs_background": "light"
          }
        }
      ]
    },
    {
      "cell_type": "markdown",
      "metadata": {
        "id": "eL7_FZwY4PlB"
      },
      "source": [
        "#####**Bar Plots για f1 scores**"
      ]
    },
    {
      "cell_type": "markdown",
      "metadata": {
        "id": "ngVJCIrkhujv"
      },
      "source": [
        "Η συνάρτηση `barplot_clfs` δέχεται ως ορίσματα τους ταξινομητές μαζί με τα predictions που έγιναν για το test set και με την βοηθεια της matplotlib σχεδιάζει τα bar plot των μετρικών f1_micro avg και f1_macro avg για κάθε ταξινομητη."
      ]
    },
    {
      "cell_type": "code",
      "metadata": {
        "id": "4fJRtyt6TGFg"
      },
      "source": [
        "from sklearn.metrics import precision_recall_fscore_support\n",
        "\n",
        "def barplot_clfs(clfs, preds, y_test):\n",
        "  #Bar plot values\n",
        "  f1_micros = []\n",
        "  f1_macros = []\n",
        "  f1_weighteds = []\n",
        "  clf_names = []\n",
        "  #For each classifier find name,f1_micro,f1_macro,f1_weighted and save them\n",
        "  for clf, pred in zip(clfs,preds):\n",
        "    clf_name = str(clf).split(\"(\")[0]\n",
        "    if (clf_name == \"Pipeline\"):\n",
        "        clf = clf.steps[-1][1]\n",
        "    clf_name = str(clf).split(\"(\")[0]\n",
        "    if (clf_name == \"DummyClassifier\"):\n",
        "        clf_name = \"dc \" + clf.strategy\n",
        "        if (clf.constant):\n",
        "          clf_name = clf_name + str(clf.constant)\n",
        "    elif (clf_name == \"GaussianNB\"):\n",
        "        clf_name = \"GNB\"\n",
        "    elif (clf_name == \"MLPClassifier\"):\n",
        "        clf_name = \"MLP\"    \n",
        "    elif (clf_name == \"KNeighborsClassifier\"):\n",
        "       clf_name = \"kNN\" + \" k=\" + (str(clf.n_neighbors))\n",
        "    elif (clf_name == \"LinearSVC\"):\n",
        "      clf_name = \"Linear SVM\"\n",
        "    elif (clf_name == \"SVC\"):\n",
        "      clf_name = (str(clf.kernel)) + \" SVM\"\n",
        "    f1_micro = precision_recall_fscore_support(y_test, pred, average='micro')[2]\n",
        "    f1_macro = precision_recall_fscore_support(y_test, pred, average='macro')[2]\n",
        "    f1_weighted = precision_recall_fscore_support(y_test, pred, average='weighted')[2]\n",
        "    f1_micros.append(f1_micro)\n",
        "    f1_macros.append(f1_macro)\n",
        "    f1_weighteds.append(f1_weighted)\n",
        "    clf_names.append(clf_name)\n",
        "  #Create the 1st plot f1_micro\n",
        "  fig = plt.figure(figsize = (15, 5)) \n",
        "  plt.figure(1)\n",
        "  plt.bar(clf_names, f1_micros,  \n",
        "        width = 0.4)\n",
        "  plt.ylabel(\"f1_micro score\") \n",
        "  plt.title(\"f1_micro\")\n",
        "  #Create the 2nd plot f1_macro\n",
        "  fig = plt.figure(figsize = (15, 5))\n",
        "  plt.figure(2)\n",
        "  plt.bar(clf_names, f1_macros,  \n",
        "        width = 0.4)\n",
        "  plt.ylabel(\"f1_macro score\") \n",
        "  plt.title(\"f1_macro\")\n",
        "  #Create the 3rd plot f1_weighted\n",
        "  fig = plt.figure(figsize = (15, 5))\n",
        "  plt.figure(3)\n",
        "  plt.bar(clf_names, f1_weighteds,  \n",
        "        width = 0.4)\n",
        "  plt.ylabel(\"f1_weighted score\") \n",
        "  plt.title(\"f1_weighted\")\n",
        "  plt.show()"
      ],
      "execution_count": null,
      "outputs": []
    },
    {
      "cell_type": "code",
      "metadata": {
        "id": "g9Z2za74XYsk",
        "colab": {
          "base_uri": "https://localhost:8080/"
        },
        "outputId": "aeb22824-a15c-4868-f4ec-fe9cbf64a28e"
      },
      "source": [
        "barplot_clfs(clfs,preds,y_test)"
      ],
      "execution_count": null,
      "outputs": [
        {
          "output_type": "display_data",
          "data": {
            "image/png": "[encoded data removed]",
            "text/plain": [
              "<Figure size 1080x360 with 1 Axes>"
            ]
          },
          "metadata": {
            "tags": [],
            "needs_background": "light"
          }
        },
        {
          "output_type": "display_data",
          "data": {
            "image/png": "[encoded data removed]",
            "text/plain": [
              "<Figure size 1080x360 with 1 Axes>"
            ]
          },
          "metadata": {
            "tags": [],
            "needs_background": "light"
          }
        },
        {
          "output_type": "display_data",
          "data": {
            "image/png": "[encoded data removed]",
            "text/plain": [
              "<Figure size 1080x360 with 1 Axes>"
            ]
          },
          "metadata": {
            "tags": [],
            "needs_background": "light"
          }
        }
      ]
    },
    {
      "cell_type": "markdown",
      "metadata": {
        "id": "c1vc1jNDlGpD"
      },
      "source": [
        "#####**Σχολιασμός Αποτελεσμάτων**"
      ]
    },
    {
      "cell_type": "markdown",
      "metadata": {
        "id": "YtMBJY7HlNi2"
      },
      "source": [
        "Παρατηρούμε οτι για avg micro έχουμε οι τιμές precision, recall και f1 είναι όλες ίσες για τον κάθε ταξινομητή.Αυτό συμβαίνει διότι στο avg micro πρώτα συμψηφίζονται τα TruePositive,FalsePositive,FalseNegative για όλες τις κλάσεις και μετά υπολογίζονται οι μετρικές precision, recall και f1.Επομένως τα FalsePositive της μίας κλάσης θα είναι ίσα με τα FalseNegative της άλλης.Αντίθετα στο avg macro η κάθε κλάση υπολογίζει τα precision, recall και f1 για τον εαυτό της και τελικά συμψηφίζουμε τις μετρικές για όλες τις κλάσεις.\n",
        "\n",
        "Στα bar plots βλέπουμε ότι ο GNB έχει την καλύτερη απόδοση, έπειτα ακολουθεί ο kNN και στο τέλος οι dummy ταξινομητές.\n",
        "\n",
        "\n"
      ]
    },
    {
      "cell_type": "markdown",
      "metadata": {
        "id": "SiBqM3iSs9Qo"
      },
      "source": [
        "####**Βελτιστοποίηση ταξινομητών**\n",
        "\n",
        "Για κάθε ταξινομητή προσπαθούμε να βελτιώσουμε την απόδοση του στο training set με κάποιον συνδιασμό των VarianceThreshold, StandardScaler, MinMaxScaler και PCA.Ως κριτήριο βελτιστοποίησης θα χρησιμοποιήσουμε την μετρική f1_macro καθώς και την μετρική f1_micro.Εκ των δύο μόντελων θα επιλεχθεί αυτό με την καλύτερη απόδοση στο test set.Αφού επιτεχθούν, θα κάνουμε ένα predict στο test set ώστε να δούμε και την απόδοση του βελτιστοποιήμενου ταξινομητή στο test set."
      ]
    },
    {
      "cell_type": "markdown",
      "metadata": {
        "id": "XMLg8UYlSERc"
      },
      "source": [
        "#####**Dummy Classifiers**\n",
        "\n",
        "Για τη βελτιστοποίηση των dummy ταξινομητών, θα εφαρμόσουμε τα στάδια προεπεξεργασίας VarianceThreshold, StandardScaler και PCA.\n",
        "\n",
        "Για κάθε ταξινομητή κατασκευάζουμε ένα pipe χρησιμοποιώντας αυτούς τους μετασχηματιστές."
      ]
    },
    {
      "cell_type": "code",
      "metadata": {
        "id": "XCFlBtrmwyfh"
      },
      "source": [
        "from sklearn.pipeline import Pipeline\n",
        "#from imblearn.pipeline import Pipeline\n",
        "\n",
        "from sklearn.feature_selection import VarianceThreshold\n",
        "#from imblearn.over_sampling import RandomOverSampler\n",
        "from sklearn.preprocessing import StandardScaler\n",
        "from sklearn.preprocessing import MinMaxScaler\n",
        "from sklearn.decomposition import PCA\n",
        "\n",
        "selector = VarianceThreshold()\n",
        "#ros = RandomOverSampler()\n",
        "mscaler = MinMaxScaler()\n",
        "sscaler = StandardScaler()\n",
        "pca = PCA()\n",
        "\n",
        "pipe_uniform = Pipeline(steps=[('selector', selector), ('scaler', sscaler), ('pca', pca)\\\n",
        "                               , ('dc_uniform', dc_uniform)], memory = 'tmp')\n",
        "pipe_constant_minus = Pipeline(steps=[('selector', selector), ('scaler', sscaler), ('pca', pca)\\\n",
        "                                      , ('dc_constant_minus', dc_constant_minus)], memory = 'tmp')\n",
        "pipe_constant_plus = Pipeline(steps=[('selector', selector), ('scaler', sscaler), ('pca', pca)\\\n",
        "                                     , ('dc_constant_plus', dc_constant_plus)], memory = 'tmp')\n",
        "pipe_most_frequent = Pipeline(steps=[('selector', selector), ('scaler', sscaler), ('pca', pca)\\\n",
        "                               , ('dc_most_frequent', dc_most_frequent)], memory = 'tmp')\n",
        "pipe_stratified = Pipeline(steps=[('selector', selector), ('scaler', sscaler), ('pca', pca)\\\n",
        "                               , ('dc_stratified', dc_stratified)], memory = 'tmp')"
      ],
      "execution_count": null,
      "outputs": []
    },
    {
      "cell_type": "markdown",
      "metadata": {
        "id": "II4OODapTw6q"
      },
      "source": [
        "Στο στάδιο, αυτό εξετάζουμε τα αποτελέσματα της προεπεξεργασίας με default υπερπαραμέτρους,δηλαδή προτού εφαρμόσουμε grid search/cross-validation, ώστε να επιλέξουμε τις βέλτιστες υπερπαραμέτρους. Ωστόσο όπως παρατηρούμε τα αποτελέσματα παραμένουν ίδια (οι διαφορές στους uniform και stratified ταξινομητές προκύπτουν λόγω της τυχαιότητας αυτών) ανεξάρτητα της επιλογής μετασχηματιστών, οπότε για συντομία εδώ παρουσιάζουμε τα αποτελέσματα μόνο για τον πλήρη συνδυασμό."
      ]
    },
    {
      "cell_type": "code",
      "metadata": {
        "id": "beVdPgs9T2WZ",
        "colab": {
          "base_uri": "https://localhost:8080/"
        },
        "outputId": "51a495ea-abc8-47b1-f467-839a2fca675e"
      },
      "source": [
        "pipes_dc = [pipe_uniform, pipe_constant_minus, pipe_constant_plus, pipe_most_frequent, pipe_stratified]\n",
        "\n",
        "for pipe in pipes_dc:\n",
        "  dummy_pipe_name = str(pipe[-1]).split(\"(\")[0]\n",
        "  dummy_pipe_strategy = pipe[-1].strategy\n",
        "  dummy_pipe_constant = pipe[-1].constant\n",
        "  pipe.fit(X_train,y_train)\n",
        "  pipe_pred = pipe.predict(X_test) \n",
        "  if (dummy_pipe_constant == None):\n",
        "    print(\"The DummyClassifier with \" + dummy_pipe_strategy + \" strategy and preprocessing with default parameters has scores on test set : \\n\" + classification_report(y_test,pipe_pred))\n",
        "  elif (dummy_pipe_constant == \"+\"):\n",
        "    print(\"The DummyClassifier with \" + dummy_pipe_strategy + \" plus strategy and preprocessing with default parameters has scores on test set : \\n\" + classification_report(y_test,pipe_pred))\n",
        "  elif (dummy_pipe_constant == \"-\"):\n",
        "    print(\"The DummyClassifier with \" + dummy_pipe_strategy + \" minus strategy and preprocessing with default parameters has scores on test set : \\n\" + classification_report(y_test,pipe_pred))  \n",
        "  "
      ],
      "execution_count": null,
      "outputs": [
        {
          "output_type": "stream",
          "text": [
            "The DummyClassifier with uniform strategy and preprocessing with default parameters has scores on test set : \n",
            "              precision    recall  f1-score   support\n",
            "\n",
            "           +       0.49      0.59      0.53        61\n",
            "           -       0.61      0.51      0.55        77\n",
            "\n",
            "    accuracy                           0.54       138\n",
            "   macro avg       0.55      0.55      0.54       138\n",
            "weighted avg       0.56      0.54      0.54       138\n",
            "\n",
            "The DummyClassifier with constant minus strategy and preprocessing with default parameters has scores on test set : \n",
            "              precision    recall  f1-score   support\n",
            "\n",
            "           +       0.00      0.00      0.00        61\n",
            "           -       0.56      1.00      0.72        77\n",
            "\n",
            "    accuracy                           0.56       138\n",
            "   macro avg       0.28      0.50      0.36       138\n",
            "weighted avg       0.31      0.56      0.40       138\n",
            "\n",
            "The DummyClassifier with constant plus strategy and preprocessing with default parameters has scores on test set : \n",
            "              precision    recall  f1-score   support\n",
            "\n",
            "           +       0.44      1.00      0.61        61\n",
            "           -       0.00      0.00      0.00        77\n",
            "\n",
            "    accuracy                           0.44       138\n",
            "   macro avg       0.22      0.50      0.31       138\n",
            "weighted avg       0.20      0.44      0.27       138\n",
            "\n",
            "The DummyClassifier with most_frequent strategy and preprocessing with default parameters has scores on test set : \n",
            "              precision    recall  f1-score   support\n",
            "\n",
            "           +       0.00      0.00      0.00        61\n",
            "           -       0.56      1.00      0.72        77\n",
            "\n",
            "    accuracy                           0.56       138\n",
            "   macro avg       0.28      0.50      0.36       138\n",
            "weighted avg       0.31      0.56      0.40       138\n",
            "\n",
            "The DummyClassifier with stratified strategy and preprocessing with default parameters has scores on test set : \n",
            "              precision    recall  f1-score   support\n",
            "\n",
            "           +       0.42      0.43      0.42        61\n",
            "           -       0.54      0.53      0.54        77\n",
            "\n",
            "    accuracy                           0.49       138\n",
            "   macro avg       0.48      0.48      0.48       138\n",
            "weighted avg       0.49      0.49      0.49       138\n",
            "\n"
          ],
          "name": "stdout"
        }
      ]
    },
    {
      "cell_type": "markdown",
      "metadata": {
        "id": "dgBVVptNUops"
      },
      "source": [
        "Στη συνέχεια θα εκτελέσουμε αναζήτηση πλέγματος στην υπερπαράμετρο threshold του selector και του αριθμού χαρακτηριστικών που δίνει ο PCA. Για να κατασκευάσουμε το κατάλληλο πλέγμα, επισκοπούμε τη διακύμανση των χαρακτηριστικών"
      ]
    },
    {
      "cell_type": "code",
      "metadata": {
        "id": "Hi7SboHg8jOx",
        "colab": {
          "base_uri": "https://localhost:8080/"
        },
        "outputId": "fe6605c5-6eab-4172-f213-a23d28b95387"
      },
      "source": [
        "train_variance = X_train.var(axis=0)\n",
        "train_variance.sort()\n",
        "print(train_variance)\n",
        "print(np.max(train_variance))"
      ],
      "execution_count": null,
      "outputs": [
        {
          "output_type": "stream",
          "text": [
            "[1.80831233e-03 3.61006091e-03 3.61006091e-03 3.61006091e-03\n",
            " 5.40524575e-03 8.97592418e-03 8.97592418e-03 1.07514178e-02\n",
            " 1.25203476e-02 1.25203476e-02 3.65961720e-02 3.65961720e-02\n",
            " 5.13941399e-02 5.30055398e-02 5.46103760e-02 6.56604442e-02\n",
            " 7.02977316e-02 7.48759452e-02 7.63888889e-02 7.63888889e-02\n",
            " 7.78952689e-02 8.53287125e-02 8.82561437e-02 9.54598561e-02\n",
            " 9.54598561e-02 1.64930556e-01 1.69105099e-01 1.86590921e-01\n",
            " 1.86590921e-01 1.88402515e-01 1.88402515e-01 2.11008060e-01\n",
            " 2.11008060e-01 2.44210775e-01 2.44749002e-01 2.44749002e-01\n",
            " 2.47427011e-01 2.47427011e-01 2.49527410e-01 2.49527410e-01\n",
            " 1.09272920e+01 1.51980906e+01 2.47696854e+01 1.37826703e+02\n",
            " 2.87872749e+04 3.17589902e+07]\n",
            "31758990.155846328\n"
          ],
          "name": "stdout"
        }
      ]
    },
    {
      "cell_type": "markdown",
      "metadata": {
        "id": "UR4GY2yKcTMt"
      },
      "source": [
        "Στη φάση αυτή, εκτελούμε την αναζήτηση πλέγματος στα pipes των dummy ταξινομητών και εφαρμόζουμε τα αποτελέσματα στα δεδομένα. Δεχόμαστε έτσι τις τελικές μετρικές των βελτιστοποιημένων ταξινομητών."
      ]
    },
    {
      "cell_type": "code",
      "metadata": {
        "id": "HqNtlhUQ8tkQ",
        "colab": {
          "base_uri": "https://localhost:8080/"
        },
        "outputId": "1b37018a-7bf9-4d05-bdab-51c09a18365c"
      },
      "source": [
        "import time\n",
        "from sklearn.model_selection import GridSearchCV\n",
        "\n",
        "#Grid Search for dummy classifiers\n",
        "vthreshold = [0, 1e-02, 6e-02, 1e-01, 2e-01, 1]\n",
        "n_components = [2, 10, 20, 30, 40, 45]\n",
        "\n",
        "pred_pipes_dc = []\n",
        "time_pipes_dc = []\n",
        "\n",
        "\n",
        "print(\"---------------f1_macro optimized dummy classifiers---------------\")\n",
        "for pipe in pipes_dc:\n",
        "  dummy_name = str(pipe[-1]).split(\"(\")[0]\n",
        "  dummy_strategy = pipe[-1].strategy\n",
        "  dummy_constant = pipe[-1].constant\n",
        "  estimator = GridSearchCV(pipe, dict(selector__threshold=vthreshold, pca__n_components=n_components),\\\n",
        "                                      cv=10, scoring='f1_macro', n_jobs=-1)\n",
        "  start_time = time.time()\n",
        "  estimator.fit(X_train, y_train)\n",
        "  pred = estimator.predict(X_test)\n",
        "  pred_pipes_dc.append(pred)\n",
        "  time_pipes_dc.append(time.time() - start_time)\n",
        "  if (dummy_constant == None):\n",
        "    print(\"The optimized DummyClassifier with \" + dummy_strategy + \" strategy has score on test set : \\n\" + classification_report(y_test,pred))\n",
        "  elif (dummy_constant == \"+\"):\n",
        "    print(\"The optimized DummyClassifier with \" + dummy_strategy + \" plus strategy has score on test set : \\n\" + classification_report(y_test,pred))\n",
        "  elif (dummy_constant == \"-\"):\n",
        "    print(\"The optimized DummyClassifier with \" + dummy_strategy + \" minus strategy has score on test set : \\n\" + classification_report(y_test,pred))\n",
        "  print(\"with best parameters\")\n",
        "  print(estimator.best_params_)\n",
        "  print(\"\\n\")\n",
        "\n",
        "print(\"---------------f1_micro optimized dummy classifiers---------------\")\n",
        "for pipe in pipes_dc:\n",
        "  dummy_name = str(pipe[-1]).split(\"(\")[0]\n",
        "  dummy_strategy = pipe[-1].strategy\n",
        "  dummy_constant = pipe[-1].constant\n",
        "  estimator = GridSearchCV(pipe, dict(selector__threshold=vthreshold, pca__n_components=n_components),\\\n",
        "                                      cv=10, scoring='f1_micro', n_jobs=-1)\n",
        "  estimator.fit(X_train, y_train)\n",
        "  pred = estimator.predict(X_test)\n",
        "  if (dummy_constant == None):\n",
        "    print(\"The optimized DummyClassifier with \" + dummy_strategy + \" strategy has score on test set : \\n\" + classification_report(y_test,pred))\n",
        "  elif (dummy_constant == \"+\"):\n",
        "    print(\"The optimized DummyClassifier with \" + dummy_strategy + \" plus strategy has score on test set : \\n\" + classification_report(y_test,pred))\n",
        "  elif (dummy_constant == \"-\"):\n",
        "    print(\"The optimized DummyClassifier with \" + dummy_strategy + \" minus strategy has score on test set : \\n\" + classification_report(y_test,pred))\n",
        "  print(\"with best parameters\")\n",
        "  print(estimator.best_params_)\n",
        "  print(\"\\n\")\n",
        "  "
      ],
      "execution_count": null,
      "outputs": [
        {
          "output_type": "stream",
          "text": [
            "---------------f1_macro optimized dummy classifiers---------------\n",
            "The optimized DummyClassifier with uniform strategy has score on test set : \n",
            "              precision    recall  f1-score   support\n",
            "\n",
            "           +       0.41      0.48      0.44        61\n",
            "           -       0.53      0.47      0.50        77\n",
            "\n",
            "    accuracy                           0.47       138\n",
            "   macro avg       0.47      0.47      0.47       138\n",
            "weighted avg       0.48      0.47      0.47       138\n",
            "\n",
            "with best parameters\n",
            "{'pca__n_components': 2, 'selector__threshold': 0.2}\n",
            "\n",
            "\n",
            "The optimized DummyClassifier with constant minus strategy has score on test set : \n",
            "              precision    recall  f1-score   support\n",
            "\n",
            "           +       0.00      0.00      0.00        61\n",
            "           -       0.56      1.00      0.72        77\n",
            "\n",
            "    accuracy                           0.56       138\n",
            "   macro avg       0.28      0.50      0.36       138\n",
            "weighted avg       0.31      0.56      0.40       138\n",
            "\n",
            "with best parameters\n",
            "{'pca__n_components': 2, 'selector__threshold': 0}\n",
            "\n",
            "\n",
            "The optimized DummyClassifier with constant plus strategy has score on test set : \n",
            "              precision    recall  f1-score   support\n",
            "\n",
            "           +       0.44      1.00      0.61        61\n",
            "           -       0.00      0.00      0.00        77\n",
            "\n",
            "    accuracy                           0.44       138\n",
            "   macro avg       0.22      0.50      0.31       138\n",
            "weighted avg       0.20      0.44      0.27       138\n",
            "\n",
            "with best parameters\n",
            "{'pca__n_components': 2, 'selector__threshold': 0}\n",
            "\n",
            "\n",
            "The optimized DummyClassifier with most_frequent strategy has score on test set : \n",
            "              precision    recall  f1-score   support\n",
            "\n",
            "           +       0.00      0.00      0.00        61\n",
            "           -       0.56      1.00      0.72        77\n",
            "\n",
            "    accuracy                           0.56       138\n",
            "   macro avg       0.28      0.50      0.36       138\n",
            "weighted avg       0.31      0.56      0.40       138\n",
            "\n",
            "with best parameters\n",
            "{'pca__n_components': 2, 'selector__threshold': 0}\n",
            "\n",
            "\n",
            "The optimized DummyClassifier with stratified strategy has score on test set : \n",
            "              precision    recall  f1-score   support\n",
            "\n",
            "           +       0.45      0.44      0.45        61\n",
            "           -       0.56      0.57      0.57        77\n",
            "\n",
            "    accuracy                           0.51       138\n",
            "   macro avg       0.51      0.51      0.51       138\n",
            "weighted avg       0.51      0.51      0.51       138\n",
            "\n",
            "with best parameters\n",
            "{'pca__n_components': 30, 'selector__threshold': 0.06}\n",
            "\n",
            "\n",
            "---------------f1_micro optimized dummy classifiers---------------\n",
            "The optimized DummyClassifier with uniform strategy has score on test set : \n",
            "              precision    recall  f1-score   support\n",
            "\n",
            "           +       0.46      0.57      0.51        61\n",
            "           -       0.58      0.47      0.52        77\n",
            "\n",
            "    accuracy                           0.51       138\n",
            "   macro avg       0.52      0.52      0.51       138\n",
            "weighted avg       0.53      0.51      0.51       138\n",
            "\n",
            "with best parameters\n",
            "{'pca__n_components': 2, 'selector__threshold': 0.2}\n",
            "\n",
            "\n",
            "The optimized DummyClassifier with constant minus strategy has score on test set : \n",
            "              precision    recall  f1-score   support\n",
            "\n",
            "           +       0.00      0.00      0.00        61\n",
            "           -       0.56      1.00      0.72        77\n",
            "\n",
            "    accuracy                           0.56       138\n",
            "   macro avg       0.28      0.50      0.36       138\n",
            "weighted avg       0.31      0.56      0.40       138\n",
            "\n",
            "with best parameters\n",
            "{'pca__n_components': 2, 'selector__threshold': 0}\n",
            "\n",
            "\n",
            "The optimized DummyClassifier with constant plus strategy has score on test set : \n",
            "              precision    recall  f1-score   support\n",
            "\n",
            "           +       0.44      1.00      0.61        61\n",
            "           -       0.00      0.00      0.00        77\n",
            "\n",
            "    accuracy                           0.44       138\n",
            "   macro avg       0.22      0.50      0.31       138\n",
            "weighted avg       0.20      0.44      0.27       138\n",
            "\n",
            "with best parameters\n",
            "{'pca__n_components': 2, 'selector__threshold': 0}\n",
            "\n",
            "\n",
            "The optimized DummyClassifier with most_frequent strategy has score on test set : \n",
            "              precision    recall  f1-score   support\n",
            "\n",
            "           +       0.00      0.00      0.00        61\n",
            "           -       0.56      1.00      0.72        77\n",
            "\n",
            "    accuracy                           0.56       138\n",
            "   macro avg       0.28      0.50      0.36       138\n",
            "weighted avg       0.31      0.56      0.40       138\n",
            "\n",
            "with best parameters\n",
            "{'pca__n_components': 2, 'selector__threshold': 0}\n",
            "\n",
            "\n",
            "The optimized DummyClassifier with stratified strategy has score on test set : \n",
            "              precision    recall  f1-score   support\n",
            "\n",
            "           +       0.48      0.62      0.54        61\n",
            "           -       0.61      0.47      0.53        77\n",
            "\n",
            "    accuracy                           0.54       138\n",
            "   macro avg       0.55      0.55      0.54       138\n",
            "weighted avg       0.55      0.54      0.54       138\n",
            "\n",
            "with best parameters\n",
            "{'pca__n_components': 2, 'selector__threshold': 0}\n",
            "\n",
            "\n"
          ],
          "name": "stdout"
        }
      ]
    },
    {
      "cell_type": "markdown",
      "metadata": {
        "id": "rc8HEiy8pXdO"
      },
      "source": [
        "Παρατηρούμε όμως ότι πάλι τα αποτελέσματα δεν είναι διαφορετικά, παρά την προσπάθεια βελτιστοποίησης. Αυτό όμως είναι και το αναμενόμενο αποτέλεσμα, αφού οι dummy ταξινομητές δεν εξετάζουν τα δεδομένα σε αρκετό βάθος ώστε να έχει σημασία η προεπεξεργασία. Συγκεκριμένα, οι σταθεροί ταξινομητές, προφανώς θα έχουν πάντα την ίδια απόδοση, ενώ και ο most frequent διατηρεί τα ίδια αποτελέσματα, εφόσον η πιο συχνή ετικέτα δεν αλλάζει. Όσο για τους uniform και stratified ταξινομητές, παρατηρείται μία απόκλιση από το αρχικά αποτελέσματα, ωστόσο αυτή είναι κάθε φορά διαφορετική και τυχαία. Εντελώς, στην πρώτη περίπτωση, ενώ στη δεύτερη αφού δεν αφαιρούμε γραμμές από τα δεδομένα μας, οι προβλέψεις θα γίνονται πάντα με την ίδια πιθανότητα.Για την εμφάνιση των bar_plots και των πινάκων σύγχυσης θα κρατήσουμε μόνο τα αποτελέσματα των f1_macro καθώς εδώ η σύγκριση των αποτελεσμάτων με scoring f1_micro και f1_macro και συνεπώς η επιλογή του κατάλληλου μοντέλου δεν εχεί νόημα. "
      ]
    },
    {
      "cell_type": "markdown",
      "metadata": {
        "id": "1NEYBa9DrjJM"
      },
      "source": [
        "#####**Gaussian Naives Bayes**"
      ]
    },
    {
      "cell_type": "code",
      "metadata": {
        "id": "aBZvvDqts5AH"
      },
      "source": [
        "pipe_gnb = Pipeline(steps=[('mscaler', mscaler), ('selector', selector), ('pca', pca), ('gnb', gnb)],memory=\"tmp\")"
      ],
      "execution_count": null,
      "outputs": []
    },
    {
      "cell_type": "markdown",
      "metadata": {
        "id": "FDGraa31sy8E"
      },
      "source": [
        "Όπως πριν θα εξέτασουμε τα αποτελέσματα της προεπεξεργασίας προτού γίνει αναζήτηση βέλτιστων υπερπαραμέτρων."
      ]
    },
    {
      "cell_type": "code",
      "metadata": {
        "id": "Ofx3N1qBs8mq",
        "colab": {
          "base_uri": "https://localhost:8080/"
        },
        "outputId": "4ef8f9a7-271b-485a-ade1-a5c937292a54"
      },
      "source": [
        "pipe_gnb.fit(X_train, y_train)\n",
        "pred_pipe_gnb = pipe_gnb.predict(X_test)\n",
        "f1_micro_score_pipe_gnb = cross_val_score(pipe_gnb, X_train, y_train, cv=10, scoring='f1_micro')\n",
        "f1_macro_score_pipe_gnb = cross_val_score(pipe_gnb, X_train, y_train, cv=10, scoring='f1_macro')\n",
        "\n",
        "print(\"The GaussianNB Classifier with default preprocessing has f1_micro score on training set : %f \\n\" % (f1_micro_score_pipe_gnb.mean()))\n",
        "print(\"The GaussianNB Classifier with default preprocessing has f1_macro score on training set : %f \\n\" % (f1_macro_score_pipe_gnb.mean()))\n",
        "print(\"The GaussianNB Classifier with default preprocessing parameters has scores on test set: \\n\" + classification_report(y_test,pred_pipe_gnb))"
      ],
      "execution_count": null,
      "outputs": [
        {
          "output_type": "stream",
          "text": [
            "The GaussianNB Classifier with default preprocessing has f1_micro score on training set : 0.744578 \n",
            "\n",
            "The GaussianNB Classifier with default preprocessing has f1_macro score on training set : 0.729866 \n",
            "\n",
            "The GaussianNB Classifier with default preprocessing parameters has scores on test set: \n",
            "              precision    recall  f1-score   support\n",
            "\n",
            "           +       0.79      0.61      0.69        61\n",
            "           -       0.74      0.87      0.80        77\n",
            "\n",
            "    accuracy                           0.75       138\n",
            "   macro avg       0.76      0.74      0.74       138\n",
            "weighted avg       0.76      0.75      0.75       138\n",
            "\n"
          ],
          "name": "stdout"
        }
      ]
    },
    {
      "cell_type": "markdown",
      "metadata": {
        "id": "UIXAJHlmKGMf"
      },
      "source": [
        "Τώρα θα δούμε τις τιμές του variance μετά την εφαρμογή του MinMaxScaler ώστε να ορίσουμε κάταλληλο διάστημα για το VarianceThreshold."
      ]
    },
    {
      "cell_type": "code",
      "metadata": {
        "colab": {
          "base_uri": "https://localhost:8080/"
        },
        "id": "TAMh9wZoKTxM",
        "outputId": "c1a91a33-e514-41fd-bb1a-0f2fa12639bc"
      },
      "source": [
        "mscaler.fit(X_train)\n",
        "X_train_scaled = mscaler.transform(X_train)\n",
        "train_variance = X_train_scaled.var(axis=0)\n",
        "train_variance.sort()\n",
        "print(train_variance)\n",
        "print(np.max(train_variance))"
      ],
      "execution_count": null,
      "outputs": [
        {
          "output_type": "stream",
          "text": [
            "[0.00180831 0.0031759  0.00361006 0.00361006 0.00361006 0.00540525\n",
            " 0.00719682 0.00897592 0.00897592 0.01075142 0.01252035 0.01252035\n",
            " 0.02731823 0.02872985 0.03254155 0.03571526 0.03659617 0.03659617\n",
            " 0.05139414 0.05300554 0.05461038 0.06566044 0.07029773 0.07487595\n",
            " 0.07638889 0.07638889 0.07789527 0.08532871 0.08825614 0.09545986\n",
            " 0.09545986 0.16493056 0.1691051  0.18659092 0.18659092 0.18840252\n",
            " 0.18840252 0.21100806 0.21100806 0.24421078 0.244749   0.244749\n",
            " 0.24742701 0.24742701 0.24952741 0.24952741]\n",
            "0.24952741020793948\n"
          ],
          "name": "stdout"
        }
      ]
    },
    {
      "cell_type": "markdown",
      "metadata": {
        "id": "Nxjg3iwKxROX"
      },
      "source": [
        "Εδώ βλέπουμε πως ο ίδιος ταξινομητής μαζί με την προεπεξεργασία με τις default υπερπαραμέτρους έχει μικρότερη απόδοση στο training set.Παράλληλα βλέπουμε οτι η απόδοση στο test set έχει επίσης μικρύνει."
      ]
    },
    {
      "cell_type": "markdown",
      "metadata": {
        "id": "ffQ3PjXNx8yv"
      },
      "source": [
        "Έπειτα θα εφαρμόσαμε αναζήτηση πλέγματος ώστε να βρούμε τις βέλτιστες υπερπαραμέτρους για την προεπεξεργασία για τις οποίες θα έχουμε ακόμα καλύτερη αποδοσή απο τον ταξινομητή χωρίς προεπεξεργασία.Παρουσίαζουμε παρακάτω τα βήματα, βάζοντας σε σχόλια τα αρχικά gridsearch και κρατώντας μόνο αύτο που επιλέξαμε ως βέλτιστο."
      ]
    },
    {
      "cell_type": "code",
      "metadata": {
        "id": "k4b2AwgvxRbI",
        "colab": {
          "base_uri": "https://localhost:8080/"
        },
        "outputId": "8f0032fd-1992-43eb-f7e7-bebaba45d982"
      },
      "source": [
        "\"\"\"\n",
        "vthreshold = [0, 1e-02, 6e-02, 1e-01, 2e-01, 3e-01]\n",
        "n_components = [2, 10, 20, 30, 40, 45]\n",
        "\n",
        "estimator = GridSearchCV(pipe_gnb, dict(selector__threshold=vthreshold, pca__n_components=n_components), cv=10, scoring='f1_macro',n_jobs=-1)\n",
        "estimator.fit(X_train,y_train)\n",
        "estimator_pred = estimator.predict(X_test)\n",
        "print(\"The GaussianNB Classifier optimized by f1_macro has f1_macro score on training set : %f \\n\" % (estimator.best_score_))\n",
        "print(\"The GaussianNB Classifier optimized by f1_macro has scores on test set : \\n\" + classification_report(y_test,estimator_pred))\n",
        "print(\"with best parameters\")\n",
        "print(estimator.best_params_)\n",
        "\n",
        "print(\"\\n\")\n",
        "\n",
        "estimator = GridSearchCV(pipe_gnb, dict(selector__threshold=vthreshold, pca__n_components=n_components), cv=10, scoring='f1_micro',n_jobs=-1)\n",
        "estimator.fit(X_train,y_train)\n",
        "estimator_pred = estimator.predict(X_test)\n",
        "print(\"The GaussianNB Classifier optimized by f1_micro has f1_micro score on training set : %f \\n\" % (estimator.best_score_))\n",
        "print(\"The GaussianNB Classifier optimized by f1_micro has scores on test set : \\n\" + classification_report(y_test,estimator_pred))\n",
        "print(\"with best parameters\")\n",
        "print(estimator.best_params_)\n",
        "\"\"\""
      ],
      "execution_count": null,
      "outputs": [
        {
          "output_type": "execute_result",
          "data": {
            "application/vnd.google.colaboratory.intrinsic+json": {
              "type": "string"
            },
            "text/plain": [
              "'\\nvthreshold = [0, 1e-02, 6e-02, 1e-01, 2e-01, 3e-01]\\nn_components = [2, 10, 20, 30, 40, 45]\\n\\nestimator = GridSearchCV(pipe_gnb, dict(selector__threshold=vthreshold, pca__n_components=n_components), cv=10, scoring=\\'f1_macro\\',n_jobs=-1)\\nestimator.fit(X_train,y_train)\\nestimator_pred = estimator.predict(X_test)\\nprint(\"The GaussianNB Classifier optimized by f1_macro has f1_macro score on training set : %f \\n\" % (estimator.best_score_))\\nprint(\"The GaussianNB Classifier optimized by f1_macro has scores on test set : \\n\" + classification_report(y_test,estimator_pred))\\nprint(\"with best parameters\")\\nprint(estimator.best_params_)\\n\\nprint(\"\\n\")\\n\\nestimator = GridSearchCV(pipe_gnb, dict(selector__threshold=vthreshold, pca__n_components=n_components), cv=10, scoring=\\'f1_micro\\',n_jobs=-1)\\nestimator.fit(X_train,y_train)\\nestimator_pred = estimator.predict(X_test)\\nprint(\"The GaussianNB Classifier optimized by f1_micro has f1_micro score on training set : %f \\n\" % (estimator.best_score_))\\nprint(\"The GaussianNB Classifier optimized by f1_micro has scores on test set : \\n\" + classification_report(y_test,estimator_pred))\\nprint(\"with best parameters\")\\nprint(estimator.best_params_)\\n'"
            ]
          },
          "metadata": {
            "tags": []
          },
          "execution_count": 101
        }
      ]
    },
    {
      "cell_type": "markdown",
      "metadata": {
        "id": "Tw4z6cUzQY_5"
      },
      "source": [
        "Εδώ βλέπουμε οτι οι δύο μετρικές f1_macro και f1_micro δίνουν προς το παρόν τις ίδιες βέλτιστες υπερπαραμέτρους vthreshold = 0,06 και n_components = 10.Θα ελέγξουμε αν υπάρχει περιθώριο βελτίωσης του ταξινομήτη ελέγχοντας κάποιες τιμές κοντά στις τιμές που βρήκαμε, πραγματοποιώντας ουσιαστικά μία progressive αναζήτηση πλέγματος."
      ]
    },
    {
      "cell_type": "code",
      "metadata": {
        "id": "jA6klVEMqwCp",
        "colab": {
          "base_uri": "https://localhost:8080/"
        },
        "outputId": "ab916f7a-1011-482f-dbf6-cbe296dd918b"
      },
      "source": [
        "vthreshold = [3e-02, 6e-02, 9e-02]\n",
        "n_components = [6, 7, 8, 9, 10, 11, 12, 13, 14]\n",
        "\n",
        "estimator = GridSearchCV(pipe_gnb, dict(selector__threshold=vthreshold, pca__n_components=n_components), cv=10, scoring='f1_macro',n_jobs=-1)\n",
        "start_time = time.time()\n",
        "estimator.fit(X_train,y_train)\n",
        "estimator_pred = estimator.predict(X_test)\n",
        "estimator_time = time.time() - start_time\n",
        "print(\"The GaussianNB Classifier has f1_macro score on training set : %f \\n\" % (estimator.best_score_))\n",
        "print(\"The GaussianNB Classifier optimized by f1_macro : \\n\" + classification_report(y_test,estimator_pred))\n",
        "print(\"with best parameters\")\n",
        "print(estimator.best_params_)\n",
        "\n",
        "#Keeping the results for f1_macro as we choose this for our model.\n",
        "pipe_gnb = estimator.best_estimator_\n",
        "pred_pipe_gnb = estimator_pred\n",
        "time_pipe_gnb = estimator_time\n",
        "\n",
        "print(\"\\n\")\n",
        "\n",
        "estimator = GridSearchCV(pipe_gnb, dict(selector__threshold=vthreshold, pca__n_components=n_components), cv=10, scoring='f1_micro',n_jobs=-1)\n",
        "estimator.fit(X_train,y_train)\n",
        "estimator_pred = estimator.predict(X_test)\n",
        "print(\"The GaussianNB Classifier optimized by f1_micro has f1_micro score on training set : %f \\n\" % (estimator.best_score_))\n",
        "print(\"The GaussianNB Classifier optimized by f1_micro has scores on test set : \\n\" + classification_report(y_test,estimator_pred))\n",
        "print(\"with best parameters\")\n",
        "print(estimator.best_params_)\n",
        "\n"
      ],
      "execution_count": null,
      "outputs": [
        {
          "output_type": "stream",
          "text": [
            "The GaussianNB Classifier has f1_macro score on training set : 0.843776 \n",
            "\n",
            "The GaussianNB Classifier optimized by f1_macro : \n",
            "              precision    recall  f1-score   support\n",
            "\n",
            "           +       0.88      0.92      0.90        61\n",
            "           -       0.93      0.90      0.91        77\n",
            "\n",
            "    accuracy                           0.91       138\n",
            "   macro avg       0.90      0.91      0.90       138\n",
            "weighted avg       0.91      0.91      0.91       138\n",
            "\n",
            "with best parameters\n",
            "{'pca__n_components': 9, 'selector__threshold': 0.03}\n",
            "\n",
            "\n",
            "The GaussianNB Classifier optimized by f1_micro has f1_micro score on training set : 0.846039 \n",
            "\n",
            "The GaussianNB Classifier optimized by f1_micro has scores on test set : \n",
            "              precision    recall  f1-score   support\n",
            "\n",
            "           +       0.88      0.92      0.90        61\n",
            "           -       0.93      0.90      0.91        77\n",
            "\n",
            "    accuracy                           0.91       138\n",
            "   macro avg       0.90      0.91      0.90       138\n",
            "weighted avg       0.91      0.91      0.91       138\n",
            "\n",
            "with best parameters\n",
            "{'pca__n_components': 9, 'selector__threshold': 0.03}\n"
          ],
          "name": "stdout"
        }
      ]
    },
    {
      "cell_type": "markdown",
      "metadata": {
        "id": "m0ICfwc5ROnG"
      },
      "source": [
        "Πάλι εδώ βλέπουμε ότι οι βέλτιστες υπερπαράμετροι είναι ίδιες και για τις δύο μετρικές.Επομένως κρατάμε αυτές για το τελικό fit.Τέλος βλέπουμε πως έχουμε βελτίωση της απόδοσης του ταξινομητή στο training set σχεδον 2% απο τον απλό GNB.Ενω στο test set λαμβάνουμε απόδοση κοντά στο 90%.Κρατάμε τα αποτελέσματα της βελτιστοποίησης του f1_macro για τα bar_plots και τους πίνακες σύγχυσης."
      ]
    },
    {
      "cell_type": "markdown",
      "metadata": {
        "id": "nqVJujH94q5y"
      },
      "source": [
        "#####**k Nearest Neighbors Classifier (kNN)**"
      ]
    },
    {
      "cell_type": "code",
      "metadata": {
        "id": "RoMMaer6r7v1"
      },
      "source": [
        "pipe_knn = Pipeline(steps=[('mscaler',mscaler), ('selector', selector), ('pca', pca), ('knn', knn)],memory=\"tmp\")"
      ],
      "execution_count": null,
      "outputs": []
    },
    {
      "cell_type": "markdown",
      "metadata": {
        "id": "qnVHeKCJ59jm"
      },
      "source": [
        "Όπως πριν θα εξέτασουμε τα αποτελέσματα της προεπεξεργασίας προτού γίνει αναζήτηση βέλτιστων υπερπαραμέτρων."
      ]
    },
    {
      "cell_type": "code",
      "metadata": {
        "id": "_gyPBiGvUXyj",
        "colab": {
          "base_uri": "https://localhost:8080/"
        },
        "outputId": "718e3d8f-2f75-4eaf-cf16-a8406c45c944"
      },
      "source": [
        "pipe_knn.fit(X_train,y_train)\n",
        "pred_pipe_knn = pipe_knn.predict(X_test)\n",
        "f1_macro_score_pipe_knn = cross_val_score(pipe_knn, X_train, y_train, cv=10, scoring='f1_macro')\n",
        "f1_micro_score_pipe_knn = cross_val_score(pipe_knn, X_train, y_train, cv=10, scoring='f1_micro')\n",
        "print(\"The KNeighborsClassifier with k=\" + str(pipe_knn[-1].n_neighbors) + \" and default preprocessing parameters has f1_macro score on training set : %f \\n\" % (f1_macro_score_pipe_knn.mean()))\n",
        "print(\"The KNeighborsClassifier with k=\" + str(pipe_knn[-1].n_neighbors) + \" and default preprocessing parameters has f1_micro score on training set : %f \\n\" % (f1_micro_score_pipe_knn.mean()))\n",
        "print(\"The KNeighborsClassifier with k=\" + str(pipe_knn[-1].n_neighbors) + \" and default preprocessing parameters has scores on test set : \\n\" + classification_report(y_test,pred_pipe_knn))"
      ],
      "execution_count": null,
      "outputs": [
        {
          "output_type": "stream",
          "text": [
            "The KNeighborsClassifier with k=5 and default preprocessing parameters has f1_macro score on training set : 0.862488 \n",
            "\n",
            "The KNeighborsClassifier with k=5 and default preprocessing parameters has f1_micro score on training set : 0.865974 \n",
            "\n",
            "The KNeighborsClassifier with k=5 and default preprocessing parameters has scores on test set : \n",
            "              precision    recall  f1-score   support\n",
            "\n",
            "           +       0.82      0.82      0.82        61\n",
            "           -       0.86      0.86      0.86        77\n",
            "\n",
            "    accuracy                           0.84       138\n",
            "   macro avg       0.84      0.84      0.84       138\n",
            "weighted avg       0.84      0.84      0.84       138\n",
            "\n"
          ],
          "name": "stdout"
        }
      ]
    },
    {
      "cell_type": "markdown",
      "metadata": {
        "id": "LZBJl5-xctSc"
      },
      "source": [
        "Εδώ βλέπουμε πως ο ίδιος ταξινομητής μαζί με την προεπεξεργασία βελτίωσε την απόδοση του σχεδόν κατα 18% στο training set."
      ]
    },
    {
      "cell_type": "markdown",
      "metadata": {
        "id": "3sR7308CUxyr"
      },
      "source": [
        "Έπειτα θα εφαρμόσουμε progressive αναζήτηση πλέγματος ώστε να βελτιστοποιήσουμε τον ταξινομητή επιλέγοντας τις βέλτιστες υπερπαραμέτρους για την προεπεξεργασία και την υπερπαράμετρο k του kNN."
      ]
    },
    {
      "cell_type": "code",
      "metadata": {
        "id": "WHxlPXKM_Er8",
        "colab": {
          "base_uri": "https://localhost:8080/"
        },
        "outputId": "1246d5f6-f2ad-4bb4-e6be-b9db872297f1"
      },
      "source": [
        "\"\"\"\n",
        "vthreshold = [0, 1e-02, 6e-02, 1e-01, 2e-01, 3e-01]\n",
        "n_components = [2, 10, 20, 30, 40, 45]\n",
        "k = [1, 5, 11, 15, 21, 25, 31, 35, 41]\n",
        "\n",
        "\n",
        "estimator = GridSearchCV(pipe_knn, dict(selector__threshold=vthreshold, pca__n_components=n_components, knn__n_neighbors=k),\\\n",
        "                         cv=10, scoring='f1_macro', n_jobs=-1)\n",
        "estimator.fit(X_train,y_train)\n",
        "estimator_pred = estimator.predict(X_test)\n",
        "print(\"The KNeighborsClassifier optimized by f1_macro has f1_macro score on training set %f : \\n\" % (estimator.best_score_))\n",
        "print(\"The KNeighborsClassifier optimized by f1_macro has scores on test set : \\n\" + classification_report(y_test,estimator_pred))\n",
        "print(\"with best parameters\")\n",
        "print(estimator.best_params_)\n",
        "\n",
        "print(\"\\n\")\n",
        "\n",
        "estimator = GridSearchCV(pipe_knn, dict(selector__threshold=vthreshold, pca__n_components=n_components, knn__n_neighbors=k),\\\n",
        "                         cv=10, scoring='f1_micro', n_jobs=-1)\n",
        "estimator.fit(X_train,y_train)\n",
        "estimator_pred = estimator.predict(X_test)\n",
        "print(\"The KNeighborsClassifier optimized by f1_micro has f1_micro score on training set %f : \\n\" % (estimator.best_score_))\n",
        "print(\"The KNeighborsClassifier optimized by f1_micro has scores on test set : \\n\" + classification_report(y_test,estimator_pred))\n",
        "print(\"with best parameters\")\n",
        "print(estimator.best_params_)\n",
        "\"\"\""
      ],
      "execution_count": null,
      "outputs": [
        {
          "output_type": "execute_result",
          "data": {
            "application/vnd.google.colaboratory.intrinsic+json": {
              "type": "string"
            },
            "text/plain": [
              "'\\nvthreshold = [0, 1e-02, 6e-02, 1e-01, 2e-01, 3e-01]\\nn_components = [2, 10, 20, 30, 40, 45]\\nk = [1, 5, 11, 15, 21, 25, 31, 35, 41]\\n\\n\\nestimator = GridSearchCV(pipe_knn, dict(selector__threshold=vthreshold, pca__n_components=n_components, knn__n_neighbors=k),                         cv=10, scoring=\\'f1_macro\\', n_jobs=-1)\\nestimator.fit(X_train,y_train)\\nestimator_pred = estimator.predict(X_test)\\nprint(\"The KNeighborsClassifier optimized by f1_macro has f1_macro score on training set %f : \\n\" % (estimator.best_score_))\\nprint(\"The KNeighborsClassifier optimized by f1_macro has scores on test set : \\n\" + classification_report(y_test,estimator_pred))\\nprint(\"with best parameters\")\\nprint(estimator.best_params_)\\n\\nprint(\"\\n\")\\n\\nestimator = GridSearchCV(pipe_knn, dict(selector__threshold=vthreshold, pca__n_components=n_components, knn__n_neighbors=k),                         cv=10, scoring=\\'f1_micro\\', n_jobs=-1)\\nestimator.fit(X_train,y_train)\\nestimator_pred = estimator.predict(X_test)\\nprint(\"The KNeighborsClassifier optimized by f1_micro has f1_micro score on training set %f : \\n\" % (estimator.best_score_))\\nprint(\"The KNeighborsClassifier optimized by f1_micro has scores on test set : \\n\" + classification_report(y_test,estimator_pred))\\nprint(\"with best parameters\")\\nprint(estimator.best_params_)\\n'"
            ]
          },
          "metadata": {
            "tags": []
          },
          "execution_count": 105
        }
      ]
    },
    {
      "cell_type": "markdown",
      "metadata": {
        "id": "4A3xIDkOpdVY"
      },
      "source": [
        "Επαναλαμβάνουμε τώρα την αναζήτηση πλέγματος με τιμές υπερπαραμέτρων κοντινές στις βέλτιστες της προηγούμενης αναζήτησης (n_components = 20, vthreshold = 0 και k=5)"
      ]
    },
    {
      "cell_type": "code",
      "metadata": {
        "id": "wLr-A0vooXVA",
        "colab": {
          "base_uri": "https://localhost:8080/"
        },
        "outputId": "986b9ab9-0df5-45fd-9791-c24b99c0965f"
      },
      "source": [
        "#Grid for knn classifier\n",
        "vthreshold = [0, 2e-03, 4e-03]\n",
        "n_components = [17, 18, 19, 20, 21, 22, 23]\n",
        "k = [3, 5, 7, 9]\n",
        "\n",
        "estimator = GridSearchCV(pipe_knn, dict(selector__threshold=vthreshold, pca__n_components=n_components, knn__n_neighbors=k),\\\n",
        "                         cv=10, scoring='f1_macro', n_jobs=-1)\n",
        "start_time = time.time()\n",
        "estimator.fit(X_train,y_train)\n",
        "estimator_pred = estimator.predict(X_test)\n",
        "estimator_time = time.time() - start_time\n",
        "print(\"The KNeighborsClassifier optimized by f1_macro has f1_macro score on training set %f : \\n\" % (estimator.best_score_))\n",
        "print(\"The KNeighborsClassifier optimized by f1_macro has scores on test set: \\n\" + classification_report(y_test,estimator_pred))\n",
        "print(\"with best parameters\")\n",
        "print(estimator.best_params_)\n",
        "\n",
        "#Keeping the results for f1_macro as we choose this for the best model.\n",
        "pipe_knn = estimator.best_estimator_\n",
        "pred_pipe_knn = estimator_pred\n",
        "time_pipe_knn = estimator_time\n",
        "\n",
        "print(\"\\n\")\n",
        "\n",
        "estimator = GridSearchCV(pipe_knn, dict(selector__threshold=vthreshold, pca__n_components=n_components, knn__n_neighbors=k),\\\n",
        "                         cv=10, scoring='f1_micro', n_jobs=-1)\n",
        "estimator.fit(X_train,y_train)\n",
        "estimator_pred = estimator.predict(X_test)\n",
        "\n",
        "print(\"The KNeighborsClassifier optimized by f1_micro has f1_micro score on training set %f : \\n\" % (estimator.best_score_))\n",
        "print(\"The KNeighborsClassifier optimized by f1_micro has scores on test set : \\n\" + classification_report(y_test,estimator_pred))\n",
        "print(\"with best parameters\")\n",
        "print(estimator.best_params_)\n"
      ],
      "execution_count": null,
      "outputs": [
        {
          "output_type": "stream",
          "text": [
            "The KNeighborsClassifier optimized by f1_macro has f1_macro score on training set 0.877831 : \n",
            "\n",
            "The KNeighborsClassifier optimized by f1_macro has scores on test set: \n",
            "              precision    recall  f1-score   support\n",
            "\n",
            "           +       0.81      0.77      0.79        61\n",
            "           -       0.82      0.86      0.84        77\n",
            "\n",
            "    accuracy                           0.82       138\n",
            "   macro avg       0.82      0.81      0.82       138\n",
            "weighted avg       0.82      0.82      0.82       138\n",
            "\n",
            "with best parameters\n",
            "{'knn__n_neighbors': 5, 'pca__n_components': 20, 'selector__threshold': 0}\n",
            "\n",
            "\n",
            "The KNeighborsClassifier optimized by f1_micro has f1_micro score on training set 0.880519 : \n",
            "\n",
            "The KNeighborsClassifier optimized by f1_micro has scores on test set : \n",
            "              precision    recall  f1-score   support\n",
            "\n",
            "           +       0.81      0.77      0.79        61\n",
            "           -       0.82      0.86      0.84        77\n",
            "\n",
            "    accuracy                           0.82       138\n",
            "   macro avg       0.82      0.81      0.82       138\n",
            "weighted avg       0.82      0.82      0.82       138\n",
            "\n",
            "with best parameters\n",
            "{'knn__n_neighbors': 5, 'pca__n_components': 20, 'selector__threshold': 0}\n"
          ],
          "name": "stdout"
        }
      ]
    },
    {
      "cell_type": "markdown",
      "metadata": {
        "id": "esgy2-gWp7H7"
      },
      "source": [
        "Καταλήγουμε οτι οι βέλτιστες υπερπαράμετροι είναι πολυ κοντά σε αυτές που βρήκαμε και στο προηγούμενο βήμα.Η μόνη υπερπαράμετρος που άλλαξε είναι το vthreshhold ωστόσο η απόδοση έμεινε ίδια.\n",
        "Οπότε το παρόν βήμα αποτελεί μία επαλήθευση οτι βρισκόμαστε σε καλό συνδυασμό υπερπαραμέτρων."
      ]
    },
    {
      "cell_type": "markdown",
      "metadata": {
        "id": "wFXqjyB4UhCa"
      },
      "source": [
        "Και οι δύο μετρικές μας δώσανε το ίδιο βέλτιστο μόντελο για τους GNB και kNN.Για την εμφάνιση των χρόνων εκτέλεσης αποφασίσαμε να κρατήσουμε τον χρόνο που χρειάστηκε να γίνουν fit οι ταξινομητές για scoring f1_macro. "
      ]
    },
    {
      "cell_type": "markdown",
      "metadata": {
        "id": "-Xv8Wxgooa-J"
      },
      "source": [
        "#####**Confusion Matrices - Πίνακες Σύγχυσης**"
      ]
    },
    {
      "cell_type": "code",
      "metadata": {
        "id": "_ayq-wbSqBFW",
        "colab": {
          "base_uri": "https://localhost:8080/"
        },
        "outputId": "3e5eb2a4-65c6-4476-ca4d-c09cfdac6509"
      },
      "source": [
        "#For all classifiers plot the cnf matrix\n",
        "clfs = [pipe_knn, pipe_gnb] + (pipes_dc)\n",
        "preds =[pred_pipe_knn, pred_pipe_gnb] + (pred_pipes_dc) \n",
        "plot_cnf_clfs(clfs, preds, y_test,[\"+\", \"-\"])"
      ],
      "execution_count": null,
      "outputs": [
        {
          "output_type": "display_data",
          "data": {
            "image/png": "[encoded data removed]",
            "text/plain": [
              "<Figure size 432x288 with 2 Axes>"
            ]
          },
          "metadata": {
            "tags": [],
            "needs_background": "light"
          }
        },
        {
          "output_type": "display_data",
          "data": {
            "image/png": "[encoded data removed]",
            "text/plain": [
              "<Figure size 432x288 with 2 Axes>"
            ]
          },
          "metadata": {
            "tags": [],
            "needs_background": "light"
          }
        },
        {
          "output_type": "display_data",
          "data": {
            "image/png": "[encoded data removed]",
            "text/plain": [
              "<Figure size 432x288 with 2 Axes>"
            ]
          },
          "metadata": {
            "tags": [],
            "needs_background": "light"
          }
        },
        {
          "output_type": "display_data",
          "data": {
            "image/png": "[encoded data removed]",
            "text/plain": [
              "<Figure size 432x288 with 2 Axes>"
            ]
          },
          "metadata": {
            "tags": [],
            "needs_background": "light"
          }
        },
        {
          "output_type": "display_data",
          "data": {
            "image/png": "[encoded data removed]",
            "text/plain": [
              "<Figure size 432x288 with 2 Axes>"
            ]
          },
          "metadata": {
            "tags": [],
            "needs_background": "light"
          }
        },
        {
          "output_type": "display_data",
          "data": {
            "image/png": "[encoded data removed]",
            "text/plain": [
              "<Figure size 432x288 with 2 Axes>"
            ]
          },
          "metadata": {
            "tags": [],
            "needs_background": "light"
          }
        },
        {
          "output_type": "display_data",
          "data": {
            "image/png": "[encoded data removed]",
            "text/plain": [
              "<Figure size 432x288 with 2 Axes>"
            ]
          },
          "metadata": {
            "tags": [],
            "needs_background": "light"
          }
        }
      ]
    },
    {
      "cell_type": "markdown",
      "metadata": {
        "id": "7t_sG3pasyzp"
      },
      "source": [
        "#####**Χρόνοι εκτέλεσης**\n",
        "\n",
        "Ακολουθούν οι χρόνοι που χρειάστηκαν για την εκπαίδευση και εκτίμηση του κάθε ταξινομητή.\n",
        "\n"
      ]
    },
    {
      "cell_type": "code",
      "metadata": {
        "id": "-uwK-lJZt6mi"
      },
      "source": [
        "#Create a list with the times for fit and predict\n",
        "times = [time_pipe_knn] + [time_pipe_gnb] + time_pipes_dc\n",
        "\n",
        "#Creating the names of the classifiers so we can have a nice format.\n",
        "names = []\n",
        "for clf in clfs:\n",
        "  clf_name = str(clf).split(\"(\")[0]\n",
        "  if (clf_name == \"Pipeline\"):\n",
        "      clf = clf.steps[-1][1]\n",
        "  clf_name = str(clf).split(\"(\")[0]    \n",
        "  if (clf_name == \"DummyClassifier\"):\n",
        "      clf_name = clf_name + \" strategy=\" + str(clf.strategy)\n",
        "      if (clf.constant == '+' or clf.constant == '-'):\n",
        "        clf_name = clf_name + \" constant=\" + clf.constant\n",
        "  elif (clf_name == \"GaussianNB\"):\n",
        "      clf_name = clf_name\n",
        "  elif (clf_name == \"KNeighborsClassifier\"):\n",
        "      clf_name = clf_name + \" n_neighbors=\" + (str(clf.n_neighbors))\n",
        "  names.append(clf_name)"
      ],
      "execution_count": null,
      "outputs": []
    },
    {
      "cell_type": "code",
      "metadata": {
        "id": "OxIprkn10RQB",
        "colab": {
          "base_uri": "https://localhost:8080/"
        },
        "outputId": "95eb0fa9-3504-4d56-aaa6-795b2abbc5b6"
      },
      "source": [
        "pd.DataFrame({'Time (s)': times}, index=names)\n"
      ],
      "execution_count": null,
      "outputs": [
        {
          "output_type": "execute_result",
          "data": {
            "text/html": [
              "<div>\n",
              "<style scoped>\n",
              "    .dataframe tbody tr th:only-of-type {\n",
              "        vertical-align: middle;\n",
              "    }\n",
              "\n",
              "    .dataframe tbody tr th {\n",
              "        vertical-align: top;\n",
              "    }\n",
              "\n",
              "    .dataframe thead th {\n",
              "        text-align: right;\n",
              "    }\n",
              "</style>\n",
              "<table border=\"1\" class=\"dataframe\">\n",
              "  <thead>\n",
              "    <tr style=\"text-align: right;\">\n",
              "      <th></th>\n",
              "      <th>Time (s)</th>\n",
              "    </tr>\n",
              "  </thead>\n",
              "  <tbody>\n",
              "    <tr>\n",
              "      <th>KNeighborsClassifier n_neighbors=5</th>\n",
              "      <td>14.539907</td>\n",
              "    </tr>\n",
              "    <tr>\n",
              "      <th>GaussianNB</th>\n",
              "      <td>5.672325</td>\n",
              "    </tr>\n",
              "    <tr>\n",
              "      <th>DummyClassifier strategy=uniform</th>\n",
              "      <td>6.846742</td>\n",
              "    </tr>\n",
              "    <tr>\n",
              "      <th>DummyClassifier strategy=constant constant=-</th>\n",
              "      <td>4.671327</td>\n",
              "    </tr>\n",
              "    <tr>\n",
              "      <th>DummyClassifier strategy=constant constant=+</th>\n",
              "      <td>4.611413</td>\n",
              "    </tr>\n",
              "    <tr>\n",
              "      <th>DummyClassifier strategy=most_frequent</th>\n",
              "      <td>4.628112</td>\n",
              "    </tr>\n",
              "    <tr>\n",
              "      <th>DummyClassifier strategy=stratified</th>\n",
              "      <td>4.561245</td>\n",
              "    </tr>\n",
              "  </tbody>\n",
              "</table>\n",
              "</div>"
            ],
            "text/plain": [
              "                                               Time (s)\n",
              "KNeighborsClassifier n_neighbors=5            14.539907\n",
              "GaussianNB                                     5.672325\n",
              "DummyClassifier strategy=uniform               6.846742\n",
              "DummyClassifier strategy=constant constant=-   4.671327\n",
              "DummyClassifier strategy=constant constant=+   4.611413\n",
              "DummyClassifier strategy=most_frequent         4.628112\n",
              "DummyClassifier strategy=stratified            4.561245"
            ]
          },
          "metadata": {
            "tags": []
          },
          "execution_count": 109
        }
      ]
    },
    {
      "cell_type": "markdown",
      "metadata": {
        "id": "BTfki29f1kzW"
      },
      "source": [
        "#####**Bar Plots για f1 scores**"
      ]
    },
    {
      "cell_type": "code",
      "metadata": {
        "id": "RcYuEKgM2CoS",
        "colab": {
          "base_uri": "https://localhost:8080/"
        },
        "outputId": "20b94226-cc39-4c10-9ae4-f6fb4badd2c2"
      },
      "source": [
        "barplot_clfs(clfs,preds,y_test)"
      ],
      "execution_count": null,
      "outputs": [
        {
          "output_type": "display_data",
          "data": {
            "image/png": "[encoded data removed]",
            "text/plain": [
              "<Figure size 1080x360 with 1 Axes>"
            ]
          },
          "metadata": {
            "tags": [],
            "needs_background": "light"
          }
        },
        {
          "output_type": "display_data",
          "data": {
            "image/png": "[encoded data removed]",
            "text/plain": [
              "<Figure size 1080x360 with 1 Axes>"
            ]
          },
          "metadata": {
            "tags": [],
            "needs_background": "light"
          }
        },
        {
          "output_type": "display_data",
          "data": {
            "image/png": "[encoded data removed]",
            "text/plain": [
              "<Figure size 1080x360 with 1 Axes>"
            ]
          },
          "metadata": {
            "tags": [],
            "needs_background": "light"
          }
        }
      ]
    },
    {
      "cell_type": "markdown",
      "metadata": {
        "id": "Dy3YcdCb2vKu"
      },
      "source": [
        "#####**Πίνακας μεταβολής απόδοσης**\n",
        "\n",
        "Ο παρακάτω πίνακας μας δείχνει την μεταβολή της απόδοσης στο test set (μετρικές f1_micro και f1_macro) πριν και μετά την βελτιστοποίηση των ταξινομητών.\n",
        "\n"
      ]
    },
    {
      "cell_type": "code",
      "metadata": {
        "id": "p7Owy0SS3XEm",
        "colab": {
          "base_uri": "https://localhost:8080/"
        },
        "outputId": "1249a9f1-ea63-48ca-9a00-b8b4506705fc"
      },
      "source": [
        "changes = {\n",
        "    'Before F1 (micro)':  [precision_recall_fscore_support(y_test, pred_knn, average='micro')[2],\n",
        "                          precision_recall_fscore_support(y_test, pred_gnb, average='micro')[2],\n",
        "                          precision_recall_fscore_support(y_test, pred_uni, average='micro')[2],\n",
        "                          precision_recall_fscore_support(y_test, pred_const_minus, average='micro')[2],\n",
        "                          precision_recall_fscore_support(y_test, pred_const_plus, average='micro')[2],\n",
        "                          precision_recall_fscore_support(y_test, pred_freq, average='micro')[2],\n",
        "                          precision_recall_fscore_support(y_test, pred_strat, average='micro')[2]],\n",
        "    'After F1 (micro)':   [precision_recall_fscore_support(y_test, pred_pipe_knn, average='micro')[2],\n",
        "                          precision_recall_fscore_support(y_test, pred_pipe_gnb, average='micro')[2],\n",
        "                          precision_recall_fscore_support(y_test, pred_pipes_dc[0], average='micro')[2],\n",
        "                          precision_recall_fscore_support(y_test, pred_pipes_dc[1], average='micro')[2],\n",
        "                          precision_recall_fscore_support(y_test, pred_pipes_dc[2], average='micro')[2],\n",
        "                          precision_recall_fscore_support(y_test, pred_pipes_dc[3], average='micro')[2],\n",
        "                          precision_recall_fscore_support(y_test, pred_pipes_dc[4], average='micro')[2]],\n",
        "    'Before F1 (macro)':  [precision_recall_fscore_support(y_test, pred_knn, average='macro')[2],\n",
        "                          precision_recall_fscore_support(y_test, pred_gnb, average='macro')[2],\n",
        "                          precision_recall_fscore_support(y_test, pred_uni, average='macro')[2],\n",
        "                          precision_recall_fscore_support(y_test, pred_const_minus, average='macro')[2],\n",
        "                          precision_recall_fscore_support(y_test, pred_const_plus, average='macro')[2],\n",
        "                          precision_recall_fscore_support(y_test, pred_freq, average='macro')[2],\n",
        "                          precision_recall_fscore_support(y_test, pred_strat, average='macro')[2]],\n",
        "    'After F1 (macro)':   [precision_recall_fscore_support(y_test, pred_pipe_knn, average='macro')[2],\n",
        "                          precision_recall_fscore_support(y_test, pred_pipe_gnb, average='macro')[2],\n",
        "                          precision_recall_fscore_support(y_test, pred_pipes_dc[0], average='macro')[2],\n",
        "                          precision_recall_fscore_support(y_test, pred_pipes_dc[1], average='macro')[2],\n",
        "                          precision_recall_fscore_support(y_test, pred_pipes_dc[2], average='macro')[2],\n",
        "                          precision_recall_fscore_support(y_test, pred_pipes_dc[3], average='macro')[2],\n",
        "                          precision_recall_fscore_support(y_test, pred_pipes_dc[4], average='macro')[2]],\n",
        "}\n",
        "pd.DataFrame(changes, index=names)"
      ],
      "execution_count": null,
      "outputs": [
        {
          "output_type": "execute_result",
          "data": {
            "text/html": [
              "<div>\n",
              "<style scoped>\n",
              "    .dataframe tbody tr th:only-of-type {\n",
              "        vertical-align: middle;\n",
              "    }\n",
              "\n",
              "    .dataframe tbody tr th {\n",
              "        vertical-align: top;\n",
              "    }\n",
              "\n",
              "    .dataframe thead th {\n",
              "        text-align: right;\n",
              "    }\n",
              "</style>\n",
              "<table border=\"1\" class=\"dataframe\">\n",
              "  <thead>\n",
              "    <tr style=\"text-align: right;\">\n",
              "      <th></th>\n",
              "      <th>Before F1 (micro)</th>\n",
              "      <th>After F1 (micro)</th>\n",
              "      <th>Before F1 (macro)</th>\n",
              "      <th>After F1 (macro)</th>\n",
              "    </tr>\n",
              "  </thead>\n",
              "  <tbody>\n",
              "    <tr>\n",
              "      <th>KNeighborsClassifier n_neighbors=5</th>\n",
              "      <td>0.739130</td>\n",
              "      <td>0.818841</td>\n",
              "      <td>0.729530</td>\n",
              "      <td>0.815340</td>\n",
              "    </tr>\n",
              "    <tr>\n",
              "      <th>GaussianNB</th>\n",
              "      <td>0.855072</td>\n",
              "      <td>0.905797</td>\n",
              "      <td>0.851293</td>\n",
              "      <td>0.904954</td>\n",
              "    </tr>\n",
              "    <tr>\n",
              "      <th>DummyClassifier strategy=uniform</th>\n",
              "      <td>0.485507</td>\n",
              "      <td>0.471014</td>\n",
              "      <td>0.482217</td>\n",
              "      <td>0.469650</td>\n",
              "    </tr>\n",
              "    <tr>\n",
              "      <th>DummyClassifier strategy=constant constant=-</th>\n",
              "      <td>0.557971</td>\n",
              "      <td>0.557971</td>\n",
              "      <td>0.358140</td>\n",
              "      <td>0.358140</td>\n",
              "    </tr>\n",
              "    <tr>\n",
              "      <th>DummyClassifier strategy=constant constant=+</th>\n",
              "      <td>0.442029</td>\n",
              "      <td>0.442029</td>\n",
              "      <td>0.306533</td>\n",
              "      <td>0.306533</td>\n",
              "    </tr>\n",
              "    <tr>\n",
              "      <th>DummyClassifier strategy=most_frequent</th>\n",
              "      <td>0.557971</td>\n",
              "      <td>0.557971</td>\n",
              "      <td>0.358140</td>\n",
              "      <td>0.358140</td>\n",
              "    </tr>\n",
              "    <tr>\n",
              "      <th>DummyClassifier strategy=stratified</th>\n",
              "      <td>0.478261</td>\n",
              "      <td>0.514493</td>\n",
              "      <td>0.469231</td>\n",
              "      <td>0.507011</td>\n",
              "    </tr>\n",
              "  </tbody>\n",
              "</table>\n",
              "</div>"
            ],
            "text/plain": [
              "                                              Before F1 (micro)  ...  After F1 (macro)\n",
              "KNeighborsClassifier n_neighbors=5                     0.739130  ...          0.815340\n",
              "GaussianNB                                             0.855072  ...          0.904954\n",
              "DummyClassifier strategy=uniform                       0.485507  ...          0.469650\n",
              "DummyClassifier strategy=constant constant=-           0.557971  ...          0.358140\n",
              "DummyClassifier strategy=constant constant=+           0.442029  ...          0.306533\n",
              "DummyClassifier strategy=most_frequent                 0.557971  ...          0.358140\n",
              "DummyClassifier strategy=stratified                    0.478261  ...          0.507011\n",
              "\n",
              "[7 rows x 4 columns]"
            ]
          },
          "metadata": {
            "tags": []
          },
          "execution_count": 111
        }
      ]
    },
    {
      "cell_type": "markdown",
      "metadata": {
        "id": "n120_o6vp_8-"
      },
      "source": [
        "#####**Σχολιασμός Αποτελεσμάτων**"
      ]
    },
    {
      "cell_type": "markdown",
      "metadata": {
        "id": "OIcVqS5GqGYa"
      },
      "source": [
        "Εκτός των σχολίων που δώθηκαν ενδιάμεσα των βημάτων, υπογραμμίζουμε τα εξής:\n",
        "\n",
        "1)Ο ταξινομητής που παρουσίασε την μεγαλύτερη βελτίωση απόδοσης καθώς και την μεγαλύτερη απόδοση στο training set ήταν ο kNN ώστοσο η απόδοση του στο test set ηταν χαμηλοτερή σε σχεση με αυτή του training set.\n",
        "\n",
        "2)O GNB είχε μία μικρή αύξηση απόδοσης στο training set και πήραμε από αυτόν την μεγαλύτερη απόδοση στο test set.\n",
        "\n",
        "3)O kNN πήρε την περισσότερη ώρα για fit και predict με gridsearch το οποίο όμως είναι λογικό αφού είχαμε 3 υπερπαραμέτρους προς βελτιστοποίηση σε σχέση με τους υπόλοιπους ταξινομητές που είχαμε 2. \n",
        "\n",
        "4)Οι dummy classifiers δεν ανταποκρίθηκαν στην βελτιστοποίηση που προσπαθήσαμε να τους κάνουμε και έιχαν χαμηλή απόδοση όπως οι αρχικοί."
      ]
    },
    {
      "cell_type": "markdown",
      "metadata": {
        "id": "gIvwVd1P9ljg"
      },
      "source": [
        "###**Μεγάλο Dataset (B11)**"
      ]
    },
    {
      "cell_type": "markdown",
      "metadata": {
        "id": "cIvIoBUk-Dol"
      },
      "source": [
        "####**Βασικές Πληροφορίες**"
      ]
    },
    {
      "cell_type": "markdown",
      "metadata": {
        "id": "Ebk114_K-xCM"
      },
      "source": [
        "**Εισαγωγή του dataset**"
      ]
    },
    {
      "cell_type": "code",
      "metadata": {
        "id": "Z4kSpWW898fF",
        "colab": {
          "base_uri": "https://localhost:8080/",
          "height": 256
        },
        "outputId": "324af2ea-c590-4028-d718-957d2f7e48e5"
      },
      "source": [
        "df = pd.read_csv(\"/content/drive/MyDrive/Nomao.data\", header=None)\n",
        "#Show the first 5 samples of the dataframe\n",
        "df.head(n=5)"
      ],
      "execution_count": null,
      "outputs": [
        {
          "output_type": "execute_result",
          "data": {
            "text/html": [
              "<div>\n",
              "<style scoped>\n",
              "    .dataframe tbody tr th:only-of-type {\n",
              "        vertical-align: middle;\n",
              "    }\n",
              "\n",
              "    .dataframe tbody tr th {\n",
              "        vertical-align: top;\n",
              "    }\n",
              "\n",
              "    .dataframe thead th {\n",
              "        text-align: right;\n",
              "    }\n",
              "</style>\n",
              "<table border=\"1\" class=\"dataframe\">\n",
              "  <thead>\n",
              "    <tr style=\"text-align: right;\">\n",
              "      <th></th>\n",
              "      <th>0</th>\n",
              "      <th>1</th>\n",
              "      <th>2</th>\n",
              "      <th>3</th>\n",
              "      <th>4</th>\n",
              "      <th>5</th>\n",
              "      <th>6</th>\n",
              "      <th>7</th>\n",
              "      <th>8</th>\n",
              "      <th>9</th>\n",
              "      <th>10</th>\n",
              "      <th>11</th>\n",
              "      <th>12</th>\n",
              "      <th>13</th>\n",
              "      <th>14</th>\n",
              "      <th>15</th>\n",
              "      <th>16</th>\n",
              "      <th>17</th>\n",
              "      <th>18</th>\n",
              "      <th>19</th>\n",
              "      <th>20</th>\n",
              "      <th>21</th>\n",
              "      <th>22</th>\n",
              "      <th>23</th>\n",
              "      <th>24</th>\n",
              "      <th>25</th>\n",
              "      <th>26</th>\n",
              "      <th>27</th>\n",
              "      <th>28</th>\n",
              "      <th>29</th>\n",
              "      <th>30</th>\n",
              "      <th>31</th>\n",
              "      <th>32</th>\n",
              "      <th>33</th>\n",
              "      <th>34</th>\n",
              "      <th>35</th>\n",
              "      <th>36</th>\n",
              "      <th>37</th>\n",
              "      <th>38</th>\n",
              "      <th>39</th>\n",
              "      <th>...</th>\n",
              "      <th>80</th>\n",
              "      <th>81</th>\n",
              "      <th>82</th>\n",
              "      <th>83</th>\n",
              "      <th>84</th>\n",
              "      <th>85</th>\n",
              "      <th>86</th>\n",
              "      <th>87</th>\n",
              "      <th>88</th>\n",
              "      <th>89</th>\n",
              "      <th>90</th>\n",
              "      <th>91</th>\n",
              "      <th>92</th>\n",
              "      <th>93</th>\n",
              "      <th>94</th>\n",
              "      <th>95</th>\n",
              "      <th>96</th>\n",
              "      <th>97</th>\n",
              "      <th>98</th>\n",
              "      <th>99</th>\n",
              "      <th>100</th>\n",
              "      <th>101</th>\n",
              "      <th>102</th>\n",
              "      <th>103</th>\n",
              "      <th>104</th>\n",
              "      <th>105</th>\n",
              "      <th>106</th>\n",
              "      <th>107</th>\n",
              "      <th>108</th>\n",
              "      <th>109</th>\n",
              "      <th>110</th>\n",
              "      <th>111</th>\n",
              "      <th>112</th>\n",
              "      <th>113</th>\n",
              "      <th>114</th>\n",
              "      <th>115</th>\n",
              "      <th>116</th>\n",
              "      <th>117</th>\n",
              "      <th>118</th>\n",
              "      <th>119</th>\n",
              "    </tr>\n",
              "  </thead>\n",
              "  <tbody>\n",
              "    <tr>\n",
              "      <th>0</th>\n",
              "      <td>0#1</td>\n",
              "      <td>1.0</td>\n",
              "      <td>1.00</td>\n",
              "      <td>1.000000</td>\n",
              "      <td>1.000000</td>\n",
              "      <td>1.000000</td>\n",
              "      <td>1.000000</td>\n",
              "      <td>s</td>\n",
              "      <td>s</td>\n",
              "      <td>?</td>\n",
              "      <td>?</td>\n",
              "      <td>?</td>\n",
              "      <td>?</td>\n",
              "      <td>?</td>\n",
              "      <td>?</td>\n",
              "      <td>m</td>\n",
              "      <td>m</td>\n",
              "      <td>?</td>\n",
              "      <td>?</td>\n",
              "      <td>?</td>\n",
              "      <td>?</td>\n",
              "      <td>?</td>\n",
              "      <td>?</td>\n",
              "      <td>m</td>\n",
              "      <td>m</td>\n",
              "      <td>?</td>\n",
              "      <td>?</td>\n",
              "      <td>?</td>\n",
              "      <td>?</td>\n",
              "      <td>?</td>\n",
              "      <td>?</td>\n",
              "      <td>m</td>\n",
              "      <td>m</td>\n",
              "      <td>?</td>\n",
              "      <td>?</td>\n",
              "      <td>?</td>\n",
              "      <td>?</td>\n",
              "      <td>?</td>\n",
              "      <td>?</td>\n",
              "      <td>m</td>\n",
              "      <td>...</td>\n",
              "      <td>s</td>\n",
              "      <td>1</td>\n",
              "      <td>1</td>\n",
              "      <td>1</td>\n",
              "      <td>1</td>\n",
              "      <td>1</td>\n",
              "      <td>1</td>\n",
              "      <td>s</td>\n",
              "      <td>s</td>\n",
              "      <td>?</td>\n",
              "      <td>?</td>\n",
              "      <td>?</td>\n",
              "      <td>m</td>\n",
              "      <td>?</td>\n",
              "      <td>?</td>\n",
              "      <td>?</td>\n",
              "      <td>m</td>\n",
              "      <td>1.0</td>\n",
              "      <td>1.0</td>\n",
              "      <td>1.0</td>\n",
              "      <td>s</td>\n",
              "      <td>1</td>\n",
              "      <td>1</td>\n",
              "      <td>1</td>\n",
              "      <td>s</td>\n",
              "      <td>1</td>\n",
              "      <td>1</td>\n",
              "      <td>1</td>\n",
              "      <td>s</td>\n",
              "      <td>0.999967001089</td>\n",
              "      <td>0.75</td>\n",
              "      <td>0.5</td>\n",
              "      <td>n</td>\n",
              "      <td>0.999953002209</td>\n",
              "      <td>0.777777777778</td>\n",
              "      <td>0.461538463831</td>\n",
              "      <td>n</td>\n",
              "      <td>1</td>\n",
              "      <td>0.999999996702</td>\n",
              "      <td>1</td>\n",
              "    </tr>\n",
              "    <tr>\n",
              "      <th>1</th>\n",
              "      <td>0#2</td>\n",
              "      <td>1.0</td>\n",
              "      <td>0.75</td>\n",
              "      <td>0.857143</td>\n",
              "      <td>0.857143</td>\n",
              "      <td>0.894737</td>\n",
              "      <td>0.947368</td>\n",
              "      <td>s</td>\n",
              "      <td>n</td>\n",
              "      <td>?</td>\n",
              "      <td>?</td>\n",
              "      <td>?</td>\n",
              "      <td>?</td>\n",
              "      <td>?</td>\n",
              "      <td>?</td>\n",
              "      <td>m</td>\n",
              "      <td>m</td>\n",
              "      <td>?</td>\n",
              "      <td>?</td>\n",
              "      <td>?</td>\n",
              "      <td>?</td>\n",
              "      <td>?</td>\n",
              "      <td>?</td>\n",
              "      <td>m</td>\n",
              "      <td>m</td>\n",
              "      <td>?</td>\n",
              "      <td>?</td>\n",
              "      <td>?</td>\n",
              "      <td>?</td>\n",
              "      <td>?</td>\n",
              "      <td>?</td>\n",
              "      <td>m</td>\n",
              "      <td>m</td>\n",
              "      <td>?</td>\n",
              "      <td>?</td>\n",
              "      <td>?</td>\n",
              "      <td>?</td>\n",
              "      <td>?</td>\n",
              "      <td>?</td>\n",
              "      <td>m</td>\n",
              "      <td>...</td>\n",
              "      <td>s</td>\n",
              "      <td>1</td>\n",
              "      <td>1</td>\n",
              "      <td>1</td>\n",
              "      <td>1</td>\n",
              "      <td>1</td>\n",
              "      <td>1</td>\n",
              "      <td>s</td>\n",
              "      <td>s</td>\n",
              "      <td>?</td>\n",
              "      <td>?</td>\n",
              "      <td>?</td>\n",
              "      <td>m</td>\n",
              "      <td>?</td>\n",
              "      <td>?</td>\n",
              "      <td>?</td>\n",
              "      <td>m</td>\n",
              "      <td>1.0</td>\n",
              "      <td>1.0</td>\n",
              "      <td>1.0</td>\n",
              "      <td>s</td>\n",
              "      <td>1</td>\n",
              "      <td>1</td>\n",
              "      <td>1</td>\n",
              "      <td>s</td>\n",
              "      <td>1</td>\n",
              "      <td>1</td>\n",
              "      <td>1</td>\n",
              "      <td>s</td>\n",
              "      <td>0.999807037242</td>\n",
              "      <td>0.5</td>\n",
              "      <td>0.307692319155</td>\n",
              "      <td>n</td>\n",
              "      <td>0.999982921892</td>\n",
              "      <td>0.538461538462</td>\n",
              "      <td>0.4375</td>\n",
              "      <td>n</td>\n",
              "      <td>1</td>\n",
              "      <td>0.999999962459</td>\n",
              "      <td>1</td>\n",
              "    </tr>\n",
              "    <tr>\n",
              "      <th>2</th>\n",
              "      <td>0#3</td>\n",
              "      <td>1.0</td>\n",
              "      <td>1.00</td>\n",
              "      <td>1.000000</td>\n",
              "      <td>1.000000</td>\n",
              "      <td>1.000000</td>\n",
              "      <td>1.000000</td>\n",
              "      <td>s</td>\n",
              "      <td>s</td>\n",
              "      <td>?</td>\n",
              "      <td>?</td>\n",
              "      <td>?</td>\n",
              "      <td>?</td>\n",
              "      <td>?</td>\n",
              "      <td>?</td>\n",
              "      <td>m</td>\n",
              "      <td>m</td>\n",
              "      <td>?</td>\n",
              "      <td>?</td>\n",
              "      <td>?</td>\n",
              "      <td>?</td>\n",
              "      <td>?</td>\n",
              "      <td>?</td>\n",
              "      <td>m</td>\n",
              "      <td>m</td>\n",
              "      <td>?</td>\n",
              "      <td>?</td>\n",
              "      <td>?</td>\n",
              "      <td>?</td>\n",
              "      <td>?</td>\n",
              "      <td>?</td>\n",
              "      <td>m</td>\n",
              "      <td>m</td>\n",
              "      <td>?</td>\n",
              "      <td>?</td>\n",
              "      <td>?</td>\n",
              "      <td>?</td>\n",
              "      <td>?</td>\n",
              "      <td>?</td>\n",
              "      <td>m</td>\n",
              "      <td>...</td>\n",
              "      <td>s</td>\n",
              "      <td>1</td>\n",
              "      <td>1</td>\n",
              "      <td>1</td>\n",
              "      <td>1</td>\n",
              "      <td>1</td>\n",
              "      <td>1</td>\n",
              "      <td>s</td>\n",
              "      <td>s</td>\n",
              "      <td>?</td>\n",
              "      <td>?</td>\n",
              "      <td>?</td>\n",
              "      <td>m</td>\n",
              "      <td>?</td>\n",
              "      <td>?</td>\n",
              "      <td>?</td>\n",
              "      <td>m</td>\n",
              "      <td>1.0</td>\n",
              "      <td>1.0</td>\n",
              "      <td>1.0</td>\n",
              "      <td>s</td>\n",
              "      <td>1</td>\n",
              "      <td>1</td>\n",
              "      <td>1</td>\n",
              "      <td>s</td>\n",
              "      <td>1</td>\n",
              "      <td>1</td>\n",
              "      <td>1</td>\n",
              "      <td>s</td>\n",
              "      <td>0.999982900292</td>\n",
              "      <td>0.666666666667</td>\n",
              "      <td>0.461538463831</td>\n",
              "      <td>n</td>\n",
              "      <td>0.999992600055</td>\n",
              "      <td>0.8</td>\n",
              "      <td>0.666666686535</td>\n",
              "      <td>n</td>\n",
              "      <td>1</td>\n",
              "      <td>0.999999999653</td>\n",
              "      <td>1</td>\n",
              "    </tr>\n",
              "    <tr>\n",
              "      <th>3</th>\n",
              "      <td>4#5</td>\n",
              "      <td>1.0</td>\n",
              "      <td>0.75</td>\n",
              "      <td>0.857143</td>\n",
              "      <td>0.857143</td>\n",
              "      <td>0.842105</td>\n",
              "      <td>0.833333</td>\n",
              "      <td>s</td>\n",
              "      <td>n</td>\n",
              "      <td>1</td>\n",
              "      <td>1</td>\n",
              "      <td>1</td>\n",
              "      <td>1</td>\n",
              "      <td>1</td>\n",
              "      <td>1</td>\n",
              "      <td>s</td>\n",
              "      <td>s</td>\n",
              "      <td>1</td>\n",
              "      <td>1</td>\n",
              "      <td>1</td>\n",
              "      <td>1</td>\n",
              "      <td>1</td>\n",
              "      <td>1</td>\n",
              "      <td>s</td>\n",
              "      <td>s</td>\n",
              "      <td>1</td>\n",
              "      <td>1</td>\n",
              "      <td>1</td>\n",
              "      <td>1</td>\n",
              "      <td>1</td>\n",
              "      <td>1</td>\n",
              "      <td>s</td>\n",
              "      <td>s</td>\n",
              "      <td>?</td>\n",
              "      <td>?</td>\n",
              "      <td>?</td>\n",
              "      <td>?</td>\n",
              "      <td>?</td>\n",
              "      <td>?</td>\n",
              "      <td>m</td>\n",
              "      <td>...</td>\n",
              "      <td>s</td>\n",
              "      <td>1</td>\n",
              "      <td>1</td>\n",
              "      <td>1</td>\n",
              "      <td>1</td>\n",
              "      <td>1</td>\n",
              "      <td>1</td>\n",
              "      <td>s</td>\n",
              "      <td>s</td>\n",
              "      <td>1.46868813298e-09</td>\n",
              "      <td>0.272727272727</td>\n",
              "      <td>0.0909090936184</td>\n",
              "      <td>n</td>\n",
              "      <td>?</td>\n",
              "      <td>?</td>\n",
              "      <td>?</td>\n",
              "      <td>m</td>\n",
              "      <td>1.0</td>\n",
              "      <td>1.0</td>\n",
              "      <td>1.0</td>\n",
              "      <td>s</td>\n",
              "      <td>0.999774</td>\n",
              "      <td>0.555556</td>\n",
              "      <td>0.333333</td>\n",
              "      <td>n</td>\n",
              "      <td>0.999962</td>\n",
              "      <td>0.5</td>\n",
              "      <td>0.294118</td>\n",
              "      <td>n</td>\n",
              "      <td>0.998022916602</td>\n",
              "      <td>0.5</td>\n",
              "      <td>0.285714298487</td>\n",
              "      <td>n</td>\n",
              "      <td>0.998604948886</td>\n",
              "      <td>0.555555555556</td>\n",
              "      <td>0.384615391493</td>\n",
              "      <td>n</td>\n",
              "      <td>1</td>\n",
              "      <td>0.999994124065</td>\n",
              "      <td>1</td>\n",
              "    </tr>\n",
              "    <tr>\n",
              "      <th>4</th>\n",
              "      <td>6#7</td>\n",
              "      <td>0.0</td>\n",
              "      <td>0.00</td>\n",
              "      <td>0.250000</td>\n",
              "      <td>0.000000</td>\n",
              "      <td>0.250000</td>\n",
              "      <td>0.000000</td>\n",
              "      <td>n</td>\n",
              "      <td>n</td>\n",
              "      <td>?</td>\n",
              "      <td>?</td>\n",
              "      <td>?</td>\n",
              "      <td>?</td>\n",
              "      <td>?</td>\n",
              "      <td>?</td>\n",
              "      <td>m</td>\n",
              "      <td>m</td>\n",
              "      <td>?</td>\n",
              "      <td>?</td>\n",
              "      <td>?</td>\n",
              "      <td>?</td>\n",
              "      <td>?</td>\n",
              "      <td>?</td>\n",
              "      <td>m</td>\n",
              "      <td>m</td>\n",
              "      <td>?</td>\n",
              "      <td>?</td>\n",
              "      <td>?</td>\n",
              "      <td>?</td>\n",
              "      <td>?</td>\n",
              "      <td>?</td>\n",
              "      <td>m</td>\n",
              "      <td>m</td>\n",
              "      <td>?</td>\n",
              "      <td>?</td>\n",
              "      <td>?</td>\n",
              "      <td>?</td>\n",
              "      <td>?</td>\n",
              "      <td>?</td>\n",
              "      <td>m</td>\n",
              "      <td>...</td>\n",
              "      <td>s</td>\n",
              "      <td>1</td>\n",
              "      <td>1</td>\n",
              "      <td>1</td>\n",
              "      <td>1</td>\n",
              "      <td>1</td>\n",
              "      <td>1</td>\n",
              "      <td>s</td>\n",
              "      <td>s</td>\n",
              "      <td>1.0</td>\n",
              "      <td>1.0</td>\n",
              "      <td>1.0</td>\n",
              "      <td>s</td>\n",
              "      <td>?</td>\n",
              "      <td>?</td>\n",
              "      <td>?</td>\n",
              "      <td>m</td>\n",
              "      <td>?</td>\n",
              "      <td>?</td>\n",
              "      <td>?</td>\n",
              "      <td>n</td>\n",
              "      <td>1</td>\n",
              "      <td>1</td>\n",
              "      <td>1</td>\n",
              "      <td>s</td>\n",
              "      <td>1</td>\n",
              "      <td>1</td>\n",
              "      <td>1</td>\n",
              "      <td>s</td>\n",
              "      <td>?</td>\n",
              "      <td>?</td>\n",
              "      <td>?</td>\n",
              "      <td>m</td>\n",
              "      <td>?</td>\n",
              "      <td>?</td>\n",
              "      <td>?</td>\n",
              "      <td>m</td>\n",
              "      <td>1</td>\n",
              "      <td>?</td>\n",
              "      <td>1</td>\n",
              "    </tr>\n",
              "  </tbody>\n",
              "</table>\n",
              "<p>5 rows × 120 columns</p>\n",
              "</div>"
            ],
            "text/plain": [
              "   0    1     2         3    ...  116  117             118 119\n",
              "0  0#1  1.0  1.00  1.000000  ...    n    1  0.999999996702   1\n",
              "1  0#2  1.0  0.75  0.857143  ...    n    1  0.999999962459   1\n",
              "2  0#3  1.0  1.00  1.000000  ...    n    1  0.999999999653   1\n",
              "3  4#5  1.0  0.75  0.857143  ...    n    1  0.999994124065   1\n",
              "4  6#7  0.0  0.00  0.250000  ...    m    1               ?   1\n",
              "\n",
              "[5 rows x 120 columns]"
            ]
          },
          "metadata": {
            "tags": []
          },
          "execution_count": 112
        }
      ]
    },
    {
      "cell_type": "markdown",
      "metadata": {
        "id": "Rla3Be1m_FGE"
      },
      "source": [
        "**Παρουσίαση του dataset**"
      ]
    },
    {
      "cell_type": "markdown",
      "metadata": {
        "id": "ShRuJWJL_G_I"
      },
      "source": [
        "To Nomao dataset (B11) συλλέγει δεδομένα από διάφορες πηγές στο διαδίκτυο σχετικά με τοποθεσίες. Συγκεκριμένα κάθε γραμμή του αρχείου αποτελεί σύγκριση δύο τοποθεσιών (ορισμένες από τα χαρακτηριστικά τους, όπως όνομα, διεύθυνση, γεωγραφική τοποθεσία). Πέραν από την περιγραφή κάθε τοποθεσίας, περιέχεται και πεδίο ετικέτας το οποίο καθορίζει εάν οι δύο τοποθεσίες είναι οι ίδιες ή όχι.\n",
        "\n",
        "Στόχος μας είναι με επιβλεπόμενη μάθηση να εκπαιδεύσουμε μοντέλο το οποίο να μπορεί με υψηλή απόδοση να αποφασίσει εάν δύο δοθούντες τοποθεσίες (ή πιο συγκεκριμένα, εάν δοθεί η σύγκρισή τους) είναι ίδιες ή οχι."
      ]
    },
    {
      "cell_type": "markdown",
      "metadata": {
        "id": "5sYYi6LuCG1l"
      },
      "source": [
        "**Αριθμός δειγμάτων και χαρακτηριστικών, είδος χαρακτηριστικών. Μη διατεταγμένα χαρακτηριστικά**"
      ]
    },
    {
      "cell_type": "markdown",
      "metadata": {
        "id": "BoHptPUACnki"
      },
      "source": [
        "Το dataset περιέχει 34,465 δείγματα. Kάθε δείγμα αποτελείται από 118 χαρακτηριστικά τα οποία είναι κατηγορικά ή αριθμητικά. Τα διατεταγμένα χαρακτηριστικά είναι μόνο τα αριθμητικά. Ακόμα κάθε δείγμα περιέχει μία ετικέτα που μας δείχνει αν τελικά τα χαρακτηριστικά περιγράφουν την ίδια τοποθεσία και ένα id που αποτελείται από δύο αριθμόυς χωρισμένους με # και μας δείχνουν για ποιες τοποθεσίες μιλάνε τα χαρακτηριστικά. Πιο συγκεκριμένα κάθε δείγμα έχει 89 αριθμήτικά χαρακτηριστικά και 31 κατηγορικά μαζί με το id και την ετικέτα."
      ]
    },
    {
      "cell_type": "markdown",
      "metadata": {
        "id": "SzWSQos9IcBW"
      },
      "source": [
        "**Υπάρχουν επικεφαλίδες; Αρίθμηση γραμμών;**"
      ]
    },
    {
      "cell_type": "markdown",
      "metadata": {
        "id": "ERtL_NlmI5NY"
      },
      "source": [
        "Όχι, τα δεδομένα μας βρίσκονται σε raw μορφή μέσα στο αρχείο και επομένως δεν έχουν ούτε επικεφαλίδες ούτε αρίθμηση γραμμών."
      ]
    },
    {
      "cell_type": "markdown",
      "metadata": {
        "id": "W4AHuTvXI-aZ"
      },
      "source": [
        "**Ποιες είναι οι ετικέτες των κλάσεων και σε ποια κολόνα βρίσκονται;**"
      ]
    },
    {
      "cell_type": "markdown",
      "metadata": {
        "id": "91G8tSlHJIWO"
      },
      "source": [
        "Οι ετικέτες των κλάσεων βρίσκονται στην 119η κολόνα και είναι είτε \"+1\" δηλαδή ταύτιση των 2 τοποθεσιών είτε \"-1\" δηλαδή οι τοποθεσίες είναι διαφορετικές."
      ]
    },
    {
      "cell_type": "code",
      "metadata": {
        "id": "9zhPcvAs_DUZ",
        "colab": {
          "base_uri": "https://localhost:8080/"
        },
        "outputId": "1ebd2abb-f85c-44bf-da8f-590948b1d789"
      },
      "source": [
        "unique_labels = df.iloc[:,-1].unique()\n",
        "print(\"Unique labels of samples: {0}\".format(unique_labels))"
      ],
      "execution_count": null,
      "outputs": [
        {
          "output_type": "stream",
          "text": [
            "Unique labels of samples: [ 1 -1]\n"
          ],
          "name": "stdout"
        }
      ]
    },
    {
      "cell_type": "markdown",
      "metadata": {
        "id": "yxc31X75JqYP"
      },
      "source": [
        "**Χρειάστηκε να κάνετε μετατροπές στα αρχεία text και ποιες;**"
      ]
    },
    {
      "cell_type": "markdown",
      "metadata": {
        "id": "kXmesdJCJvUe"
      },
      "source": [
        "Όχι, δεν χρειάστηκε να γίνει κάποια μετατροπή στα αρχεία text. Mόνο αφαιρέσαμε την στήλη id από το dataset καθώς δεν έχει κάποια πρακτική σημασία για τους ταξινομητές μας όπως τα υπόλοιπα δεδομένα και αν την αφήσουμε μέσα στο dataset τότε θα θεωρηθεί ως κατηγορικό χαρακτηριστικό το οποίο οδηγεί σε λάθος."
      ]
    },
    {
      "cell_type": "code",
      "metadata": {
        "id": "VDdGjxfgJ79n"
      },
      "source": [
        "df.drop(columns=0, inplace=True)"
      ],
      "execution_count": null,
      "outputs": []
    },
    {
      "cell_type": "markdown",
      "metadata": {
        "id": "Ug8mpkIDJ6nz"
      },
      "source": [
        "**Υπάρχουν απουσιάζουσες τιμές; Πόσα είναι τα δείγματα με απουσιάζουσες τιμές και ποιο το ποσοστό τους επί του συνόλου;**"
      ]
    },
    {
      "cell_type": "markdown",
      "metadata": {
        "id": "zQnhCA79KIiR"
      },
      "source": [
        "Παρατηρούμε ότι οι απουσιάζουσες τιμές εμφανίζονται με \"?\" μέσα στο αρχείο εισόδου και δεν υπάρχει καμία απουσιάζουσα ετικέτα."
      ]
    },
    {
      "cell_type": "code",
      "metadata": {
        "id": "riGXlz6QKRNd"
      },
      "source": [
        "df.replace('?', np.NaN, inplace=True) # replace all ? with np.NaN"
      ],
      "execution_count": null,
      "outputs": []
    },
    {
      "cell_type": "code",
      "metadata": {
        "id": "UclCu4pqKQuf",
        "colab": {
          "base_uri": "https://localhost:8080/"
        },
        "outputId": "3c366bf3-91f2-46f3-d258-d98e591d1cc2"
      },
      "source": [
        "df.isnull().sum().sum() # how many missing values we have"
      ],
      "execution_count": null,
      "outputs": [
        {
          "output_type": "execute_result",
          "data": {
            "text/plain": [
              "1166378"
            ]
          },
          "metadata": {
            "tags": []
          },
          "execution_count": 116
        }
      ]
    },
    {
      "cell_type": "code",
      "metadata": {
        "id": "d32jbLdaKXkv",
        "colab": {
          "base_uri": "https://localhost:8080/"
        },
        "outputId": "d369bd85-87f4-4076-91f3-bcfd21c1badc"
      },
      "source": [
        "sum([True for idx,row in df.iterrows() if any(row.isnull())]) # how many samples have missing values"
      ],
      "execution_count": null,
      "outputs": [
        {
          "output_type": "execute_result",
          "data": {
            "text/plain": [
              "34465"
            ]
          },
          "metadata": {
            "tags": []
          },
          "execution_count": 117
        }
      ]
    },
    {
      "cell_type": "markdown",
      "metadata": {
        "id": "C_y58oIfKtIl"
      },
      "source": [
        "Επομένως υπάρχουν συνολικά 1166378 απουσιάζουσες τιμές σε 34465 εκ των δειγμάτων, που αντιστοιχούν στο 100% του συνόλου. Με άλλα λόγια κάθε δείγμα στο dataset μας έχει τουλάχιστον μία απουσιάζουσα τιμή."
      ]
    },
    {
      "cell_type": "markdown",
      "metadata": {
        "id": "k0XgA9yoKxqY"
      },
      "source": [
        "**Ποιος είναι ο αριθμός των κλάσεων και τα ποσοστά δειγμάτων τους επί του συνόλου; Εκτιμήστε την ισορροπία του dataset.**"
      ]
    },
    {
      "cell_type": "code",
      "metadata": {
        "id": "hoNN6DJOLUvM",
        "colab": {
          "base_uri": "https://localhost:8080/"
        },
        "outputId": "1525ef10-6faa-4b73-ba1b-833e937281be"
      },
      "source": [
        "labels_df = df.iloc[:,-1] # labels in the last column\n",
        "features_df = df.iloc[:,:-1] # features in all columns but the last\n",
        "\n",
        "mapping = {-1 : 0, 1 : 1} # mapping for labels\n",
        "labels_df = labels_df.replace(mapping)\n",
        "\n",
        "np_labels = labels_df.values.flatten() # convert labels dataframe to numpy array\n",
        "frequencies = np.bincount(np_labels)\n",
        "total_samples = np_labels.shape[0]\n",
        "percentages = (frequencies / total_samples) * 100\n",
        "\n",
        "print(\"Class frequencies: {0}\".format(frequencies))\n",
        "\n",
        "print(\"Class percentages: {0}\".format(percentages))"
      ],
      "execution_count": null,
      "outputs": [
        {
          "output_type": "stream",
          "text": [
            "Class frequencies: [ 9844 24621]\n",
            "Class percentages: [28.56230959 71.43769041]\n"
          ],
          "name": "stdout"
        }
      ]
    },
    {
      "cell_type": "markdown",
      "metadata": {
        "id": "txFgpUcxLlJP"
      },
      "source": [
        "Το σύνολο δεδομέων έχει μόνο δύο κλάσεις, οι οποίες έχουν τα παραπάνω ποσοστά εμφάνισης. Βλέπουμε ότι τα ποσοστά αυτά βρίσκονται κοντά σε αναλογία 70%-30%, επομένως (θεωρώντας μη ισορροπημένο ένα dataset στο οποίο υπάρχει κλάση με μέγεθος τουλάχιστον 1.5 φορές κάποιας άλλης) το dataset είναι μη ισορροπημένο."
      ]
    },
    {
      "cell_type": "markdown",
      "metadata": {
        "id": "CGZHBAlpNXO2"
      },
      "source": [
        "**Διαχωρίστε σε train και test set. Εάν υπάρχουν απουσιάζουσες τιμές και μη διατεταγμένα χαρακτηριστικά διαχειριστείτε τα και αιτιολογήστε τις επιλογές σας.**"
      ]
    },
    {
      "cell_type": "markdown",
      "metadata": {
        "id": "ObgPyqAgNnnk"
      },
      "source": [
        "Αφού χωρίσουμε το dataset σε train και test set θα αντικαταστήσουμε τις απουσιάζουσες τιμές καθώς η είσοδος στους αλγορίθμους μηχανικής μάθησης πρέπει να είναι πλήρης. Για το λόγο αυτόν, θα χρησιμοποιήσουμε το μετασχηματιστή “Imputer” του scikit learn που αντικαθιστά κάθε απουσιάζουσα τιμή χαρακτηριστικού με τη μέση τιμή (συνεχείς μεταβλητές) ή την πιο συχνή τιμή (κατηγορικές μεταβλητές). Ο μετασχηματισμός με Imputer γίνεται στην απόλυτη αρχή της προεπεξεργασίας. Ακόμα στο train_test_split ενεργοποιήσαμε την επιλογή stratify ώστε να έχουμε το train set να διατηρεί τις συχνότητες κλάσεων του συνολικού. "
      ]
    },
    {
      "cell_type": "code",
      "metadata": {
        "id": "L1AG2IiRPIVm"
      },
      "source": [
        "#Split our dataframe intο train and test set\n",
        "trainData, testData, trainLabels, testLabels = train_test_split(df.iloc[:,:-1], df.iloc[:,-1], test_size=0.3,stratify=df.iloc[:,-1], random_state=42)\n",
        "\n",
        "categorical_indexes = [7, 8, 15, 16, 23, 24, 31, 32, 39, 40, 47, 48, 55, 56, 63, 64, 71, 72, 79, 80, 87, 88, 92, 96, 100, 104, 108, 112, 116] \n",
        "continuous_indexes = list(set (df.columns) - set (categorical_indexes) - {119})\n",
        "\n",
        "#Split dataframes into categorical and continuous features dataframes\n",
        "trainData_continuous = trainData.drop(categorical_indexes, axis=1)\n",
        "trainData_categorical = trainData.drop(continuous_indexes, axis=1)\n",
        "testData_continuous = testData.drop(categorical_indexes, axis=1)\n",
        "testData_categorical = testData.drop(continuous_indexes, axis=1)\n",
        "\n",
        "#Impute the missing values on continuous features\n",
        "imp = SimpleImputer(missing_values=np.NaN,strategy='mean')\n",
        "itrainData_continuous = pd.DataFrame(imp.fit_transform(trainData_continuous))\n",
        "itrainData_continuous.columns=continuous_indexes\n",
        "itestData_continuous = pd.DataFrame(imp.fit_transform(testData_continuous))\n",
        "itestData_continuous.columns=continuous_indexes\n",
        "\n",
        "#Impute the missing values on categorical features\n",
        "imp = SimpleImputer(missing_values=np.NaN, strategy=\"most_frequent\")\n",
        "itrainData_categorical = pd.DataFrame(imp.fit_transform(trainData_categorical))\n",
        "itrainData_categorical.columns=categorical_indexes\n",
        "itestData_categorical = pd.DataFrame(imp.fit_transform(testData_categorical))\n",
        "itestData_categorical.columns=categorical_indexes\n",
        "\n",
        "#Merge dataframes and reorder indexes to form the original ones imputed\n",
        "itrainData = pd.concat([itrainData_categorical, itrainData_continuous], axis=1)\n",
        "itrainData = itrainData.reindex(sorted(itrainData.columns), axis=1)\n",
        "itestData = pd.concat([itestData_categorical, itestData_continuous], axis=1)\n",
        "itestData = itestData.reindex(sorted(itestData.columns), axis=1)\n",
        "\n",
        "#Convert categorical features to binary , we have to join the two data before this step\n",
        "Data_dummies = pd.get_dummies(pd.concat([itrainData,itestData], join=\"outer\", axis=0),columns=categorical_indexes)\n",
        "trainData_dummies = Data_dummies.iloc[:itrainData.shape[0],:]\n",
        "testData_dummies = Data_dummies.iloc[itrainData.shape[0]:,:]\n",
        "\n",
        "#Convert to numeric values and numpy arrays\n",
        "np_trainData = trainData_dummies.apply(pd.to_numeric).values\n",
        "np_testData = testData_dummies.apply(pd.to_numeric).values\n",
        "np_trainLabels = trainLabels.values.flatten()\n",
        "np_testLabels =  testLabels.values.flatten()\n",
        "\n",
        "#Giving symbolic ml names to our arrays \n",
        "X_train = np_trainData\n",
        "y_train = np_trainLabels\n",
        "X_test =  np_testData\n",
        "y_test =  np_testLabels"
      ],
      "execution_count": null,
      "outputs": []
    },
    {
      "cell_type": "markdown",
      "metadata": {
        "id": "JbB0hddD-OCO"
      },
      "source": [
        "####**Baseline classification**"
      ]
    },
    {
      "cell_type": "markdown",
      "metadata": {
        "id": "oNtdiTquPr8K"
      },
      "source": [
        "\n",
        "\n",
        "Αρχικά υλοποιήσαμε τους ταξινομητές που ζητούνται χωρίς καμία βελτιστοποίηση στο κόμματι του preproccesing ή των υπερπαραμέτρων του ταξινομητή.\n",
        "\n",
        "Για κάθε ταξινομητή που ζητείται υπολογίσαμε τις μετρικές f1_micro avg και f1_macro avg καθώς και τους πίνακες σύγχυσης για την εκτίμηση του στο test set.Ακόμα για τους ταξινομητές kNN, GNB, MLP, SVM υπολογίζουμε και την μετρική f1_macro avg με χρηση 5-fold cross validation στο training set ώστε να συγκρίνουμε την απόδοση της βελτιστοποίησης που θα γίνει σε επόμενο βήμα.\n",
        "\n",
        "Για την εμφάνιση των μετρικών χρησιμοποιήσαμε την συνάρτηση `classification_report` του sklearn η οποία εμφανίζει τις μετρικές precision, recall, f1, support για micro avg, macro avg, weighted avg συνολικά καθώς και για κάθε κλάση ξεχωριστά, υπογραμμίζουμε οτι το micro avg εμφανίζεται ως accuracy.\n",
        "\n",
        "Τέλος παρατηρήσαμε πως το sklearn χρησιμοποιεί StratifiedKFold ως default επιλογή στα binary classification.\n"
      ]
    },
    {
      "cell_type": "markdown",
      "metadata": {
        "id": "A_wpgKUqP_DK"
      },
      "source": [
        "#####**Dummy Classifiers**"
      ]
    },
    {
      "cell_type": "code",
      "metadata": {
        "id": "vJEGmMum-Wtn",
        "colab": {
          "base_uri": "https://localhost:8080/"
        },
        "outputId": "e0921e83-9be9-4a2f-c839-fbfd939b64d3"
      },
      "source": [
        "dc_uniform = DummyClassifier(strategy=\"uniform\")\n",
        "dc_constant_minus1 = DummyClassifier(strategy=\"constant\", constant=-1)\n",
        "dc_constant_plus1 = DummyClassifier(strategy=\"constant\", constant=1)\n",
        "dc_most_frequent = DummyClassifier(strategy=\"most_frequent\")\n",
        "dc_stratified = DummyClassifier(strategy=\"stratified\")\n",
        "\n",
        "\n",
        "dc_preds = [[],[],[],[],[]]\n",
        "strat_msg = [\"uniform\", \"constant minus 1\", \"constant plus 1\", \"most frequent\", \"stratified\"]\n",
        "for i, clf in zip(range(5), [dc_uniform, dc_constant_minus1, dc_constant_plus1,\\\n",
        "                             dc_most_frequent, dc_stratified]):\n",
        "  \n",
        "  clf.fit(X_train, y_train)\n",
        "  dc_preds[i] = clf.predict(X_test)\n",
        "  print(\"The DummyClassifier with \" + strat_msg[i] + \" strategy has score on test set : \\n\" +\\\n",
        "      classification_report(y_test,dc_preds[i]))"
      ],
      "execution_count": null,
      "outputs": [
        {
          "output_type": "stream",
          "text": [
            "The DummyClassifier with uniform strategy has score on test set : \n",
            "              precision    recall  f1-score   support\n",
            "\n",
            "          -1       0.28      0.50      0.36      2953\n",
            "           1       0.71      0.49      0.58      7387\n",
            "\n",
            "    accuracy                           0.49     10340\n",
            "   macro avg       0.49      0.49      0.47     10340\n",
            "weighted avg       0.59      0.49      0.52     10340\n",
            "\n",
            "The DummyClassifier with constant minus 1 strategy has score on test set : \n",
            "              precision    recall  f1-score   support\n",
            "\n",
            "          -1       0.29      1.00      0.44      2953\n",
            "           1       0.00      0.00      0.00      7387\n",
            "\n",
            "    accuracy                           0.29     10340\n",
            "   macro avg       0.14      0.50      0.22     10340\n",
            "weighted avg       0.08      0.29      0.13     10340\n",
            "\n",
            "The DummyClassifier with constant plus 1 strategy has score on test set : \n",
            "              precision    recall  f1-score   support\n",
            "\n",
            "          -1       0.00      0.00      0.00      2953\n",
            "           1       0.71      1.00      0.83      7387\n",
            "\n",
            "    accuracy                           0.71     10340\n",
            "   macro avg       0.36      0.50      0.42     10340\n",
            "weighted avg       0.51      0.71      0.60     10340\n",
            "\n",
            "The DummyClassifier with most frequent strategy has score on test set : \n",
            "              precision    recall  f1-score   support\n",
            "\n",
            "          -1       0.00      0.00      0.00      2953\n",
            "           1       0.71      1.00      0.83      7387\n",
            "\n",
            "    accuracy                           0.71     10340\n",
            "   macro avg       0.36      0.50      0.42     10340\n",
            "weighted avg       0.51      0.71      0.60     10340\n",
            "\n",
            "The DummyClassifier with stratified strategy has score on test set : \n",
            "              precision    recall  f1-score   support\n",
            "\n",
            "          -1       0.28      0.27      0.28      2953\n",
            "           1       0.71      0.72      0.72      7387\n",
            "\n",
            "    accuracy                           0.59     10340\n",
            "   macro avg       0.50      0.50      0.50     10340\n",
            "weighted avg       0.59      0.59      0.59     10340\n",
            "\n"
          ],
          "name": "stdout"
        }
      ]
    },
    {
      "cell_type": "markdown",
      "metadata": {
        "id": "-cBm6MGrSIo3"
      },
      "source": [
        "#####**Gausian Naive Bayes**"
      ]
    },
    {
      "cell_type": "code",
      "metadata": {
        "id": "IP2UkOy5SMXh",
        "colab": {
          "base_uri": "https://localhost:8080/"
        },
        "outputId": "c4aa14b8-95e0-41a8-9d7a-37b9f7f81b22"
      },
      "source": [
        "gnb = GaussianNB()\n",
        "gnb.fit(X_train, y_train)\n",
        "f1_micro_score_gnb = cross_val_score(gnb, X_train, y_train, cv=5, scoring='f1_micro')\n",
        "f1_macro_score_gnb = cross_val_score(gnb, X_train, y_train, cv=5, scoring='f1_macro')\n",
        "\n",
        "pred_gnb = gnb.predict(X_test)\n",
        "\n",
        "print(\"The GaussianNB Classifier has f1_macro score on training set : %f \\n\" % (f1_micro_score_gnb.mean()))\n",
        "print(\"The GaussianNB Classifier has f1_macro score on training set : %f \\n\" % (f1_macro_score_gnb.mean()))\n",
        "print(\"The GaussianNB Classifier has scores on test set : \\n\" + classification_report(y_test,pred_gnb))"
      ],
      "execution_count": null,
      "outputs": [
        {
          "output_type": "stream",
          "text": [
            "The GaussianNB Classifier has f1_macro score on training set : 0.823585 \n",
            "\n",
            "The GaussianNB Classifier has f1_macro score on training set : 0.760686 \n",
            "\n",
            "The GaussianNB Classifier has scores on test set : \n",
            "              precision    recall  f1-score   support\n",
            "\n",
            "          -1       0.74      0.57      0.64      2953\n",
            "           1       0.84      0.92      0.88      7387\n",
            "\n",
            "    accuracy                           0.82     10340\n",
            "   macro avg       0.79      0.75      0.76     10340\n",
            "weighted avg       0.81      0.82      0.81     10340\n",
            "\n"
          ],
          "name": "stdout"
        }
      ]
    },
    {
      "cell_type": "markdown",
      "metadata": {
        "id": "jfDMdYWgSn7s"
      },
      "source": [
        "#####**k Nearest Neighbors Classifier (kNN) με k=5**"
      ]
    },
    {
      "cell_type": "code",
      "metadata": {
        "id": "dKF3MnHbSoUp",
        "colab": {
          "base_uri": "https://localhost:8080/",
          "height": 417
        },
        "outputId": "63e6cf05-5da7-4064-e78f-7a782c54270c"
      },
      "source": [
        "# kNN Classifier, default k=5\n",
        "knn = KNeighborsClassifier()\n",
        "knn.fit(X_train,y_train)\n",
        "f1_micro_score_knn = cross_val_score(knn, X_train, y_train, cv=5, scoring=\"f1_micro\")\n",
        "f1_macro_score_knn = cross_val_score(knn, X_train, y_train, cv=5, scoring=\"f1_macro\")\n",
        "\n",
        "pred_knn = knn.predict(X_test)\n",
        "\n",
        "print(\"The KNeighborsClassifier with k=\" + str(knn.n_neighbors) + \" has f1_micro score on training set : %f \\n\" % (f1_micro_score_knn.mean()))\n",
        "print(\"The KNeighborsClassifier with k=\" + str(knn.n_neighbors) + \" has f1_macro score on training set : %f \\n\" % (f1_macro_score_knn.mean()))\n",
        "print(\"The KNeighborsClassifier with k=\" + str(knn.n_neighbors) + \" has scores on test set : \\n\" + classification_report(y_test,pred_knn))"
      ],
      "execution_count": null,
      "outputs": [
        {
          "output_type": "error",
          "ename": "KeyboardInterrupt",
          "evalue": "ignored",
          "traceback": [
            "\u001b[0;31m---------------------------------------------------------------------------\u001b[0m",
            "\u001b[0;31mKeyboardInterrupt\u001b[0m                         Traceback (most recent call last)",
            "\u001b[0;32m<ipython-input-122-e28c561ab9e9>\u001b[0m in \u001b[0;36m<module>\u001b[0;34m()\u001b[0m\n\u001b[1;32m      2\u001b[0m \u001b[0mknn\u001b[0m \u001b[0;34m=\u001b[0m \u001b[0mKNeighborsClassifier\u001b[0m\u001b[0;34m(\u001b[0m\u001b[0;34m)\u001b[0m\u001b[0;34m\u001b[0m\u001b[0;34m\u001b[0m\u001b[0m\n\u001b[1;32m      3\u001b[0m \u001b[0mknn\u001b[0m\u001b[0;34m.\u001b[0m\u001b[0mfit\u001b[0m\u001b[0;34m(\u001b[0m\u001b[0mX_train\u001b[0m\u001b[0;34m,\u001b[0m\u001b[0my_train\u001b[0m\u001b[0;34m)\u001b[0m\u001b[0;34m\u001b[0m\u001b[0;34m\u001b[0m\u001b[0m\n\u001b[0;32m----> 4\u001b[0;31m \u001b[0mf1_micro_score_knn\u001b[0m \u001b[0;34m=\u001b[0m \u001b[0mcross_val_score\u001b[0m\u001b[0;34m(\u001b[0m\u001b[0mknn\u001b[0m\u001b[0;34m,\u001b[0m \u001b[0mX_train\u001b[0m\u001b[0;34m,\u001b[0m \u001b[0my_train\u001b[0m\u001b[0;34m,\u001b[0m \u001b[0mcv\u001b[0m\u001b[0;34m=\u001b[0m\u001b[0;36m5\u001b[0m\u001b[0;34m,\u001b[0m \u001b[0mscoring\u001b[0m\u001b[0;34m=\u001b[0m\u001b[0;34m\"f1_micro\"\u001b[0m\u001b[0;34m)\u001b[0m\u001b[0;34m\u001b[0m\u001b[0;34m\u001b[0m\u001b[0m\n\u001b[0m\u001b[1;32m      5\u001b[0m \u001b[0mf1_macro_score_knn\u001b[0m \u001b[0;34m=\u001b[0m \u001b[0mcross_val_score\u001b[0m\u001b[0;34m(\u001b[0m\u001b[0mknn\u001b[0m\u001b[0;34m,\u001b[0m \u001b[0mX_train\u001b[0m\u001b[0;34m,\u001b[0m \u001b[0my_train\u001b[0m\u001b[0;34m,\u001b[0m \u001b[0mcv\u001b[0m\u001b[0;34m=\u001b[0m\u001b[0;36m5\u001b[0m\u001b[0;34m,\u001b[0m \u001b[0mscoring\u001b[0m\u001b[0;34m=\u001b[0m\u001b[0;34m\"f1_macro\"\u001b[0m\u001b[0;34m)\u001b[0m\u001b[0;34m\u001b[0m\u001b[0;34m\u001b[0m\u001b[0m\n\u001b[1;32m      6\u001b[0m \u001b[0;34m\u001b[0m\u001b[0m\n",
            "\u001b[0;32m/usr/local/lib/python3.6/dist-packages/sklearn/utils/validation.py\u001b[0m in \u001b[0;36minner_f\u001b[0;34m(*args, **kwargs)\u001b[0m\n\u001b[1;32m     70\u001b[0m                           FutureWarning)\n\u001b[1;32m     71\u001b[0m         \u001b[0mkwargs\u001b[0m\u001b[0;34m.\u001b[0m\u001b[0mupdate\u001b[0m\u001b[0;34m(\u001b[0m\u001b[0;34m{\u001b[0m\u001b[0mk\u001b[0m\u001b[0;34m:\u001b[0m \u001b[0marg\u001b[0m \u001b[0;32mfor\u001b[0m \u001b[0mk\u001b[0m\u001b[0;34m,\u001b[0m \u001b[0marg\u001b[0m \u001b[0;32min\u001b[0m \u001b[0mzip\u001b[0m\u001b[0;34m(\u001b[0m\u001b[0msig\u001b[0m\u001b[0;34m.\u001b[0m\u001b[0mparameters\u001b[0m\u001b[0;34m,\u001b[0m \u001b[0margs\u001b[0m\u001b[0;34m)\u001b[0m\u001b[0;34m}\u001b[0m\u001b[0;34m)\u001b[0m\u001b[0;34m\u001b[0m\u001b[0;34m\u001b[0m\u001b[0m\n\u001b[0;32m---> 72\u001b[0;31m         \u001b[0;32mreturn\u001b[0m \u001b[0mf\u001b[0m\u001b[0;34m(\u001b[0m\u001b[0;34m**\u001b[0m\u001b[0mkwargs\u001b[0m\u001b[0;34m)\u001b[0m\u001b[0;34m\u001b[0m\u001b[0;34m\u001b[0m\u001b[0m\n\u001b[0m\u001b[1;32m     73\u001b[0m     \u001b[0;32mreturn\u001b[0m \u001b[0minner_f\u001b[0m\u001b[0;34m\u001b[0m\u001b[0;34m\u001b[0m\u001b[0m\n\u001b[1;32m     74\u001b[0m \u001b[0;34m\u001b[0m\u001b[0m\n",
            "\u001b[0;32m/usr/local/lib/python3.6/dist-packages/sklearn/model_selection/_validation.py\u001b[0m in \u001b[0;36mcross_val_score\u001b[0;34m(estimator, X, y, groups, scoring, cv, n_jobs, verbose, fit_params, pre_dispatch, error_score)\u001b[0m\n\u001b[1;32m    404\u001b[0m                                 \u001b[0mfit_params\u001b[0m\u001b[0;34m=\u001b[0m\u001b[0mfit_params\u001b[0m\u001b[0;34m,\u001b[0m\u001b[0;34m\u001b[0m\u001b[0;34m\u001b[0m\u001b[0m\n\u001b[1;32m    405\u001b[0m                                 \u001b[0mpre_dispatch\u001b[0m\u001b[0;34m=\u001b[0m\u001b[0mpre_dispatch\u001b[0m\u001b[0;34m,\u001b[0m\u001b[0;34m\u001b[0m\u001b[0;34m\u001b[0m\u001b[0m\n\u001b[0;32m--> 406\u001b[0;31m                                 error_score=error_score)\n\u001b[0m\u001b[1;32m    407\u001b[0m     \u001b[0;32mreturn\u001b[0m \u001b[0mcv_results\u001b[0m\u001b[0;34m[\u001b[0m\u001b[0;34m'test_score'\u001b[0m\u001b[0;34m]\u001b[0m\u001b[0;34m\u001b[0m\u001b[0;34m\u001b[0m\u001b[0m\n\u001b[1;32m    408\u001b[0m \u001b[0;34m\u001b[0m\u001b[0m\n",
            "\u001b[0;32m/usr/local/lib/python3.6/dist-packages/sklearn/utils/validation.py\u001b[0m in \u001b[0;36minner_f\u001b[0;34m(*args, **kwargs)\u001b[0m\n\u001b[1;32m     70\u001b[0m                           FutureWarning)\n\u001b[1;32m     71\u001b[0m         \u001b[0mkwargs\u001b[0m\u001b[0;34m.\u001b[0m\u001b[0mupdate\u001b[0m\u001b[0;34m(\u001b[0m\u001b[0;34m{\u001b[0m\u001b[0mk\u001b[0m\u001b[0;34m:\u001b[0m \u001b[0marg\u001b[0m \u001b[0;32mfor\u001b[0m \u001b[0mk\u001b[0m\u001b[0;34m,\u001b[0m \u001b[0marg\u001b[0m \u001b[0;32min\u001b[0m \u001b[0mzip\u001b[0m\u001b[0;34m(\u001b[0m\u001b[0msig\u001b[0m\u001b[0;34m.\u001b[0m\u001b[0mparameters\u001b[0m\u001b[0;34m,\u001b[0m \u001b[0margs\u001b[0m\u001b[0;34m)\u001b[0m\u001b[0;34m}\u001b[0m\u001b[0;34m)\u001b[0m\u001b[0;34m\u001b[0m\u001b[0;34m\u001b[0m\u001b[0m\n\u001b[0;32m---> 72\u001b[0;31m         \u001b[0;32mreturn\u001b[0m \u001b[0mf\u001b[0m\u001b[0;34m(\u001b[0m\u001b[0;34m**\u001b[0m\u001b[0mkwargs\u001b[0m\u001b[0;34m)\u001b[0m\u001b[0;34m\u001b[0m\u001b[0;34m\u001b[0m\u001b[0m\n\u001b[0m\u001b[1;32m     73\u001b[0m     \u001b[0;32mreturn\u001b[0m \u001b[0minner_f\u001b[0m\u001b[0;34m\u001b[0m\u001b[0;34m\u001b[0m\u001b[0m\n\u001b[1;32m     74\u001b[0m \u001b[0;34m\u001b[0m\u001b[0m\n",
            "\u001b[0;32m/usr/local/lib/python3.6/dist-packages/sklearn/model_selection/_validation.py\u001b[0m in \u001b[0;36mcross_validate\u001b[0;34m(estimator, X, y, groups, scoring, cv, n_jobs, verbose, fit_params, pre_dispatch, return_train_score, return_estimator, error_score)\u001b[0m\n\u001b[1;32m    246\u001b[0m             \u001b[0mreturn_times\u001b[0m\u001b[0;34m=\u001b[0m\u001b[0;32mTrue\u001b[0m\u001b[0;34m,\u001b[0m \u001b[0mreturn_estimator\u001b[0m\u001b[0;34m=\u001b[0m\u001b[0mreturn_estimator\u001b[0m\u001b[0;34m,\u001b[0m\u001b[0;34m\u001b[0m\u001b[0;34m\u001b[0m\u001b[0m\n\u001b[1;32m    247\u001b[0m             error_score=error_score)\n\u001b[0;32m--> 248\u001b[0;31m         for train, test in cv.split(X, y, groups))\n\u001b[0m\u001b[1;32m    249\u001b[0m \u001b[0;34m\u001b[0m\u001b[0m\n\u001b[1;32m    250\u001b[0m     \u001b[0mzipped_scores\u001b[0m \u001b[0;34m=\u001b[0m \u001b[0mlist\u001b[0m\u001b[0;34m(\u001b[0m\u001b[0mzip\u001b[0m\u001b[0;34m(\u001b[0m\u001b[0;34m*\u001b[0m\u001b[0mscores\u001b[0m\u001b[0;34m)\u001b[0m\u001b[0;34m)\u001b[0m\u001b[0;34m\u001b[0m\u001b[0;34m\u001b[0m\u001b[0m\n",
            "\u001b[0;32m/usr/local/lib/python3.6/dist-packages/joblib/parallel.py\u001b[0m in \u001b[0;36m__call__\u001b[0;34m(self, iterable)\u001b[0m\n\u001b[1;32m   1049\u001b[0m                 \u001b[0mself\u001b[0m\u001b[0;34m.\u001b[0m\u001b[0m_iterating\u001b[0m \u001b[0;34m=\u001b[0m \u001b[0mself\u001b[0m\u001b[0;34m.\u001b[0m\u001b[0m_original_iterator\u001b[0m \u001b[0;32mis\u001b[0m \u001b[0;32mnot\u001b[0m \u001b[0;32mNone\u001b[0m\u001b[0;34m\u001b[0m\u001b[0;34m\u001b[0m\u001b[0m\n\u001b[1;32m   1050\u001b[0m \u001b[0;34m\u001b[0m\u001b[0m\n\u001b[0;32m-> 1051\u001b[0;31m             \u001b[0;32mwhile\u001b[0m \u001b[0mself\u001b[0m\u001b[0;34m.\u001b[0m\u001b[0mdispatch_one_batch\u001b[0m\u001b[0;34m(\u001b[0m\u001b[0miterator\u001b[0m\u001b[0;34m)\u001b[0m\u001b[0;34m:\u001b[0m\u001b[0;34m\u001b[0m\u001b[0;34m\u001b[0m\u001b[0m\n\u001b[0m\u001b[1;32m   1052\u001b[0m                 \u001b[0;32mpass\u001b[0m\u001b[0;34m\u001b[0m\u001b[0;34m\u001b[0m\u001b[0m\n\u001b[1;32m   1053\u001b[0m \u001b[0;34m\u001b[0m\u001b[0m\n",
            "\u001b[0;32m/usr/local/lib/python3.6/dist-packages/joblib/parallel.py\u001b[0m in \u001b[0;36mdispatch_one_batch\u001b[0;34m(self, iterator)\u001b[0m\n\u001b[1;32m    864\u001b[0m                 \u001b[0;32mreturn\u001b[0m \u001b[0;32mFalse\u001b[0m\u001b[0;34m\u001b[0m\u001b[0;34m\u001b[0m\u001b[0m\n\u001b[1;32m    865\u001b[0m             \u001b[0;32melse\u001b[0m\u001b[0;34m:\u001b[0m\u001b[0;34m\u001b[0m\u001b[0;34m\u001b[0m\u001b[0m\n\u001b[0;32m--> 866\u001b[0;31m                 \u001b[0mself\u001b[0m\u001b[0;34m.\u001b[0m\u001b[0m_dispatch\u001b[0m\u001b[0;34m(\u001b[0m\u001b[0mtasks\u001b[0m\u001b[0;34m)\u001b[0m\u001b[0;34m\u001b[0m\u001b[0;34m\u001b[0m\u001b[0m\n\u001b[0m\u001b[1;32m    867\u001b[0m                 \u001b[0;32mreturn\u001b[0m \u001b[0;32mTrue\u001b[0m\u001b[0;34m\u001b[0m\u001b[0;34m\u001b[0m\u001b[0m\n\u001b[1;32m    868\u001b[0m \u001b[0;34m\u001b[0m\u001b[0m\n",
            "\u001b[0;32m/usr/local/lib/python3.6/dist-packages/joblib/parallel.py\u001b[0m in \u001b[0;36m_dispatch\u001b[0;34m(self, batch)\u001b[0m\n\u001b[1;32m    782\u001b[0m         \u001b[0;32mwith\u001b[0m \u001b[0mself\u001b[0m\u001b[0;34m.\u001b[0m\u001b[0m_lock\u001b[0m\u001b[0;34m:\u001b[0m\u001b[0;34m\u001b[0m\u001b[0;34m\u001b[0m\u001b[0m\n\u001b[1;32m    783\u001b[0m             \u001b[0mjob_idx\u001b[0m \u001b[0;34m=\u001b[0m \u001b[0mlen\u001b[0m\u001b[0;34m(\u001b[0m\u001b[0mself\u001b[0m\u001b[0;34m.\u001b[0m\u001b[0m_jobs\u001b[0m\u001b[0;34m)\u001b[0m\u001b[0;34m\u001b[0m\u001b[0;34m\u001b[0m\u001b[0m\n\u001b[0;32m--> 784\u001b[0;31m             \u001b[0mjob\u001b[0m \u001b[0;34m=\u001b[0m \u001b[0mself\u001b[0m\u001b[0;34m.\u001b[0m\u001b[0m_backend\u001b[0m\u001b[0;34m.\u001b[0m\u001b[0mapply_async\u001b[0m\u001b[0;34m(\u001b[0m\u001b[0mbatch\u001b[0m\u001b[0;34m,\u001b[0m \u001b[0mcallback\u001b[0m\u001b[0;34m=\u001b[0m\u001b[0mcb\u001b[0m\u001b[0;34m)\u001b[0m\u001b[0;34m\u001b[0m\u001b[0;34m\u001b[0m\u001b[0m\n\u001b[0m\u001b[1;32m    785\u001b[0m             \u001b[0;31m# A job can complete so quickly than its callback is\u001b[0m\u001b[0;34m\u001b[0m\u001b[0;34m\u001b[0m\u001b[0;34m\u001b[0m\u001b[0m\n\u001b[1;32m    786\u001b[0m             \u001b[0;31m# called before we get here, causing self._jobs to\u001b[0m\u001b[0;34m\u001b[0m\u001b[0;34m\u001b[0m\u001b[0;34m\u001b[0m\u001b[0m\n",
            "\u001b[0;32m/usr/local/lib/python3.6/dist-packages/joblib/_parallel_backends.py\u001b[0m in \u001b[0;36mapply_async\u001b[0;34m(self, func, callback)\u001b[0m\n\u001b[1;32m    206\u001b[0m     \u001b[0;32mdef\u001b[0m \u001b[0mapply_async\u001b[0m\u001b[0;34m(\u001b[0m\u001b[0mself\u001b[0m\u001b[0;34m,\u001b[0m \u001b[0mfunc\u001b[0m\u001b[0;34m,\u001b[0m \u001b[0mcallback\u001b[0m\u001b[0;34m=\u001b[0m\u001b[0;32mNone\u001b[0m\u001b[0;34m)\u001b[0m\u001b[0;34m:\u001b[0m\u001b[0;34m\u001b[0m\u001b[0;34m\u001b[0m\u001b[0m\n\u001b[1;32m    207\u001b[0m         \u001b[0;34m\"\"\"Schedule a func to be run\"\"\"\u001b[0m\u001b[0;34m\u001b[0m\u001b[0;34m\u001b[0m\u001b[0m\n\u001b[0;32m--> 208\u001b[0;31m         \u001b[0mresult\u001b[0m \u001b[0;34m=\u001b[0m \u001b[0mImmediateResult\u001b[0m\u001b[0;34m(\u001b[0m\u001b[0mfunc\u001b[0m\u001b[0;34m)\u001b[0m\u001b[0;34m\u001b[0m\u001b[0;34m\u001b[0m\u001b[0m\n\u001b[0m\u001b[1;32m    209\u001b[0m         \u001b[0;32mif\u001b[0m \u001b[0mcallback\u001b[0m\u001b[0;34m:\u001b[0m\u001b[0;34m\u001b[0m\u001b[0;34m\u001b[0m\u001b[0m\n\u001b[1;32m    210\u001b[0m             \u001b[0mcallback\u001b[0m\u001b[0;34m(\u001b[0m\u001b[0mresult\u001b[0m\u001b[0;34m)\u001b[0m\u001b[0;34m\u001b[0m\u001b[0;34m\u001b[0m\u001b[0m\n",
            "\u001b[0;32m/usr/local/lib/python3.6/dist-packages/joblib/_parallel_backends.py\u001b[0m in \u001b[0;36m__init__\u001b[0;34m(self, batch)\u001b[0m\n\u001b[1;32m    570\u001b[0m         \u001b[0;31m# Don't delay the application, to avoid keeping the input\u001b[0m\u001b[0;34m\u001b[0m\u001b[0;34m\u001b[0m\u001b[0;34m\u001b[0m\u001b[0m\n\u001b[1;32m    571\u001b[0m         \u001b[0;31m# arguments in memory\u001b[0m\u001b[0;34m\u001b[0m\u001b[0;34m\u001b[0m\u001b[0;34m\u001b[0m\u001b[0m\n\u001b[0;32m--> 572\u001b[0;31m         \u001b[0mself\u001b[0m\u001b[0;34m.\u001b[0m\u001b[0mresults\u001b[0m \u001b[0;34m=\u001b[0m \u001b[0mbatch\u001b[0m\u001b[0;34m(\u001b[0m\u001b[0;34m)\u001b[0m\u001b[0;34m\u001b[0m\u001b[0;34m\u001b[0m\u001b[0m\n\u001b[0m\u001b[1;32m    573\u001b[0m \u001b[0;34m\u001b[0m\u001b[0m\n\u001b[1;32m    574\u001b[0m     \u001b[0;32mdef\u001b[0m \u001b[0mget\u001b[0m\u001b[0;34m(\u001b[0m\u001b[0mself\u001b[0m\u001b[0;34m)\u001b[0m\u001b[0;34m:\u001b[0m\u001b[0;34m\u001b[0m\u001b[0;34m\u001b[0m\u001b[0m\n",
            "\u001b[0;32m/usr/local/lib/python3.6/dist-packages/joblib/parallel.py\u001b[0m in \u001b[0;36m__call__\u001b[0;34m(self)\u001b[0m\n\u001b[1;32m    261\u001b[0m         \u001b[0;32mwith\u001b[0m \u001b[0mparallel_backend\u001b[0m\u001b[0;34m(\u001b[0m\u001b[0mself\u001b[0m\u001b[0;34m.\u001b[0m\u001b[0m_backend\u001b[0m\u001b[0;34m,\u001b[0m \u001b[0mn_jobs\u001b[0m\u001b[0;34m=\u001b[0m\u001b[0mself\u001b[0m\u001b[0;34m.\u001b[0m\u001b[0m_n_jobs\u001b[0m\u001b[0;34m)\u001b[0m\u001b[0;34m:\u001b[0m\u001b[0;34m\u001b[0m\u001b[0;34m\u001b[0m\u001b[0m\n\u001b[1;32m    262\u001b[0m             return [func(*args, **kwargs)\n\u001b[0;32m--> 263\u001b[0;31m                     for func, args, kwargs in self.items]\n\u001b[0m\u001b[1;32m    264\u001b[0m \u001b[0;34m\u001b[0m\u001b[0m\n\u001b[1;32m    265\u001b[0m     \u001b[0;32mdef\u001b[0m \u001b[0m__reduce__\u001b[0m\u001b[0;34m(\u001b[0m\u001b[0mself\u001b[0m\u001b[0;34m)\u001b[0m\u001b[0;34m:\u001b[0m\u001b[0;34m\u001b[0m\u001b[0;34m\u001b[0m\u001b[0m\n",
            "\u001b[0;32m/usr/local/lib/python3.6/dist-packages/joblib/parallel.py\u001b[0m in \u001b[0;36m<listcomp>\u001b[0;34m(.0)\u001b[0m\n\u001b[1;32m    261\u001b[0m         \u001b[0;32mwith\u001b[0m \u001b[0mparallel_backend\u001b[0m\u001b[0;34m(\u001b[0m\u001b[0mself\u001b[0m\u001b[0;34m.\u001b[0m\u001b[0m_backend\u001b[0m\u001b[0;34m,\u001b[0m \u001b[0mn_jobs\u001b[0m\u001b[0;34m=\u001b[0m\u001b[0mself\u001b[0m\u001b[0;34m.\u001b[0m\u001b[0m_n_jobs\u001b[0m\u001b[0;34m)\u001b[0m\u001b[0;34m:\u001b[0m\u001b[0;34m\u001b[0m\u001b[0;34m\u001b[0m\u001b[0m\n\u001b[1;32m    262\u001b[0m             return [func(*args, **kwargs)\n\u001b[0;32m--> 263\u001b[0;31m                     for func, args, kwargs in self.items]\n\u001b[0m\u001b[1;32m    264\u001b[0m \u001b[0;34m\u001b[0m\u001b[0m\n\u001b[1;32m    265\u001b[0m     \u001b[0;32mdef\u001b[0m \u001b[0m__reduce__\u001b[0m\u001b[0;34m(\u001b[0m\u001b[0mself\u001b[0m\u001b[0;34m)\u001b[0m\u001b[0;34m:\u001b[0m\u001b[0;34m\u001b[0m\u001b[0;34m\u001b[0m\u001b[0m\n",
            "\u001b[0;32m/usr/local/lib/python3.6/dist-packages/sklearn/model_selection/_validation.py\u001b[0m in \u001b[0;36m_fit_and_score\u001b[0;34m(estimator, X, y, scorer, train, test, verbose, parameters, fit_params, return_train_score, return_parameters, return_n_test_samples, return_times, return_estimator, error_score)\u001b[0m\n\u001b[1;32m    558\u001b[0m     \u001b[0;32melse\u001b[0m\u001b[0;34m:\u001b[0m\u001b[0;34m\u001b[0m\u001b[0;34m\u001b[0m\u001b[0m\n\u001b[1;32m    559\u001b[0m         \u001b[0mfit_time\u001b[0m \u001b[0;34m=\u001b[0m \u001b[0mtime\u001b[0m\u001b[0;34m.\u001b[0m\u001b[0mtime\u001b[0m\u001b[0;34m(\u001b[0m\u001b[0;34m)\u001b[0m \u001b[0;34m-\u001b[0m \u001b[0mstart_time\u001b[0m\u001b[0;34m\u001b[0m\u001b[0;34m\u001b[0m\u001b[0m\n\u001b[0;32m--> 560\u001b[0;31m         \u001b[0mtest_scores\u001b[0m \u001b[0;34m=\u001b[0m \u001b[0m_score\u001b[0m\u001b[0;34m(\u001b[0m\u001b[0mestimator\u001b[0m\u001b[0;34m,\u001b[0m \u001b[0mX_test\u001b[0m\u001b[0;34m,\u001b[0m \u001b[0my_test\u001b[0m\u001b[0;34m,\u001b[0m \u001b[0mscorer\u001b[0m\u001b[0;34m)\u001b[0m\u001b[0;34m\u001b[0m\u001b[0;34m\u001b[0m\u001b[0m\n\u001b[0m\u001b[1;32m    561\u001b[0m         \u001b[0mscore_time\u001b[0m \u001b[0;34m=\u001b[0m \u001b[0mtime\u001b[0m\u001b[0;34m.\u001b[0m\u001b[0mtime\u001b[0m\u001b[0;34m(\u001b[0m\u001b[0;34m)\u001b[0m \u001b[0;34m-\u001b[0m \u001b[0mstart_time\u001b[0m \u001b[0;34m-\u001b[0m \u001b[0mfit_time\u001b[0m\u001b[0;34m\u001b[0m\u001b[0;34m\u001b[0m\u001b[0m\n\u001b[1;32m    562\u001b[0m         \u001b[0;32mif\u001b[0m \u001b[0mreturn_train_score\u001b[0m\u001b[0;34m:\u001b[0m\u001b[0;34m\u001b[0m\u001b[0;34m\u001b[0m\u001b[0m\n",
            "\u001b[0;32m/usr/local/lib/python3.6/dist-packages/sklearn/model_selection/_validation.py\u001b[0m in \u001b[0;36m_score\u001b[0;34m(estimator, X_test, y_test, scorer)\u001b[0m\n\u001b[1;32m    605\u001b[0m         \u001b[0mscores\u001b[0m \u001b[0;34m=\u001b[0m \u001b[0mscorer\u001b[0m\u001b[0;34m(\u001b[0m\u001b[0mestimator\u001b[0m\u001b[0;34m,\u001b[0m \u001b[0mX_test\u001b[0m\u001b[0;34m)\u001b[0m\u001b[0;34m\u001b[0m\u001b[0;34m\u001b[0m\u001b[0m\n\u001b[1;32m    606\u001b[0m     \u001b[0;32melse\u001b[0m\u001b[0;34m:\u001b[0m\u001b[0;34m\u001b[0m\u001b[0;34m\u001b[0m\u001b[0m\n\u001b[0;32m--> 607\u001b[0;31m         \u001b[0mscores\u001b[0m \u001b[0;34m=\u001b[0m \u001b[0mscorer\u001b[0m\u001b[0;34m(\u001b[0m\u001b[0mestimator\u001b[0m\u001b[0;34m,\u001b[0m \u001b[0mX_test\u001b[0m\u001b[0;34m,\u001b[0m \u001b[0my_test\u001b[0m\u001b[0;34m)\u001b[0m\u001b[0;34m\u001b[0m\u001b[0;34m\u001b[0m\u001b[0m\n\u001b[0m\u001b[1;32m    608\u001b[0m \u001b[0;34m\u001b[0m\u001b[0m\n\u001b[1;32m    609\u001b[0m     error_msg = (\"scoring must return a number, got %s (%s) \"\n",
            "\u001b[0;32m/usr/local/lib/python3.6/dist-packages/sklearn/metrics/_scorer.py\u001b[0m in \u001b[0;36m__call__\u001b[0;34m(self, estimator, *args, **kwargs)\u001b[0m\n\u001b[1;32m     86\u001b[0m             \u001b[0;32mif\u001b[0m \u001b[0misinstance\u001b[0m\u001b[0;34m(\u001b[0m\u001b[0mscorer\u001b[0m\u001b[0;34m,\u001b[0m \u001b[0m_BaseScorer\u001b[0m\u001b[0;34m)\u001b[0m\u001b[0;34m:\u001b[0m\u001b[0;34m\u001b[0m\u001b[0;34m\u001b[0m\u001b[0m\n\u001b[1;32m     87\u001b[0m                 score = scorer._score(cached_call, estimator,\n\u001b[0;32m---> 88\u001b[0;31m                                       *args, **kwargs)\n\u001b[0m\u001b[1;32m     89\u001b[0m             \u001b[0;32melse\u001b[0m\u001b[0;34m:\u001b[0m\u001b[0;34m\u001b[0m\u001b[0;34m\u001b[0m\u001b[0m\n\u001b[1;32m     90\u001b[0m                 \u001b[0mscore\u001b[0m \u001b[0;34m=\u001b[0m \u001b[0mscorer\u001b[0m\u001b[0;34m(\u001b[0m\u001b[0mestimator\u001b[0m\u001b[0;34m,\u001b[0m \u001b[0;34m*\u001b[0m\u001b[0margs\u001b[0m\u001b[0;34m,\u001b[0m \u001b[0;34m**\u001b[0m\u001b[0mkwargs\u001b[0m\u001b[0;34m)\u001b[0m\u001b[0;34m\u001b[0m\u001b[0;34m\u001b[0m\u001b[0m\n",
            "\u001b[0;32m/usr/local/lib/python3.6/dist-packages/sklearn/metrics/_scorer.py\u001b[0m in \u001b[0;36m_score\u001b[0;34m(self, method_caller, estimator, X, y_true, sample_weight)\u001b[0m\n\u001b[1;32m    204\u001b[0m         \"\"\"\n\u001b[1;32m    205\u001b[0m \u001b[0;34m\u001b[0m\u001b[0m\n\u001b[0;32m--> 206\u001b[0;31m         \u001b[0my_pred\u001b[0m \u001b[0;34m=\u001b[0m \u001b[0mmethod_caller\u001b[0m\u001b[0;34m(\u001b[0m\u001b[0mestimator\u001b[0m\u001b[0;34m,\u001b[0m \u001b[0;34m\"predict\"\u001b[0m\u001b[0;34m,\u001b[0m \u001b[0mX\u001b[0m\u001b[0;34m)\u001b[0m\u001b[0;34m\u001b[0m\u001b[0;34m\u001b[0m\u001b[0m\n\u001b[0m\u001b[1;32m    207\u001b[0m         \u001b[0;32mif\u001b[0m \u001b[0msample_weight\u001b[0m \u001b[0;32mis\u001b[0m \u001b[0;32mnot\u001b[0m \u001b[0;32mNone\u001b[0m\u001b[0;34m:\u001b[0m\u001b[0;34m\u001b[0m\u001b[0;34m\u001b[0m\u001b[0m\n\u001b[1;32m    208\u001b[0m             return self._sign * self._score_func(y_true, y_pred,\n",
            "\u001b[0;32m/usr/local/lib/python3.6/dist-packages/sklearn/metrics/_scorer.py\u001b[0m in \u001b[0;36m_cached_call\u001b[0;34m(cache, estimator, method, *args, **kwargs)\u001b[0m\n\u001b[1;32m     51\u001b[0m     \u001b[0;34m\"\"\"Call estimator with method and args and kwargs.\"\"\"\u001b[0m\u001b[0;34m\u001b[0m\u001b[0;34m\u001b[0m\u001b[0m\n\u001b[1;32m     52\u001b[0m     \u001b[0;32mif\u001b[0m \u001b[0mcache\u001b[0m \u001b[0;32mis\u001b[0m \u001b[0;32mNone\u001b[0m\u001b[0;34m:\u001b[0m\u001b[0;34m\u001b[0m\u001b[0;34m\u001b[0m\u001b[0m\n\u001b[0;32m---> 53\u001b[0;31m         \u001b[0;32mreturn\u001b[0m \u001b[0mgetattr\u001b[0m\u001b[0;34m(\u001b[0m\u001b[0mestimator\u001b[0m\u001b[0;34m,\u001b[0m \u001b[0mmethod\u001b[0m\u001b[0;34m)\u001b[0m\u001b[0;34m(\u001b[0m\u001b[0;34m*\u001b[0m\u001b[0margs\u001b[0m\u001b[0;34m,\u001b[0m \u001b[0;34m**\u001b[0m\u001b[0mkwargs\u001b[0m\u001b[0;34m)\u001b[0m\u001b[0;34m\u001b[0m\u001b[0;34m\u001b[0m\u001b[0m\n\u001b[0m\u001b[1;32m     54\u001b[0m \u001b[0;34m\u001b[0m\u001b[0m\n\u001b[1;32m     55\u001b[0m     \u001b[0;32mtry\u001b[0m\u001b[0;34m:\u001b[0m\u001b[0;34m\u001b[0m\u001b[0;34m\u001b[0m\u001b[0m\n",
            "\u001b[0;32m/usr/local/lib/python3.6/dist-packages/sklearn/neighbors/_classification.py\u001b[0m in \u001b[0;36mpredict\u001b[0;34m(self, X)\u001b[0m\n\u001b[1;32m    173\u001b[0m         \u001b[0mX\u001b[0m \u001b[0;34m=\u001b[0m \u001b[0mcheck_array\u001b[0m\u001b[0;34m(\u001b[0m\u001b[0mX\u001b[0m\u001b[0;34m,\u001b[0m \u001b[0maccept_sparse\u001b[0m\u001b[0;34m=\u001b[0m\u001b[0;34m'csr'\u001b[0m\u001b[0;34m)\u001b[0m\u001b[0;34m\u001b[0m\u001b[0;34m\u001b[0m\u001b[0m\n\u001b[1;32m    174\u001b[0m \u001b[0;34m\u001b[0m\u001b[0m\n\u001b[0;32m--> 175\u001b[0;31m         \u001b[0mneigh_dist\u001b[0m\u001b[0;34m,\u001b[0m \u001b[0mneigh_ind\u001b[0m \u001b[0;34m=\u001b[0m \u001b[0mself\u001b[0m\u001b[0;34m.\u001b[0m\u001b[0mkneighbors\u001b[0m\u001b[0;34m(\u001b[0m\u001b[0mX\u001b[0m\u001b[0;34m)\u001b[0m\u001b[0;34m\u001b[0m\u001b[0;34m\u001b[0m\u001b[0m\n\u001b[0m\u001b[1;32m    176\u001b[0m         \u001b[0mclasses_\u001b[0m \u001b[0;34m=\u001b[0m \u001b[0mself\u001b[0m\u001b[0;34m.\u001b[0m\u001b[0mclasses_\u001b[0m\u001b[0;34m\u001b[0m\u001b[0;34m\u001b[0m\u001b[0m\n\u001b[1;32m    177\u001b[0m         \u001b[0m_y\u001b[0m \u001b[0;34m=\u001b[0m \u001b[0mself\u001b[0m\u001b[0;34m.\u001b[0m\u001b[0m_y\u001b[0m\u001b[0;34m\u001b[0m\u001b[0;34m\u001b[0m\u001b[0m\n",
            "\u001b[0;32m/usr/local/lib/python3.6/dist-packages/sklearn/neighbors/_base.py\u001b[0m in \u001b[0;36mkneighbors\u001b[0;34m(self, X, n_neighbors, return_distance)\u001b[0m\n\u001b[1;32m    663\u001b[0m                 delayed_query(\n\u001b[1;32m    664\u001b[0m                     self._tree, X[s], n_neighbors, return_distance)\n\u001b[0;32m--> 665\u001b[0;31m                 \u001b[0;32mfor\u001b[0m \u001b[0ms\u001b[0m \u001b[0;32min\u001b[0m \u001b[0mgen_even_slices\u001b[0m\u001b[0;34m(\u001b[0m\u001b[0mX\u001b[0m\u001b[0;34m.\u001b[0m\u001b[0mshape\u001b[0m\u001b[0;34m[\u001b[0m\u001b[0;36m0\u001b[0m\u001b[0;34m]\u001b[0m\u001b[0;34m,\u001b[0m \u001b[0mn_jobs\u001b[0m\u001b[0;34m)\u001b[0m\u001b[0;34m\u001b[0m\u001b[0;34m\u001b[0m\u001b[0m\n\u001b[0m\u001b[1;32m    666\u001b[0m             )\n\u001b[1;32m    667\u001b[0m         \u001b[0;32melse\u001b[0m\u001b[0;34m:\u001b[0m\u001b[0;34m\u001b[0m\u001b[0;34m\u001b[0m\u001b[0m\n",
            "\u001b[0;32m/usr/local/lib/python3.6/dist-packages/joblib/parallel.py\u001b[0m in \u001b[0;36m__call__\u001b[0;34m(self, iterable)\u001b[0m\n\u001b[1;32m   1046\u001b[0m             \u001b[0;31m# remaining jobs.\u001b[0m\u001b[0;34m\u001b[0m\u001b[0;34m\u001b[0m\u001b[0;34m\u001b[0m\u001b[0m\n\u001b[1;32m   1047\u001b[0m             \u001b[0mself\u001b[0m\u001b[0;34m.\u001b[0m\u001b[0m_iterating\u001b[0m \u001b[0;34m=\u001b[0m \u001b[0;32mFalse\u001b[0m\u001b[0;34m\u001b[0m\u001b[0;34m\u001b[0m\u001b[0m\n\u001b[0;32m-> 1048\u001b[0;31m             \u001b[0;32mif\u001b[0m \u001b[0mself\u001b[0m\u001b[0;34m.\u001b[0m\u001b[0mdispatch_one_batch\u001b[0m\u001b[0;34m(\u001b[0m\u001b[0miterator\u001b[0m\u001b[0;34m)\u001b[0m\u001b[0;34m:\u001b[0m\u001b[0;34m\u001b[0m\u001b[0;34m\u001b[0m\u001b[0m\n\u001b[0m\u001b[1;32m   1049\u001b[0m                 \u001b[0mself\u001b[0m\u001b[0;34m.\u001b[0m\u001b[0m_iterating\u001b[0m \u001b[0;34m=\u001b[0m \u001b[0mself\u001b[0m\u001b[0;34m.\u001b[0m\u001b[0m_original_iterator\u001b[0m \u001b[0;32mis\u001b[0m \u001b[0;32mnot\u001b[0m \u001b[0;32mNone\u001b[0m\u001b[0;34m\u001b[0m\u001b[0;34m\u001b[0m\u001b[0m\n\u001b[1;32m   1050\u001b[0m \u001b[0;34m\u001b[0m\u001b[0m\n",
            "\u001b[0;32m/usr/local/lib/python3.6/dist-packages/joblib/parallel.py\u001b[0m in \u001b[0;36mdispatch_one_batch\u001b[0;34m(self, iterator)\u001b[0m\n\u001b[1;32m    864\u001b[0m                 \u001b[0;32mreturn\u001b[0m \u001b[0;32mFalse\u001b[0m\u001b[0;34m\u001b[0m\u001b[0;34m\u001b[0m\u001b[0m\n\u001b[1;32m    865\u001b[0m             \u001b[0;32melse\u001b[0m\u001b[0;34m:\u001b[0m\u001b[0;34m\u001b[0m\u001b[0;34m\u001b[0m\u001b[0m\n\u001b[0;32m--> 866\u001b[0;31m                 \u001b[0mself\u001b[0m\u001b[0;34m.\u001b[0m\u001b[0m_dispatch\u001b[0m\u001b[0;34m(\u001b[0m\u001b[0mtasks\u001b[0m\u001b[0;34m)\u001b[0m\u001b[0;34m\u001b[0m\u001b[0;34m\u001b[0m\u001b[0m\n\u001b[0m\u001b[1;32m    867\u001b[0m                 \u001b[0;32mreturn\u001b[0m \u001b[0;32mTrue\u001b[0m\u001b[0;34m\u001b[0m\u001b[0;34m\u001b[0m\u001b[0m\n\u001b[1;32m    868\u001b[0m \u001b[0;34m\u001b[0m\u001b[0m\n",
            "\u001b[0;32m/usr/local/lib/python3.6/dist-packages/joblib/parallel.py\u001b[0m in \u001b[0;36m_dispatch\u001b[0;34m(self, batch)\u001b[0m\n\u001b[1;32m    782\u001b[0m         \u001b[0;32mwith\u001b[0m \u001b[0mself\u001b[0m\u001b[0;34m.\u001b[0m\u001b[0m_lock\u001b[0m\u001b[0;34m:\u001b[0m\u001b[0;34m\u001b[0m\u001b[0;34m\u001b[0m\u001b[0m\n\u001b[1;32m    783\u001b[0m             \u001b[0mjob_idx\u001b[0m \u001b[0;34m=\u001b[0m \u001b[0mlen\u001b[0m\u001b[0;34m(\u001b[0m\u001b[0mself\u001b[0m\u001b[0;34m.\u001b[0m\u001b[0m_jobs\u001b[0m\u001b[0;34m)\u001b[0m\u001b[0;34m\u001b[0m\u001b[0;34m\u001b[0m\u001b[0m\n\u001b[0;32m--> 784\u001b[0;31m             \u001b[0mjob\u001b[0m \u001b[0;34m=\u001b[0m \u001b[0mself\u001b[0m\u001b[0;34m.\u001b[0m\u001b[0m_backend\u001b[0m\u001b[0;34m.\u001b[0m\u001b[0mapply_async\u001b[0m\u001b[0;34m(\u001b[0m\u001b[0mbatch\u001b[0m\u001b[0;34m,\u001b[0m \u001b[0mcallback\u001b[0m\u001b[0;34m=\u001b[0m\u001b[0mcb\u001b[0m\u001b[0;34m)\u001b[0m\u001b[0;34m\u001b[0m\u001b[0;34m\u001b[0m\u001b[0m\n\u001b[0m\u001b[1;32m    785\u001b[0m             \u001b[0;31m# A job can complete so quickly than its callback is\u001b[0m\u001b[0;34m\u001b[0m\u001b[0;34m\u001b[0m\u001b[0;34m\u001b[0m\u001b[0m\n\u001b[1;32m    786\u001b[0m             \u001b[0;31m# called before we get here, causing self._jobs to\u001b[0m\u001b[0;34m\u001b[0m\u001b[0;34m\u001b[0m\u001b[0;34m\u001b[0m\u001b[0m\n",
            "\u001b[0;32m/usr/local/lib/python3.6/dist-packages/joblib/_parallel_backends.py\u001b[0m in \u001b[0;36mapply_async\u001b[0;34m(self, func, callback)\u001b[0m\n\u001b[1;32m    206\u001b[0m     \u001b[0;32mdef\u001b[0m \u001b[0mapply_async\u001b[0m\u001b[0;34m(\u001b[0m\u001b[0mself\u001b[0m\u001b[0;34m,\u001b[0m \u001b[0mfunc\u001b[0m\u001b[0;34m,\u001b[0m \u001b[0mcallback\u001b[0m\u001b[0;34m=\u001b[0m\u001b[0;32mNone\u001b[0m\u001b[0;34m)\u001b[0m\u001b[0;34m:\u001b[0m\u001b[0;34m\u001b[0m\u001b[0;34m\u001b[0m\u001b[0m\n\u001b[1;32m    207\u001b[0m         \u001b[0;34m\"\"\"Schedule a func to be run\"\"\"\u001b[0m\u001b[0;34m\u001b[0m\u001b[0;34m\u001b[0m\u001b[0m\n\u001b[0;32m--> 208\u001b[0;31m         \u001b[0mresult\u001b[0m \u001b[0;34m=\u001b[0m \u001b[0mImmediateResult\u001b[0m\u001b[0;34m(\u001b[0m\u001b[0mfunc\u001b[0m\u001b[0;34m)\u001b[0m\u001b[0;34m\u001b[0m\u001b[0;34m\u001b[0m\u001b[0m\n\u001b[0m\u001b[1;32m    209\u001b[0m         \u001b[0;32mif\u001b[0m \u001b[0mcallback\u001b[0m\u001b[0;34m:\u001b[0m\u001b[0;34m\u001b[0m\u001b[0;34m\u001b[0m\u001b[0m\n\u001b[1;32m    210\u001b[0m             \u001b[0mcallback\u001b[0m\u001b[0;34m(\u001b[0m\u001b[0mresult\u001b[0m\u001b[0;34m)\u001b[0m\u001b[0;34m\u001b[0m\u001b[0;34m\u001b[0m\u001b[0m\n",
            "\u001b[0;32m/usr/local/lib/python3.6/dist-packages/joblib/_parallel_backends.py\u001b[0m in \u001b[0;36m__init__\u001b[0;34m(self, batch)\u001b[0m\n\u001b[1;32m    570\u001b[0m         \u001b[0;31m# Don't delay the application, to avoid keeping the input\u001b[0m\u001b[0;34m\u001b[0m\u001b[0;34m\u001b[0m\u001b[0;34m\u001b[0m\u001b[0m\n\u001b[1;32m    571\u001b[0m         \u001b[0;31m# arguments in memory\u001b[0m\u001b[0;34m\u001b[0m\u001b[0;34m\u001b[0m\u001b[0;34m\u001b[0m\u001b[0m\n\u001b[0;32m--> 572\u001b[0;31m         \u001b[0mself\u001b[0m\u001b[0;34m.\u001b[0m\u001b[0mresults\u001b[0m \u001b[0;34m=\u001b[0m \u001b[0mbatch\u001b[0m\u001b[0;34m(\u001b[0m\u001b[0;34m)\u001b[0m\u001b[0;34m\u001b[0m\u001b[0;34m\u001b[0m\u001b[0m\n\u001b[0m\u001b[1;32m    573\u001b[0m \u001b[0;34m\u001b[0m\u001b[0m\n\u001b[1;32m    574\u001b[0m     \u001b[0;32mdef\u001b[0m \u001b[0mget\u001b[0m\u001b[0;34m(\u001b[0m\u001b[0mself\u001b[0m\u001b[0;34m)\u001b[0m\u001b[0;34m:\u001b[0m\u001b[0;34m\u001b[0m\u001b[0;34m\u001b[0m\u001b[0m\n",
            "\u001b[0;32m/usr/local/lib/python3.6/dist-packages/joblib/parallel.py\u001b[0m in \u001b[0;36m__call__\u001b[0;34m(self)\u001b[0m\n\u001b[1;32m    261\u001b[0m         \u001b[0;32mwith\u001b[0m \u001b[0mparallel_backend\u001b[0m\u001b[0;34m(\u001b[0m\u001b[0mself\u001b[0m\u001b[0;34m.\u001b[0m\u001b[0m_backend\u001b[0m\u001b[0;34m,\u001b[0m \u001b[0mn_jobs\u001b[0m\u001b[0;34m=\u001b[0m\u001b[0mself\u001b[0m\u001b[0;34m.\u001b[0m\u001b[0m_n_jobs\u001b[0m\u001b[0;34m)\u001b[0m\u001b[0;34m:\u001b[0m\u001b[0;34m\u001b[0m\u001b[0;34m\u001b[0m\u001b[0m\n\u001b[1;32m    262\u001b[0m             return [func(*args, **kwargs)\n\u001b[0;32m--> 263\u001b[0;31m                     for func, args, kwargs in self.items]\n\u001b[0m\u001b[1;32m    264\u001b[0m \u001b[0;34m\u001b[0m\u001b[0m\n\u001b[1;32m    265\u001b[0m     \u001b[0;32mdef\u001b[0m \u001b[0m__reduce__\u001b[0m\u001b[0;34m(\u001b[0m\u001b[0mself\u001b[0m\u001b[0;34m)\u001b[0m\u001b[0;34m:\u001b[0m\u001b[0;34m\u001b[0m\u001b[0;34m\u001b[0m\u001b[0m\n",
            "\u001b[0;32m/usr/local/lib/python3.6/dist-packages/joblib/parallel.py\u001b[0m in \u001b[0;36m<listcomp>\u001b[0;34m(.0)\u001b[0m\n\u001b[1;32m    261\u001b[0m         \u001b[0;32mwith\u001b[0m \u001b[0mparallel_backend\u001b[0m\u001b[0;34m(\u001b[0m\u001b[0mself\u001b[0m\u001b[0;34m.\u001b[0m\u001b[0m_backend\u001b[0m\u001b[0;34m,\u001b[0m \u001b[0mn_jobs\u001b[0m\u001b[0;34m=\u001b[0m\u001b[0mself\u001b[0m\u001b[0;34m.\u001b[0m\u001b[0m_n_jobs\u001b[0m\u001b[0;34m)\u001b[0m\u001b[0;34m:\u001b[0m\u001b[0;34m\u001b[0m\u001b[0;34m\u001b[0m\u001b[0m\n\u001b[1;32m    262\u001b[0m             return [func(*args, **kwargs)\n\u001b[0;32m--> 263\u001b[0;31m                     for func, args, kwargs in self.items]\n\u001b[0m\u001b[1;32m    264\u001b[0m \u001b[0;34m\u001b[0m\u001b[0m\n\u001b[1;32m    265\u001b[0m     \u001b[0;32mdef\u001b[0m \u001b[0m__reduce__\u001b[0m\u001b[0;34m(\u001b[0m\u001b[0mself\u001b[0m\u001b[0;34m)\u001b[0m\u001b[0;34m:\u001b[0m\u001b[0;34m\u001b[0m\u001b[0;34m\u001b[0m\u001b[0m\n",
            "\u001b[0;32m/usr/local/lib/python3.6/dist-packages/sklearn/neighbors/_base.py\u001b[0m in \u001b[0;36m_tree_query_parallel_helper\u001b[0;34m(tree, *args, **kwargs)\u001b[0m\n\u001b[1;32m    490\u001b[0m     \u001b[0munder\u001b[0m \u001b[0mPyPy\u001b[0m\u001b[0;34m.\u001b[0m\u001b[0;34m\u001b[0m\u001b[0;34m\u001b[0m\u001b[0m\n\u001b[1;32m    491\u001b[0m     \"\"\"\n\u001b[0;32m--> 492\u001b[0;31m     \u001b[0;32mreturn\u001b[0m \u001b[0mtree\u001b[0m\u001b[0;34m.\u001b[0m\u001b[0mquery\u001b[0m\u001b[0;34m(\u001b[0m\u001b[0;34m*\u001b[0m\u001b[0margs\u001b[0m\u001b[0;34m,\u001b[0m \u001b[0;34m**\u001b[0m\u001b[0mkwargs\u001b[0m\u001b[0;34m)\u001b[0m\u001b[0;34m\u001b[0m\u001b[0;34m\u001b[0m\u001b[0m\n\u001b[0m\u001b[1;32m    493\u001b[0m \u001b[0;34m\u001b[0m\u001b[0m\n\u001b[1;32m    494\u001b[0m \u001b[0;34m\u001b[0m\u001b[0m\n",
            "\u001b[0;31mKeyboardInterrupt\u001b[0m: "
          ]
        }
      ]
    },
    {
      "cell_type": "markdown",
      "metadata": {
        "id": "hJlrgZdHUNpF"
      },
      "source": [
        "#####**Multi-Layer Percepton (MLP)**"
      ]
    },
    {
      "cell_type": "code",
      "metadata": {
        "id": "OhTbiSZTUOIx"
      },
      "source": [
        "mlp = MLPClassifier()\n",
        "mlp.fit(X_train, y_train)\n",
        "f1_micro_score_mlp = cross_val_score(mlp, X_train, y_train, cv=5, scoring=\"f1_micro\")\n",
        "f1_macro_score_mlp = cross_val_score(mlp, X_train, y_train, cv=5, scoring=\"f1_macro\")\n",
        "\n",
        "pred_mlp = mlp.predict(X_test)\n",
        "\n",
        "print(\"The MLPClassifier has f1_micro score on training set : %f \\n\" % (f1_micro_score_mlp.mean()))\n",
        "print(\"The MLPClassifier has f1_macro score on training set : %f \\n\" % (f1_macro_score_mlp.mean()))\n",
        "print(\"The MLPClassifier has scores on test set : \\n\" + classification_report(y_test,pred_mlp))"
      ],
      "execution_count": null,
      "outputs": []
    },
    {
      "cell_type": "markdown",
      "metadata": {
        "id": "x9tOWjuBUnmi"
      },
      "source": [
        "#####**Support Vector Machines (SVM)**"
      ]
    },
    {
      "cell_type": "markdown",
      "metadata": {
        "id": "FIresVlvUvzv"
      },
      "source": [
        "Για τον SVM ταξινομητή, θα χρησιμοποιήσουμε γραμμικό πυρήνα καθώς και τους πυρήνες poly και rbf.\n",
        "\n"
      ]
    },
    {
      "cell_type": "code",
      "metadata": {
        "id": "9KBuIqT_UoDR"
      },
      "source": [
        "from sklearn.svm import LinearSVC, SVC\n",
        "\n",
        "lin = LinearSVC()\n",
        "poly = SVC(kernel='poly')\n",
        "rbf = SVC(kernel='rbf')\n",
        "\n",
        "svm_preds = [[],[],[]]\n",
        "for i, clf in zip(range(3), [lin, poly, rbf]):\n",
        "  svm_kernel = \"linear\" if i == 0 else clf.kernel\n",
        "\n",
        "  clf.fit(X_train, y_train)\n",
        "  svm_preds[i] = clf.predict(X_test)\n",
        "  f1_micro_score_svm = cross_val_score(clf, X_train, y_train, cv=5, scoring=\"f1_micro\")\n",
        "  f1_macro_score_svm = cross_val_score(clf, X_train, y_train, cv=5, scoring=\"f1_macro\")\n",
        "\n",
        "  print(\"The SVM classifier with \" + svm_kernel + \" kernel has f1_micro score on training set : %f \\n\"\\\n",
        "        % (f1_micro_score_svm.mean()))\n",
        "  print(\"The SVM classifier with \" + svm_kernel + \" kernel has f1_macro score on training set : %f \\n\"\\\n",
        "        % (f1_macro_score_svm.mean()))\n",
        "  print(\"The SVM classifier with \" + svm_kernel + \" kernel has scores on test set : \\n\"\\\n",
        "        + classification_report(y_test,svm_preds[i]))"
      ],
      "execution_count": null,
      "outputs": []
    },
    {
      "cell_type": "markdown",
      "metadata": {
        "id": "ffYZl87_Ylyy"
      },
      "source": [
        "#####**Confusion Matrices - Πίνακες Σύγχυσης**"
      ]
    },
    {
      "cell_type": "markdown",
      "metadata": {
        "id": "n1pl0f5lYmN4"
      },
      "source": [
        "H ίδια συνάρτηση `plot_cnf_clfs` χρησιμοποιείται και πάλι για να σχεδιάσει τα confusion matrices για τα εν λόγω αποτελέσματα."
      ]
    },
    {
      "cell_type": "code",
      "metadata": {
        "id": "4yEOfYB7ZHGy"
      },
      "source": [
        "#For all classifiers plot the cnf matrix\n",
        "clfs = [ dc_uniform, dc_constant_minus1, dc_constant_plus1, dc_most_frequent, dc_stratified, knn, gnb, mlp,\n",
        "        lin, poly, rbf ]\n",
        "preds = dc_preds + [pred_knn, pred_gnb, pred_mlp] + svm_preds\n",
        "plot_cnf_clfs(clfs, preds, y_test,[-1, 1])"
      ],
      "execution_count": null,
      "outputs": []
    },
    {
      "cell_type": "markdown",
      "metadata": {
        "id": "WaNOJSo3Z7tC"
      },
      "source": [
        "#####**Bar Plots για f1 scores**"
      ]
    },
    {
      "cell_type": "markdown",
      "metadata": {
        "id": "Xb1BJE5RZ8T3"
      },
      "source": [
        "Η συνάρτηση `barplot_clfs` δέχεται ως ορίσματα τους ταξινομητές μαζί με τα predictions που έγιναν για το test set και με την βοηθεια της matplotlib σχεδιάζει τα bar plot των μετρικών f1_micro avg και f1_macro avg για κάθε ταξινομητη."
      ]
    },
    {
      "cell_type": "code",
      "metadata": {
        "id": "4AhEaD0vaLVl"
      },
      "source": [
        "barplot_clfs(clfs,preds,y_test)"
      ],
      "execution_count": null,
      "outputs": []
    },
    {
      "cell_type": "markdown",
      "metadata": {
        "id": "dAsNwY2O-hVm"
      },
      "source": [
        "####**Βελτιστοποίηση ταξινομητών**"
      ]
    },
    {
      "cell_type": "markdown",
      "metadata": {
        "id": "6nOmWjnCeqqN"
      },
      "source": [
        "Για κάθε ταξινομητή (εκτός των dummy) προσπαθούμε να βελτιώσουμε την απόδοση του στο training set με κάποιον συνδυασμό των VarianceThreshold, RandomOverSampler και PCA. Ως κριτήριο βελτιστοποίησης θα χρησιμοποιήσουμε την μετρική f1_macro και την f1_micro. Εκ των δύο μόντελων θα επιλεχθεί αυτό με την καλύτερη απόδοση στο test set."
      ]
    },
    {
      "cell_type": "markdown",
      "metadata": {
        "id": "NLQfPKuiiQ6-"
      },
      "source": [
        "Λόγω του μεγάλου χρόνου που κάποιοι ταξινομητές χρειάζονται για την αναζήτηση πλέγματος (με μεγάλο εύρος υπερπαραμέτρων), στη συνέχεια θα χρησιμοποιηθεί κατά τη διάρκεια του progressive grid search ένα μικρότερο μέρος του συνόλου εκπαίδευσης (συγκεκριμένα επιλέχτηκε το 5%), με μόνο την τελική στενότερη αναζήτηση να εφαρμόζεται στο πλήρες σύνολο."
      ]
    },
    {
      "cell_type": "code",
      "metadata": {
        "id": "HpAVMMLJiRZO"
      },
      "source": [
        "joined_train = np.concatenate((X_train, np.array([y_train]).T), axis=1)\n",
        "X_sample, _, y_sample, _ = train_test_split(joined_train[:,:174], joined_train[:,174],\n",
        "                                            test_size=0.95, stratify=joined_train[:, -1])"
      ],
      "execution_count": null,
      "outputs": []
    },
    {
      "cell_type": "markdown",
      "metadata": {
        "id": "DvPjfN1HfKCn"
      },
      "source": [
        "#####**Gaussian Naives Bayes**"
      ]
    },
    {
      "cell_type": "code",
      "metadata": {
        "id": "JPv2ywsnfMyN"
      },
      "source": [
        "pipe_gnb = [...]"
      ],
      "execution_count": null,
      "outputs": []
    },
    {
      "cell_type": "markdown",
      "metadata": {
        "id": "Ji_5sy79fjPx"
      },
      "source": [
        "Στο στάδιο, αυτό εξετάζουμε τα αποτελέσματα της προεπεξεργασίας με default υπερπαραμέτρους,δηλαδή προτού εφαρμόσουμε grid search/cross-validation, ώστε να επιλέξουμε τις βέλτιστες υπερπαραμέτρους."
      ]
    },
    {
      "cell_type": "code",
      "metadata": {
        "id": "Sa1Pm9DwfS-J"
      },
      "source": [
        "pipe_gnb.fit(X_train, y_train)\n",
        "pred_pipe_gnb = pipe_gnb.predict(X_test)\n",
        "score_micro_pipe_gnb = cross_val_score(pipe_gnb, X_train, y_train, cv=5, scoring='f1_micro')\n",
        "score_macro_pipe_gnb = cross_val_score(pipe_gnb, X_train, y_train, cv=5, scoring='f1_macro')\n",
        "\n",
        "print(\"The GaussianNB Classifier with default preprocessing has f1_micro score on training set : %f \\n\"\\\n",
        "      % (score_micro_pipe_gnb.mean()))\n",
        "print(\"The GaussianNB Classifier with default preprocessing has f1_macro score on training set : %f \\n\"\\\n",
        "      % (score_macro_pipe_gnb.mean()))\n",
        "print(\"The GaussianNB Classifier with default preprocessing parameters: \\n\"\\\n",
        "      + classification_report(y_test,pred_pipe_gnb))"
      ],
      "execution_count": null,
      "outputs": []
    },
    {
      "cell_type": "markdown",
      "metadata": {
        "id": "gUpgdd8of-lr"
      },
      "source": [
        ""
      ]
    },
    {
      "cell_type": "code",
      "metadata": {
        "id": "I9DB1QMTf_l6"
      },
      "source": [
        "[grid search]"
      ],
      "execution_count": null,
      "outputs": []
    },
    {
      "cell_type": "markdown",
      "metadata": {
        "id": "falM9m-ogoQ6"
      },
      "source": [
        "#####**k Nearest Neighbors Classifier (kNN)**"
      ]
    },
    {
      "cell_type": "code",
      "metadata": {
        "id": "x6XcTeUngqrQ"
      },
      "source": [
        "[...]"
      ],
      "execution_count": null,
      "outputs": []
    },
    {
      "cell_type": "markdown",
      "metadata": {
        "id": "-CivtcaDhyhX"
      },
      "source": [
        "#####**Multi-Layer Perceptron (MLP)**"
      ]
    },
    {
      "cell_type": "code",
      "metadata": {
        "id": "AWKbK-2Th7DC"
      },
      "source": [
        "[...]"
      ],
      "execution_count": null,
      "outputs": []
    },
    {
      "cell_type": "markdown",
      "metadata": {
        "id": "FJujwoOch9hP"
      },
      "source": [
        "#####**Support Vector Machines (SVM)** "
      ]
    },
    {
      "cell_type": "markdown",
      "metadata": {
        "id": "dm4GJe8rjRAB"
      },
      "source": [
        "Για τους SVM ταξινομητές μετά από δοκιμές επιλέχτηκε ως βέλτιστη η ίδια διοχέτευση: Minmax Scaler, Variance Threshold Selection, Random Oversampling, PCA και τέλος ο ίδιος ο ταξινομητής."
      ]
    },
    {
      "cell_type": "code",
      "metadata": {
        "id": "Qz390SUWiEUR"
      },
      "source": [
        "pipe_lin = Pipeline(steps=[('mcaler', mscaler), ('selector', selector), ('ros', ros), ('pca', pca)\\\n",
        "                               , ('svm', lin)], memory = 'tmp')\n",
        "pipe_poly = Pipeline(steps=[('mcaler', mscaler), ('selector', selector), ('ros', ros), ('pca', pca),\\\n",
        "                            ('svm', poly)], memory = 'tmp')\n",
        "pipe_rbf = Pipeline(steps=[('mcaler', mscaler), ('selector', selector), ('ros', ros), ('pca', pca)\\\n",
        "                               , ('svm', rbf)], memory = 'tmp')\n",
        "\n",
        "pipes_svm = [pipe_lin, pipe_poly, pipe_rbf]"
      ],
      "execution_count": null,
      "outputs": []
    },
    {
      "cell_type": "code",
      "metadata": {
        "id": "JP0LDFMij8Cn"
      },
      "source": [
        "svm_preds_before = svm_preds\n",
        "svm_preds = [[],[],[]]\n",
        "\n",
        "for i,pipe in zip(range(3), pipes_svm):\n",
        "  svm_pipe_kernel = \"linear\" if i == 0 else pipe[-1].kernel\n",
        "  pipe.fit(X_train,y_train)\n",
        "  pipe_pred = pipe.predict(X_test)\n",
        "  svm_preds[i] = pipe_pred\n",
        "\n",
        "  score_micro_pipe_svm = cross_val_score(pipe, X_train, y_train, cv=5, scoring='f1_micro')\n",
        "  score_macro_pipe_svm = cross_val_score(pipe, X_train, y_train, cv=5, scoring='f1_macro')\n",
        "\n",
        "  print(\"The SVM Classifier with \" + svm_pipe_kernel + \" default preprocessing has f1_micro score on training set : %f \\n\"\\\n",
        "      % (score_micro_pipe_svm.mean()))\n",
        "  print(\"The SVM Classifier with \" + svm_pipe_kernel + \" default preprocessing has f1_macro score on training set : %f \\n\"\\\n",
        "      % (score_macro_pipe_svm.mean()))\n",
        "  print(\"The SVM Classifier with \" + svm_pipe_kernel + \" kernel and preprocessing with default parameters has score on test set : \\n\"\\\n",
        "        + classification_report(y_test,pipe_pred))"
      ],
      "execution_count": null,
      "outputs": []
    },
    {
      "cell_type": "code",
      "metadata": {
        "id": "F3lqc4MntnKN"
      },
      "source": [
        "for i,pipe in zip(range(3), pipes_svm):\n",
        "  svm_pipe_kernel = \"linear\" if i == 0 else pipe[-1].kernel\n",
        "  pipe.fit(X_sample,y_sample)\n",
        "  pipe_pred = pipe.predict(X_test)\n",
        "\n",
        "  score_micro_pipe_svm = cross_val_score(pipe, X_sample, y_sample, cv=5, scoring='f1_micro')\n",
        "  score_macro_pipe_svm = cross_val_score(pipe, X_sample, y_sample, cv=5, scoring='f1_macro')\n",
        "\n",
        "  print(\"The SVM Classifier with \" + svm_pipe_kernel + \" default preprocessing has f1_micro score on training set : %f \\n\"\\\n",
        "      % (score_micro_pipe_svm.mean()))\n",
        "  print(\"The SVM Classifier with \" + svm_pipe_kernel + \" default preprocessing has f1_macro score on training set : %f \\n\"\\\n",
        "      % (score_macro_pipe_svm.mean()))\n",
        "  print(\"The SVM Classifier with \" + svm_pipe_kernel + \" kernel and preprocessing with default parameters has score on test set : \\n\"\\\n",
        "        + classification_report(y_test,pipe_pred))"
      ],
      "execution_count": null,
      "outputs": []
    },
    {
      "cell_type": "code",
      "metadata": {
        "id": "0gxc-BVvkEHc"
      },
      "source": [
        "vthreshold = [[2.073e-04, 0.001, 0.03, 0.05],[0],[0.1]]\n",
        "n_components =  [[60, 80, 100, 110],[89, 90, 91],[44, 45, 46]]\n",
        "loss = ['squared_hinge']\n",
        "tol = [[1e-3, 1e-4, 1e-5],[2e-4, 3e-4, 4e-4],[2e-4, 3e-4, 4e-4]]\n",
        "C = [[1e5, 1e7, 1e10, 1e12],[1e3],[10]]\n",
        "gamma = ['auto']\n",
        "degree = [3]\n",
        "\n",
        "commonhparams = dict({})\n",
        "\n",
        "\n",
        "otherhparams = [\n",
        "                dict(pca__n_components=n_components[0], svm__C=C[0],svm__tol=tol[0],\\\n",
        "                     svm__loss=loss, selector__threshold=vthreshold[0]),\n",
        "                dict(pca__n_components=n_components[1], svm__C=C[1],svm__tol=tol[1], \\\n",
        "                     svm__degree=degree, svm__gamma=gamma, selector__threshold=vthreshold[1]),\n",
        "                dict(pca__n_components=n_components[2], svm__C=C[2],svm__tol=tol[2], \\\n",
        "                     svm__gamma=gamma, selector__threshold=vthreshold[2])\n",
        "]\n",
        "\n",
        "pred_pipes_svm = [0,0,0]\n",
        "time_pipes_svm = [0,0,0]\n",
        "for i,pipe in zip(range(3), pipes_svm):\n",
        "  svm_pipe_name = str(pipe[-1]).split(\"(\")[0]\n",
        "  svm_pipe_strategy = \"linear\" if i == 0 else pipe[-1].kernel\n",
        "\n",
        "  estimator = GridSearchCV(pipe, {**commonhparams, **(otherhparams[i])},\\\n",
        "                                      cv=5, scoring='f1_macro', n_jobs=-1)\n",
        "  start_time = time.time()\n",
        "  estimator.fit(X_sample, y_sample)\n",
        "  pred = estimator.predict(X_test)\n",
        "  pred_pipes_svm[i] = (pred)\n",
        "  time_pipes_svm[i] = (time.time() - start_time)\n",
        "  print(\"The optimized SVM Classifier with \" + svm_pipe_strategy + \" kernel has f1_macro score on training set : %f \\n\" % (estimator.best_score_))\n",
        "  print(\"Classification Report : \\n\" + classification_report(y_test,pred, zero_division=0))\n",
        "  print(\"with best parameters\")\n",
        "  print(estimator.best_params_)\n",
        "  print(\"\\n\")\n",
        "  #after_micro.append(precision_recall_fscore_support(y_test, pred, average='micro')[2])\n",
        "  #after_macro.append(precision_recall_fscore_support(y_test, pred, average='macro', zero_division=0)[2])"
      ],
      "execution_count": null,
      "outputs": []
    },
    {
      "cell_type": "code",
      "metadata": {
        "id": "r0XrM797k2e2"
      },
      "source": [
        "import time\n",
        "from sklearn.model_selection import GridSearchCV\n",
        "\n",
        "#Grid Search for dummy classifiers\n",
        "vthreshold = [[0.01],[0],[0.1]]\n",
        "n_components =  [[86, 87, 88],[89, 90, 91],[44, 45, 46]]\n",
        "loss = ['squared_hinge']\n",
        "tol = [[1e-4],[2e-4, 3e-4, 4e-4],[2e-4, 3e-4, 4e-4]]\n",
        "C = [[1e10],[1e3],[10]]\n",
        "gamma = ['auto']\n",
        "degree = [3]\n",
        "\n",
        "commonhparams = dict({})\n",
        "\n",
        "\n",
        "otherhparams = [\n",
        "                dict(pca__n_components=n_components[0], svm__C=C[0],svm__tol=tol[0],\\\n",
        "                     svm__loss=loss, selector__threshold=vthreshold[0]),\n",
        "                dict(pca__n_components=n_components[1], svm__C=C[1],svm__tol=tol[1], \\\n",
        "                     svm__degree=degree, svm__gamma=gamma, selector__threshold=vthreshold[1]),\n",
        "                dict(pca__n_components=n_components[2], svm__C=C[2],svm__tol=tol[2], \\\n",
        "                     svm__gamma=gamma, selector__threshold=vthreshold[2])\n",
        "]\n",
        "\n",
        "pred_pipes_svm = [0,0,0]\n",
        "time_pipes_svm = [0,0,0]\n",
        "for i,pipe in zip(range(3), pipes_svm):\n",
        "  svm_pipe_name = str(pipe[-1]).split(\"(\")[0]\n",
        "  svm_pipe_strategy = \"linear\" if i == 0 else pipe[-1].kernel\n",
        "\n",
        "  estimator = GridSearchCV(pipe, {**commonhparams, **(otherhparams[i])},\\\n",
        "                                      cv=5, scoring='f1_macro', n_jobs=-1)\n",
        "  start_time = time.time()\n",
        "  estimator.fit(X_train, y_train)\n",
        "  pred = estimator.predict(X_test)\n",
        "  pred_pipes_svm[i] = (pred)\n",
        "  time_pipes_svm[i] = (time.time() - start_time)\n",
        "  print(\"The optimized SVM Classifier with \" + svm_pipe_strategy + \" kernel has f1_macro score on training set : %f \\n\" % (estimator.best_score_))\n",
        "  print(\"Classification Report : \\n\" + classification_report(y_test,pred, zero_division=0))\n",
        "  print(\"with best parameters\")\n",
        "  print(estimator.best_params_)\n",
        "  print(\"\\n\")\n",
        "  #after_micro.append(precision_recall_fscore_support(y_test, pred, average='micro')[2])\n",
        "  #after_macro.append(precision_recall_fscore_support(y_test, pred, average='macro', zero_division=0)[2])"
      ],
      "execution_count": null,
      "outputs": []
    },
    {
      "cell_type": "code",
      "metadata": {
        "id": "eHnCN9o1w1RM"
      },
      "source": [
        ""
      ],
      "execution_count": null,
      "outputs": []
    }
  ]
}