{
  "nbformat": 4,
  "nbformat_minor": 0,
  "metadata": {
    "colab": {
      "name": "MLP-BS11.ipynb",
      "provenance": [],
      "collapsed_sections": []
    },
    "kernelspec": {
      "name": "python3",
      "display_name": "Python 3"
    }
  },
  "cells": [
    {
      "cell_type": "code",
      "metadata": {
        "id": "X2XyrMN56M8u"
      },
      "source": [
        "import warnings\n",
        "warnings.filterwarnings('ignore')\n",
        "\n",
        "from sklearn.neural_network import MLPClassifier\n",
        "from sklearn.metrics import confusion_matrix, f1_score, classification_report\n",
        "from sklearn.metrics import precision_recall_fscore_support\n",
        "from sklearn.model_selection import cross_val_score\n",
        "from imblearn.pipeline import Pipeline\n",
        "from sklearn.feature_selection import VarianceThreshold\n",
        "from sklearn.preprocessing import StandardScaler, MinMaxScaler\n",
        "from sklearn.decomposition import PCA\n",
        "from imblearn.over_sampling import RandomOverSampler\n",
        "from sklearn.model_selection import GridSearchCV\n",
        "import time"
      ],
      "execution_count": 7,
      "outputs": []
    },
    {
      "cell_type": "code",
      "metadata": {
        "id": "rdkZfb4W6olI"
      },
      "source": [
        "import warnings\n",
        "warnings.filterwarnings('ignore')\n",
        "\n",
        "from sklearn.impute import SimpleImputer\n",
        "from sklearn.model_selection import train_test_split\n",
        "import pandas as pd\n",
        "import numpy as np\n",
        "all_data = pd.read_csv(\"Nomao.data\", header = None)\n",
        "all_data.replace('?', np.NaN, inplace=True)\n",
        "\n",
        "all_data = all_data.drop(0, axis=1)\n",
        "\n",
        "data_train, data_test, labels_train, labels_test = train_test_split(all_data.iloc[:,:118], all_data.iloc[:,[118]], test_size=0.3, random_state = 42, stratify=all_data.iloc[:,-1])\n",
        "\n",
        "imp = SimpleImputer(missing_values=np.NaN, strategy=\"most_frequent\")\n",
        "cat_data_train = list ()\n",
        "num_data_train = list ()\n",
        "cat_data_test = list ()\n",
        "num_data_test = list ()\n",
        "cat_cols = [7, 8, 15, 16, 23, 24, 31, 32, 39, 40, 47, 48, 55, 56, 63, 64, 71, 72, 79, 80, 87, 88, 92, 96, 100, 104, 108, 112, 116] \n",
        "for col in cat_cols :\n",
        "  cat_data_train.append(pd.DataFrame(imp.fit_transform(data_train.iloc[:,[col-1]])))\n",
        "  cat_data_test.append(pd.DataFrame(imp.transform(data_test.iloc[:,[col-1]])))\n",
        "cols = all_data.columns\n",
        "num_cols = list(set (cols) - set (cat_cols) - {119})\n",
        "imp = SimpleImputer(missing_values=np.NaN, strategy=\"mean\")\n",
        "for col in num_cols :\n",
        "  num_data_train.append(pd.DataFrame(imp.fit_transform(data_train.iloc[:,[col-1]])))\n",
        "  num_data_test.append(pd.DataFrame(imp.transform(data_test.iloc[:,[col-1]])))\n",
        "\n",
        "j1 , j2 = 0, 0\n",
        "\n",
        "idata_train = pd.DataFrame()\n",
        "idata_test = pd.DataFrame()\n",
        "for col in range(1,119) :\n",
        "  if j2 < 29 and cat_cols[j2] == col :\n",
        "    idata_train = pd.concat([idata_train,cat_data_train[j2]],join=\"outer\",axis=1)\n",
        "    idata_test = pd.concat([idata_test, cat_data_test[j2]],join=\"outer\",axis=1)\n",
        "    j2 = j2 + 1\n",
        "  else :\n",
        "    idata_train = pd.concat([idata_train,num_data_train[j1]],join=\"outer\",axis=1)\n",
        "    idata_test = pd.concat([idata_test,num_data_test[j1]],join=\"outer\",axis=1)    \n",
        "    j1 = j1 + 1\n",
        "\n",
        "temp = pd.concat([idata_train,idata_test], join=\"outer\", axis=0)\n",
        "dummy_data = pd.get_dummies(temp, [i-1 for i in cat_cols])\n",
        "np_dummy_data = dummy_data.apply(pd.to_numeric).values\n",
        "\n",
        "np_data_train = np_dummy_data[:24125,:] #οι γραμμές δεν αλλάζουν θέση οπότε αφού σειριακά\n",
        "np_data_test = np_dummy_data[24125:,:]  #ενώσαμε τα train, test σειριακά θα τα χωρίσουμε\n",
        "\n",
        "mapping = {-1 : 0, +1 : 1}\n",
        "\n",
        "labels_train[119] = labels_train[119].map(mapping)\n",
        "labels_test[119] = labels_test[119].map(mapping)\n",
        "\n",
        "np_labels_train = labels_train[119].values.flatten()\n",
        "np_labels_test = labels_test[119].values.flatten()\n",
        "\n",
        "X_train = np_data_train\n",
        "y_train = np_labels_train\n",
        "X_test = np_data_test\n",
        "y_test = np_labels_test"
      ],
      "execution_count": 8,
      "outputs": []
    },
    {
      "cell_type": "code",
      "metadata": {
        "id": "2woyWHW661IL",
        "colab": {
          "base_uri": "https://localhost:8080/"
        },
        "outputId": "1bec9862-e978-4dfa-b555-5fd4898adfc0"
      },
      "source": [
        "mlp = MLPClassifier()\n",
        "mlp.fit(X_train, y_train)\n",
        "pred_mlp = mlp.predict(X_test)\n",
        "\n",
        "f1_micro_score_mlp = cross_val_score(mlp, X_train, y_train, cv = 5, scoring ='f1_micro')\n",
        "f1_macro_score_mlp = cross_val_score(mlp, X_train, y_train, cv = 5, scoring = \"f1_macro\")\n",
        "\n",
        "\n",
        "print(\"The Multilayer perceptron Classifier has f1_micro score on training set : %f \\n\" % (f1_micro_score_mlp.mean()))\n",
        "print(\"The Multilayer perceptron Classifier has f1_macro score on training set : %f \\n\" % (f1_macro_score_mlp.mean()))\n",
        "print(\"The Multilayer perceptron Classifier has scores on test set : \\n\" + classification_report(y_test,pred_mlp))"
      ],
      "execution_count": 9,
      "outputs": [
        {
          "output_type": "stream",
          "text": [
            "The Multilayer perceptron Classifier has f1_micro score on training set : 0.956228 \n",
            "\n",
            "The Multilayer perceptron Classifier has f1_macro score on training set : 0.950592 \n",
            "\n",
            "The Multilayer perceptron Classifier has scores on test set : \n",
            "              precision    recall  f1-score   support\n",
            "\n",
            "           0       0.95      0.91      0.93      2953\n",
            "           1       0.97      0.98      0.97      7387\n",
            "\n",
            "    accuracy                           0.96     10340\n",
            "   macro avg       0.96      0.95      0.95     10340\n",
            "weighted avg       0.96      0.96      0.96     10340\n",
            "\n"
          ],
          "name": "stdout"
        }
      ]
    },
    {
      "cell_type": "code",
      "metadata": {
        "id": "y0LneS447o99",
        "colab": {
          "base_uri": "https://localhost:8080/"
        },
        "outputId": "76c4cbf9-440a-41bb-cbfb-e68d5d927d08"
      },
      "source": [
        "#pipe με default τιμές (αρχικοποίηση) και επιλεγμένο τον StandardScaler\n",
        "\n",
        "selector = VarianceThreshold()\n",
        "scaler = StandardScaler()\n",
        "ros = RandomOverSampler()\n",
        "pca = PCA()\n",
        "mlp = MLPClassifier()\n",
        "pipe_mlp = Pipeline(steps=[('selector', selector), ('scaler', scaler), ('sampler', ros), ('pca', pca), ('mlp', mlp)])\n",
        "pipe_mlp.fit(X_train, y_train)\n",
        "pred_pipe_mlp = pipe_mlp.predict(X_test)\n",
        "f1_micro_score_pipe_mlp = cross_val_score(pipe_mlp, X_train, y_train, cv = 5, scoring = 'f1_micro')\n",
        "f1_macro_score_pipe_mlp = cross_val_score(pipe_mlp, X_train, y_train, cv = 5, scoring = 'f1_macro')\n",
        "\n",
        "print(\"The Multilayer perceptron Classifier with default preprocessing has f1_micro score on training set : %f \\n\" % (f1_micro_score_pipe_mlp.mean()))\n",
        "print(\"The Multilayer perceptron Classifier with default preprocessing has f1_macro score on training set : %f \\n\" % (f1_macro_score_pipe_mlp.mean()))\n",
        "print(\"The Multilayer perceptron Classifier with default preprocessing parameters has scores on test set: \\n\" + classification_report(y_test,pred_pipe_mlp))"
      ],
      "execution_count": 10,
      "outputs": [
        {
          "output_type": "stream",
          "text": [
            "The Multilayer perceptron Classifier with default preprocessing has f1_micro score on training set : 0.959710 \n",
            "\n",
            "The Multilayer perceptron Classifier with default preprocessing has f1_macro score on training set : 0.949668 \n",
            "\n",
            "The Multilayer perceptron Classifier with default preprocessing parameters has scores on test set: \n",
            "              precision    recall  f1-score   support\n",
            "\n",
            "           0       0.93      0.94      0.93      2953\n",
            "           1       0.98      0.97      0.97      7387\n",
            "\n",
            "    accuracy                           0.96     10340\n",
            "   macro avg       0.95      0.96      0.95     10340\n",
            "weighted avg       0.96      0.96      0.96     10340\n",
            "\n"
          ],
          "name": "stdout"
        }
      ]
    },
    {
      "cell_type": "code",
      "metadata": {
        "id": "mY4uyPfP8U6Z",
        "colab": {
          "base_uri": "https://localhost:8080/"
        },
        "outputId": "50673c11-46e8-4a96-bc32-3afef0e7822e"
      },
      "source": [
        "#pipe με default τιμές (αρχικοποίηση) και επιλεγμένο τον MinMaxScaler\n",
        "\n",
        "selector = VarianceThreshold()\n",
        "mscaler = StandardScaler()\n",
        "ros = RandomOverSampler()\n",
        "pca = PCA()\n",
        "mlp = MLPClassifier()\n",
        "mpipe_mlp = Pipeline(steps=[('scaler', mscaler), ('selector', selector), ('sampler', ros), ('pca', pca), ('mlp', mlp)])\n",
        "mpipe_mlp.fit(X_train, y_train)\n",
        "mpred_pipe_mlp = mpipe_mlp.predict(X_test)\n",
        "mf1_micro_score_pipe_mlp = cross_val_score(mpipe_mlp, X_train, y_train, cv = 5, scoring = 'f1_micro')\n",
        "mf1_macro_score_pipe_mlp = cross_val_score(mpipe_mlp, X_train, y_train, cv = 5, scoring = 'f1_macro')\n",
        "\n",
        "print(\"The Multilayer perceptron Classifier with default preprocessing (using MinMax Scaler) has f1_micro score on training set : %f \\n\" % (mf1_micro_score_pipe_mlp.mean()))\n",
        "print(\"The Multilayer perceptron Classifier with default preprocessing (using MinMax Scaler) has f1_macro score on training set : %f \\n\" % (mf1_macro_score_pipe_mlp.mean()))\n",
        "print(\"The Multilayer perceptron Classifier with default preprocessing parameters (using MinMax Scaler) has scores on test set: \\n\" + classification_report(y_test,mpred_pipe_mlp))"
      ],
      "execution_count": 11,
      "outputs": [
        {
          "output_type": "stream",
          "text": [
            "The Multilayer perceptron Classifier with default preprocessing (using MinMax Scaler) has f1_micro score on training set : 0.960041 \n",
            "\n",
            "The Multilayer perceptron Classifier with default preprocessing (using MinMax Scaler) has f1_macro score on training set : 0.950711 \n",
            "\n",
            "The Multilayer perceptron Classifier with default preprocessing parameters (using MinMax Scaler) has scores on test set: \n",
            "              precision    recall  f1-score   support\n",
            "\n",
            "           0       0.93      0.94      0.93      2953\n",
            "           1       0.98      0.97      0.97      7387\n",
            "\n",
            "    accuracy                           0.96     10340\n",
            "   macro avg       0.95      0.95      0.95     10340\n",
            "weighted avg       0.96      0.96      0.96     10340\n",
            "\n"
          ],
          "name": "stdout"
        }
      ]
    },
    {
      "cell_type": "code",
      "metadata": {
        "id": "qRn9hcaA890K"
      },
      "source": [
        "vthreshold = [0, 0.03, 0.05, 1e-1]\n",
        "n_components = [1,15,20, 25]\n",
        "\n",
        "pipe_mlp = Pipeline(steps=[('selector', selector), ('scaler', scaler), ('sampler', ros), ('pca', pca), ('mlp', mlp)], memory = 'tmp')"
      ],
      "execution_count": 33,
      "outputs": []
    },
    {
      "cell_type": "code",
      "metadata": {
        "id": "L1zJYVj3he7j"
      },
      "source": [
        "#joined_train = np.concatenate((X_train, np.array([y_train]).T), axis = 1)\n",
        "#X_sample, _, y_sample, _ = train_test_split(joined_train[:,:174], joined_train[:,174],test_size = 0.25, stratify=joined_train[:,-1])"
      ],
      "execution_count": 34,
      "outputs": []
    },
    {
      "cell_type": "code",
      "metadata": {
        "id": "4lRyeskX_d6v",
        "colab": {
          "base_uri": "https://localhost:8080/"
        },
        "outputId": "87188aca-dd8c-498f-caa7-74eec350221e"
      },
      "source": [
        "#Grid Search Cross Validation με επιλεγμένο τον StandardScaler\n",
        "vthreshold = [0.05, 0.01, 0.015, 0.02, 0.03]\n",
        "n_components = [30, 35, 38, 40]\n",
        "hidden_layer_sizes = [(40,)]\n",
        "activation = ['logistic']\n",
        "solver = ['adam']\n",
        "max_iter = [50]\n",
        "learning_rate = ['adaptive']\n",
        "alpha = [0.0001]\n",
        "\n",
        "estimator = GridSearchCV(pipe_mlp, dict(selector__threshold=vthreshold, pca__n_components=n_components, mlp__hidden_layer_sizes = hidden_layer_sizes ,\n",
        "mlp__activation = activation, mlp__solver = solver, mlp__max_iter =  max_iter,\n",
        "mlp__learning_rate = learning_rate,mlp__alpha = alpha), cv=5, scoring='f1_micro',n_jobs=-1)\n",
        "start_time = time.time()\n",
        "estimator.fit(X_train, y_train) #estimator.fit(X_train, y_train)\n",
        "estimator_pred = estimator.predict(X_test)\n",
        "estimator_time = time.time() - start_time\n",
        "\n",
        "print(\"The Multilayer perceptron Classifier has f1_micro score on training set : %f \\n\" % (estimator.best_score_))\n",
        "print(\"The Multilayer perceptron Classifier optimized by f1_micro : \\n\" + classification_report(y_test,estimator_pred))\n",
        "print(\"with best parameters\")\n",
        "print(estimator.best_params_)\n",
        "\n",
        "#pipe_mlp = estimator.best_estimator_\n",
        "#pred_pipe_mlp = estimator_pred\n",
        "#time_pipe_mlp = estimator_time\n",
        "\n",
        "print(\"\\n\")\n",
        "\n",
        "estimator = GridSearchCV(pipe_mlp, dict(selector__threshold=vthreshold, pca__n_components=n_components, mlp__hidden_layer_sizes = hidden_layer_sizes ,\n",
        "mlp__activation = activation, mlp__solver = solver, mlp__max_iter =  max_iter,\n",
        "mlp__learning_rate = learning_rate,mlp__alpha = alpha), cv=5, scoring='f1_macro',n_jobs=-1)\n",
        "start_time = time.time()\n",
        "estimator.fit(X_train, y_train) #estimator.fit(X_train, y_train)\n",
        "estimator_pred = estimator.predict(X_test)\n",
        "estimator_time = time.time() - start_time\n",
        "\n",
        "print(\"The GaussianNB Classifier has f1_macro score on training set : %f \\n\" % (estimator.best_score_))\n",
        "print(\"The GaussianNB Classifier optimized by f1_macro : \\n\" + classification_report(y_test,estimator_pred))\n",
        "print(\"with best parameters\")\n",
        "print(estimator.best_params_)\n",
        "\n",
        "print(\"\\n\")"
      ],
      "execution_count": 35,
      "outputs": [
        {
          "output_type": "stream",
          "text": [
            "The Multilayer perceptron Classifier has f1_micro score on training set : 0.953078 \n",
            "\n",
            "The Multilayer perceptron Classifier optimized by f1_micro : \n",
            "              precision    recall  f1-score   support\n",
            "\n",
            "           0       0.89      0.95      0.92      2953\n",
            "           1       0.98      0.95      0.97      7387\n",
            "\n",
            "    accuracy                           0.95     10340\n",
            "   macro avg       0.94      0.95      0.94     10340\n",
            "weighted avg       0.96      0.95      0.95     10340\n",
            "\n",
            "with best parameters\n",
            "{'mlp__activation': 'logistic', 'mlp__alpha': 0.0001, 'mlp__hidden_layer_sizes': (40,), 'mlp__learning_rate': 'adaptive', 'mlp__max_iter': 50, 'mlp__solver': 'adam', 'pca__n_components': 38, 'selector__threshold': 0.03}\n",
            "\n",
            "\n",
            "The GaussianNB Classifier has f1_macro score on training set : 0.943109 \n",
            "\n",
            "The GaussianNB Classifier optimized by f1_macro : \n",
            "              precision    recall  f1-score   support\n",
            "\n",
            "           0       0.89      0.96      0.92      2953\n",
            "           1       0.98      0.95      0.97      7387\n",
            "\n",
            "    accuracy                           0.96     10340\n",
            "   macro avg       0.94      0.96      0.95     10340\n",
            "weighted avg       0.96      0.96      0.96     10340\n",
            "\n",
            "with best parameters\n",
            "{'mlp__activation': 'logistic', 'mlp__alpha': 0.0001, 'mlp__hidden_layer_sizes': (40,), 'mlp__learning_rate': 'adaptive', 'mlp__max_iter': 50, 'mlp__solver': 'adam', 'pca__n_components': 40, 'selector__threshold': 0.05}\n",
            "\n",
            "\n"
          ],
          "name": "stdout"
        }
      ]
    },
    {
      "cell_type": "code",
      "metadata": {
        "id": "oXqJ3h-AA-fL",
        "colab": {
          "base_uri": "https://localhost:8080/"
        },
        "outputId": "fc9c2b01-15c6-4198-fec9-bdcde46f6c07"
      },
      "source": [
        "#Grid Search Cross Validation με επιλεγμένο τον MinMaxScaler\n",
        "\n",
        "vthreshold = [0.065, 0.07, 0.075, 0.078]\n",
        "n_components = [35, 38, 40, 45]\n",
        "hidden_layer_sizes = [(40,), (100,)]\n",
        "activation = ['identity', 'logistic']\n",
        "solver = ['adam']\n",
        "max_iter = [50]\n",
        "learning_rate = ['constant']\n",
        "alpha = [0.0001]\n",
        "\n",
        "mestimator = GridSearchCV(mpipe_mlp, dict(selector__threshold=vthreshold, pca__n_components=n_components, mlp__hidden_layer_sizes = hidden_layer_sizes ,\n",
        "mlp__activation = activation, mlp__solver = solver, mlp__max_iter =  max_iter,\n",
        "mlp__learning_rate = learning_rate,mlp__alpha = alpha), cv=5, scoring='f1_micro',n_jobs=-1)\n",
        "start_time = time.time()\n",
        "mestimator.fit(X_train, y_train) #mestimator.fit(X_train, y_train)\n",
        "mestimator_pred = mestimator.predict(X_test)\n",
        "mestimator_time = time.time() - start_time\n",
        "\n",
        "print(\"The Multilayer perceptron Classifier has f1_micro score on training set : %f \\n\" % (mestimator.best_score_))\n",
        "print(\"The Multilayer perceptron Classifier optimized by f1_micro : \\n\" + classification_report(y_test,mestimator_pred))\n",
        "print(\"with best parameters\")\n",
        "print(mestimator.best_params_)\n",
        "\n",
        "#pipe_mlp = mestimator.best_estimator_\n",
        "#pred_pipe_mlp = mestimator_pred\n",
        "#time_pipe_mlp = mestimator_time\n",
        "\n",
        "print(\"\\n\")\n",
        "\n",
        "mestimator = GridSearchCV(mpipe_mlp, dict(selector__threshold=vthreshold, pca__n_components=n_components, mlp__hidden_layer_sizes = hidden_layer_sizes ,\n",
        "mlp__activation = activation, mlp__solver = solver, mlp__max_iter =  max_iter,\n",
        "mlp__learning_rate = learning_rate,mlp__alpha = alpha), cv=5, scoring='f1_macro',n_jobs=-1)\n",
        "start_time = time.time()\n",
        "mestimator.fit(X_train, y_train) #mestimator.fit(X_train, y_train)\n",
        "mestimator_pred = mestimator.predict(X_test)\n",
        "mestimator_time = time.time() - start_time\n",
        "\n",
        "print(\"The GaussianNB Classifier has f1_macro score on training set : %f \\n\" % (mestimator.best_score_))\n",
        "print(\"The GaussianNB Classifier optimized by f1_macro : \\n\" + classification_report(y_test,mestimator_pred))\n",
        "print(\"with best parameters\")\n",
        "print(mestimator.best_params_)\n",
        "\n",
        "print(\"\\n\")\n"
      ],
      "execution_count": 36,
      "outputs": [
        {
          "output_type": "stream",
          "text": [
            "The Multilayer perceptron Classifier has f1_micro score on training set : 0.954280 \n",
            "\n",
            "The Multilayer perceptron Classifier optimized by f1_micro : \n",
            "              precision    recall  f1-score   support\n",
            "\n",
            "           0       0.90      0.95      0.92      2953\n",
            "           1       0.98      0.96      0.97      7387\n",
            "\n",
            "    accuracy                           0.96     10340\n",
            "   macro avg       0.94      0.95      0.95     10340\n",
            "weighted avg       0.96      0.96      0.96     10340\n",
            "\n",
            "with best parameters\n",
            "{'mlp__activation': 'logistic', 'mlp__alpha': 0.0001, 'mlp__hidden_layer_sizes': (100,), 'mlp__learning_rate': 'constant', 'mlp__max_iter': 50, 'mlp__solver': 'adam', 'pca__n_components': 45, 'selector__threshold': 0.075}\n",
            "\n",
            "\n",
            "The GaussianNB Classifier has f1_macro score on training set : 0.945357 \n",
            "\n",
            "The GaussianNB Classifier optimized by f1_macro : \n",
            "              precision    recall  f1-score   support\n",
            "\n",
            "           0       0.90      0.95      0.92      2953\n",
            "           1       0.98      0.96      0.97      7387\n",
            "\n",
            "    accuracy                           0.96     10340\n",
            "   macro avg       0.94      0.95      0.95     10340\n",
            "weighted avg       0.96      0.96      0.96     10340\n",
            "\n",
            "with best parameters\n",
            "{'mlp__activation': 'logistic', 'mlp__alpha': 0.0001, 'mlp__hidden_layer_sizes': (100,), 'mlp__learning_rate': 'constant', 'mlp__max_iter': 50, 'mlp__solver': 'adam', 'pca__n_components': 45, 'selector__threshold': 0.065}\n",
            "\n",
            "\n"
          ],
          "name": "stdout"
        }
      ]
    },
    {
      "cell_type": "code",
      "metadata": {
        "id": "p2AhkWgr9_jB",
        "colab": {
          "base_uri": "https://localhost:8080/"
        },
        "outputId": "9cf06eff-f710-4eeb-f0c3-9b031cdf1439"
      },
      "source": [
        "#Grid Search Cross Validation χωρίς Scaler\n",
        "\n",
        "vthreshold = [0.01, 0.015, 0.03, 0.04]\n",
        "n_components = [30, 35, 38, 40]\n",
        "hidden_layer_sizes = [(40,), (100,)]\n",
        "activation = ['identity']\n",
        "solver = ['adam']\n",
        "max_iter = [50]\n",
        "learning_rate = ['constant']\n",
        "alpha = [0.0001]\n",
        "\n",
        "pipe_mlp = Pipeline(steps=[('selector', selector), ('sampler', ros), ('pca', pca), ('mlp', mlp)], memory = 'tmp')\n",
        "estimator = GridSearchCV(pipe_mlp, dict(selector__threshold=vthreshold, pca__n_components=n_components, mlp__hidden_layer_sizes = hidden_layer_sizes ,\n",
        "mlp__activation = activation, mlp__solver = solver, mlp__max_iter =  max_iter,\n",
        "mlp__learning_rate = learning_rate,mlp__alpha = alpha), cv=5, scoring='f1_micro',n_jobs=-1)\n",
        "start_time = time.time()\n",
        "estimator.fit(X_train, y_train) #estimator.fit(X_train, y_train)\n",
        "estimator_pred = estimator.predict(X_test)\n",
        "estimator_time = time.time() - start_time\n",
        "\n",
        "print(\"The Multilayer perceptron Classifier (with no Scaler applied) has f1_micro score on training set : %f \\n\" % (estimator.best_score_))\n",
        "print(\"The Multilayer perceptron Classifier (with no Scaler applied) optimized by f1_micro : \\n\" + classification_report(y_test,estimator_pred))\n",
        "print(\"with best parameters\")\n",
        "print(estimator.best_params_)\n",
        "\n",
        "#pipe_mlp = estimator.best_estimator_\n",
        "#pred_pipe_mlp = estimator_pred\n",
        "#time_pipe_mlp = estimator_time\n",
        "\n",
        "print(\"\\n\")\n",
        "\n",
        "pipe_mlp = Pipeline(steps=[('selector', selector), ('sampler', ros), ('pca', pca), ('mlp', mlp)], memory = 'tmp')\n",
        "estimator = GridSearchCV(pipe_mlp, dict(selector__threshold=vthreshold, pca__n_components=n_components, mlp__hidden_layer_sizes = hidden_layer_sizes ,\n",
        "mlp__activation = activation, mlp__solver = solver, mlp__max_iter =  max_iter,\n",
        "mlp__learning_rate = learning_rate,mlp__alpha = alpha), cv=5, scoring='f1_macro',n_jobs=-1)\n",
        "start_time = time.time()\n",
        "estimator.fit(X_train, y_train) #estimator.fit(X_train, y_train)\n",
        "estimator_pred = estimator.predict(X_test)\n",
        "estimator_time = time.time() - start_time\n",
        "\n",
        "print(\"The Multilayer perceptron Classifier (with no Scaler applied) has f1_macro score on training set : %f \\n\" % (estimator.best_score_))\n",
        "print(\"The Multilayer perceptron Classifier (with no Scaler applied) optimized by f1_macro : \\n\" + classification_report(y_test,estimator_pred))\n",
        "print(\"with best parameters\")\n",
        "print(estimator.best_params_)\n",
        "\n",
        "#pipe_mlp = estimator.best_estimator_\n",
        "#pred_pipe_mlp = estimator_pred\n",
        "#time_pipe_mlp = estimator_time\n",
        "\n",
        "print(\"\\n\")\n"
      ],
      "execution_count": 38,
      "outputs": [
        {
          "output_type": "stream",
          "text": [
            "The Multilayer perceptron Classifier (with no Scaler applied) has f1_micro score on training set : 0.936000 \n",
            "\n",
            "The Multilayer perceptron Classifier (with no Scaler applied) optimized by f1_micro : \n",
            "              precision    recall  f1-score   support\n",
            "\n",
            "           0       0.84      0.94      0.89      2953\n",
            "           1       0.97      0.93      0.95      7387\n",
            "\n",
            "    accuracy                           0.93     10340\n",
            "   macro avg       0.91      0.93      0.92     10340\n",
            "weighted avg       0.94      0.93      0.93     10340\n",
            "\n",
            "with best parameters\n",
            "{'mlp__activation': 'identity', 'mlp__alpha': 0.0001, 'mlp__hidden_layer_sizes': (40,), 'mlp__learning_rate': 'constant', 'mlp__max_iter': 50, 'mlp__solver': 'adam', 'pca__n_components': 40, 'selector__threshold': 0.015}\n",
            "\n",
            "\n",
            "The Multilayer perceptron Classifier (with no Scaler applied) has f1_macro score on training set : 0.924790 \n",
            "\n",
            "The Multilayer perceptron Classifier (with no Scaler applied) optimized by f1_macro : \n",
            "              precision    recall  f1-score   support\n",
            "\n",
            "           0       0.85      0.94      0.89      2953\n",
            "           1       0.97      0.93      0.95      7387\n",
            "\n",
            "    accuracy                           0.93     10340\n",
            "   macro avg       0.91      0.93      0.92     10340\n",
            "weighted avg       0.94      0.93      0.93     10340\n",
            "\n",
            "with best parameters\n",
            "{'mlp__activation': 'identity', 'mlp__alpha': 0.0001, 'mlp__hidden_layer_sizes': (100,), 'mlp__learning_rate': 'constant', 'mlp__max_iter': 50, 'mlp__solver': 'adam', 'pca__n_components': 40, 'selector__threshold': 0.01}\n",
            "\n",
            "\n"
          ],
          "name": "stdout"
        }
      ]
    }
  ]
}