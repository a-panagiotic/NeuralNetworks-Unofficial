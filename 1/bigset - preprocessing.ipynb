{
  "nbformat": 4,
  "nbformat_minor": 0,
  "metadata": {
    "colab": {
      "name": "bigset.ipynb",
      "provenance": [],
      "collapsed_sections": []
    },
    "kernelspec": {
      "display_name": "Python 3",
      "name": "python3"
    }
  },
  "cells": [
    {
      "cell_type": "code",
      "metadata": {
        "colab": {
          "base_uri": "https://localhost:8080/"
        },
        "id": "bCow6plt4N85",
        "outputId": "61df39dd-2ddc-42e6-8706-5999661e7554"
      },
      "source": [
        "from sklearn.impute import SimpleImputer\n",
        "from sklearn.model_selection import train_test_split\n",
        "import pandas as pd\n",
        "import numpy as np\n",
        "all_data = pd.read_csv(\"Nomao.data\", header = None)\n",
        "all_data.replace('?', np.NaN, inplace=True)\n",
        "\n",
        "all_data = all_data.drop(0, axis=1)\n",
        "\n",
        "data_train, data_test, labels_train, labels_test = train_test_split(all_data.iloc[:,:118], all_data.iloc[:,[118]], test_size=0.3, stratify=all_data.iloc[:,-1])\n",
        "\n",
        "imp = SimpleImputer(missing_values=np.NaN, strategy=\"most_frequent\")\n",
        "cat_data_train = list ()\n",
        "num_data_train = list ()\n",
        "cat_data_test = list ()\n",
        "num_data_test = list ()\n",
        "cat_cols = [7, 8, 15, 16, 23, 24, 31, 32, 39, 40, 47, 48, 55, 56, 63, 64, 71, 72, 79, 80, 87, 88, 92, 96, 100, 104, 108, 112, 116] \n",
        "for col in cat_cols :\n",
        "  cat_data_train.append(pd.DataFrame(imp.fit_transform(data_train.iloc[:,[col-1]])))\n",
        "  cat_data_test.append(pd.DataFrame(imp.transform(data_test.iloc[:,[col-1]])))\n",
        "cols = all_data.columns\n",
        "num_cols = list(set (cols) - set (cat_cols) - {119})\n",
        "imp = SimpleImputer(missing_values=np.NaN, strategy=\"mean\")\n",
        "for col in num_cols :\n",
        "  num_data_train.append(pd.DataFrame(imp.fit_transform(data_train.iloc[:,[col-1]])))\n",
        "  num_data_test.append(pd.DataFrame(imp.transform(data_test.iloc[:,[col-1]])))\n",
        "\n",
        "j1 , j2 = 0, 0\n",
        "\n",
        "idata_train = pd.DataFrame()\n",
        "idata_test = pd.DataFrame()\n",
        "for col in range(1,119) :\n",
        "  if j2 < 29 and cat_cols[j2] == col :\n",
        "    idata_train = pd.concat([idata_train,cat_data_train[j2]],join=\"outer\",axis=1)\n",
        "    idata_test = pd.concat([idata_test, cat_data_test[j2]],join=\"outer\",axis=1)\n",
        "    j2 = j2 + 1\n",
        "  else :\n",
        "    idata_train = pd.concat([idata_train,num_data_train[j1]],join=\"outer\",axis=1)\n",
        "    idata_test = pd.concat([idata_test,num_data_test[j1]],join=\"outer\",axis=1)    \n",
        "    j1 = j1 + 1\n",
        "\n",
        "temp = pd.concat([idata_train,idata_test], join=\"outer\", axis=0)\n",
        "dummy_data = pd.get_dummies(temp, [i-1 for i in cat_cols])\n",
        "np_dummy_data = dummy_data.apply(pd.to_numeric).values\n",
        "\n",
        "np_data_train = np_dummy_data[:24125,:] #οι γραμμές δεν αλλάζουν θέση οπότε αφού σειριακά\n",
        "np_data_test = np_dummy_data[24125:,:]  #ενώσαμε τα train, test σειριακά θα τα χωρίσουμε\n",
        "\n",
        "mapping = {-1 : 0, +1 : 1}\n",
        "\n",
        "labels_train[119] = labels_train[119].map(mapping)\n",
        "labels_test[119] = labels_test[119].map(mapping)\n",
        "\n",
        "np_labels_train = labels_train[119].values.flatten()\n",
        "np_labels_test = labels_test[119].values.flatten()"
      ],
      "execution_count": null,
      "outputs": [
        {
          "output_type": "stream",
          "text": [
            "/usr/local/lib/python3.6/dist-packages/IPython/core/interactiveshell.py:2718: DtypeWarning: Columns (57,58,59,60,61,62,65,66,67,68,69,70,101,102,103,105,106,107,117) have mixed types.Specify dtype option on import or set low_memory=False.\n",
            "  interactivity=interactivity, compiler=compiler, result=result)\n"
          ],
          "name": "stderr"
        }
      ]
    },
    {
      "cell_type": "code",
      "metadata": {
        "colab": {
          "base_uri": "https://localhost:8080/"
        },
        "id": "Bb8_jarkND1s",
        "outputId": "02efe4d5-cf43-4d13-ba1b-e2274ea40b42"
      },
      "source": [
        "# ΑΠΟΤΕΛΕΣΜΑΤΑ ΧΩΡΙΣ PREPROCESSING\n",
        "from sklearn.naive_bayes import GaussianNB\n",
        "from sklearn.metrics import confusion_matrix, f1_score, classification_report\n",
        "from sklearn.metrics import precision_recall_fscore_support\n",
        "gnb = GaussianNB()\n",
        "gnb_model = gnb.fit(np_data_train, np_labels_train)\n",
        "gnb_pred = gnb_model.predict(np_data_test)\n",
        "gnb_conf_matrix = confusion_matrix(np_labels_test, gnb_pred)\n",
        "print(\"Confusion Maxtrix : \\n\", gnb_conf_matrix)\n",
        "print(\"f1-micro average : \", f1_score(np_labels_test, gnb_pred, average = 'micro'))\n",
        "print(\"f1-macro average : \", f1_score(np_labels_test, gnb_pred, average = 'macro'))\n",
        "#print(precision_recall_fscore_support(np_labels_test, gnb_pred, average='micro'), \"\\n\")\n",
        "#print(precision_recall_fscore_support(np_labels_test, gnb_pred, average='macro'), \"\\n\")\n",
        "#print(classification_report(np_labels_test, gnb_pred))"
      ],
      "execution_count": null,
      "outputs": [
        {
          "output_type": "stream",
          "text": [
            "Confusion Maxtrix : \n",
            " [[1623 1330]\n",
            " [ 490 6897]]\n",
            "f1-micro average :  0.8239845261121855\n",
            "f1-macro average :  0.7620900716157076\n"
          ],
          "name": "stdout"
        }
      ]
    },
    {
      "cell_type": "code",
      "metadata": {
        "colab": {
          "base_uri": "https://localhost:8080/"
        },
        "id": "bLxyzgFcRrKa",
        "outputId": "f2d24247-d3c3-4759-e000-d955514cbd1d"
      },
      "source": [
        "from imblearn.pipeline import Pipeline\n",
        "\n",
        "from sklearn.feature_selection import VarianceThreshold\n",
        "from sklearn.preprocessing import StandardScaler, MinMaxScaler\n",
        "from sklearn.decomposition import PCA\n",
        "from imblearn.over_sampling import RandomOverSampler\n",
        "\n",
        "selector = VarianceThreshold()\n",
        "scaler = StandardScaler()\n",
        "ros = RandomOverSampler()\n",
        "pca = PCA()\n",
        "gnb = GaussianNB()\n",
        "pipe = Pipeline(steps=[('selector', selector), ('scaler', scaler), ('sampler', ros), ('pca', pca), ('gnb', gnb)])\n",
        "pipe.fit(np_data_train, np_labels_train)\n",
        "preds = pipe.predict(np_data_test)\n",
        "print(\"Confusion Matrix : \\n\", confusion_matrix(np_labels_test, preds))\n",
        "print(\"f1-micro average : \", f1_score(np_labels_test, preds, average = 'micro'))\n",
        "print(\"f1-macro average : \", f1_score(np_labels_test, preds, average = 'macro'))\n",
        "#print(precision_recall_fscore_support(np_labels_test, gnb_pred, average='micro'), \"\\n\")\n",
        "#print(precision_recall_fscore_support(np_labels_test, gnb_pred, average='macro'), \"\\n\")\n",
        "#print(classification_report(np_labels_test, preds))"
      ],
      "execution_count": null,
      "outputs": [
        {
          "output_type": "stream",
          "text": [
            "/usr/local/lib/python3.6/dist-packages/sklearn/utils/deprecation.py:87: FutureWarning: Function safe_indexing is deprecated; safe_indexing is deprecated in version 0.22 and will be removed in version 0.24.\n",
            "  warnings.warn(msg, category=FutureWarning)\n"
          ],
          "name": "stderr"
        },
        {
          "output_type": "stream",
          "text": [
            "Confusion Matrix : \n",
            " [[2848  105]\n",
            " [4563 2824]]\n",
            "f1-micro average :  0.5485493230174081\n",
            "f1-macro average :  0.548546890846697\n"
          ],
          "name": "stdout"
        }
      ]
    },
    {
      "cell_type": "code",
      "metadata": {
        "colab": {
          "base_uri": "https://localhost:8080/"
        },
        "id": "IeX2Wd6KUqmv",
        "outputId": "b16daf97-bbd3-45f9-fb81-1fed93364a20"
      },
      "source": [
        "train_var = np_data_train.var(axis=0)\n",
        "print(train_var)\n",
        "print(np.max(train_var))"
      ],
      "execution_count": null,
      "outputs": [
        {
          "output_type": "stream",
          "text": [
            "[1.80123600e-01 1.44419926e-01 9.34821310e-02 1.36728339e-01\n",
            " 1.05745261e-01 1.39032133e-01 4.19849028e-02 4.46005306e-02\n",
            " 2.22427293e-02 3.28160715e-02 2.65083425e-02 3.32149393e-02\n",
            " 4.47838900e-02 4.48844645e-02 1.69998247e-02 2.86309162e-02\n",
            " 1.75026744e-02 2.90851613e-02 4.83444930e-02 4.56985137e-02\n",
            " 2.85531278e-02 4.25544624e-02 3.19108669e-02 4.77958971e-02\n",
            " 3.64871044e-03 5.92590814e-03 3.20201298e-03 4.48756099e-03\n",
            " 5.24804965e-03 7.20819455e-03 3.27358583e-02 3.27358583e-02\n",
            " 1.15632364e-02 1.89432223e-02 1.17686274e-02 1.89570422e-02\n",
            " 4.34623677e-02 4.40418090e-02 2.65511673e-02 3.67398451e-02\n",
            " 2.69947943e-02 3.69069647e-02 6.47477778e-02 6.46881993e-02\n",
            " 3.72426181e-02 5.53633316e-02 5.08391356e-02 6.61397276e-02\n",
            " 4.11988408e-02 7.80187987e-02 4.09275335e-02 5.41895795e-02\n",
            " 5.40109670e-02 7.31678155e-02 6.66104568e-02 6.72537367e-02\n",
            " 1.82151833e-02 3.77527638e-02 1.68391526e-02 3.77088705e-02\n",
            " 2.48640276e-04 2.48640276e-04 2.48640276e-04 2.48640276e-04\n",
            " 2.48640276e-04 2.48640276e-04 9.22236272e-02 2.65724923e-02\n",
            " 4.96034918e-02 6.27811258e-03 2.01768381e-03 3.79066485e-03\n",
            " 9.60441087e-02 3.20070150e-02 6.43770519e-02 4.83574004e-03\n",
            " 6.87694318e-02 1.38619751e-01 3.18060162e-03 5.47687251e-02\n",
            " 1.19582996e-01 5.03138895e-03 1.91011270e-02 2.98918974e-02\n",
            " 4.40107392e-03 1.52768256e-02 2.44098784e-02 7.55454926e-03\n",
            " 7.29322759e-03 2.49838592e-01 2.49838592e-01 1.88875764e-01\n",
            " 1.88875764e-01 2.28705176e-01 4.87942983e-02 2.11045922e-01\n",
            " 2.28705176e-01 7.34258638e-02 1.99050388e-01 1.98600297e-01\n",
            " 5.59802909e-02 1.68067612e-01 1.98600297e-01 5.84554478e-02\n",
            " 1.66446054e-01 2.07123109e-01 1.31535634e-01 1.18317504e-01\n",
            " 2.07123109e-01 1.54727021e-01 9.12741372e-02 5.90355285e-02\n",
            " 2.60994127e-02 3.48770637e-02 5.90355285e-02 3.16738060e-02\n",
            " 2.93434562e-02 1.37451918e-01 4.30645758e-02 1.05158627e-01\n",
            " 1.37451918e-01 4.30645758e-02 1.05158627e-01 1.53024242e-02\n",
            " 4.41943908e-02 5.80561321e-02 1.53024242e-02 4.58083990e-02\n",
            " 5.96147294e-02 1.57264850e-03 2.17838317e-01 2.17270878e-01\n",
            " 1.57264850e-03 8.39247469e-02 8.26384618e-02 3.31496255e-04\n",
            " 2.02199994e-01 2.02344884e-01 3.31496255e-04 2.44110034e-01\n",
            " 2.44160823e-01 1.13735737e-01 7.12243868e-02 1.64760206e-01\n",
            " 1.13735737e-01 7.45388511e-02 1.67044062e-01 3.77894047e-02\n",
            " 2.48642809e-04 3.80184810e-02 3.77894047e-02 2.48642809e-04\n",
            " 3.80184810e-02 2.43409589e-01 1.22909597e-01 1.99517128e-01\n",
            " 2.49603711e-02 1.17548494e-02 1.35319632e-02 2.54713334e-02\n",
            " 2.49365900e-01 2.49999051e-01 2.48642809e-04 2.47544361e-01\n",
            " 2.47519650e-01 2.48642809e-04 2.47523777e-01 2.47498964e-01\n",
            " 2.47532021e-01 2.39504900e-01 4.99825000e-02 2.47532021e-01\n",
            " 2.40843592e-01 4.38934092e-02]\n",
            "0.2499990511423126\n"
          ],
          "name": "stdout"
        }
      ]
    },
    {
      "cell_type": "code",
      "metadata": {
        "id": "h0xcneWFUrse"
      },
      "source": [
        "#ΑΠΟΤΕΛΕΣΜΑΤΑ ΒΕΛΤΙΣΤΟΥ PIPE\n",
        "from sklearn.model_selection import GridSearchCV\n",
        "\n",
        "vthreshold = [0, 0.03, 0.05, 0.06, 0.08, 1e-1]\n",
        "n_components = [1,5,8,10,15,20]\n",
        "pipe = Pipeline(steps=[('selector', selector), ('scaler', scaler), ('sampler', ros), ('pca', pca), ('gnb', gnb)], memory = 'tmp')\n",
        "estimator = GridSearchCV(pipe, dict(selector__threshold=vthreshold, pca__n_components=n_components), cv=5, scoring='f1_macro',n_jobs=-1)"
      ],
      "execution_count": null,
      "outputs": []
    },
    {
      "cell_type": "code",
      "metadata": {
        "colab": {
          "background_save": true,
          "base_uri": "https://localhost:8080/"
        },
        "id": "QYkzPT0zU6_y",
        "outputId": "be514ebb-5291-420b-b52d-a10aa26b8777"
      },
      "source": [
        "import time\n",
        "start_time = time.time()\n",
        "estimator.fit(np_data_train, np_labels_train)\n",
        "preds = estimator.predict(np_data_test)\n",
        "print(\"Συνολικός χρόνος fit και predict: %s seconds\" % (time.time()-start_time))\n",
        "print(\"Confusion Matrix : \\n\", confusion_matrix(np_labels_test, preds))\n",
        "print(\"f1-micro average : \", f1_score(np_labels_test, preds, average = 'micro'))\n",
        "print(\"f1-macro average : \", f1_score(np_labels_test, preds, average = 'macro'))\n",
        "#print(precision_recall_fscore_support(np_labels_test, gnb_pred, average='micro'), \"\\n\")\n",
        "#print(precision_recall_fscore_support(np_labels_test, gnb_pred, average='macro'), \"\\n\")\n",
        "#print(classification_report(np_labels_test, preds))"
      ],
      "execution_count": null,
      "outputs": [
        {
          "output_type": "stream",
          "text": [
            "/usr/local/lib/python3.6/dist-packages/sklearn/utils/deprecation.py:87: FutureWarning: Function safe_indexing is deprecated; safe_indexing is deprecated in version 0.22 and will be removed in version 0.24.\n",
            "  warnings.warn(msg, category=FutureWarning)\n"
          ],
          "name": "stderr"
        },
        {
          "output_type": "stream",
          "text": [
            "Συνολικός χρόνος fit και predict: 76.33813691139221 seconds\n",
            "Confusion Matrix : \n",
            " [[2735  218]\n",
            " [ 813 6574]]\n",
            "f1-micro average :  0.9002901353965184\n",
            "f1-macro average :  0.8843479233188329\n"
          ],
          "name": "stdout"
        }
      ]
    },
    {
      "cell_type": "code",
      "metadata": {
        "colab": {
          "base_uri": "https://localhost:8080/"
        },
        "id": "KR-rZ3XEW9K8",
        "outputId": "a6df050b-d266-402a-8556-c42e6d0a583e"
      },
      "source": [
        "print(estimator.best_estimator_)\n",
        "print(estimator.best_params_)"
      ],
      "execution_count": null,
      "outputs": [
        {
          "output_type": "stream",
          "text": [
            "Pipeline(memory='tmp',\n",
            "         steps=[('selector', VarianceThreshold(threshold=0.06)),\n",
            "                ('scaler',\n",
            "                 StandardScaler(copy=True, with_mean=True, with_std=True)),\n",
            "                ('sampler',\n",
            "                 RandomOverSampler(random_state=None, ratio=None,\n",
            "                                   return_indices=False,\n",
            "                                   sampling_strategy='auto')),\n",
            "                ('pca',\n",
            "                 PCA(copy=True, iterated_power='auto', n_components=20,\n",
            "                     random_state=None, svd_solver='auto', tol=0.0,\n",
            "                     whiten=False)),\n",
            "                ('gnb', GaussianNB(priors=None, var_smoothing=1e-09))],\n",
            "         verbose=False)\n",
            "{'pca__n_components': 20, 'selector__threshold': 0.06}\n"
          ],
          "name": "stdout"
        }
      ]
    },
    {
      "cell_type": "code",
      "metadata": {
        "colab": {
          "base_uri": "https://localhost:8080/"
        },
        "id": "HTUlzZdTW9mt",
        "outputId": "548a16c9-d221-453c-c5c3-85d6e1a5d46f"
      },
      "source": [
        "#ΑΠΟΤΕΛΕΣΜΑΤΑ PIPE ΧΩΡΙΣ SCALER\n",
        "pipe = Pipeline(steps=[('selector', selector), ('sampler', ros), ('pca', pca), ('gnb', gnb)], memory = 'tmp')\n",
        "estimator = GridSearchCV(pipe, dict(selector__threshold=vthreshold, pca__n_components=n_components), cv=10, scoring='f1_macro',n_jobs=-1)\n",
        "estimator.fit(np_data_train, np_labels_train)\n",
        "preds = estimator.predict(np_data_test)\n",
        "print(\"Confusion Matrix : \\n\", confusion_matrix(np_labels_test, preds))\n",
        "print(\"f1-micro average : \", f1_score(np_labels_test, preds, average = 'micro'))\n",
        "print(\"f1-macro average : \", f1_score(np_labels_test, preds, average = 'macro'))\n",
        "#print(precision_recall_fscore_support(np_labels_test, gnb_pred, average='micro'), \"\\n\")\n",
        "#print(precision_recall_fscore_support(np_labels_test, gnb_pred, average='macro'), \"\\n\")\n",
        "#print(classification_report(np_labels_test, preds))\n",
        "print(estimator.best_estimator_)\n",
        "print(estimator.best_params_)"
      ],
      "execution_count": null,
      "outputs": [
        {
          "output_type": "stream",
          "text": [
            "Confusion Matrix : \n",
            " [[2727  226]\n",
            " [ 719 6668]]\n",
            "f1-micro average :  0.9086073500967118\n",
            "f1-macro average :  0.8930744191996862\n",
            "Pipeline(memory='tmp',\n",
            "         steps=[('selector', VarianceThreshold(threshold=0.03)),\n",
            "                ('sampler',\n",
            "                 RandomOverSampler(random_state=None, ratio=None,\n",
            "                                   return_indices=False,\n",
            "                                   sampling_strategy='auto')),\n",
            "                ('pca',\n",
            "                 PCA(copy=True, iterated_power='auto', n_components=15,\n",
            "                     random_state=None, svd_solver='auto', tol=0.0,\n",
            "                     whiten=False)),\n",
            "                ('gnb', GaussianNB(priors=None, var_smoothing=1e-09))],\n",
            "         verbose=False)\n",
            "{'pca__n_components': 15, 'selector__threshold': 0.03}\n"
          ],
          "name": "stdout"
        }
      ]
    },
    {
      "cell_type": "code",
      "metadata": {
        "colab": {
          "base_uri": "https://localhost:8080/"
        },
        "id": "Vc_52K2MZxmT",
        "outputId": "0cca373f-357a-4ea5-8ad2-b79cd827bfc2"
      },
      "source": [
        "# MLP CLASSIFIER\n",
        "from sklearn.neural_network import MLPClassifier\n",
        "mlp = MLPClassifier()\n",
        "mlp.fit(np_data_train, np_labels_train)\n",
        "mlp_preds = mlp.predict(np_data_test)\n",
        "print(\"Confusion Matrix : \\n\", confusion_matrix(np_labels_test, mlp_preds))\n",
        "print(\"f1-micro average : \", f1_score(np_labels_test, mlp_preds, average = 'micro'))\n",
        "print(\"f1-macro average : \", f1_score(np_labels_test, mlp_preds, average = 'macro'))"
      ],
      "execution_count": null,
      "outputs": [
        {
          "output_type": "stream",
          "text": [
            "Confusion Matrix : \n",
            " [[2816  137]\n",
            " [ 293 7094]]\n",
            "f1-micro average :  0.9584139264990329\n",
            "f1-macro average :  0.9498252629970083\n"
          ],
          "name": "stdout"
        }
      ]
    },
    {
      "cell_type": "code",
      "metadata": {
        "id": "QGFWkYPOEOtM"
      },
      "source": [
        ""
      ],
      "execution_count": null,
      "outputs": []
    }
  ]
}