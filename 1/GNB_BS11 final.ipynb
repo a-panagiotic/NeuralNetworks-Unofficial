{ 
  "nbformat": 4,
  "nbformat_minor": 0,
  "metadata": {
    "colab": {
      "name": "GNB-BS11.ipynb",
      "provenance": [],
      "collapsed_sections": []
    },
    "kernelspec": {
      "name": "python3",
      "display_name": "Python 3"
    }
  },
  "cells": [
    {
      "cell_type": "code",
      "metadata": {
        "id": "aSFQqhggOY8t"
      },
      "source": [
        "from sklearn.naive_bayes import GaussianNB\n",
        "from sklearn.metrics import confusion_matrix, f1_score, classification_report\n",
        "from sklearn.metrics import precision_recall_fscore_support\n",
        "from sklearn.model_selection import cross_val_score\n",
        "from imblearn.pipeline import Pipeline\n",
        "from sklearn.feature_selection import VarianceThreshold\n",
        "from sklearn.preprocessing import StandardScaler, MinMaxScaler\n",
        "from sklearn.decomposition import PCA\n",
        "from imblearn.over_sampling import RandomOverSampler\n",
        "from sklearn.model_selection import GridSearchCV\n",
        "import time"
      ],
      "execution_count": 9,
      "outputs": []
    },
    {
      "cell_type": "code",
      "metadata": {
        "id": "bRwkTI5NOtDO"
      },
      "source": [
        "import warnings\n",
        "warnings.filterwarnings('ignore')\n",
        "\n",
        "from sklearn.impute import SimpleImputer\n",
        "from sklearn.model_selection import train_test_split\n",
        "import pandas as pd\n",
        "import numpy as np\n",
        "all_data = pd.read_csv(\"Nomao.data\", header = None)\n",
        "all_data.replace('?', np.NaN, inplace=True)\n",
        "\n",
        "all_data = all_data.drop(0, axis=1)\n",
        "\n",
        "data_train, data_test, labels_train, labels_test = train_test_split(all_data.iloc[:,:118], all_data.iloc[:,[118]], test_size=0.3, random_state = 42, stratify=all_data.iloc[:,-1])\n",
        "\n",
        "imp = SimpleImputer(missing_values=np.NaN, strategy=\"most_frequent\")\n",
        "cat_data_train = list ()\n",
        "num_data_train = list ()\n",
        "cat_data_test = list ()\n",
        "num_data_test = list ()\n",
        "cat_cols = [7, 8, 15, 16, 23, 24, 31, 32, 39, 40, 47, 48, 55, 56, 63, 64, 71, 72, 79, 80, 87, 88, 92, 96, 100, 104, 108, 112, 116] \n",
        "for col in cat_cols :\n",
        "  cat_data_train.append(pd.DataFrame(imp.fit_transform(data_train.iloc[:,[col-1]])))\n",
        "  cat_data_test.append(pd.DataFrame(imp.transform(data_test.iloc[:,[col-1]])))\n",
        "cols = all_data.columns\n",
        "num_cols = list(set (cols) - set (cat_cols) - {119})\n",
        "imp = SimpleImputer(missing_values=np.NaN, strategy=\"mean\")\n",
        "for col in num_cols :\n",
        "  num_data_train.append(pd.DataFrame(imp.fit_transform(data_train.iloc[:,[col-1]])))\n",
        "  num_data_test.append(pd.DataFrame(imp.transform(data_test.iloc[:,[col-1]])))\n",
        "\n",
        "j1 , j2 = 0, 0\n",
        "\n",
        "idata_train = pd.DataFrame()\n",
        "idata_test = pd.DataFrame()\n",
        "for col in range(1,119) :\n",
        "  if j2 < 29 and cat_cols[j2] == col :\n",
        "    idata_train = pd.concat([idata_train,cat_data_train[j2]],join=\"outer\",axis=1)\n",
        "    idata_test = pd.concat([idata_test, cat_data_test[j2]],join=\"outer\",axis=1)\n",
        "    j2 = j2 + 1\n",
        "  else :\n",
        "    idata_train = pd.concat([idata_train,num_data_train[j1]],join=\"outer\",axis=1)\n",
        "    idata_test = pd.concat([idata_test,num_data_test[j1]],join=\"outer\",axis=1)    \n",
        "    j1 = j1 + 1\n",
        "\n",
        "temp = pd.concat([idata_train,idata_test], join=\"outer\", axis=0)\n",
        "dummy_data = pd.get_dummies(temp, [i-1 for i in cat_cols])\n",
        "np_dummy_data = dummy_data.apply(pd.to_numeric).values\n",
        "\n",
        "np_data_train = np_dummy_data[:24125,:] #οι γραμμές δεν αλλάζουν θέση οπότε αφού σειριακά\n",
        "np_data_test = np_dummy_data[24125:,:]  #ενώσαμε τα train, test σειριακά θα τα χωρίσουμε\n",
        "\n",
        "mapping = {-1 : 0, +1 : 1}\n",
        "\n",
        "labels_train[119] = labels_train[119].map(mapping)\n",
        "labels_test[119] = labels_test[119].map(mapping)\n",
        "\n",
        "np_labels_train = labels_train[119].values.flatten()\n",
        "np_labels_test = labels_test[119].values.flatten()\n",
        "\n",
        "X_train = np_data_train\n",
        "y_train = np_labels_train\n",
        "X_test = np_data_test\n",
        "y_test = np_labels_test"
      ],
      "execution_count": 10,
      "outputs": []
    },
    {
      "cell_type": "code",
      "metadata": {
        "colab": {
          "base_uri": "https://localhost:8080/"
        },
        "id": "ynRBJQ1iJj6_",
        "outputId": "41a77f66-63d2-4e89-e682-e63dff52c777"
      },
      "source": [
        "from sklearn.naive_bayes import GaussianNB\n",
        "\n",
        "gnb = GaussianNB()\n",
        "gnb_model = gnb.fit(X_train, y_train)\n",
        "pred_gnb = gnb_model.predict(X_test)\n",
        "\n",
        "f1_micro_score_gnb = cross_val_score(gnb, X_train, y_train, cv = 5, scoring ='f1_micro')\n",
        "f1_macro_score_gnb = cross_val_score(gnb, X_train, y_train, cv = 5, scoring = \"f1_macro\")\n",
        "\n",
        "print(\"The GaussianNB Classifier has f1_micro score on training set : %f \\n\" % (f1_micro_score_gnb.mean()))\n",
        "print(\"The GaussianNB Classifier has f1_macro score on training set : %f \\n\" % (f1_macro_score_gnb.mean()))\n",
        "print(\"The GaussianNB Classifier has scores on test set : \\n\" + classification_report(y_test,pred_gnb))"
      ],
      "execution_count": 11,
      "outputs": [
        {
          "output_type": "stream",
          "text": [
            "The GaussianNB Classifier has f1_micro score on training set : 0.828560 \n",
            "\n",
            "The GaussianNB Classifier has f1_macro score on training set : 0.769438 \n",
            "\n",
            "The GaussianNB Classifier has scores on test set : \n",
            "              precision    recall  f1-score   support\n",
            "\n",
            "           0       0.77      0.55      0.64      2953\n",
            "           1       0.84      0.93      0.88      7387\n",
            "\n",
            "    accuracy                           0.82     10340\n",
            "   macro avg       0.80      0.74      0.76     10340\n",
            "weighted avg       0.82      0.82      0.81     10340\n",
            "\n"
          ],
          "name": "stdout"
        }
      ]
    },
    {
      "cell_type": "code",
      "metadata": {
        "colab": {
          "base_uri": "https://localhost:8080/"
        },
        "id": "kCR2RFR5LgrD",
        "outputId": "bad0e57c-852c-4add-a851-6bdb794b3185"
      },
      "source": [
        "#pipe με default τιμές (αρχικοποίηση) και επιλεγμένο τον StandardScaler\n",
        "\n",
        "selector = VarianceThreshold()\n",
        "scaler = StandardScaler()\n",
        "ros = RandomOverSampler()\n",
        "pca = PCA()\n",
        "gnb = GaussianNB()\n",
        "pipe_gnb = Pipeline(steps=[('selector', selector), ('scaler', scaler), ('sampler', ros), ('pca', pca), ('gnb', gnb)])\n",
        "pipe_gnb.fit(X_train, y_train)\n",
        "pred_pipe_gnb = pipe_gnb.predict(X_test)\n",
        "f1_micro_score_pipe_gnb = cross_val_score(pipe_gnb, X_train, y_train, cv = 5, scoring = 'f1_micro')\n",
        "f1_macro_score_pipe_gnb = cross_val_score(pipe_gnb, X_train, y_train, cv = 5, scoring = 'f1_macro')\n",
        "\n",
        "print(\"The GaussianNB Classifier with default preprocessing has f1_micro score on training set : %f \\n\" % (f1_micro_score_pipe_gnb.mean()))\n",
        "print(\"The GaussianNB Classifier with default preprocessing has f1_macro score on training set : %f \\n\" % (f1_macro_score_pipe_gnb.mean()))\n",
        "print(\"The GaussianNB Classifier with default preprocessing parameters has scores on test set: \\n\" + classification_report(y_test,pred_pipe_gnb))"
      ],
      "execution_count": 12,
      "outputs": [
        {
          "output_type": "stream",
          "text": [
            "The GaussianNB Classifier with default preprocessing has f1_micro score on training set : 0.651772 \n",
            "\n",
            "The GaussianNB Classifier with default preprocessing has f1_macro score on training set : 0.623323 \n",
            "\n",
            "The GaussianNB Classifier with default preprocessing parameters has scores on test set: \n",
            "              precision    recall  f1-score   support\n",
            "\n",
            "           0       0.51      0.94      0.66      2953\n",
            "           1       0.96      0.63      0.76      7387\n",
            "\n",
            "    accuracy                           0.72     10340\n",
            "   macro avg       0.74      0.79      0.71     10340\n",
            "weighted avg       0.83      0.72      0.73     10340\n",
            "\n"
          ],
          "name": "stdout"
        }
      ]
    },
    {
      "cell_type": "code",
      "metadata": {
        "colab": {
          "base_uri": "https://localhost:8080/"
        },
        "id": "o9OrRAUZNirJ",
        "outputId": "d226ad7d-882d-4b55-e3f4-bedb65d69dc2"
      },
      "source": [
        "#pipe με default τιμές (αρχικοποίηση) και επιλεγμένο τον MinMaxScaler\n",
        "\n",
        "selector = VarianceThreshold()\n",
        "mscaler = StandardScaler()\n",
        "ros = RandomOverSampler()\n",
        "pca = PCA()\n",
        "gnb = GaussianNB()\n",
        "mpipe_gnb = Pipeline(steps=[('scaler', mscaler), ('selector', selector), ('sampler', ros), ('pca', pca), ('gnb', gnb)])\n",
        "mpipe_gnb.fit(X_train, y_train)\n",
        "mpred_pipe_gnb = mpipe_gnb.predict(X_test)\n",
        "mf1_micro_score_pipe_gnb = cross_val_score(mpipe_gnb, X_train, y_train, cv = 5, scoring = 'f1_micro')\n",
        "mf1_macro_score_pipe_gnb = cross_val_score(mpipe_gnb, X_train, y_train, cv = 5, scoring = 'f1_macro')\n",
        "\n",
        "print(\"The GaussianNB Classifier with default preprocessing (using MinMax Scaler) has f1_micro score on training set : %f \\n\" % (mf1_micro_score_pipe_gnb.mean()))\n",
        "print(\"The GaussianNB Classifier with default preprocessing (using MinMax Scaler) has f1_macro score on training set : %f \\n\" % (mf1_macro_score_pipe_gnb.mean()))\n",
        "print(\"The GaussianNB Classifier with default preprocessing parameters (using MinMax Scaler) has scores on test set: \\n\" + classification_report(y_test,mpred_pipe_gnb))"
      ],
      "execution_count": 13,
      "outputs": [
        {
          "output_type": "stream",
          "text": [
            "The GaussianNB Classifier with default preprocessing (using MinMax Scaler) has f1_micro score on training set : 0.681741 \n",
            "\n",
            "The GaussianNB Classifier with default preprocessing (using MinMax Scaler) has f1_macro score on training set : 0.626196 \n",
            "\n",
            "The GaussianNB Classifier with default preprocessing parameters (using MinMax Scaler) has scores on test set: \n",
            "              precision    recall  f1-score   support\n",
            "\n",
            "           0       0.44      0.95      0.60      2953\n",
            "           1       0.96      0.51      0.67      7387\n",
            "\n",
            "    accuracy                           0.64     10340\n",
            "   macro avg       0.70      0.73      0.64     10340\n",
            "weighted avg       0.81      0.64      0.65     10340\n",
            "\n"
          ],
          "name": "stdout"
        }
      ]
    },
    {
      "cell_type": "code",
      "metadata": {
        "colab": {
          "base_uri": "https://localhost:8080/"
        },
        "id": "lrlONoalOQoV",
        "outputId": "e5d1325f-9871-4fa4-eb87-070db5c77fce"
      },
      "source": [
        "#Grid Search Cross Validation με επιλεγμένο τον StandardScaler\n",
        "vthreshold = [0.08, 0.088, 0.09, 0.095, 1e-1]\n",
        "n_components = [1, 18, 20, 23, 25]\n",
        "\n",
        "estimator = GridSearchCV(pipe_gnb, dict(selector__threshold=vthreshold, pca__n_components=n_components), cv=5, scoring='f1_micro',n_jobs=-1)\n",
        "start_time = time.time()\n",
        "estimator.fit(X_train, y_train)\n",
        "estimator_pred = estimator.predict(X_test)\n",
        "estimator_time = time.time() - start_time\n",
        "\n",
        "print(\"The GaussianNB Classifier has f1_micro score on training set : %f \\n\" % (estimator.best_score_))\n",
        "print(\"The GaussianNB Classifier optimized by f1_micro : \\n\" + classification_report(y_test,estimator_pred))\n",
        "print(\"with best parameters\")\n",
        "print(estimator.best_params_)\n",
        "\n",
        "#pipe_gnb = estimator.best_estimator_\n",
        "#pred_pipe_gnb = estimator_pred\n",
        "#time_pipe_gnb = estimator_time\n",
        "\n",
        "print(\"\\n\")\n",
        "\n",
        "estimator = GridSearchCV(pipe_gnb, dict(selector__threshold=vthreshold, pca__n_components=n_components), cv=5, scoring='f1_macro',n_jobs=-1)\n",
        "start_time = time.time()\n",
        "estimator.fit(X_train, y_train)\n",
        "estimator_pred = estimator.predict(X_test)\n",
        "estimator_time = time.time() - start_time\n",
        "\n",
        "print(\"The GaussianNB Classifier has f1_macro score on training set : %f \\n\" % (estimator.best_score_))\n",
        "print(\"The GaussianNB Classifier optimized by f1_macro : \\n\" + classification_report(y_test,estimator_pred))\n",
        "print(\"with best parameters\")\n",
        "print(estimator.best_params_)\n",
        "\n",
        "print(\"\\n\")"
      ],
      "execution_count": 14,
      "outputs": [
        {
          "output_type": "stream",
          "text": [
            "The GaussianNB Classifier has f1_micro score on training set : 0.908104 \n",
            "\n",
            "The GaussianNB Classifier optimized by f1_micro : \n",
            "              precision    recall  f1-score   support\n",
            "\n",
            "           0       0.79      0.91      0.85      2953\n",
            "           1       0.96      0.90      0.93      7387\n",
            "\n",
            "    accuracy                           0.91     10340\n",
            "   macro avg       0.88      0.91      0.89     10340\n",
            "weighted avg       0.91      0.91      0.91     10340\n",
            "\n",
            "with best parameters\n",
            "{'pca__n_components': 18, 'selector__threshold': 0.09}\n",
            "\n",
            "\n",
            "The GaussianNB Classifier has f1_macro score on training set : 0.892444 \n",
            "\n",
            "The GaussianNB Classifier optimized by f1_macro : \n",
            "              precision    recall  f1-score   support\n",
            "\n",
            "           0       0.80      0.91      0.85      2953\n",
            "           1       0.96      0.91      0.93      7387\n",
            "\n",
            "    accuracy                           0.91     10340\n",
            "   macro avg       0.88      0.91      0.89     10340\n",
            "weighted avg       0.92      0.91      0.91     10340\n",
            "\n",
            "with best parameters\n",
            "{'pca__n_components': 18, 'selector__threshold': 0.09}\n",
            "\n",
            "\n"
          ],
          "name": "stdout"
        }
      ]
    },
    {
      "cell_type": "code",
      "metadata": {
        "colab": {
          "base_uri": "https://localhost:8080/"
        },
        "id": "uNN2jhjURC1Y",
        "outputId": "a49a8557-7207-4db4-c7c8-b88163980c4f"
      },
      "source": [
        "#Grid Search Cross Validation με επιλεγμένο τον MinMaxScaler\n",
        "vthreshold = [0.08, 0.088, 0.09, 0.095, 1e-1]\n",
        "n_components = [1, 18, 20, 23, 25]\n",
        "\n",
        "mestimator = GridSearchCV(mpipe_gnb, dict(selector__threshold=vthreshold, pca__n_components=n_components), cv=5, scoring='f1_micro',n_jobs=-1)\n",
        "start_time = time.time()\n",
        "mestimator.fit(X_train, y_train)\n",
        "mestimator_pred = mestimator.predict(X_test)\n",
        "mestimator_time = time.time() - start_time\n",
        "\n",
        "print(\"The GaussianNB Classifier (using MinMaxScaler) has f1_micro score on training set : %f \\n\" % (mestimator.best_score_))\n",
        "print(\"The GaussianNB Classifier (using MinMaxScaler) optimized by f1_micro : \\n\" + classification_report(y_test,mestimator_pred))\n",
        "print(\"with best parameters\")\n",
        "print(mestimator.best_params_)\n",
        "\n",
        "#pipe_gnb = mestimator.best_estimator_\n",
        "#pred_pipe_gnb = mestimator_pred\n",
        "#time_pipe_gnb = mestimator_time\n",
        "\n",
        "print(\"\\n\")\n",
        "\n",
        "mestimator = GridSearchCV(mpipe_gnb, dict(selector__threshold=vthreshold, pca__n_components=n_components), cv=5, scoring='f1_macro',n_jobs=-1)\n",
        "start_time = time.time()\n",
        "mestimator.fit(X_train, y_train)\n",
        "mestimator_pred = mestimator.predict(X_test)\n",
        "mestimator_time = time.time() - start_time\n",
        "\n",
        "print(\"The GaussianNB Classifier (using MinMaxScaler) has f1_macro score on training set : %f \\n\" % (mestimator.best_score_))\n",
        "print(\"The GaussianNB Classifier (using MinMaxScaler) optimized by f1_macro : \\n\" + classification_report(y_test,mestimator_pred))\n",
        "print(\"with best parameters\")\n",
        "print(mestimator.best_params_)\n",
        "\n",
        "print(\"\\n\")"
      ],
      "execution_count": 15,
      "outputs": [
        {
          "output_type": "stream",
          "text": [
            "The GaussianNB Classifier (using MinMaxScaler) has f1_micro score on training set : 0.865865 \n",
            "\n",
            "The GaussianNB Classifier (using MinMaxScaler) optimized by f1_micro : \n",
            "              precision    recall  f1-score   support\n",
            "\n",
            "           0       0.75      0.68      0.71      2953\n",
            "           1       0.88      0.91      0.89      7387\n",
            "\n",
            "    accuracy                           0.84     10340\n",
            "   macro avg       0.81      0.79      0.80     10340\n",
            "weighted avg       0.84      0.84      0.84     10340\n",
            "\n",
            "with best parameters\n",
            "{'pca__n_components': 23, 'selector__threshold': 0.1}\n",
            "\n",
            "\n",
            "The GaussianNB Classifier (using MinMaxScaler) has f1_macro score on training set : 0.835984 \n",
            "\n",
            "The GaussianNB Classifier (using MinMaxScaler) optimized by f1_macro : \n",
            "              precision    recall  f1-score   support\n",
            "\n",
            "           0       0.80      0.70      0.75      2953\n",
            "           1       0.89      0.93      0.91      7387\n",
            "\n",
            "    accuracy                           0.86     10340\n",
            "   macro avg       0.84      0.82      0.83     10340\n",
            "weighted avg       0.86      0.86      0.86     10340\n",
            "\n",
            "with best parameters\n",
            "{'pca__n_components': 25, 'selector__threshold': 0.08}\n",
            "\n",
            "\n"
          ],
          "name": "stdout"
        }
      ]
    },
    {
      "cell_type": "code",
      "metadata": {
        "colab": {
          "base_uri": "https://localhost:8080/"
        },
        "id": "4iNm5yR-Uc7W",
        "outputId": "1f0b2345-91bd-4db9-aeee-0b8256c532dc"
      },
      "source": [
        "#Grid Search Cross Validation χωρίς Scaler\n",
        "vthreshold = [0.08, 0.088, 0.09, 0.095, 1e-1]\n",
        "n_components = [1, 18, 20, 23, 25]\n",
        "\n",
        "pipe_gnb = Pipeline(steps=[('selector', selector), ('sampler', ros), ('pca', pca), ('gnb', gnb)])\n",
        "estimator = GridSearchCV(pipe_gnb, dict(selector__threshold=vthreshold, pca__n_components=n_components), cv=5, scoring='f1_micro',n_jobs=-1)\n",
        "start_time = time.time()\n",
        "estimator.fit(X_train, y_train)\n",
        "estimator_pred = estimator.predict(X_test)\n",
        "estimator_time = time.time() - start_time\n",
        "\n",
        "print(\"The GaussianNB Classifier (with no Scaler applied) has f1_micro score on training set : %f \\n\" % (estimator.best_score_))\n",
        "print(\"The GaussianNB Classifier (with no Scaler applied) optimized by f1_micro : \\n\" + classification_report(y_test,estimator_pred))\n",
        "print(\"with best parameters\")\n",
        "print(estimator.best_params_)\n",
        "\n",
        "#pipe_gnb = estimator.best_estimator_\n",
        "#pred_pipe_gnb = estimator_pred\n",
        "#time_pipe_gnb = estimator_time\n",
        "\n",
        "print(\"\\n\")\n",
        "\n",
        "pipe_gnb = Pipeline(steps=[('selector', selector), ('sampler', ros), ('pca', pca), ('gnb', gnb)])\n",
        "estimator = GridSearchCV(pipe_gnb, dict(selector__threshold=vthreshold, pca__n_components=n_components), cv=5, scoring='f1_macro',n_jobs=-1)\n",
        "start_time = time.time()\n",
        "estimator.fit(X_train, y_train)\n",
        "estimator_pred = estimator.predict(X_test)\n",
        "estimator_time = time.time() - start_time\n",
        "\n",
        "print(\"The GaussianNB Classifier (with no Scaler applied) has f1_macro score on training set : %f \\n\" % (estimator.best_score_))\n",
        "print(\"The GaussianNB Classifier (with no Scaler applied) optimized by f1_macro : \\n\" + classification_report(y_test,estimator_pred))\n",
        "print(\"with best parameters\")\n",
        "print(estimator.best_params_)\n",
        "\n",
        "print(\"\\n\")"
      ],
      "execution_count": 16,
      "outputs": [
        {
          "output_type": "stream",
          "text": [
            "The GaussianNB Classifier (with no Scaler applied) has f1_micro score on training set : 0.914363 \n",
            "\n",
            "The GaussianNB Classifier (with no Scaler applied) optimized by f1_micro : \n",
            "              precision    recall  f1-score   support\n",
            "\n",
            "           0       0.81      0.91      0.86      2953\n",
            "           1       0.96      0.92      0.94      7387\n",
            "\n",
            "    accuracy                           0.91     10340\n",
            "   macro avg       0.89      0.91      0.90     10340\n",
            "weighted avg       0.92      0.91      0.92     10340\n",
            "\n",
            "with best parameters\n",
            "{'pca__n_components': 18, 'selector__threshold': 0.088}\n",
            "\n",
            "\n",
            "The GaussianNB Classifier (with no Scaler applied) has f1_macro score on training set : 0.897679 \n",
            "\n",
            "The GaussianNB Classifier (with no Scaler applied) optimized by f1_macro : \n",
            "              precision    recall  f1-score   support\n",
            "\n",
            "           0       0.81      0.91      0.86      2953\n",
            "           1       0.96      0.91      0.94      7387\n",
            "\n",
            "    accuracy                           0.91     10340\n",
            "   macro avg       0.89      0.91      0.90     10340\n",
            "weighted avg       0.92      0.91      0.91     10340\n",
            "\n",
            "with best parameters\n",
            "{'pca__n_components': 18, 'selector__threshold': 0.088}\n",
            "\n",
            "\n"
          ],
          "name": "stdout"
        }
      ]
    }
  ]
}