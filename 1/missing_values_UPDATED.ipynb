{ 
  "nbformat": 4,
  "nbformat_minor": 0,
  "metadata": {
    "colab": {
      "name": "neural-proxeiro.ipynb",
      "provenance": [],
      "collapsed_sections": []
    },
    "kernelspec": {
      "name": "python3",
      "display_name": "Python 3"
    }
  },
  "cells": [
    {
      "cell_type": "code",
      "metadata": {
        "id": "IRQaDy0sj_mR"
      },
      "source": [
        "from sklearn.impute import SimpleImputer\n",
        "from sklearn.model_selection import train_test_split\n",
        "import pandas as pd\n",
        "import numpy as np\n",
        "all_data = pd.read_csv(\"crx.data\", header = None)\n",
        "all_data.replace('?', np.NaN, inplace=True)\n",
        "\n",
        "data_train, data_test, labels_train, labels_test = train_test_split(all_data.iloc[:,:15], all_data.iloc[:,[15]], test_size=0.8, random_state=78)\n",
        "\n",
        "imp = SimpleImputer(missing_values=np.NaN, strategy=\"most_frequent\")\n",
        "cat_data_train = list ()\n",
        "num_data_train = list ()\n",
        "cat_data_test = list ()\n",
        "num_data_test = list ()\n",
        "cat_cols = [1,4,5,6,7,9,10,12,13]\n",
        "for col in cat_cols :\n",
        "  cat_data_train.append(pd.DataFrame(imp.fit_transform(data_train.iloc[:,[col-1]])))\n",
        "  cat_data_test.append(pd.DataFrame(imp.transform(data_test.iloc[:,[col-1]])))\n",
        "num_cols = [2,3,8,11,14,15]\n",
        "imp = SimpleImputer(missing_values=np.NaN, strategy=\"mean\")\n",
        "for col in num_cols :\n",
        "  num_data_train.append(pd.DataFrame(imp.fit_transform(data_train.iloc[:,[col-1]])))\n",
        "  num_data_test.append(pd.DataFrame(imp.transform(data_test.iloc[:,[col-1]])))\n",
        "\n",
        "j1 , j2 = 0, 0\n",
        "\n",
        "idata_train = pd.DataFrame()\n",
        "idata_test = pd.DataFrame()\n",
        "for col in range(1,16) :\n",
        "  if j2 < 9 and cat_cols[j2] == col :\n",
        "    idata_train = pd.concat([idata_train,cat_data_train[j2]],join=\"outer\",axis=1)\n",
        "    idata_test = pd.concat([idata_test, cat_data_test[j2]],join=\"outer\",axis=1)\n",
        "    j2 = j2 + 1\n",
        "  else :\n",
        "    idata_train = pd.concat([idata_train,num_data_train[j1]],join=\"outer\",axis=1)\n",
        "    idata_test = pd.concat([idata_test,num_data_test[j1]],join=\"outer\",axis=1)    \n",
        "    j1 = j1 + 1\n",
        "\n",
        "idata_train.columns = list(range(1,16))\n",
        "idata_test.columns = list(range(1,16))\n",
        "\n",
        "# NEW CODE HERE -- NOTE : columns must be 46 and that is what the output shows\n",
        "temp = pd.concat([idata_train,idata_test], join=\"outer\", axis=0)\n",
        "dummy_data = pd.get_dummies(temp, [0,3,4,5,6,8,9,11,12])\n",
        "np_dummy_data = dummy_data.apply(pd.to_numeric).values\n",
        "\n",
        "np_data_train = np_dummy_data[:138,:] #οι γραμμές δεν αλλάζουν θέση οπότε αφού σειριακά\n",
        "np_data_test = np_dummy_data[138:,:]  #ενώσαμε τα train, test σειριακά θα τα χωρίσουμε\n",
        "\n",
        "mapping = {'-' : 0, '+' : 1}\n",
        "labels_train[15] = labels_train[15].map(mapping)\n",
        "labels_test[15] = labels_test[15].map(mapping)\n",
        "\n",
        "np_labels_train = labels_train.values.flatten()\n",
        "np_labels_test = labels_test.values.flatten()"
      ],
      "execution_count": 39,
      "outputs": []
    },
    {
      "cell_type": "code",
      "metadata": {
        "id": "8CSwbDzYSgtJ",
        "outputId": "82392b6d-59f0-44ec-93ce-c3cd230ace8d",
        "colab": {
          "base_uri": "https://localhost:8080/"
        }
      },
      "source": [
        "print(np_data_train, np_data_train.shape)"
      ],
      "execution_count": 40,
      "outputs": [
        {
          "output_type": "stream",
          "text": [
            "[[29.5    0.46   0.54  ...  1.     0.     0.   ]\n",
            " [36.75   5.125  5.    ...  1.     0.     0.   ]\n",
            " [31.33  19.5    7.    ...  1.     0.     0.   ]\n",
            " ...\n",
            " [54.83  15.5    0.    ...  1.     0.     0.   ]\n",
            " [34.17   9.17   4.5   ...  1.     0.     0.   ]\n",
            " [21.92  11.665  0.085 ...  1.     0.     0.   ]] (138, 46)\n"
          ],
          "name": "stdout"
        }
      ]
    },
    {
      "cell_type": "code",
      "metadata": {
        "id": "3ydKDPVxSoL5",
        "outputId": "9b80f259-7de6-4bfe-f560-a0e2ee5fcb5d",
        "colab": {
          "base_uri": "https://localhost:8080/"
        }
      },
      "source": [
        "print(np_data_test, np_data_test.shape)"
      ],
      "execution_count": 41,
      "outputs": [
        {
          "output_type": "stream",
          "text": [
            "[[27.75        1.29        0.25       ...  0.          0.\n",
            "   1.        ]\n",
            " [21.08       10.085       1.25       ...  1.          0.\n",
            "   0.        ]\n",
            " [23.5         1.5         0.875      ...  1.          0.\n",
            "   0.        ]\n",
            " ...\n",
            " [32.86377778  1.5         0.         ...  1.          0.\n",
            "   0.        ]\n",
            " [25.25       13.5         2.         ...  1.          0.\n",
            "   0.        ]\n",
            " [20.25        9.96        0.         ...  1.          0.\n",
            "   0.        ]] (552, 46)\n"
          ],
          "name": "stdout"
        }
      ]
    },
    {
      "cell_type": "code",
      "metadata": {
        "id": "bNC3SWQDSsvW",
        "outputId": "53da61c2-e882-429b-9f3b-1ad9270e2eaf",
        "colab": {
          "base_uri": "https://localhost:8080/"
        }
      },
      "source": [
        "print(np_labels_train, np_labels_train.shape)"
      ],
      "execution_count": 42,
      "outputs": [
        {
          "output_type": "stream",
          "text": [
            "[1 1 1 0 0 0 1 0 0 0 0 1 1 0 1 0 1 1 0 1 1 1 0 1 0 0 1 1 1 0 0 1 1 0 1 0 1\n",
            " 1 1 0 1 0 1 1 1 0 0 1 0 0 1 0 0 0 1 0 1 1 0 1 1 1 0 0 1 1 0 0 1 1 1 1 1 0\n",
            " 1 0 0 0 1 0 0 1 0 0 0 1 1 0 0 1 0 1 0 0 0 0 0 0 1 0 1 0 0 1 0 0 1 1 1 0 0\n",
            " 1 0 0 1 0 1 1 0 0 1 1 1 0 0 1 1 0 0 0 0 0 0 0 0 0 1 0] (138,)\n"
          ],
          "name": "stdout"
        }
      ]
    },
    {
      "cell_type": "code",
      "metadata": {
        "id": "yV3ZIE1NSykG",
        "outputId": "66b66437-3326-4f9d-e298-43ad0ee9aede",
        "colab": {
          "base_uri": "https://localhost:8080/"
        }
      },
      "source": [
        "print(np_labels_test, np_labels_test.shape)"
      ],
      "execution_count": 43,
      "outputs": [
        {
          "output_type": "stream",
          "text": [
            "[0 0 0 0 0 1 0 1 0 1 0 1 0 0 1 1 1 1 1 1 0 0 0 1 1 1 0 1 1 0 0 1 0 1 1 0 0\n",
            " 0 0 1 1 0 0 1 1 0 1 0 1 0 0 0 0 1 0 1 0 0 1 1 0 1 1 0 0 1 1 1 0 0 0 1 1 1\n",
            " 0 0 0 1 0 0 0 0 0 0 0 1 1 1 0 1 1 0 0 0 1 0 1 0 0 1 0 1 1 0 0 1 1 0 0 1 1\n",
            " 1 0 0 0 0 0 0 0 0 1 1 1 0 0 0 1 0 0 1 1 1 0 0 0 1 0 0 0 0 1 1 1 0 0 0 0 0\n",
            " 1 0 1 1 0 0 1 0 0 1 0 0 0 0 0 1 0 1 0 1 0 0 0 0 1 1 0 0 0 1 1 1 0 0 1 1 0\n",
            " 1 1 0 0 0 0 0 0 1 1 0 0 0 0 1 0 0 1 1 0 0 0 1 0 1 0 1 0 1 1 1 1 0 0 0 1 0\n",
            " 0 1 0 1 0 0 0 1 0 1 0 0 0 1 0 1 0 0 0 0 0 0 1 0 0 0 0 1 0 0 1 0 0 1 1 0 1\n",
            " 0 1 0 0 0 1 1 1 0 0 0 1 1 0 0 0 1 0 1 0 1 1 0 1 0 1 0 1 0 1 0 0 0 1 0 1 1\n",
            " 1 1 0 0 1 0 1 1 0 0 0 0 0 0 1 0 1 1 1 0 1 1 0 1 0 0 0 0 0 0 1 0 1 1 0 0 1\n",
            " 1 0 0 0 1 0 1 0 1 1 1 1 1 0 1 0 1 0 0 1 1 0 1 0 0 0 0 0 1 0 0 1 0 0 0 1 1\n",
            " 0 0 0 1 0 0 0 0 0 1 1 1 0 1 0 1 0 1 0 1 0 1 0 0 0 0 0 1 1 1 1 1 0 1 1 1 0\n",
            " 0 1 0 0 1 1 1 0 1 1 0 1 0 0 1 1 1 0 0 1 0 1 0 0 1 0 0 1 0 0 1 0 1 0 1 0 1\n",
            " 0 1 0 0 0 0 0 1 0 1 1 0 0 1 1 1 1 1 1 1 0 0 1 0 1 0 0 1 0 1 0 1 0 0 1 0 1\n",
            " 0 1 0 1 0 0 0 0 0 0 1 1 0 0 0 1 1 1 0 0 1 0 1 1 1 0 0 1 0 1 1 1 0 1 0 1 1\n",
            " 1 0 1 1 1 1 0 1 1 1 0 0 1 1 1 0 1 0 0 1 0 0 0 1 1 0 0 0 0 0 1 0 0 1] (552,)\n"
          ],
          "name": "stdout"
        }
      ]
    },
    {
      "cell_type": "code",
      "metadata": {
        "id": "LYOlljIJS2ZM"
      },
      "source": [
        ""
      ],
      "execution_count": null,
      "outputs": []
    }
  ]
}