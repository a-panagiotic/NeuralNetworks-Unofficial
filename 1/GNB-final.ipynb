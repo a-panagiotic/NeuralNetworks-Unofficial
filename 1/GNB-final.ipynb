{ 
  "nbformat": 4,
  "nbformat_minor": 0,
  "metadata": {
    "colab": {
      "name": "neural-proxeiro.ipynb",
      "provenance": [],
      "collapsed_sections": []
    },
    "kernelspec": {
      "name": "python3",
      "display_name": "Python 3"
    }
  },
  "cells": [
    {
      "cell_type": "code",
      "metadata": {
        "id": "IRQaDy0sj_mR"
      },
      "source": [
        "from sklearn.impute import SimpleImputer\n",
        "from sklearn.model_selection import train_test_split\n",
        "import pandas as pd\n",
        "import numpy as np\n",
        "all_data = pd.read_csv(\"crx.data\", header = None)\n",
        "all_data.replace('?', np.NaN, inplace=True)\n",
        "\n",
        "data_train, data_test, labels_train, labels_test = train_test_split(all_data.iloc[:,:15], all_data.iloc[:,[15]], test_size=0.8, random_state=78)\n",
        "\n",
        "imp = SimpleImputer(missing_values=np.NaN, strategy=\"most_frequent\")\n",
        "cat_data_train = list ()\n",
        "num_data_train = list ()\n",
        "cat_data_test = list ()\n",
        "num_data_test = list ()\n",
        "cat_cols = [1,4,5,6,7,9,10,12,13]\n",
        "for col in cat_cols :\n",
        "  cat_data_train.append(pd.DataFrame(imp.fit_transform(data_train.iloc[:,[col-1]])))\n",
        "  cat_data_test.append(pd.DataFrame(imp.transform(data_test.iloc[:,[col-1]])))\n",
        "num_cols = [2,3,8,11,14,15]\n",
        "imp = SimpleImputer(missing_values=np.NaN, strategy=\"mean\")\n",
        "for col in num_cols :\n",
        "  num_data_train.append(pd.DataFrame(imp.fit_transform(data_train.iloc[:,[col-1]])))\n",
        "  num_data_test.append(pd.DataFrame(imp.transform(data_test.iloc[:,[col-1]])))\n",
        "\n",
        "j1 , j2 = 0, 0\n",
        "\n",
        "idata_train = pd.DataFrame()\n",
        "idata_test = pd.DataFrame()\n",
        "for col in range(1,16) :\n",
        "  if j2 < 9 and cat_cols[j2] == col :\n",
        "    idata_train = pd.concat([idata_train,cat_data_train[j2]],join=\"outer\",axis=1)\n",
        "    idata_test = pd.concat([idata_test, cat_data_test[j2]],join=\"outer\",axis=1)\n",
        "    j2 = j2 + 1\n",
        "  else :\n",
        "    idata_train = pd.concat([idata_train,num_data_train[j1]],join=\"outer\",axis=1)\n",
        "    idata_test = pd.concat([idata_test,num_data_test[j1]],join=\"outer\",axis=1)    \n",
        "    j1 = j1 + 1\n",
        "\n",
        "idata_train.columns = list(range(1,16))\n",
        "idata_test.columns = list(range(1,16))\n",
        "\n",
        "# NEW CODE HERE -- NOTE : columns must be 46 and that is what the output shows\n",
        "temp = pd.concat([idata_train,idata_test], join=\"outer\", axis=0)\n",
        "dummy_data = pd.get_dummies(temp, [0,3,4,5,6,8,9,11,12])\n",
        "np_dummy_data = dummy_data.apply(pd.to_numeric).values\n",
        "\n",
        "np_data_train = np_dummy_data[:138,:] #οι γραμμές δεν αλλάζουν θέση οπότε αφού σειριακά\n",
        "np_data_test = np_dummy_data[138:,:]  #ενώσαμε τα train, test σειριακά θα τα χωρίσουμε\n",
        "\n",
        "mapping = {'-' : 0, '+' : 1}\n",
        "labels_train[15] = labels_train[15].map(mapping)\n",
        "labels_test[15] = labels_test[15].map(mapping)\n",
        "\n",
        "np_labels_train = labels_train.values.flatten()\n",
        "np_labels_test = labels_test.values.flatten()"
      ],
      "execution_count": 3,
      "outputs": []
    },
    {
      "cell_type": "code",
      "metadata": {
        "colab": {
          "base_uri": "https://localhost:8080/"
        },
        "id": "v-L77nJb21zl",
        "outputId": "448147c3-d76f-43b7-b253-5c16b7eba071"
      },
      "source": [
        "# ΑΠΟΤΕΛΕΣΜΑΤΑ ΧΩΡΙΣ PREPROCESSING\n",
        "from sklearn.naive_bayes import GaussianNB\n",
        "from sklearn.metrics import confusion_matrix, f1_score, classification_report\n",
        "from sklearn.metrics import precision_recall_fscore_support\n",
        "gnb = GaussianNB()\n",
        "gnb_model = gnb.fit(np_data_train, np_labels_train)\n",
        "gnb_pred = gnb_model.predict(np_data_test)\n",
        "gnb_conf_matrix = confusion_matrix(np_labels_test, gnb_pred)\n",
        "print(\"Confusion Maxtrix : \\n\", gnb_conf_matrix)\n",
        "print(\"f1-micro average : \", f1_score(np_labels_test, gnb_pred, average = 'micro'))\n",
        "print(\"f1-macro average : \", f1_score(np_labels_test, gnb_pred, average = 'macro'))\n",
        "#print(precision_recall_fscore_support(np_labels_test, gnb_pred, average='micro'), \"\\n\")\n",
        "#print(precision_recall_fscore_support(np_labels_test, gnb_pred, average='macro'), \"\\n\")\n",
        "#print(classification_report(np_labels_test, gnb_pred))"
      ],
      "execution_count": 4,
      "outputs": [
        {
          "output_type": "stream",
          "text": [
            "Confusion Maxtrix : \n",
            " [[278  31]\n",
            " [ 63 180]]\n",
            "f1-micro average :  0.8297101449275363\n",
            "f1-macro average :  0.8241680786174178\n"
          ],
          "name": "stdout"
        }
      ]
    },
    {
      "cell_type": "code",
      "metadata": {
        "id": "fDGi92nE6Bhi",
        "colab": {
          "base_uri": "https://localhost:8080/"
        },
        "outputId": "1de56924-7186-4238-cf18-ae033f999ebb"
      },
      "source": [
        "from imblearn.pipeline import Pipeline\n",
        "\n",
        "from sklearn.feature_selection import VarianceThreshold\n",
        "from sklearn.preprocessing import StandardScaler, MinMaxScaler\n",
        "from sklearn.decomposition import PCA\n",
        "\n",
        "selector = VarianceThreshold()\n",
        "scaler = MinMaxScaler()\n",
        "pca = PCA()\n",
        "gnb = GaussianNB()\n",
        "pipe = Pipeline(steps=[('selector', selector), ('scaler', scaler), ('pca', pca), ('gnb', gnb)])\n",
        "pipe.fit(np_data_train, np_labels_train)\n",
        "preds = pipe.predict(np_data_test)\n",
        "print(\"Confusion Matrix : \\n\", confusion_matrix(np_labels_test, preds))\n",
        "print(\"f1-micro average : \", f1_score(np_labels_test, preds, average = 'micro'))\n",
        "print(\"f1-macro average : \", f1_score(np_labels_test, preds, average = 'macro'))\n",
        "#print(precision_recall_fscore_support(np_labels_test, gnb_pred, average='micro'), \"\\n\")\n",
        "#print(precision_recall_fscore_support(np_labels_test, gnb_pred, average='macro'), \"\\n\")\n",
        "#print(classification_report(np_labels_test, preds))"
      ],
      "execution_count": 5,
      "outputs": [
        {
          "output_type": "stream",
          "text": [
            "Confusion Matrix : \n",
            " [[259  50]\n",
            " [ 71 172]]\n",
            "f1-micro average :  0.7807971014492753\n",
            "f1-macro average :  0.7752132868897976\n"
          ],
          "name": "stdout"
        },
        {
          "output_type": "stream",
          "text": [
            "/usr/local/lib/python3.6/dist-packages/sklearn/externals/six.py:31: FutureWarning: The module is deprecated in version 0.21 and will be removed in version 0.23 since we've dropped support for Python 2.7. Please rely on the official version of six (https://pypi.org/project/six/).\n",
            "  \"(https://pypi.org/project/six/).\", FutureWarning)\n",
            "/usr/local/lib/python3.6/dist-packages/sklearn/utils/deprecation.py:144: FutureWarning: The sklearn.neighbors.base module is  deprecated in version 0.22 and will be removed in version 0.24. The corresponding classes / functions should instead be imported from sklearn.neighbors. Anything that cannot be imported from sklearn.neighbors is now part of the private API.\n",
            "  warnings.warn(message, FutureWarning)\n"
          ],
          "name": "stderr"
        }
      ]
    },
    {
      "cell_type": "code",
      "metadata": {
        "colab": {
          "base_uri": "https://localhost:8080/"
        },
        "id": "DBKkfFFfRo9v",
        "outputId": "afd03d84-8f54-4d6b-94a5-8b1e713d4ed2"
      },
      "source": [
        "train_var = np_data_train.var(axis=0)\n",
        "print(train_var)\n",
        "print(np.max(train_var))"
      ],
      "execution_count": 6,
      "outputs": [
        {
          "output_type": "stream",
          "text": [
            "[1.22845600e+02 2.56495069e+01 1.40409780e+01 2.20494119e+01\n",
            " 5.97578133e+04 3.63519072e+06 2.24585171e-01 2.24585171e-01\n",
            " 0.00000000e+00 1.61730729e-01 1.61730729e-01 1.61730729e-01\n",
            " 0.00000000e+00 1.61730729e-01 9.68809074e-02 1.61730729e-01\n",
            " 7.33564377e-02 3.49191346e-02 3.49191346e-02 4.15879017e-02\n",
            " 7.93950851e-02 7.19386683e-03 7.93950851e-02 7.33564377e-02\n",
            " 1.08013022e-01 0.00000000e+00 6.72127704e-02 3.49191346e-02\n",
            " 7.33564377e-02 0.00000000e+00 4.15879017e-02 1.57372401e-01\n",
            " 0.00000000e+00 0.00000000e+00 0.00000000e+00 2.22222222e-01\n",
            " 1.42827137e-02 2.43646293e-01 2.43646293e-01 2.47427011e-01\n",
            " 2.47427011e-01 2.49527410e-01 2.49527410e-01 8.53287125e-02\n",
            " 7.19386683e-03 7.93950851e-02]\n",
            "3635190.721277043\n"
          ],
          "name": "stdout"
        }
      ]
    },
    {
      "cell_type": "code",
      "metadata": {
        "id": "bIS6HkmZSYe7"
      },
      "source": [
        "#ΑΠΟΤΕΛΕΣΜΑΤΑ ΒΕΛΤΙΣΤΟΥ PIPE\n",
        "from sklearn.model_selection import GridSearchCV\n",
        "\n",
        "vthreshold = [0, 1e-2, 0.05, 0.08, 1e-1, 0.2, 0.3, 0.4, 0.5, 1, 1e+1]\n",
        "n_components = [1,2,3,4,5,6,7,8,9]\n",
        "pipe = Pipeline(steps=[('selector', selector), ('scaler', scaler), ('pca', pca), ('gnb', gnb)], memory = 'tmp')\n",
        "estimator = GridSearchCV(pipe, dict(selector__threshold=vthreshold, pca__n_components=n_components), cv=10, scoring='f1_macro',n_jobs=-1)"
      ],
      "execution_count": 15,
      "outputs": []
    },
    {
      "cell_type": "code",
      "metadata": {
        "colab": {
          "base_uri": "https://localhost:8080/"
        },
        "id": "0UY6crX3VZ6n",
        "outputId": "8e595ede-8a54-4706-cc55-e6cd975d0faa"
      },
      "source": [
        "import time\n",
        "start_time = time.time()\n",
        "estimator.fit(np_data_train, np_labels_train)\n",
        "preds = estimator.predict(np_data_test)\n",
        "print(\"Συνολικός χρόνος fit και predict: %s seconds\" % (time.time()-start_time))\n",
        "print(\"Confusion Matrix : \\n\", confusion_matrix(np_labels_test, preds))\n",
        "print(\"f1-micro average : \", f1_score(np_labels_test, preds, average = 'micro'))\n",
        "print(\"f1-macro average : \", f1_score(np_labels_test, preds, average = 'macro'))\n",
        "#print(precision_recall_fscore_support(np_labels_test, gnb_pred, average='micro'), \"\\n\")\n",
        "#print(precision_recall_fscore_support(np_labels_test, gnb_pred, average='macro'), \"\\n\")\n",
        "#print(classification_report(np_labels_test, preds))"
      ],
      "execution_count": 16,
      "outputs": [
        {
          "output_type": "stream",
          "text": [
            "Συνολικός χρόνος fit και predict: 6.610998153686523 seconds\n",
            "Confusion Matrix : \n",
            " [[282  27]\n",
            " [ 60 183]]\n",
            "f1-micro average :  0.8423913043478262\n",
            "f1-macro average :  0.8371532334360791\n"
          ],
          "name": "stdout"
        }
      ]
    },
    {
      "cell_type": "code",
      "metadata": {
        "colab": {
          "base_uri": "https://localhost:8080/"
        },
        "id": "VI6RJ7oOWEh7",
        "outputId": "346cfdde-c208-49f8-9547-9e0a2193e528"
      },
      "source": [
        "print(estimator.best_estimator_)\n",
        "print(estimator.best_params_)"
      ],
      "execution_count": 12,
      "outputs": [
        {
          "output_type": "stream",
          "text": [
            "Pipeline(memory='tmp',\n",
            "         steps=[('selector', VarianceThreshold(threshold=0.1)),\n",
            "                ('scaler', MinMaxScaler(copy=True, feature_range=(0, 1))),\n",
            "                ('pca',\n",
            "                 PCA(copy=True, iterated_power='auto', n_components=5,\n",
            "                     random_state=None, svd_solver='auto', tol=0.0,\n",
            "                     whiten=False)),\n",
            "                ('gnb', GaussianNB(priors=None, var_smoothing=1e-09))],\n",
            "         verbose=False)\n",
            "{'pca__n_components': 5, 'selector__threshold': 0.1}\n"
          ],
          "name": "stdout"
        }
      ]
    },
    {
      "cell_type": "code",
      "metadata": {
        "colab": {
          "base_uri": "https://localhost:8080/"
        },
        "id": "jBXEc3JbWO_Z",
        "outputId": "8102f906-b6a0-459d-95fa-5f4467994135"
      },
      "source": [
        "#ΑΠΟΤΕΛΕΣΜΑΤΑ PIPE ΧΩΡΙΣ SCALER ΑΛΛΑ ΔΕΝ ΒΕΛΤΙΩΝΟΥΝ ΤΑ ΑΠΟΤΕΛΕΣΜΑΤΑ\n",
        "pipe = Pipeline(steps=[('selector', selector), ('pca', pca), ('gnb', gnb)], memory = 'tmp')\n",
        "estimator = GridSearchCV(pipe, dict(selector__threshold=vthreshold, pca__n_components=n_components), cv=10, scoring='f1_macro',n_jobs=-1)\n",
        "estimator.fit(np_data_train, np_labels_train)\n",
        "preds = estimator.predict(np_data_test)\n",
        "print(\"Confusion Matrix : \\n\", confusion_matrix(np_labels_test, preds))\n",
        "print(\"f1-micro average : \", f1_score(np_labels_test, preds, average = 'micro'))\n",
        "print(\"f1-macro average : \", f1_score(np_labels_test, preds, average = 'macro'))\n",
        "#print(precision_recall_fscore_support(np_labels_test, gnb_pred, average='micro'), \"\\n\")\n",
        "#print(precision_recall_fscore_support(np_labels_test, gnb_pred, average='macro'), \"\\n\")\n",
        "#print(classification_report(np_labels_test, preds))\n",
        "print(estimator.best_estimator_)\n",
        "print(estimator.best_params_)"
      ],
      "execution_count": 9,
      "outputs": [
        {
          "output_type": "stream",
          "text": [
            "Confusion Matrix : \n",
            " [[278  31]\n",
            " [ 92 151]]\n",
            "f1-micro average :  0.7771739130434783\n",
            "f1-macro average :  0.7647197435675299\n",
            "Pipeline(memory='tmp',\n",
            "         steps=[('selector', VarianceThreshold(threshold=0)),\n",
            "                ('pca',\n",
            "                 PCA(copy=True, iterated_power='auto', n_components=9,\n",
            "                     random_state=None, svd_solver='auto', tol=0.0,\n",
            "                     whiten=False)),\n",
            "                ('gnb', GaussianNB(priors=None, var_smoothing=1e-09))],\n",
            "         verbose=False)\n",
            "{'pca__n_components': 9, 'selector__threshold': 0}\n"
          ],
          "name": "stdout"
        }
      ]
    },
    {
      "cell_type": "code",
      "metadata": {
        "id": "AmIeR20vLhwG"
      },
      "source": [
        ""
      ],
      "execution_count": null,
      "outputs": []
    }
  ]
}